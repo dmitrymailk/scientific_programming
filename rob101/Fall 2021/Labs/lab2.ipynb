{
 "cells": [
  {
   "cell_type": "markdown",
   "id": "ff771ab6-d664-4278-a9ef-8dc5a1913848",
   "metadata": {},
   "source": [
    "University of Michigan - ROB 101 Computational Linear Algebra"
   ]
  },
  {
   "cell_type": "markdown",
   "id": "b607b60b-8b7a-4303-8b91-7dc80f12c591",
   "metadata": {},
   "source": [
    "# Lab 2: Vectors, Matrices and Systems of Linear Equations\n",
    "\n",
    "### Welcome to the world of Julia!"
   ]
  },
  {
   "cell_type": "markdown",
   "id": "bc44fd14-b2c8-4b36-a5eb-4268d945f3e4",
   "metadata": {},
   "source": [
    "### Vectors and Matrices\n",
    "\n",
    "Vectors and matrices are extensively used in this course. In Julia, vectors are a specific kind of matrix. For instance, a column vector is a matrix that only has one collumn. Let's first learn how to create a vector in Julia."
   ]
  },
  {
   "cell_type": "markdown",
   "id": "ecaf50e7-07ae-423e-8220-91017b6356af",
   "metadata": {},
   "source": [
    "### Example 1. (Review on your own) Create Vectors and Matrices"
   ]
  },
  {
   "cell_type": "code",
   "execution_count": 1,
   "id": "0494b906-1002-47bf-a582-9a320e1e5cf8",
   "metadata": {},
   "outputs": [
    {
     "data": {
      "text/plain": [
       "1×5 Array{Int64,2}:\n",
       " 1  3  5  7  9"
      ]
     },
     "metadata": {},
     "output_type": "display_data"
    }
   ],
   "source": [
    "# Create a row vector of all odd numbers from 0 to 9 \n",
    "row_vec = [1 3 5 7 9]\n",
    "# Note: the numbers in a row vector should be included in '[]' and seperated by spaces"
   ]
  },
  {
   "cell_type": "code",
   "execution_count": 2,
   "id": "1f4aba5c-54bf-4507-9d3c-2d80b76e5279",
   "metadata": {},
   "outputs": [
    {
     "data": {
      "text/plain": [
       "5-element Array{Int64,1}:\n",
       " 0\n",
       " 2\n",
       " 4\n",
       " 6\n",
       " 8"
      ]
     },
     "metadata": {},
     "output_type": "display_data"
    }
   ],
   "source": [
    "# Create a column vector of all even numbers from 0 to 9\n",
    "col_vec = [0; 2; 4; 6; 8]\n",
    "# Note: the numbers in a column vector should be seperated by ';'"
   ]
  },
  {
   "cell_type": "markdown",
   "id": "9de2f0a7-aa43-4b7b-b61d-851b4a73e107",
   "metadata": {},
   "source": [
    "We created row and column vectors of integers. Let's create vector of real numbers."
   ]
  },
  {
   "cell_type": "code",
   "execution_count": 3,
   "id": "d7701fb4-ed02-453d-9e3c-8d85f9c6e725",
   "metadata": {},
   "outputs": [
    {
     "data": {
      "text/plain": [
       "3-element Array{Float64,1}:\n",
       " 1.2\n",
       " 2.4\n",
       " 4.8"
      ]
     },
     "metadata": {},
     "output_type": "display_data"
    }
   ],
   "source": [
    "# Create a column vector which has 1.2, 2.4, and 4.8\n",
    "real_vec = [1.2; 2.4; 4.8]\n",
    "# Note: Float64 is a primitive data type in Julia for real numbers (floating-point values).\n",
    "# Int64 shown in previous cells is the type for integers. You don't need to worry about other types for now."
   ]
  },
  {
   "cell_type": "markdown",
   "id": "af599d28-d630-4bf3-8283-1fb6ca40eed1",
   "metadata": {},
   "source": [
    "We learned the syntax for creating vectors. Creating a matrix is as easy as creating multiple row vectors and using `;` to seperate each row. Make sure the number of entries in each row is the same, otherwise you will get an error."
   ]
  },
  {
   "cell_type": "code",
   "execution_count": 4,
   "id": "1f16a22c-bb1e-4a6c-a44c-5be8ea6f262e",
   "metadata": {},
   "outputs": [
    {
     "data": {
      "text/plain": [
       "2×5 Array{Int64,2}:\n",
       " 1  3  5  7  9\n",
       " 0  2  4  6  8"
      ]
     },
     "metadata": {},
     "output_type": "display_data"
    }
   ],
   "source": [
    "# Create a 2-by-5 matrix where the 1st row are odd numbers and the 2nd row are even numbers from 0 to 9\n",
    "A = [1 3 5 7 9; 0 2 4 6 8]"
   ]
  },
  {
   "cell_type": "markdown",
   "id": "bd54986f-3f2e-4e4a-a3dc-c35de4359601",
   "metadata": {},
   "source": [
    "### Practice 1."
   ]
  },
  {
   "cell_type": "code",
   "execution_count": 15,
   "id": "1d3e192e-687d-4ecc-8be5-8b26f7d94a83",
   "metadata": {
    "deletable": false,
    "nbgrader": {
     "cell_type": "code",
     "checksum": "e2e903f2239152dcf30b55e1b1aa34b5",
     "grade": false,
     "grade_id": "cell-637e6ccb9572e1c4",
     "locked": false,
     "schema_version": 3,
     "solution": true,
     "task": false
    }
   },
   "outputs": [
    {
     "data": {
      "text/plain": [
       "5-element Array{Float64,1}:\n",
       "  0.0\n",
       "  0.0\n",
       " -1.5\n",
       "  0.0\n",
       "  0.0"
      ]
     },
     "metadata": {},
     "output_type": "display_data"
    }
   ],
   "source": [
    "# Create a column vector (called almost_zero_vec) of 5 entries: the 3rd entry is -1.5, and others are zeros\n",
    "almost_zero_vec = [0; 0; -1.5; 0; 0;]\n",
    "# your code here\n",
    "# throw(ErrorException())"
   ]
  },
  {
   "cell_type": "code",
   "execution_count": 17,
   "id": "b63b138e-fa5e-426f-8ee7-d7a4879f6df2",
   "metadata": {},
   "outputs": [
    {
     "name": "stdout",
     "output_type": "stream",
     "text": [
      "all nothings means likely correct\n"
     ]
    },
    {
     "data": {
      "text/plain": [
       "1×3 Array{Nothing,2}:\n",
       " nothing  nothing  nothing"
      ]
     },
     "metadata": {},
     "output_type": "display_data"
    }
   ],
   "source": [
    "# Autograder cell\n",
    "using LinearAlgebra\n",
    "test1 = norm(almost_zero_vec)\n",
    "test2 = sum(abs.(almost_zero_vec[1:2]))\n",
    "test3 = size(almost_zero_vec)[1]\n",
    "println(\"all nothings means likely correct\")\n",
    "TF1 = @assert test1 == 1.5\n",
    "TF2 = @assert test2 == 0.0\n",
    "TF3 = @assert test3 == 5\n",
    "[TF1 TF2 TF3]"
   ]
  },
  {
   "cell_type": "code",
   "execution_count": null,
   "id": "46bd8f89",
   "metadata": {
    "deletable": false,
    "editable": false,
    "nbgrader": {
     "cell_type": "code",
     "checksum": "f9a37c51fb8c313f23d92118645882ae",
     "grade": true,
     "grade_id": "cell-9c75a04cfb908a37",
     "locked": true,
     "points": 2,
     "schema_version": 3,
     "solution": false,
     "task": false
    }
   },
   "outputs": [],
   "source": [
    "# Autograder cell"
   ]
  },
  {
   "cell_type": "code",
   "execution_count": 21,
   "id": "2b340732-e878-4d44-9908-c46c891462b6",
   "metadata": {
    "deletable": false,
    "nbgrader": {
     "cell_type": "code",
     "checksum": "29455d1a944bdf4971b9d16eaace588d",
     "grade": false,
     "grade_id": "cell-bba15ab7f8fc341b",
     "locked": false,
     "schema_version": 3,
     "solution": true,
     "task": false
    }
   },
   "outputs": [
    {
     "data": {
      "text/plain": [
       "3×4 Array{Int64,2}:\n",
       " 0  0  0  0\n",
       " 0  0  0  0\n",
       " 0  0  0  0"
      ]
     },
     "metadata": {},
     "output_type": "display_data"
    }
   ],
   "source": [
    "# Create a 3-by-4 matrix called zero_matrix with all zeros\n",
    "zero_matrix = [\n",
    "    0 0 0 0;\n",
    "    0 0 0 0; \n",
    "    0 0 0 0; \n",
    "]\n",
    "# your code here\n",
    "# throw(ErrorException())"
   ]
  },
  {
   "cell_type": "code",
   "execution_count": 22,
   "id": "bfa25c48-7876-4895-add2-79f7dbace90e",
   "metadata": {},
   "outputs": [
    {
     "name": "stdout",
     "output_type": "stream",
     "text": [
      "all nothings means likely correct\n"
     ]
    },
    {
     "data": {
      "text/plain": [
       "1×3 Array{Nothing,2}:\n",
       " nothing  nothing  nothing"
      ]
     },
     "metadata": {},
     "output_type": "display_data"
    }
   ],
   "source": [
    "# Autograder cell\n",
    "using LinearAlgebra\n",
    "test1 = sum(zero_matrix)\n",
    "test2 = size(zero_matrix)[1]\n",
    "test3 = size(zero_matrix)[2]\n",
    "println(\"all nothings means likely correct\")\n",
    "TF1 = @assert test1 == 0\n",
    "TF2 = @assert test2 == 3\n",
    "TF3 = @assert test3 == 4\n",
    "[TF1 TF2 TF3]"
   ]
  },
  {
   "cell_type": "code",
   "execution_count": null,
   "id": "4480caf9",
   "metadata": {
    "deletable": false,
    "editable": false,
    "nbgrader": {
     "cell_type": "code",
     "checksum": "2266e86eeca11666241ac2a8709ff5f6",
     "grade": true,
     "grade_id": "cell-68930aa21b7d4919",
     "locked": true,
     "points": 2,
     "schema_version": 3,
     "solution": false,
     "task": false
    }
   },
   "outputs": [],
   "source": [
    "# Autograder cell"
   ]
  },
  {
   "cell_type": "markdown",
   "id": "f84df465-1f99-4564-b244-afbe1eb9b46f",
   "metadata": {},
   "source": [
    "There are other convenient ways to create a vector/matrix with all zeros or the same numbers by using built-in functions (We will discuss more about functions in Lab4)."
   ]
  },
  {
   "cell_type": "code",
   "execution_count": 26,
   "id": "2528ce44-be87-4803-86f3-bbb11c7ed86f",
   "metadata": {},
   "outputs": [
    {
     "data": {
      "text/plain": [
       "3×4 Array{Float64,2}:\n",
       " 2.0  2.0  2.0  2.0\n",
       " 2.0  2.0  2.0  2.0\n",
       " 2.0  2.0  2.0  2.0"
      ]
     },
     "metadata": {},
     "output_type": "display_data"
    }
   ],
   "source": [
    "# Create a 3-by-4 matrix called two_matrix with all twos\n",
    "two_matrix = ones(3, 4) .+ 1\n",
    "# Note: ones() is a function returning a vector/matrix with all one, 3 and 4 specify the size, specifically, \n",
    "# 3 is the number of rows and 4 is the number of columns"
   ]
  },
  {
   "cell_type": "markdown",
   "id": "03c126d7-b2f2-4af7-b0a4-4e03de7f5687",
   "metadata": {},
   "source": [
    "We can also create a random vector/matrix by using functions in the Random pacakge."
   ]
  },
  {
   "cell_type": "code",
   "execution_count": 32,
   "id": "5fb4e29a-0f30-4098-800f-2a1157d9f2ef",
   "metadata": {},
   "outputs": [
    {
     "data": {
      "text/plain": [
       "3×4 Array{Float64,2}:\n",
       " 0.590845  0.460085  0.200586  0.579672\n",
       " 0.766797  0.794026  0.298614  0.648882\n",
       " 0.566237  0.854147  0.246837  0.0109059"
      ]
     },
     "metadata": {},
     "output_type": "display_data"
    }
   ],
   "source": [
    "# Create a 3-by-4 matrix called rand_matrix with random numbers\n",
    "using Random # Using an external pacakge called Random which provides functions\n",
    "Random.seed!(1234) # Set the seed so that each of you get the same results. \n",
    "rand_matrix = rand(3, 4)"
   ]
  },
  {
   "cell_type": "markdown",
   "id": "8516b8de-403f-4678-8aa1-235979be21c3",
   "metadata": {},
   "source": [
    "### Example 2. (We will start here) Vector and Matrix Indexing\n",
    "\n",
    "Indexing is used to select entries in vectors and matrices. Julia uses **1-based indexing** which means that the index starts at 1. Be aware that there is also 0-based indexing in some other programming languages, such as C++."
   ]
  },
  {
   "cell_type": "code",
   "execution_count": 45,
   "id": "e67f5af7",
   "metadata": {},
   "outputs": [
    {
     "data": {
      "text/plain": [
       "3×4 Array{Float64,2}:\n",
       " 0.590845  0.460085  0.200586  0.579672\n",
       " 0.766797  0.794026  0.298614  0.648882\n",
       " 0.566237  0.854147  0.246837  0.0109059"
      ]
     },
     "metadata": {},
     "output_type": "display_data"
    }
   ],
   "source": [
    "# We define some vectors and matrices\n",
    "row_vec = [1 3 5 7 9]\n",
    "almost_zero_vec=[0; 0; -pi; 0; 0; 0; 0]\n",
    "using Random # Using an external pacakge called Random which provides functions\n",
    "Random.seed!(1234) # Set the seed so that each of you get the same results. \n",
    "rand_matrix = rand(3, 4)"
   ]
  },
  {
   "cell_type": "code",
   "execution_count": 34,
   "id": "f87cb597-1469-4526-8d04-5dea2eabfc63",
   "metadata": {},
   "outputs": [
    {
     "data": {
      "text/plain": [
       "1"
      ]
     },
     "metadata": {},
     "output_type": "display_data"
    }
   ],
   "source": [
    "# Select the 1st number from a row_vector\n",
    "num = row_vec[1]"
   ]
  },
  {
   "cell_type": "code",
   "execution_count": 46,
   "id": "5a574c5c-d9f2-4bc8-a6b3-7aa2b9cb3987",
   "metadata": {},
   "outputs": [
    {
     "data": {
      "text/plain": [
       "-3.141592653589793"
      ]
     },
     "metadata": {},
     "output_type": "display_data"
    }
   ],
   "source": [
    "# Select the non-zero number from our previous almost_zero_vec\n",
    "num = almost_zero_vec[3]\n",
    "# Note: because a vector has only one dimension, only one index is needed and it corresponds to \n",
    "# the location where the number is stored"
   ]
  },
  {
   "cell_type": "code",
   "execution_count": 48,
   "id": "b5a3ba84-fb03-48b1-8854-c35225731b09",
   "metadata": {},
   "outputs": [
    {
     "data": {
      "text/plain": [
       "0.20058603493384108"
      ]
     },
     "metadata": {},
     "output_type": "display_data"
    }
   ],
   "source": [
    "# Select the entry in the 1st row and 2nd column of rand_matrix\n",
    "num = rand_matrix[1, 3]\n",
    "# Note: 1 is the index for the row, and 2 is the index for the column"
   ]
  },
  {
   "cell_type": "markdown",
   "id": "eb29793a-c160-4dc5-b16d-6a6cee1b408f",
   "metadata": {},
   "source": [
    "We learned how to select one entry from vectors and matrices. We can also select the whole row or column from a matrix, which will be a vector."
   ]
  },
  {
   "cell_type": "code",
   "execution_count": 50,
   "id": "8c7fe81e-95dd-44af-9323-0d45b388bf70",
   "metadata": {},
   "outputs": [
    {
     "data": {
      "text/plain": [
       "3-element Array{Float64,1}:\n",
       " 0.5796722333690416\n",
       " 0.6488819502093455\n",
       " 0.010905889635595356"
      ]
     },
     "metadata": {},
     "output_type": "display_data"
    }
   ],
   "source": [
    "# Select the 4th column of rand_matrix\n",
    "vect = rand_matrix[:, 4]\n",
    "# Note: when we want to select the whole column, we use `:` as the index for row, and vice versa."
   ]
  },
  {
   "cell_type": "code",
   "execution_count": 51,
   "id": "93e4f874-6528-4557-b4b3-db7a00f85d81",
   "metadata": {},
   "outputs": [
    {
     "data": {
      "text/plain": [
       "4-element Array{Float64,1}:\n",
       " 0.5908446386657102\n",
       " 0.4600853424625171\n",
       " 0.20058603493384108\n",
       " 0.5796722333690416"
      ]
     },
     "metadata": {},
     "output_type": "display_data"
    }
   ],
   "source": [
    "# Select the 1st row of rand_matrix\n",
    "vect = rand_matrix[1, :]"
   ]
  },
  {
   "cell_type": "markdown",
   "id": "d77a1ff8-b69d-4e2f-9655-296b5b0d125a",
   "metadata": {},
   "source": [
    "As you might notice, we did select the 1st row of the matrix. **However, Julia returned to us a column vector.** What if we want a row vector?"
   ]
  },
  {
   "cell_type": "code",
   "execution_count": 53,
   "id": "bb5ed287-bf86-46a1-a141-a673a7d9b2ee",
   "metadata": {},
   "outputs": [
    {
     "data": {
      "text/plain": [
       "2×4 Array{Float64,2}:\n",
       " 0.590845  0.460085  0.200586  0.579672\n",
       " 0.766797  0.794026  0.298614  0.648882"
      ]
     },
     "metadata": {},
     "output_type": "display_data"
    }
   ],
   "source": [
    "# Select the 1st row of rand_matrix as a row vector\n",
    "row_vec = rand_matrix[1:2, 1:end]"
   ]
  },
  {
   "cell_type": "code",
   "execution_count": 55,
   "id": "7045fe84",
   "metadata": {},
   "outputs": [
    {
     "data": {
      "text/plain": [
       "1×4 Array{Float64,2}:\n",
       " 0.590845  0.460085  0.200586  0.579672"
      ]
     },
     "metadata": {},
     "output_type": "display_data"
    }
   ],
   "source": [
    "# Select the 1st row of rand_matrix as a row vector\n",
    "# This will give the same result as the previous cell\n",
    "row_vec = rand_matrix[1:1, :]"
   ]
  },
  {
   "cell_type": "markdown",
   "id": "1991fe6d-86a4-4864-b6d9-63c4893661bd",
   "metadata": {},
   "source": [
    "### The indexing looks strange, doesn't it? Actually, this is what's going on: we are selecting a block of a matrix. The `1:1` means that from the 1st row to the 1st row, and `:` is short for `1:end`, where `1` and `end` are omitted for convenience."
   ]
  },
  {
   "cell_type": "code",
   "execution_count": 56,
   "id": "7c9557e4-7ba6-430a-93a8-8eb0cf3d52d9",
   "metadata": {},
   "outputs": [
    {
     "data": {
      "text/plain": [
       "4×4 Array{Int64,2}:\n",
       " 1  2  3  0\n",
       " 4  5  6  0\n",
       " 7  8  9  0\n",
       " 0  0  0  0"
      ]
     },
     "metadata": {},
     "output_type": "display_data"
    }
   ],
   "source": [
    "# Declare a matrix\n",
    "A = [1 2 3 0; 4 5 6 0; 7 8 9 0; 0 0 0 0]"
   ]
  },
  {
   "cell_type": "code",
   "execution_count": 64,
   "id": "8a1546f7-dcae-412d-a223-8b75bfa9ed1b",
   "metadata": {},
   "outputs": [
    {
     "data": {
      "text/plain": [
       "3×3 Array{Int64,2}:\n",
       " 1  2  3\n",
       " 4  5  6\n",
       " 7  8  9"
      ]
     },
     "metadata": {},
     "output_type": "display_data"
    }
   ],
   "source": [
    "# Select the block of non-zero entries of the matrix\n",
    "block = A[1:3, 1:3]"
   ]
  },
  {
   "cell_type": "code",
   "execution_count": 68,
   "id": "26dce1db-0777-4d17-b25d-ad0beea6d726",
   "metadata": {},
   "outputs": [
    {
     "data": {
      "text/plain": [
       "1×1 Array{Int64,2}:\n",
       " 5"
      ]
     },
     "metadata": {},
     "output_type": "display_data"
    }
   ],
   "source": [
    "# Select another small block of the matrix block with only entries in the middle\n",
    "small_block = block[2:2, 2:2] "
   ]
  },
  {
   "cell_type": "markdown",
   "id": "9d6e5e74-13b1-446e-8e7f-3edf8a03c54a",
   "metadata": {},
   "source": [
    "As you observe, selecting a block of a matrix will return a matrix, even though this block only has a single number! **The 1-by-1 matrix is different than a scalar.** But, we can extract the number from the 1-by-1 matrix by indexing."
   ]
  },
  {
   "cell_type": "code",
   "execution_count": 69,
   "id": "a999dbe0-6400-41b7-84d5-639d9617665a",
   "metadata": {},
   "outputs": [
    {
     "data": {
      "text/plain": [
       "5"
      ]
     },
     "metadata": {},
     "output_type": "display_data"
    }
   ],
   "source": [
    "# Extract the number in small_block\n",
    "num = small_block[1]"
   ]
  },
  {
   "cell_type": "code",
   "execution_count": null,
   "id": "f19777f2",
   "metadata": {},
   "outputs": [],
   "source": [
    "# Let's compare\n",
    "pi/small_block # error мы не можем делить иррациональное число на матрицу"
   ]
  },
  {
   "cell_type": "code",
   "execution_count": 71,
   "id": "1712b281",
   "metadata": {},
   "outputs": [
    {
     "data": {
      "text/plain": [
       "0.6283185307179586"
      ]
     },
     "metadata": {},
     "output_type": "display_data"
    }
   ],
   "source": [
    "# Versus\n",
    "pi/small_block[1]"
   ]
  },
  {
   "cell_type": "markdown",
   "id": "e7a88651-ac5b-41cf-83d6-55b494ccd20f",
   "metadata": {},
   "source": [
    "When we index as 'rand_matrix[n:m,p:q]' we will get a block matrix. Going back to our previous example, `row_vec = rand_matrix[1:1, 1:end]`, the returned block was a matrix with all selected numbers in order. That's why `row_vec = rand_matrix[1:1, 1:end]` returns a 1-by-4 matrix, i.e., a row vector!\n",
    "\n",
    "In addition, we can also use **matrix transpose operator** `'` to get a row vector when we select a row of a matrix."
   ]
  },
  {
   "cell_type": "code",
   "execution_count": null,
   "id": "cca48f19-684d-45c2-bd30-f0549e3b67ed",
   "metadata": {},
   "outputs": [],
   "source": [
    "# Transpose the col_vec to get a row vector\n",
    "col_vec_trans = col_vec'"
   ]
  },
  {
   "cell_type": "code",
   "execution_count": null,
   "id": "ada166e7-61fe-48d4-bb67-cdf0b1bb4859",
   "metadata": {},
   "outputs": [],
   "source": [
    "# Select the 1st row of rand_matrix as a row vector\n",
    "row_vec = rand_matrix[1, 1:end]'"
   ]
  },
  {
   "cell_type": "markdown",
   "id": "3468746c-fe12-42e2-955f-408f39e24ae0",
   "metadata": {},
   "source": [
    "### Practice 2."
   ]
  },
  {
   "cell_type": "code",
   "execution_count": 8,
   "id": "64d01222",
   "metadata": {},
   "outputs": [
    {
     "data": {
      "text/plain": [
       "3×4 Matrix{Float64}:\n",
       " 0.590845  0.460085  0.200586  0.579672\n",
       " 0.766797  0.794026  0.298614  0.648882\n",
       " 0.566237  0.854147  0.246837  0.0109059"
      ]
     },
     "execution_count": 8,
     "metadata": {},
     "output_type": "execute_result"
    }
   ],
   "source": [
    "# Let's recall what we placed into rand_matrix\n",
    "rand_matrix"
   ]
  },
  {
   "cell_type": "code",
   "execution_count": 10,
   "id": "0d588d1e-224a-4813-b644-8077fec6811a",
   "metadata": {
    "deletable": false,
    "nbgrader": {
     "cell_type": "code",
     "checksum": "e3737d0804ffc20d485549035481e2c3",
     "grade": false,
     "grade_id": "cell-1fbe846131f0aead",
     "locked": false,
     "schema_version": 3,
     "solution": true,
     "task": false
    }
   },
   "outputs": [
    {
     "data": {
      "text/plain": [
       "0.010905889635595356"
      ]
     },
     "execution_count": 10,
     "metadata": {},
     "output_type": "execute_result"
    }
   ],
   "source": [
    "# Select the smallest number of rand_matrix and call it small_num\n",
    "small_num = rand_matrix[3, 4]\n",
    "# your code here"
   ]
  },
  {
   "cell_type": "code",
   "execution_count": 11,
   "id": "66a0f5a3-332f-4cc3-9c3e-f6726a447d65",
   "metadata": {},
   "outputs": [
    {
     "name": "stdout",
     "output_type": "stream",
     "text": [
      "all nothings means likely correct\n"
     ]
    },
    {
     "data": {
      "text/plain": [
       "1×2 Matrix{Nothing}:\n",
       " nothing  nothing"
      ]
     },
     "execution_count": 11,
     "metadata": {},
     "output_type": "execute_result"
    }
   ],
   "source": [
    "# Autograder cell\n",
    "println(\"all nothings means likely correct\")\n",
    "TF1 = @assert small_num < 0.02\n",
    "TF2 = @assert small_num > 0.01\n",
    "[TF1 TF2]"
   ]
  },
  {
   "cell_type": "code",
   "execution_count": null,
   "id": "020e5dae",
   "metadata": {
    "deletable": false,
    "editable": false,
    "nbgrader": {
     "cell_type": "code",
     "checksum": "429c2d598986bd35209cc3b55789f178",
     "grade": true,
     "grade_id": "cell-18f9fdafc5981df7",
     "locked": true,
     "points": 2,
     "schema_version": 3,
     "solution": false,
     "task": false
    }
   },
   "outputs": [],
   "source": [
    "# Autograder cell"
   ]
  },
  {
   "cell_type": "code",
   "execution_count": 13,
   "id": "747ef637-c82b-497e-8670-a5ed1f4e9ebf",
   "metadata": {
    "deletable": false,
    "nbgrader": {
     "cell_type": "code",
     "checksum": "e0f0b5719e7d38831247d73f469ade20",
     "grade": false,
     "grade_id": "cell-f0f9508d66749faa",
     "locked": false,
     "schema_version": 3,
     "solution": true,
     "task": false
    }
   },
   "outputs": [
    {
     "data": {
      "text/plain": [
       "1×3 adjoint(::Vector{Float64}) with eltype Float64:\n",
       " 0.579672  0.648882  0.0109059"
      ]
     },
     "execution_count": 13,
     "metadata": {},
     "output_type": "execute_result"
    }
   ],
   "source": [
    "# Select the column containing the smallest number of rand_matrix and return it as a row vector called row_vec\n",
    "row_vec = rand_matrix[:,4]'\n",
    "# your code here"
   ]
  },
  {
   "cell_type": "code",
   "execution_count": 14,
   "id": "c6b0b94e-ac8f-4099-86a4-6e417a2af2fe",
   "metadata": {},
   "outputs": [
    {
     "name": "stdout",
     "output_type": "stream",
     "text": [
      "all nothings means likely correct\n"
     ]
    },
    {
     "data": {
      "text/plain": [
       "1×3 Matrix{Nothing}:\n",
       " nothing  nothing  nothing"
      ]
     },
     "execution_count": 14,
     "metadata": {},
     "output_type": "execute_result"
    }
   ],
   "source": [
    "# Autograder cell\n",
    "using LinearAlgebra\n",
    "test1 = norm(row_vec)\n",
    "println(\"all nothings means likely correct\")\n",
    "TF1 = @assert test1 == 0.8701647096241493\n",
    "TF2 = @assert size(row_vec)[1] == 1\n",
    "TF3 = @assert size(row_vec)[2] == 3\n",
    "[TF1 TF2 TF3]"
   ]
  },
  {
   "cell_type": "code",
   "execution_count": null,
   "id": "b824866b",
   "metadata": {
    "deletable": false,
    "editable": false,
    "nbgrader": {
     "cell_type": "code",
     "checksum": "f9110a073239199d08cc5ade0ce57822",
     "grade": true,
     "grade_id": "cell-6f4d4229eadf2d99",
     "locked": true,
     "points": 2,
     "schema_version": 3,
     "solution": false,
     "task": false
    }
   },
   "outputs": [],
   "source": [
    "# Autograder cell"
   ]
  },
  {
   "cell_type": "markdown",
   "id": "c05c7b1b-db33-42b3-bd40-8d63470b1d4c",
   "metadata": {},
   "source": [
    "### Example 3. For Loops"
   ]
  },
  {
   "cell_type": "code",
   "execution_count": 15,
   "id": "4b7c724d-9dab-43ad-b70a-082fe37141a3",
   "metadata": {},
   "outputs": [
    {
     "data": {
      "text/plain": [
       "3×3 Matrix{Int64}:\n",
       " 1  8  2\n",
       " 0  3  7\n",
       " 6  2  9"
      ]
     },
     "execution_count": 15,
     "metadata": {},
     "output_type": "execute_result"
    }
   ],
   "source": [
    "# Declare a 3-by-3 matrix\n",
    "A = [1 8 2; 0 3 7; 6 2 9]"
   ]
  },
  {
   "cell_type": "markdown",
   "id": "936d011b",
   "metadata": {},
   "source": [
    "### The terms A[k,k] of a matrix A, where the row number and column number are the same,  are called the  ***primary diagonal of the matrix*** "
   ]
  },
  {
   "cell_type": "code",
   "execution_count": 16,
   "id": "bee9a70b-10ec-454e-bf7d-0d5d5638e4d8",
   "metadata": {},
   "outputs": [
    {
     "data": {
      "text/plain": [
       "13"
      ]
     },
     "execution_count": 16,
     "metadata": {},
     "output_type": "execute_result"
    }
   ],
   "source": [
    "# Compute the sum of the entries on the primary diagonal of A\n",
    "sums = A[1, 1] + A[2, 2] + A[3, 3]"
   ]
  },
  {
   "cell_type": "code",
   "execution_count": 17,
   "id": "20df22c2-b3fb-4328-a580-0c709fdb2e2c",
   "metadata": {},
   "outputs": [
    {
     "data": {
      "text/plain": [
       "5×5 Matrix{Int64}:\n",
       " 2  7  3  4  1\n",
       " 9  1  0  3  2\n",
       " 7  4  9  2  0\n",
       " 1  7  6  4  2\n",
       " 7  4  9  5  8"
      ]
     },
     "execution_count": 17,
     "metadata": {},
     "output_type": "execute_result"
    }
   ],
   "source": [
    "# Declare a 5-by-5 matrix\n",
    "A = [2 7 3 4 1; 9 1 0 3 2; 7 4 9 2 0; 1 7 6 4 2; 7 4 9 5 8]"
   ]
  },
  {
   "cell_type": "code",
   "execution_count": 18,
   "id": "c35bf27e-e763-4dfa-a900-187d9653a96d",
   "metadata": {},
   "outputs": [
    {
     "data": {
      "text/plain": [
       "24"
      ]
     },
     "execution_count": 18,
     "metadata": {},
     "output_type": "execute_result"
    }
   ],
   "source": [
    "#  Compute the sum of the entries on the primary diagonal of A\n",
    "sums = A[1, 1] + A[2, 2] + A[3, 3] + A[4, 4] + A[5, 5]"
   ]
  },
  {
   "cell_type": "markdown",
   "id": "2cbb9723-bd18-435b-aecd-77a71f8702cd",
   "metadata": {},
   "source": [
    "You may have noticed that the way we compute the sum of matrix diagonals can work for a small matrix. But what about a large matrix, say 100-by-100? It will be exhausting to index them manually. We program for a reason: to automate the computations! So what we can do?\n",
    "\n",
    "To compute the sum of the entries on the primary diagonal, we need to index each element one by one. I am sure that you also noticed that there is a pattern in the indices: For a 3-by-3 matrix, the index starts from 1 and goes to 3; For a 5-by-5 matrix, the index is from 1 to 5, which is the size of the matrix.\n",
    "\n",
    "**We can use a for loop to automate this process.**"
   ]
  },
  {
   "cell_type": "markdown",
   "id": "970c74e5",
   "metadata": {},
   "source": [
    "For loops are used to iterate over a set of values and perform a set of operations that are given in the body of the loop. The syntax of foor loop in Julia is as follows:\n",
    "\n",
    "```\n",
    "for iterator in range\n",
    "    statements to do stuff\n",
    "end\n",
    "```\n",
    "\n",
    "Here, ```for``` is the keyword starting the for loop, the keyword ```in```  is used to define a range in which to iterate, the keyword ```end``` is used to denote the end of the for loop.\n",
    "\n",
    "Let's see a few examples."
   ]
  },
  {
   "cell_type": "code",
   "execution_count": 72,
   "id": "b2f09a6c-2111-4fba-b6ef-82f8525a8786",
   "metadata": {},
   "outputs": [
    {
     "name": "stdout",
     "output_type": "stream",
     "text": [
      "1\n",
      "2\n",
      "3\n",
      "4\n",
      "5\n",
      "6\n",
      "7\n",
      "8\n",
      "9\n",
      "10\n"
     ]
    }
   ],
   "source": [
    "# Print the numbers from 1 to 10\n",
    "for k in 1:10\n",
    "    println(k)\n",
    "end"
   ]
  },
  {
   "cell_type": "markdown",
   "id": "cf0c3ca1-b6ab-43de-83e2-d075b7e89b4d",
   "metadata": {},
   "source": [
    "If the range is defined as a set of numbers, the following syntax is also valid:\n",
    "\n",
    "```\n",
    "for iterator = start:step:stop\n",
    "    statements to do stuff\n",
    "end\n",
    "```\n",
    "\n",
    "Here, ```start:step:stop``` will return a list of numbers from ```start``` to ```stop``` with a step size of ```step```. Note the ```start``` and ```stop``` are inclusively considered....which simply that the iterator is always between or equal to the upper and lower bounds."
   ]
  },
  {
   "cell_type": "code",
   "execution_count": 22,
   "id": "3e7ae599",
   "metadata": {},
   "outputs": [
    {
     "name": "stdout",
     "output_type": "stream",
     "text": [
      "2\n",
      "4\n",
      "6\n",
      "8\n",
      "10\n",
      "12\n",
      "14\n",
      "16\n",
      "18\n",
      "20\n"
     ]
    }
   ],
   "source": [
    "# Print the even numbers from 2 to 20\n",
    "for k = 2:2:20\n",
    "    println(k)\n",
    "end"
   ]
  },
  {
   "cell_type": "markdown",
   "id": "7ceb3050-9ac8-400a-aea1-6ec06cbcaf87",
   "metadata": {},
   "source": [
    "**Another thing worth noting is that the ```step``` can be negative.** It just means that the iterator is decreasing."
   ]
  },
  {
   "cell_type": "code",
   "execution_count": 23,
   "id": "6a921c88-d7b2-4a3a-a135-0b34b88c9c25",
   "metadata": {},
   "outputs": [
    {
     "name": "stdout",
     "output_type": "stream",
     "text": [
      "5\n",
      "4\n",
      "3\n",
      "2\n",
      "1\n"
     ]
    }
   ],
   "source": [
    "# Print the numbers from 5 to 1\n",
    "for k = 5:-1:1\n",
    "    println(k)\n",
    "end"
   ]
  },
  {
   "cell_type": "markdown",
   "id": "6a9f2910-a568-4f33-b7b2-dd4bb29f952d",
   "metadata": {},
   "source": [
    "Okay, let's re-think of the previous problem of matrix diagonals summation."
   ]
  },
  {
   "cell_type": "code",
   "execution_count": 73,
   "id": "f0248549-e5c1-45cc-a291-534ecde2ef30",
   "metadata": {},
   "outputs": [
    {
     "data": {
      "text/plain": [
       "30×30 Array{Float64,2}:\n",
       " 0.590845   0.931115   0.643704   …  0.803733  0.448902   0.0680414\n",
       " 0.766797   0.438939   0.401421      0.862569  0.486367   0.769052\n",
       " 0.566237   0.246862   0.525057      0.804227  0.0313024  0.560455\n",
       " 0.460085   0.0118196  0.61201       0.288292  0.511082   0.938612\n",
       " 0.794026   0.0460428  0.432577      0.874007  0.195983   0.391174\n",
       " 0.854147   0.496169   0.082207   …  0.523851  0.213959   0.882074\n",
       " 0.200586   0.732      0.199058      0.686352  0.68774    0.604118\n",
       " 0.298614   0.299058   0.576082      0.36917   0.131091   0.544912\n",
       " 0.246837   0.449182   0.218177      0.734216  0.717274   0.674782\n",
       " 0.579672   0.875096   0.362036      0.205708  0.435805   0.00980157\n",
       " ⋮                                ⋱                       \n",
       " 0.96467    0.515627   0.137658      0.82539   0.661208   0.0436079\n",
       " 0.945775   0.260715   0.60808       0.45109   0.705807   0.577329\n",
       " 0.789904   0.59552    0.255054      0.458747  0.540058   0.98292\n",
       " 0.82116    0.292462   0.498734      0.644398  0.634899   0.603884\n",
       " 0.0341601  0.28858    0.0940369  …  0.865761  0.580564   0.417393\n",
       " 0.0945445  0.61816    0.52509       0.730436  0.407076   0.787155\n",
       " 0.314926   0.66426    0.265511      0.967919  0.737871   0.970879\n",
       " 0.12781    0.753508   0.110096      0.863701  0.50369    0.715789\n",
       " 0.374187   0.0368842  0.834362      0.60349   0.803947   0.21762"
      ]
     },
     "metadata": {},
     "output_type": "display_data"
    }
   ],
   "source": [
    "# Declare a 30-by-30 random matrix\n",
    "using Random # Using an external pacakge called Random which provides functions\n",
    "Random.seed!(1234) # Set the seed to make sure each time you run the cell you get the same results \n",
    "# so that we can grade them\n",
    "A = rand(30, 30)"
   ]
  },
  {
   "cell_type": "code",
   "execution_count": 81,
   "id": "2ab2cbe2-1fa6-424d-bbfe-2cafa60c8d86",
   "metadata": {},
   "outputs": [
    {
     "name": "stdout",
     "output_type": "stream",
     "text": [
      "16.340857877256173\n"
     ]
    }
   ],
   "source": [
    "# Compute the sum of the entries on the primary diagonal\n",
    "sums = 0 # Initialize sum as 0\n",
    "# error variable inside loop https://discourse.julialang.org/t/undefvarerror-in-loop/19757\n",
    "for k = 1:30\n",
    "    global sums += A[k, k]\n",
    "end\n",
    "println(sums)"
   ]
  },
  {
   "cell_type": "markdown",
   "id": "86c47404-9919-450e-96dd-f03f63dcc76d",
   "metadata": {},
   "source": [
    "For loops can be nested when more than one for loop is needed."
   ]
  },
  {
   "cell_type": "code",
   "execution_count": 82,
   "id": "5c11b693-9968-4afe-81ff-10549c3660f3",
   "metadata": {},
   "outputs": [
    {
     "data": {
      "text/plain": [
       "3×3 Array{Int64,2}:\n",
       " 1  2  3\n",
       " 4  5  6\n",
       " 7  8  9"
      ]
     },
     "metadata": {},
     "output_type": "display_data"
    }
   ],
   "source": [
    "# Declare a 3-by-3 matrix\n",
    "A = [1 2 3; 4 5 6; 7 8 9]"
   ]
  },
  {
   "cell_type": "code",
   "execution_count": 83,
   "id": "d455413e-35a9-45fc-9b9e-8f21cd297b32",
   "metadata": {},
   "outputs": [
    {
     "name": "stdout",
     "output_type": "stream",
     "text": [
      "1\n",
      "4\n",
      "5\n",
      "7\n",
      "8\n",
      "9\n"
     ]
    }
   ],
   "source": [
    "# Print all the numbers on and below the matrix primary diagonal\n",
    "for i = 1:3\n",
    "    for j = 1:i\n",
    "        println(A[i,j])\n",
    "    end\n",
    "end"
   ]
  },
  {
   "cell_type": "markdown",
   "id": "a4c8a09a-037a-4fb6-ae33-f47ac4f88d36",
   "metadata": {},
   "source": [
    "### Practice 3."
   ]
  },
  {
   "cell_type": "code",
   "execution_count": 86,
   "id": "9ff2a58d",
   "metadata": {},
   "outputs": [
    {
     "data": {
      "text/plain": [
       "10×10 Array{Float64,2}:\n",
       " 0.590845  0.648882   0.950498   …  0.204728   0.431188   0.633427\n",
       " 0.766797  0.0109059  0.96467       0.932984   0.137658   0.337865\n",
       " 0.566237  0.066423   0.945775      0.827263   0.60808    0.112987\n",
       " 0.460085  0.956753   0.789904      0.0992992  0.255054   0.78299\n",
       " 0.794026  0.646691   0.82116       0.6343     0.498734   0.838042\n",
       " 0.854147  0.112486   0.0341601  …  0.132715   0.0940369  0.0878598\n",
       " 0.200586  0.276021   0.0945445     0.775194   0.52509    0.386568\n",
       " 0.298614  0.651664   0.314926      0.869237   0.265511   0.330579\n",
       " 0.246837  0.0566425  0.12781       0.0396356  0.110096   0.748041\n",
       " 0.579672  0.842714   0.374187      0.79041    0.834362   0.265595"
      ]
     },
     "metadata": {},
     "output_type": "display_data"
    }
   ],
   "source": [
    "# Declare a 10-by-10 random matrix\n",
    "using Random # Using an external pacakge called Random which provides functions\n",
    "Random.seed!(1234) # Set the seed to make sure each time you get the same results\n",
    "A = rand(10, 10)"
   ]
  },
  {
   "cell_type": "code",
   "execution_count": 87,
   "id": "a8b2b904",
   "metadata": {
    "deletable": false,
    "nbgrader": {
     "cell_type": "code",
     "checksum": "a766f61f9913b9304656dd7cf0575f8c",
     "grade": false,
     "grade_id": "cell-fa7895b2bfbf59fd",
     "locked": false,
     "schema_version": 3,
     "solution": true,
     "task": false
    }
   },
   "outputs": [
    {
     "data": {
      "text/plain": [
       "3.6644870641636995"
      ]
     },
     "metadata": {},
     "output_type": "display_data"
    }
   ],
   "source": [
    "# Compute the sum of the numbers on the matrix primary diagonal\n",
    "sums = 0\n",
    "# your code here\n",
    "for i = 1:10\n",
    "    global sums += A[i,i]\n",
    "end\n",
    "sums"
   ]
  },
  {
   "cell_type": "code",
   "execution_count": 88,
   "id": "6734a409",
   "metadata": {},
   "outputs": [
    {
     "name": "stdout",
     "output_type": "stream",
     "text": [
      "all nothings means likely correct\n"
     ]
    },
    {
     "data": {
      "text/plain": [
       "1×2 Array{Nothing,2}:\n",
       " nothing  nothing"
      ]
     },
     "metadata": {},
     "output_type": "display_data"
    }
   ],
   "source": [
    "# Autograder cell\n",
    "println(\"all nothings means likely correct\")\n",
    "TF1 = @assert sums < 3.7\n",
    "TF2 = @assert sums > 3.6\n",
    "[TF1 TF2]"
   ]
  },
  {
   "cell_type": "code",
   "execution_count": null,
   "id": "31475127",
   "metadata": {
    "deletable": false,
    "editable": false,
    "nbgrader": {
     "cell_type": "code",
     "checksum": "d2e2a0440288299c405061ff426e15e4",
     "grade": true,
     "grade_id": "cell-3d610786bede312d",
     "locked": true,
     "points": 3,
     "schema_version": 3,
     "solution": false,
     "task": false
    }
   },
   "outputs": [],
   "source": [
    "# Autograder cell"
   ]
  },
  {
   "cell_type": "code",
   "execution_count": 34,
   "id": "5e0581e6-b4a1-40b1-976f-008e37bb9fb5",
   "metadata": {
    "deletable": false,
    "nbgrader": {
     "cell_type": "code",
     "checksum": "b45b28b7e478a5d8789dc1ac4556f8df",
     "grade": false,
     "grade_id": "cell-e6d95090b1803e50",
     "locked": false,
     "schema_version": 3,
     "solution": true,
     "task": false
    }
   },
   "outputs": [
    {
     "data": {
      "text/plain": [
       "24.957994773622094"
      ]
     },
     "execution_count": 34,
     "metadata": {},
     "output_type": "execute_result"
    }
   ],
   "source": [
    "# Compute the sum of the numbers on and above the matrix primary diagonal\n",
    "sums = 0\n",
    "# your code here\n",
    "for i in 1:10\n",
    "    for j in i:10\n",
    "        sums += A[i,j]\n",
    "    end\n",
    "end\n",
    "sums"
   ]
  },
  {
   "cell_type": "code",
   "execution_count": 35,
   "id": "7ad91d5e-613d-4e1c-94f4-8137c3e9d4e6",
   "metadata": {},
   "outputs": [
    {
     "name": "stdout",
     "output_type": "stream",
     "text": [
      "all nothings means likely correct\n"
     ]
    },
    {
     "data": {
      "text/plain": [
       "1×2 Matrix{Nothing}:\n",
       " nothing  nothing"
      ]
     },
     "execution_count": 35,
     "metadata": {},
     "output_type": "execute_result"
    }
   ],
   "source": [
    "# Autograder cell\n",
    "println(\"all nothings means likely correct\")\n",
    "TF1 = @assert sums < 25\n",
    "TF2 = @assert sums > 24\n",
    "[TF1 TF2]"
   ]
  },
  {
   "cell_type": "code",
   "execution_count": 36,
   "id": "b29e8bdb",
   "metadata": {
    "deletable": false,
    "editable": false,
    "nbgrader": {
     "cell_type": "code",
     "checksum": "9fcc668d05a204763d10706451849760",
     "grade": true,
     "grade_id": "cell-3e23bbbd1623f529",
     "locked": true,
     "points": 3,
     "schema_version": 3,
     "solution": false,
     "task": false
    }
   },
   "outputs": [],
   "source": [
    "# Autograder cell"
   ]
  },
  {
   "cell_type": "markdown",
   "id": "713439ac-9bb7-48fe-8551-ff29de48f01a",
   "metadata": {},
   "source": [
    "### Example 4. How to solve a system of linear equations when it's not too big\n",
    "\n",
    "** We will study the matrix inverse in Chapter 6...that's a long ways off. To give you a head start and to show you \n",
    "how to check answers to systems of linear equations, we introduce the matrix inverse function, ```inv()```, a function in the Linear Algebra pacakge. It is only defined for square matrices and even then, not for all square matrices. We'll get the details in Chapter 6.** "
   ]
  },
  {
   "cell_type": "code",
   "execution_count": 91,
   "id": "38233ac9-4dec-49b1-b668-97278e4355ed",
   "metadata": {},
   "outputs": [
    {
     "data": {
      "text/plain": [
       "3-element Array{Float64,1}:\n",
       " -1.0696035242290747\n",
       "  2.028193832599119\n",
       " -1.1691629955947136"
      ]
     },
     "metadata": {},
     "output_type": "display_data"
    }
   ],
   "source": [
    "# Declare a 3-by-3 matrix\n",
    "A = [1 3 6; 0 6 1; 7 8 2]\n",
    "# Declare a 3-by-1 vector\n",
    "b=[-2; 11; 6.4]\n",
    "# Compute the solution of Ax = b\n",
    "using LinearAlgebra\n",
    "x = inv(A)*b"
   ]
  },
  {
   "cell_type": "markdown",
   "id": "f76b5371-9177-4d44-92ea-9074bc95330d",
   "metadata": {},
   "source": [
    "**For debugging your code, you can use ```assert``` operator to check if two values are equal.**"
   ]
  },
  {
   "cell_type": "code",
   "execution_count": 93,
   "id": "ec1a3952",
   "metadata": {},
   "outputs": [
    {
     "data": {
      "text/plain": [
       "3-element Array{Float64,1}:\n",
       " 0.0\n",
       " 0.0\n",
       " 1.7763568394002505e-15"
      ]
     },
     "metadata": {},
     "output_type": "display_data"
    }
   ],
   "source": [
    "vec(A*x-b)"
   ]
  },
  {
   "cell_type": "code",
   "execution_count": 96,
   "id": "c7046b37",
   "metadata": {},
   "outputs": [
    {
     "data": {
      "text/plain": [
       "3-element Array{Float64,1}:\n",
       " 0.0\n",
       " 0.0\n",
       " 0.0"
      ]
     },
     "metadata": {},
     "output_type": "display_data"
    }
   ],
   "source": [
    "vec([0.0; 0.0; 0.0])"
   ]
  },
  {
   "cell_type": "code",
   "execution_count": 97,
   "id": "edfb2eeb-6b8f-4319-8f63-3f180336d481",
   "metadata": {},
   "outputs": [],
   "source": [
    "# Check if inv_A is the correct inversion\n",
    "@assert isapprox(vec(A*x-b), vec([0.0; 0.0; 0.0]); atol=2)\n",
    "# Note: Ax=b if, and only if, Ax-b = 0."
   ]
  },
  {
   "cell_type": "markdown",
   "id": "9f508f3f-99b7-47ab-927c-a1c0fb81ade5",
   "metadata": {},
   "source": [
    "## What can we do using for loops?\n",
    "\n",
    "<img align=\"left\" src=\"https://c.tenor.com/TSfv9OumbmsAAAAC/boueibu-yumoto-hakone.gif\"/>"
   ]
  },
  {
   "cell_type": "markdown",
   "id": "23faba80-2aa6-4a6c-966e-48c9eb115c6d",
   "metadata": {},
   "source": [
    "## Area of a Shape via Triangles\n",
    "\n",
    "#### The method is to divide the shape into triangles and add up the area of each triangle.\n",
    "#### Warning: We are using a fast way to compute the area of triangle that is NOT taught in High School.\n",
    "\n",
    "### Example. Area of a Circle"
   ]
  },
  {
   "cell_type": "code",
   "execution_count": 3,
   "id": "45e7d7f1-fb62-4f65-86bc-1868a203ea84",
   "metadata": {},
   "outputs": [
    {
     "data": {
      "image/png": "[encoded data removed]",
      "image/svg+xml": "<?xml version=\"1.0\" encoding=\"utf-8\"?>\n<svg xmlns=\"http://www.w3.org/2000/svg\" xmlns:xlink=\"http://www.w3.org/1999/xlink\" width=\"600\" height=\"400\" viewBox=\"0 0 2400 1600\">\n<defs>\n  <clipPath id=\"clip760\">\n    <rect x=\"0\" y=\"0\" width=\"2400\" height=\"1600\"/>\n  </clipPath>\n</defs>\n<path clip-path=\"url(#clip760)\" d=\"\nM0 1600 L2400 1600 L2400 0 L0 0  Z\n  \" fill=\"#ffffff\" fill-rule=\"evenodd\" fill-opacity=\"1\"/>\n<defs>\n  <clipPath id=\"clip761\">\n    <rect x=\"480\" y=\"0\" width=\"1681\" height=\"1600\"/>\n  </clipPath>\n</defs>\n<path clip-path=\"url(#clip760)\" d=\"\nM179.654 1486.45 L2352.76 1486.45 L2352.76 47.2441 L179.654 47.2441  Z\n  \" fill=\"#ffffff\" fill-rule=\"evenodd\" fill-opacity=\"1\"/>\n<defs>\n  <clipPath id=\"clip762\">\n    <rect x=\"179\" y=\"47\" width=\"2174\" height=\"1440\"/>\n  </clipPath>\n</defs>\n<polyline clip-path=\"url(#clip762)\" style=\"stroke:#000000; stroke-width:2; stroke-opacity:0.1; fill:none\" points=\"\n  247.899,1486.45 247.899,47.2441 \n  \"/>\n<polyline clip-path=\"url(#clip762)\" style=\"stroke:#000000; stroke-width:2; stroke-opacity:0.1; fill:none\" points=\"\n  587.334,1486.45 587.334,47.2441 \n  \"/>\n<polyline clip-path=\"url(#clip762)\" style=\"stroke:#000000; stroke-width:2; stroke-opacity:0.1; fill:none\" points=\"\n  926.77,1486.45 926.77,47.2441 \n  \"/>\n<polyline clip-path=\"url(#clip762)\" style=\"stroke:#000000; stroke-width:2; stroke-opacity:0.1; fill:none\" points=\"\n  1266.21,1486.45 1266.21,47.2441 \n  \"/>\n<polyline clip-path=\"url(#clip762)\" style=\"stroke:#000000; stroke-width:2; stroke-opacity:0.1; fill:none\" points=\"\n  1605.64,1486.45 1605.64,47.2441 \n  \"/>\n<polyline clip-path=\"url(#clip762)\" style=\"stroke:#000000; stroke-width:2; stroke-opacity:0.1; fill:none\" points=\"\n  1945.08,1486.45 1945.08,47.2441 \n  \"/>\n<polyline clip-path=\"url(#clip762)\" style=\"stroke:#000000; stroke-width:2; stroke-opacity:0.1; fill:none\" points=\"\n  2284.51,1486.45 2284.51,47.2441 \n  \"/>\n<polyline clip-path=\"url(#clip760)\" style=\"stroke:#000000; stroke-width:4; stroke-opacity:1; fill:none\" points=\"\n  179.654,1486.45 2352.76,1486.45 \n  \"/>\n<polyline clip-path=\"url(#clip760)\" style=\"stroke:#000000; stroke-width:4; stroke-opacity:1; fill:none\" points=\"\n  247.899,1486.45 247.899,1469.18 \n  \"/>\n<polyline clip-path=\"url(#clip760)\" style=\"stroke:#000000; stroke-width:4; stroke-opacity:1; fill:none\" points=\"\n  587.334,1486.45 587.334,1469.18 \n  \"/>\n<polyline clip-path=\"url(#clip760)\" style=\"stroke:#000000; stroke-width:4; stroke-opacity:1; fill:none\" points=\"\n  926.77,1486.45 926.77,1469.18 \n  \"/>\n<polyline clip-path=\"url(#clip760)\" style=\"stroke:#000000; stroke-width:4; stroke-opacity:1; fill:none\" points=\"\n  1266.21,1486.45 1266.21,1469.18 \n  \"/>\n<polyline clip-path=\"url(#clip760)\" style=\"stroke:#000000; stroke-width:4; stroke-opacity:1; fill:none\" points=\"\n  1605.64,1486.45 1605.64,1469.18 \n  \"/>\n<polyline clip-path=\"url(#clip760)\" style=\"stroke:#000000; stroke-width:4; stroke-opacity:1; fill:none\" points=\"\n  1945.08,1486.45 1945.08,1469.18 \n  \"/>\n<polyline clip-path=\"url(#clip760)\" style=\"stroke:#000000; stroke-width:4; stroke-opacity:1; fill:none\" points=\"\n  2284.51,1486.45 2284.51,1469.18 \n  \"/>\n<path clip-path=\"url(#clip760)\" d=\"M 0 0 M202.182 1530.29 L231.857 1530.29 L231.857 1534.23 L202.182 1534.23 L202.182 1530.29 Z\" fill=\"#000000\" fill-rule=\"evenodd\" fill-opacity=\"1\" /><path clip-path=\"url(#clip760)\" d=\"M 0 0 M237.737 1543.18 L245.376 1543.18 L245.376 1516.82 L237.066 1518.49 L237.066 1514.23 L245.33 1512.56 L250.006 1512.56 L250.006 1543.18 L257.644 1543.18 L257.644 1547.12 L237.737 1547.12 L237.737 1543.18 Z\" fill=\"#000000\" fill-rule=\"evenodd\" fill-opacity=\"1\" /><path clip-path=\"url(#clip760)\" d=\"M 0 0 M262.714 1541.24 L267.598 1541.24 L267.598 1547.12 L262.714 1547.12 L262.714 1541.24 Z\" fill=\"#000000\" fill-rule=\"evenodd\" fill-opacity=\"1\" /><path clip-path=\"url(#clip760)\" d=\"M 0 0 M272.714 1512.56 L291.07 1512.56 L291.07 1516.5 L276.996 1516.5 L276.996 1524.97 Q278.015 1524.62 279.033 1524.46 Q280.052 1524.27 281.07 1524.27 Q286.857 1524.27 290.237 1527.44 Q293.616 1530.62 293.616 1536.03 Q293.616 1541.61 290.144 1544.71 Q286.672 1547.79 280.353 1547.79 Q278.177 1547.79 275.908 1547.42 Q273.663 1547.05 271.255 1546.31 L271.255 1541.61 Q273.339 1542.74 275.561 1543.3 Q277.783 1543.86 280.26 1543.86 Q284.265 1543.86 286.603 1541.75 Q288.94 1539.64 288.94 1536.03 Q288.94 1532.42 286.603 1530.31 Q284.265 1528.21 280.26 1528.21 Q278.385 1528.21 276.51 1528.62 Q274.658 1529.04 272.714 1529.92 L272.714 1512.56 Z\" fill=\"#000000\" fill-rule=\"evenodd\" fill-opacity=\"1\" /><path clip-path=\"url(#clip760)\" d=\"M 0 0 M541.119 1530.29 L570.795 1530.29 L570.795 1534.23 L541.119 1534.23 L541.119 1530.29 Z\" fill=\"#000000\" fill-rule=\"evenodd\" fill-opacity=\"1\" /><path clip-path=\"url(#clip760)\" d=\"M 0 0 M576.675 1543.18 L584.314 1543.18 L584.314 1516.82 L576.003 1518.49 L576.003 1514.23 L584.267 1512.56 L588.943 1512.56 L588.943 1543.18 L596.582 1543.18 L596.582 1547.12 L576.675 1547.12 L576.675 1543.18 Z\" fill=\"#000000\" fill-rule=\"evenodd\" fill-opacity=\"1\" /><path clip-path=\"url(#clip760)\" d=\"M 0 0 M601.651 1541.24 L606.536 1541.24 L606.536 1547.12 L601.651 1547.12 L601.651 1541.24 Z\" fill=\"#000000\" fill-rule=\"evenodd\" fill-opacity=\"1\" /><path clip-path=\"url(#clip760)\" d=\"M 0 0 M621.605 1515.64 Q617.994 1515.64 616.165 1519.2 Q614.36 1522.75 614.36 1529.87 Q614.36 1536.98 616.165 1540.55 Q617.994 1544.09 621.605 1544.09 Q625.239 1544.09 627.045 1540.55 Q628.874 1536.98 628.874 1529.87 Q628.874 1522.75 627.045 1519.2 Q625.239 1515.64 621.605 1515.64 M621.605 1511.93 Q627.415 1511.93 630.471 1516.54 Q633.549 1521.12 633.549 1529.87 Q633.549 1538.6 630.471 1543.21 Q627.415 1547.79 621.605 1547.79 Q615.795 1547.79 612.716 1543.21 Q609.661 1538.6 609.661 1529.87 Q609.661 1521.12 612.716 1516.54 Q615.795 1511.93 621.605 1511.93 Z\" fill=\"#000000\" fill-rule=\"evenodd\" fill-opacity=\"1\" /><path clip-path=\"url(#clip760)\" d=\"M 0 0 M880.439 1530.29 L910.115 1530.29 L910.115 1534.23 L880.439 1534.23 L880.439 1530.29 Z\" fill=\"#000000\" fill-rule=\"evenodd\" fill-opacity=\"1\" /><path clip-path=\"url(#clip760)\" d=\"M 0 0 M925.184 1515.64 Q921.573 1515.64 919.744 1519.2 Q917.939 1522.75 917.939 1529.87 Q917.939 1536.98 919.744 1540.55 Q921.573 1544.09 925.184 1544.09 Q928.818 1544.09 930.624 1540.55 Q932.453 1536.98 932.453 1529.87 Q932.453 1522.75 930.624 1519.2 Q928.818 1515.64 925.184 1515.64 M925.184 1511.93 Q930.994 1511.93 934.05 1516.54 Q937.129 1521.12 937.129 1529.87 Q937.129 1538.6 934.05 1543.21 Q930.994 1547.79 925.184 1547.79 Q919.374 1547.79 916.295 1543.21 Q913.24 1538.6 913.24 1529.87 Q913.24 1521.12 916.295 1516.54 Q919.374 1511.93 925.184 1511.93 Z\" fill=\"#000000\" fill-rule=\"evenodd\" fill-opacity=\"1\" /><path clip-path=\"url(#clip760)\" d=\"M 0 0 M942.198 1541.24 L947.082 1541.24 L947.082 1547.12 L942.198 1547.12 L942.198 1541.24 Z\" fill=\"#000000\" fill-rule=\"evenodd\" fill-opacity=\"1\" /><path clip-path=\"url(#clip760)\" d=\"M 0 0 M952.198 1512.56 L970.554 1512.56 L970.554 1516.5 L956.48 1516.5 L956.48 1524.97 Q957.499 1524.62 958.517 1524.46 Q959.536 1524.27 960.554 1524.27 Q966.341 1524.27 969.721 1527.44 Q973.101 1530.62 973.101 1536.03 Q973.101 1541.61 969.628 1544.71 Q966.156 1547.79 959.837 1547.79 Q957.661 1547.79 955.392 1547.42 Q953.147 1547.05 950.74 1546.31 L950.74 1541.61 Q952.823 1542.74 955.045 1543.3 Q957.267 1543.86 959.744 1543.86 Q963.749 1543.86 966.087 1541.75 Q968.425 1539.64 968.425 1536.03 Q968.425 1532.42 966.087 1530.31 Q963.749 1528.21 959.744 1528.21 Q957.869 1528.21 955.994 1528.62 Q954.142 1529.04 952.198 1529.92 L952.198 1512.56 Z\" fill=\"#000000\" fill-rule=\"evenodd\" fill-opacity=\"1\" /><path clip-path=\"url(#clip760)\" d=\"M 0 0 M1247.72 1515.64 Q1244.11 1515.64 1242.28 1519.2 Q1240.48 1522.75 1240.48 1529.87 Q1240.48 1536.98 1242.28 1540.55 Q1244.11 1544.09 1247.72 1544.09 Q1251.36 1544.09 1253.16 1540.55 Q1254.99 1536.98 1254.99 1529.87 Q1254.99 1522.75 1253.16 1519.2 Q1251.36 1515.64 1247.72 1515.64 M1247.72 1511.93 Q1253.53 1511.93 1256.59 1516.54 Q1259.67 1521.12 1259.67 1529.87 Q1259.67 1538.6 1256.59 1543.21 Q1253.53 1547.79 1247.72 1547.79 Q1241.91 1547.79 1238.83 1543.21 Q1235.78 1538.6 1235.78 1529.87 Q1235.78 1521.12 1238.83 1516.54 Q1241.91 1511.93 1247.72 1511.93 Z\" fill=\"#000000\" fill-rule=\"evenodd\" fill-opacity=\"1\" /><path clip-path=\"url(#clip760)\" d=\"M 0 0 M1264.74 1541.24 L1269.62 1541.24 L1269.62 1547.12 L1264.74 1547.12 L1264.74 1541.24 Z\" fill=\"#000000\" fill-rule=\"evenodd\" fill-opacity=\"1\" /><path clip-path=\"url(#clip760)\" d=\"M 0 0 M1284.69 1515.64 Q1281.08 1515.64 1279.25 1519.2 Q1277.44 1522.75 1277.44 1529.87 Q1277.44 1536.98 1279.25 1540.55 Q1281.08 1544.09 1284.69 1544.09 Q1288.32 1544.09 1290.13 1540.55 Q1291.96 1536.98 1291.96 1529.87 Q1291.96 1522.75 1290.13 1519.2 Q1288.32 1515.64 1284.69 1515.64 M1284.69 1511.93 Q1290.5 1511.93 1293.55 1516.54 Q1296.63 1521.12 1296.63 1529.87 Q1296.63 1538.6 1293.55 1543.21 Q1290.5 1547.79 1284.69 1547.79 Q1278.88 1547.79 1275.8 1543.21 Q1272.74 1538.6 1272.74 1529.87 Q1272.74 1521.12 1275.8 1516.54 Q1278.88 1511.93 1284.69 1511.93 Z\" fill=\"#000000\" fill-rule=\"evenodd\" fill-opacity=\"1\" /><path clip-path=\"url(#clip760)\" d=\"M 0 0 M1587.65 1515.64 Q1584.04 1515.64 1582.21 1519.2 Q1580.41 1522.75 1580.41 1529.87 Q1580.41 1536.98 1582.21 1540.55 Q1584.04 1544.09 1587.65 1544.09 Q1591.29 1544.09 1593.09 1540.55 Q1594.92 1536.98 1594.92 1529.87 Q1594.92 1522.75 1593.09 1519.2 Q1591.29 1515.64 1587.65 1515.64 M1587.65 1511.93 Q1593.46 1511.93 1596.52 1516.54 Q1599.6 1521.12 1599.6 1529.87 Q1599.6 1538.6 1596.52 1543.21 Q1593.46 1547.79 1587.65 1547.79 Q1581.84 1547.79 1578.77 1543.21 Q1575.71 1538.6 1575.71 1529.87 Q1575.71 1521.12 1578.77 1516.54 Q1581.84 1511.93 1587.65 1511.93 Z\" fill=\"#000000\" fill-rule=\"evenodd\" fill-opacity=\"1\" /><path clip-path=\"url(#clip760)\" d=\"M 0 0 M1604.67 1541.24 L1609.55 1541.24 L1609.55 1547.12 L1604.67 1547.12 L1604.67 1541.24 Z\" fill=\"#000000\" fill-rule=\"evenodd\" fill-opacity=\"1\" /><path clip-path=\"url(#clip760)\" d=\"M 0 0 M1614.67 1512.56 L1633.02 1512.56 L1633.02 1516.5 L1618.95 1516.5 L1618.95 1524.97 Q1619.97 1524.62 1620.99 1524.46 Q1622.01 1524.27 1623.02 1524.27 Q1628.81 1524.27 1632.19 1527.44 Q1635.57 1530.62 1635.57 1536.03 Q1635.57 1541.61 1632.1 1544.71 Q1628.63 1547.79 1622.31 1547.79 Q1620.13 1547.79 1617.86 1547.42 Q1615.62 1547.05 1613.21 1546.31 L1613.21 1541.61 Q1615.29 1542.74 1617.52 1543.3 Q1619.74 1543.86 1622.21 1543.86 Q1626.22 1543.86 1628.56 1541.75 Q1630.9 1539.64 1630.9 1536.03 Q1630.9 1532.42 1628.56 1530.31 Q1626.22 1528.21 1622.21 1528.21 Q1620.34 1528.21 1618.46 1528.62 Q1616.61 1529.04 1614.67 1529.92 L1614.67 1512.56 Z\" fill=\"#000000\" fill-rule=\"evenodd\" fill-opacity=\"1\" /><path clip-path=\"url(#clip760)\" d=\"M 0 0 M1916.97 1543.18 L1924.61 1543.18 L1924.61 1516.82 L1916.3 1518.49 L1916.3 1514.23 L1924.57 1512.56 L1929.24 1512.56 L1929.24 1543.18 L1936.88 1543.18 L1936.88 1547.12 L1916.97 1547.12 L1916.97 1543.18 Z\" fill=\"#000000\" fill-rule=\"evenodd\" fill-opacity=\"1\" /><path clip-path=\"url(#clip760)\" d=\"M 0 0 M1941.95 1541.24 L1946.84 1541.24 L1946.84 1547.12 L1941.95 1547.12 L1941.95 1541.24 Z\" fill=\"#000000\" fill-rule=\"evenodd\" fill-opacity=\"1\" /><path clip-path=\"url(#clip760)\" d=\"M 0 0 M1961.9 1515.64 Q1958.29 1515.64 1956.46 1519.2 Q1954.66 1522.75 1954.66 1529.87 Q1954.66 1536.98 1956.46 1540.55 Q1958.29 1544.09 1961.9 1544.09 Q1965.54 1544.09 1967.34 1540.55 Q1969.17 1536.98 1969.17 1529.87 Q1969.17 1522.75 1967.34 1519.2 Q1965.54 1515.64 1961.9 1515.64 M1961.9 1511.93 Q1967.71 1511.93 1970.77 1516.54 Q1973.85 1521.12 1973.85 1529.87 Q1973.85 1538.6 1970.77 1543.21 Q1967.71 1547.79 1961.9 1547.79 Q1956.09 1547.79 1953.02 1543.21 Q1949.96 1538.6 1949.96 1529.87 Q1949.96 1521.12 1953.02 1516.54 Q1956.09 1511.93 1961.9 1511.93 Z\" fill=\"#000000\" fill-rule=\"evenodd\" fill-opacity=\"1\" /><path clip-path=\"url(#clip760)\" d=\"M 0 0 M2256.91 1543.18 L2264.55 1543.18 L2264.55 1516.82 L2256.24 1518.49 L2256.24 1514.23 L2264.5 1512.56 L2269.18 1512.56 L2269.18 1543.18 L2276.81 1543.18 L2276.81 1547.12 L2256.91 1547.12 L2256.91 1543.18 Z\" fill=\"#000000\" fill-rule=\"evenodd\" fill-opacity=\"1\" /><path clip-path=\"url(#clip760)\" d=\"M 0 0 M2281.88 1541.24 L2286.77 1541.24 L2286.77 1547.12 L2281.88 1547.12 L2281.88 1541.24 Z\" fill=\"#000000\" fill-rule=\"evenodd\" fill-opacity=\"1\" /><path clip-path=\"url(#clip760)\" d=\"M 0 0 M2291.88 1512.56 L2310.24 1512.56 L2310.24 1516.5 L2296.17 1516.5 L2296.17 1524.97 Q2297.18 1524.62 2298.2 1524.46 Q2299.22 1524.27 2300.24 1524.27 Q2306.03 1524.27 2309.41 1527.44 Q2312.79 1530.62 2312.79 1536.03 Q2312.79 1541.61 2309.31 1544.71 Q2305.84 1547.79 2299.52 1547.79 Q2297.35 1547.79 2295.08 1547.42 Q2292.83 1547.05 2290.43 1546.31 L2290.43 1541.61 Q2292.51 1542.74 2294.73 1543.3 Q2296.95 1543.86 2299.43 1543.86 Q2303.43 1543.86 2305.77 1541.75 Q2308.11 1539.64 2308.11 1536.03 Q2308.11 1532.42 2305.77 1530.31 Q2303.43 1528.21 2299.43 1528.21 Q2297.56 1528.21 2295.68 1528.62 Q2293.83 1529.04 2291.88 1529.92 L2291.88 1512.56 Z\" fill=\"#000000\" fill-rule=\"evenodd\" fill-opacity=\"1\" /><polyline clip-path=\"url(#clip762)\" style=\"stroke:#000000; stroke-width:2; stroke-opacity:0.1; fill:none\" points=\"\n  179.654,1445.72 2352.76,1445.72 \n  \"/>\n<polyline clip-path=\"url(#clip762)\" style=\"stroke:#000000; stroke-width:2; stroke-opacity:0.1; fill:none\" points=\"\n  179.654,1106.28 2352.76,1106.28 \n  \"/>\n<polyline clip-path=\"url(#clip762)\" style=\"stroke:#000000; stroke-width:2; stroke-opacity:0.1; fill:none\" points=\"\n  179.654,766.845 2352.76,766.845 \n  \"/>\n<polyline clip-path=\"url(#clip762)\" style=\"stroke:#000000; stroke-width:2; stroke-opacity:0.1; fill:none\" points=\"\n  179.654,427.41 2352.76,427.41 \n  \"/>\n<polyline clip-path=\"url(#clip762)\" style=\"stroke:#000000; stroke-width:2; stroke-opacity:0.1; fill:none\" points=\"\n  179.654,87.9743 2352.76,87.9743 \n  \"/>\n<polyline clip-path=\"url(#clip760)\" style=\"stroke:#000000; stroke-width:4; stroke-opacity:1; fill:none\" points=\"\n  179.654,1486.45 179.654,47.2441 \n  \"/>\n<polyline clip-path=\"url(#clip760)\" style=\"stroke:#000000; stroke-width:4; stroke-opacity:1; fill:none\" points=\"\n  179.654,1445.72 205.731,1445.72 \n  \"/>\n<polyline clip-path=\"url(#clip760)\" style=\"stroke:#000000; stroke-width:4; stroke-opacity:1; fill:none\" points=\"\n  179.654,1106.28 205.731,1106.28 \n  \"/>\n<polyline clip-path=\"url(#clip760)\" style=\"stroke:#000000; stroke-width:4; stroke-opacity:1; fill:none\" points=\"\n  179.654,766.845 205.731,766.845 \n  \"/>\n<polyline clip-path=\"url(#clip760)\" style=\"stroke:#000000; stroke-width:4; stroke-opacity:1; fill:none\" points=\"\n  179.654,427.41 205.731,427.41 \n  \"/>\n<polyline clip-path=\"url(#clip760)\" style=\"stroke:#000000; stroke-width:4; stroke-opacity:1; fill:none\" points=\"\n  179.654,87.9743 205.731,87.9743 \n  \"/>\n<path clip-path=\"url(#clip760)\" d=\"M 0 0 M51.2236 1446.17 L80.8994 1446.17 L80.8994 1450.1 L51.2236 1450.1 L51.2236 1446.17 Z\" fill=\"#000000\" fill-rule=\"evenodd\" fill-opacity=\"1\" /><path clip-path=\"url(#clip760)\" d=\"M 0 0 M86.779 1459.06 L94.4178 1459.06 L94.4178 1432.7 L86.1077 1434.36 L86.1077 1430.1 L94.3715 1428.44 L99.0474 1428.44 L99.0474 1459.06 L106.686 1459.06 L106.686 1463 L86.779 1463 L86.779 1459.06 Z\" fill=\"#000000\" fill-rule=\"evenodd\" fill-opacity=\"1\" /><path clip-path=\"url(#clip760)\" d=\"M 0 0 M111.756 1457.12 L116.64 1457.12 L116.64 1463 L111.756 1463 L111.756 1457.12 Z\" fill=\"#000000\" fill-rule=\"evenodd\" fill-opacity=\"1\" /><path clip-path=\"url(#clip760)\" d=\"M 0 0 M131.709 1431.51 Q128.098 1431.51 126.27 1435.08 Q124.464 1438.62 124.464 1445.75 Q124.464 1452.86 126.27 1456.42 Q128.098 1459.96 131.709 1459.96 Q135.344 1459.96 137.149 1456.42 Q138.978 1452.86 138.978 1445.75 Q138.978 1438.62 137.149 1435.08 Q135.344 1431.51 131.709 1431.51 M131.709 1427.81 Q137.519 1427.81 140.575 1432.42 Q143.654 1437 143.654 1445.75 Q143.654 1454.48 140.575 1459.08 Q137.519 1463.67 131.709 1463.67 Q125.899 1463.67 122.82 1459.08 Q119.765 1454.48 119.765 1445.75 Q119.765 1437 122.82 1432.42 Q125.899 1427.81 131.709 1427.81 Z\" fill=\"#000000\" fill-rule=\"evenodd\" fill-opacity=\"1\" /><path clip-path=\"url(#clip760)\" d=\"M 0 0 M50.9921 1106.73 L80.6679 1106.73 L80.6679 1110.67 L50.9921 1110.67 L50.9921 1106.73 Z\" fill=\"#000000\" fill-rule=\"evenodd\" fill-opacity=\"1\" /><path clip-path=\"url(#clip760)\" d=\"M 0 0 M95.7373 1092.08 Q92.1262 1092.08 90.2975 1095.64 Q88.4919 1099.19 88.4919 1106.32 Q88.4919 1113.42 90.2975 1116.99 Q92.1262 1120.53 95.7373 1120.53 Q99.3715 1120.53 101.177 1116.99 Q103.006 1113.42 103.006 1106.32 Q103.006 1099.19 101.177 1095.64 Q99.3715 1092.08 95.7373 1092.08 M95.7373 1088.38 Q101.547 1088.38 104.603 1092.98 Q107.682 1097.57 107.682 1106.32 Q107.682 1115.04 104.603 1119.65 Q101.547 1124.23 95.7373 1124.23 Q89.9271 1124.23 86.8484 1119.65 Q83.7929 1115.04 83.7929 1106.32 Q83.7929 1097.57 86.8484 1092.98 Q89.9271 1088.38 95.7373 1088.38 Z\" fill=\"#000000\" fill-rule=\"evenodd\" fill-opacity=\"1\" /><path clip-path=\"url(#clip760)\" d=\"M 0 0 M112.751 1117.68 L117.635 1117.68 L117.635 1123.56 L112.751 1123.56 L112.751 1117.68 Z\" fill=\"#000000\" fill-rule=\"evenodd\" fill-opacity=\"1\" /><path clip-path=\"url(#clip760)\" d=\"M 0 0 M122.751 1089 L141.107 1089 L141.107 1092.94 L127.033 1092.94 L127.033 1101.41 Q128.052 1101.06 129.07 1100.9 Q130.089 1100.71 131.107 1100.71 Q136.894 1100.71 140.274 1103.88 Q143.654 1107.06 143.654 1112.47 Q143.654 1118.05 140.181 1121.15 Q136.709 1124.23 130.39 1124.23 Q128.214 1124.23 125.945 1123.86 Q123.7 1123.49 121.293 1122.75 L121.293 1118.05 Q123.376 1119.19 125.598 1119.74 Q127.82 1120.3 130.297 1120.3 Q134.302 1120.3 136.64 1118.19 Q138.978 1116.08 138.978 1112.47 Q138.978 1108.86 136.64 1106.76 Q134.302 1104.65 130.297 1104.65 Q128.422 1104.65 126.547 1105.07 Q124.695 1105.48 122.751 1106.36 L122.751 1089 Z\" fill=\"#000000\" fill-rule=\"evenodd\" fill-opacity=\"1\" /><path clip-path=\"url(#clip760)\" d=\"M 0 0 M94.7419 752.644 Q91.1308 752.644 89.3021 756.209 Q87.4966 759.75 87.4966 766.88 Q87.4966 773.986 89.3021 777.551 Q91.1308 781.093 94.7419 781.093 Q98.3761 781.093 100.182 777.551 Q102.01 773.986 102.01 766.88 Q102.01 759.75 100.182 756.209 Q98.3761 752.644 94.7419 752.644 M94.7419 748.94 Q100.552 748.94 103.608 753.547 Q106.686 758.13 106.686 766.88 Q106.686 775.607 103.608 780.213 Q100.552 784.796 94.7419 784.796 Q88.9317 784.796 85.8531 780.213 Q82.7975 775.607 82.7975 766.88 Q82.7975 758.13 85.8531 753.547 Q88.9317 748.94 94.7419 748.94 Z\" fill=\"#000000\" fill-rule=\"evenodd\" fill-opacity=\"1\" /><path clip-path=\"url(#clip760)\" d=\"M 0 0 M111.756 778.246 L116.64 778.246 L116.64 784.125 L111.756 784.125 L111.756 778.246 Z\" fill=\"#000000\" fill-rule=\"evenodd\" fill-opacity=\"1\" /><path clip-path=\"url(#clip760)\" d=\"M 0 0 M131.709 752.644 Q128.098 752.644 126.27 756.209 Q124.464 759.75 124.464 766.88 Q124.464 773.986 126.27 777.551 Q128.098 781.093 131.709 781.093 Q135.344 781.093 137.149 777.551 Q138.978 773.986 138.978 766.88 Q138.978 759.75 137.149 756.209 Q135.344 752.644 131.709 752.644 M131.709 748.94 Q137.519 748.94 140.575 753.547 Q143.654 758.13 143.654 766.88 Q143.654 775.607 140.575 780.213 Q137.519 784.796 131.709 784.796 Q125.899 784.796 122.82 780.213 Q119.765 775.607 119.765 766.88 Q119.765 758.13 122.82 753.547 Q125.899 748.94 131.709 748.94 Z\" fill=\"#000000\" fill-rule=\"evenodd\" fill-opacity=\"1\" /><path clip-path=\"url(#clip760)\" d=\"M 0 0 M95.7373 413.208 Q92.1262 413.208 90.2975 416.773 Q88.4919 420.315 88.4919 427.444 Q88.4919 434.551 90.2975 438.116 Q92.1262 441.657 95.7373 441.657 Q99.3715 441.657 101.177 438.116 Q103.006 434.551 103.006 427.444 Q103.006 420.315 101.177 416.773 Q99.3715 413.208 95.7373 413.208 M95.7373 409.505 Q101.547 409.505 104.603 414.111 Q107.682 418.695 107.682 427.444 Q107.682 436.171 104.603 440.778 Q101.547 445.361 95.7373 445.361 Q89.9271 445.361 86.8484 440.778 Q83.7929 436.171 83.7929 427.444 Q83.7929 418.695 86.8484 414.111 Q89.9271 409.505 95.7373 409.505 Z\" fill=\"#000000\" fill-rule=\"evenodd\" fill-opacity=\"1\" /><path clip-path=\"url(#clip760)\" d=\"M 0 0 M112.751 438.81 L117.635 438.81 L117.635 444.69 L112.751 444.69 L112.751 438.81 Z\" fill=\"#000000\" fill-rule=\"evenodd\" fill-opacity=\"1\" /><path clip-path=\"url(#clip760)\" d=\"M 0 0 M122.751 410.13 L141.107 410.13 L141.107 414.065 L127.033 414.065 L127.033 422.537 Q128.052 422.19 129.07 422.028 Q130.089 421.843 131.107 421.843 Q136.894 421.843 140.274 425.014 Q143.654 428.185 143.654 433.602 Q143.654 439.181 140.181 442.282 Q136.709 445.361 130.39 445.361 Q128.214 445.361 125.945 444.991 Q123.7 444.62 121.293 443.88 L121.293 439.181 Q123.376 440.315 125.598 440.87 Q127.82 441.426 130.297 441.426 Q134.302 441.426 136.64 439.319 Q138.978 437.213 138.978 433.602 Q138.978 429.991 136.64 427.884 Q134.302 425.778 130.297 425.778 Q128.422 425.778 126.547 426.194 Q124.695 426.611 122.751 427.491 L122.751 410.13 Z\" fill=\"#000000\" fill-rule=\"evenodd\" fill-opacity=\"1\" /><path clip-path=\"url(#clip760)\" d=\"M 0 0 M86.779 101.319 L94.4178 101.319 L94.4178 74.9536 L86.1077 76.6202 L86.1077 72.361 L94.3715 70.6943 L99.0474 70.6943 L99.0474 101.319 L106.686 101.319 L106.686 105.254 L86.779 105.254 L86.779 101.319 Z\" fill=\"#000000\" fill-rule=\"evenodd\" fill-opacity=\"1\" /><path clip-path=\"url(#clip760)\" d=\"M 0 0 M111.756 99.3747 L116.64 99.3747 L116.64 105.254 L111.756 105.254 L111.756 99.3747 Z\" fill=\"#000000\" fill-rule=\"evenodd\" fill-opacity=\"1\" /><path clip-path=\"url(#clip760)\" d=\"M 0 0 M131.709 73.773 Q128.098 73.773 126.27 77.3378 Q124.464 80.8795 124.464 88.0091 Q124.464 95.1155 126.27 98.6803 Q128.098 102.222 131.709 102.222 Q135.344 102.222 137.149 98.6803 Q138.978 95.1155 138.978 88.0091 Q138.978 80.8795 137.149 77.3378 Q135.344 73.773 131.709 73.773 M131.709 70.0693 Q137.519 70.0693 140.575 74.6758 Q143.654 79.2591 143.654 88.0091 Q143.654 96.7359 140.575 101.342 Q137.519 105.926 131.709 105.926 Q125.899 105.926 122.82 101.342 Q119.765 96.7359 119.765 88.0091 Q119.765 79.2591 122.82 74.6758 Q125.899 70.0693 131.709 70.0693 Z\" fill=\"#000000\" fill-rule=\"evenodd\" fill-opacity=\"1\" /><polyline clip-path=\"url(#clip762)\" style=\"stroke:#009af9; stroke-width:4; stroke-opacity:1; fill:none\" points=\"\n  587.334,766.845 587.368,773.634 587.47,780.422 587.64,787.208 587.877,793.993 588.183,800.775 588.556,807.553 588.997,814.327 589.506,821.097 590.082,827.861 \n  590.726,834.619 591.437,841.37 592.216,848.114 593.063,854.85 593.977,861.577 594.957,868.294 596.005,875.002 597.121,881.698 598.302,888.383 599.551,895.056 \n  600.867,901.716 602.249,908.362 603.697,914.995 605.212,921.612 606.792,928.214 608.439,934.8 610.151,941.37 611.929,947.921 613.773,954.455 615.681,960.97 \n  617.655,967.465 619.694,973.941 621.797,980.395 623.965,986.828 626.197,993.24 628.493,999.628 630.852,1005.99 633.275,1012.34 635.762,1018.65 638.311,1024.94 \n  640.924,1031.21 643.599,1037.45 646.336,1043.66 649.135,1049.85 651.996,1056 654.918,1062.13 657.901,1068.23 660.946,1074.3 664.05,1080.33 667.215,1086.34 \n  670.44,1092.31 673.724,1098.25 677.068,1104.16 680.471,1110.04 683.932,1115.88 687.451,1121.68 691.028,1127.45 694.663,1133.19 698.355,1138.88 702.104,1144.54 \n  705.909,1150.16 709.77,1155.75 713.687,1161.29 717.659,1166.8 721.686,1172.26 725.767,1177.69 729.903,1183.07 734.092,1188.41 738.334,1193.71 742.629,1198.97 \n  746.976,1204.19 751.375,1209.36 755.826,1214.48 760.328,1219.56 764.88,1224.6 769.483,1229.59 774.135,1234.53 778.837,1239.43 783.587,1244.28 788.385,1249.08 \n  793.231,1253.84 798.125,1258.54 803.065,1263.2 808.052,1267.81 813.084,1272.36 818.162,1276.87 823.284,1281.32 828.451,1285.73 833.662,1290.08 838.916,1294.38 \n  844.212,1298.62 849.551,1302.82 854.932,1306.96 860.353,1311.04 865.815,1315.07 871.318,1319.05 876.859,1322.97 882.44,1326.84 888.059,1330.65 893.716,1334.4 \n  899.41,1338.1 905.141,1341.73 910.907,1345.32 916.71,1348.84 922.547,1352.31 928.419,1355.71 934.324,1359.06 940.263,1362.35 946.234,1365.58 952.237,1368.75 \n  958.272,1371.86 964.338,1374.91 970.433,1377.9 976.558,1380.82 982.713,1383.69 988.895,1386.49 995.105,1389.24 1001.34,1391.92 1007.61,1394.53 1013.9,1397.09 \n  1020.21,1399.58 1026.55,1402.01 1032.91,1404.37 1039.3,1406.67 1045.71,1408.91 1052.14,1411.08 1058.6,1413.19 1065.07,1415.24 1071.56,1417.21 1078.08,1419.13 \n  1084.61,1420.98 1091.16,1422.76 1097.73,1424.48 1104.31,1426.13 1110.91,1427.72 1117.53,1429.24 1124.16,1430.69 1130.8,1432.08 1137.46,1433.4 1144.14,1434.65 \n  1150.82,1435.84 1157.52,1436.96 1164.22,1438.01 1170.94,1439 1177.66,1439.92 1184.4,1440.77 1191.14,1441.55 1197.89,1442.27 1204.65,1442.92 1211.41,1443.5 \n  1218.18,1444.02 1224.96,1444.46 1231.74,1444.84 1238.52,1445.15 1245.3,1445.39 1252.09,1445.57 1258.88,1445.68 1265.66,1445.72 1272.45,1445.69 1279.24,1445.59 \n  1286.03,1445.43 1292.81,1445.19 1299.59,1444.89 1306.37,1444.53 1313.15,1444.09 1319.92,1443.59 1326.68,1443.02 1333.44,1442.38 1340.19,1441.67 1346.94,1440.9 \n  1353.67,1440.06 1360.4,1439.15 1367.12,1438.17 1373.83,1437.13 1380.53,1436.02 1387.21,1434.84 1393.89,1433.6 1400.55,1432.29 1407.19,1430.91 1413.83,1429.47 \n  1420.45,1427.96 1427.05,1426.39 1433.64,1424.74 1440.21,1423.04 1446.76,1421.27 1453.3,1419.43 1459.81,1417.52 1466.31,1415.55 1472.79,1413.52 1479.24,1411.42 \n  1485.68,1409.26 1492.09,1407.03 1498.48,1404.74 1504.85,1402.39 1511.19,1399.97 1517.51,1397.49 1523.8,1394.94 1530.07,1392.34 1536.31,1389.67 1542.53,1386.93 \n  1548.72,1384.14 1554.87,1381.28 1561,1378.37 1567.1,1375.39 1573.17,1372.35 1579.21,1369.25 1585.22,1366.09 1591.2,1362.87 1597.14,1359.59 1603.05,1356.25 \n  1608.93,1352.85 1614.77,1349.4 1620.58,1345.88 1626.35,1342.31 1632.09,1338.68 1637.79,1334.99 1643.45,1331.25 1649.08,1327.45 1654.66,1323.59 1660.21,1319.68 \n  1665.72,1315.71 1671.19,1311.69 1676.62,1307.61 1682.01,1303.48 1687.35,1299.29 1692.65,1295.06 1697.91,1290.77 1703.13,1286.42 1708.31,1282.03 1713.44,1277.58 \n  1718.52,1273.08 1723.56,1268.53 1728.55,1263.94 1733.5,1259.29 1738.4,1254.59 1743.26,1249.84 1748.06,1245.05 1752.82,1240.21 1757.53,1235.32 1762.19,1230.38 \n  1766.8,1225.4 1771.36,1220.37 1775.87,1215.29 1780.33,1210.18 1784.74,1205.01 1789.09,1199.8 1793.4,1194.55 1797.65,1189.26 1801.84,1183.93 1805.99,1178.55 \n  1810.08,1173.13 1814.11,1167.67 1818.09,1162.17 1822.02,1156.63 1825.89,1151.06 1829.7,1145.44 1833.46,1139.79 1837.16,1134.1 1840.81,1128.37 1844.39,1122.6 \n  1847.92,1116.8 1851.39,1110.97 1854.8,1105.1 1858.16,1099.2 1861.45,1093.26 1864.69,1087.29 1867.86,1081.29 1870.97,1075.26 1874.03,1069.2 1877.02,1063.1 \n  1879.95,1056.98 1882.82,1050.83 1885.63,1044.65 1888.38,1038.44 1891.06,1032.21 1893.69,1025.94 1896.25,1019.66 1898.74,1013.34 1901.18,1007.01 1903.55,1000.64 \n  1905.85,994.259 1908.09,987.851 1910.27,981.421 1912.39,974.97 1914.43,968.498 1916.42,962.006 1918.34,955.494 1920.19,948.963 1921.98,942.414 1923.7,935.848 \n  1925.36,929.265 1926.95,922.665 1928.48,916.05 1929.94,909.42 1931.33,902.775 1932.65,896.117 1933.91,889.447 1935.11,882.764 1936.23,876.069 1937.29,869.363 \n  1938.28,862.647 1939.21,855.922 1940.06,849.188 1940.85,842.445 1941.58,835.695 1942.23,828.938 1942.82,822.175 1943.34,815.406 1943.79,808.632 1944.17,801.854 \n  1944.49,795.073 1944.74,788.289 1944.92,781.503 1945.03,774.715 1945.08,767.926 1945.05,761.138 1944.96,754.35 1944.8,747.563 1944.58,740.778 1944.28,733.996 \n  1943.92,727.217 1943.49,720.442 1942.99,713.671 1942.42,706.906 1941.79,700.147 1941.09,693.395 1940.32,686.65 1939.49,679.912 1938.58,673.184 1937.61,666.465 \n  1936.58,659.756 1935.47,653.058 1934.3,646.371 1933.06,639.696 1931.76,633.034 1930.39,626.385 1928.95,619.751 1927.44,613.131 1925.87,606.526 1924.24,599.938 \n  1922.54,593.366 1920.77,586.811 1918.94,580.275 1917.04,573.757 1915.07,567.258 1913.05,560.78 1910.95,554.322 1908.8,547.885 1906.57,541.47 1904.29,535.078 \n  1901.94,528.709 1899.53,522.363 1897.05,516.042 1894.51,509.747 1891.91,503.477 1889.24,497.233 1886.51,491.016 1883.73,484.827 1880.87,478.666 1877.96,472.534 \n  1874.99,466.431 1871.95,460.358 1868.86,454.316 1865.7,448.305 1862.49,442.326 1859.21,436.38 1855.88,430.466 1852.49,424.587 1849.03,418.741 1845.52,412.93 \n  1841.96,407.155 1838.33,401.415 1834.65,395.713 1830.91,390.047 1827.11,384.419 1823.26,378.829 1819.35,373.278 1815.39,367.766 1811.37,362.294 1807.3,356.863 \n  1803.17,351.473 1798.99,346.124 1794.76,340.817 1790.47,335.553 1786.13,330.332 1781.74,325.155 1777.3,320.022 1772.8,314.933 1768.26,309.89 1763.66,304.892 \n  1759.02,299.941 1754.33,295.036 1749.58,290.179 1744.79,285.369 1739.95,280.607 1735.07,275.894 1730.14,271.23 1725.16,266.615 1720.13,262.051 1715.06,257.537 \n  1709.94,253.074 1704.78,248.662 1699.58,244.303 1694.33,239.995 1689.04,235.74 1683.71,231.538 1678.34,227.39 1672.92,223.296 1667.47,219.256 1661.97,215.271 \n  1656.44,211.341 1650.86,207.466 1645.25,203.648 1639.6,199.885 1633.91,196.18 1628.19,192.532 1622.42,188.94 1616.63,185.407 1610.8,181.932 1604.93,178.516 \n  1599.03,175.158 1593.1,171.859 1587.13,168.62 1581.13,165.441 1575.1,162.322 1569.04,159.263 1562.95,156.265 1556.83,153.328 1550.68,150.453 1544.5,147.639 \n  1538.3,144.887 1532.06,142.197 1525.8,139.57 1519.52,137.005 1513.21,134.504 1506.87,132.065 1500.51,129.69 1494.13,127.379 1487.72,125.132 1481.29,122.949 \n  1474.84,120.83 1468.37,118.776 1461.88,116.787 1455.37,114.863 1448.84,113.004 1442.3,111.21 1435.73,109.482 1429.15,107.82 1422.55,106.223 1415.94,104.693 \n  1409.31,103.228 1402.67,101.831 1396.01,100.499 1389.34,99.2346 1382.66,98.0367 1375.96,96.9057 1369.26,95.8416 1362.54,94.8446 1355.82,93.9149 1349.08,93.0524 \n  1342.34,92.2573 1335.59,91.5297 1328.84,90.8696 1322.07,90.2771 1315.31,89.7523 1308.53,89.2951 1301.75,88.9057 1294.97,88.5842 1288.19,88.3304 1281.4,88.1445 \n  1274.62,88.0264 1267.83,87.9763 1261.04,87.994 1254.25,88.0796 1247.46,88.2331 1240.68,88.4544 1233.9,88.7436 1227.12,89.1006 1220.34,89.5254 1213.57,90.0179 \n  1206.8,90.5781 1200.05,91.2059 1193.29,91.9013 1186.55,92.6641 1179.81,93.4944 1173.08,94.392 1166.36,95.3569 1159.65,96.3889 1152.95,97.4879 1146.26,98.6539 \n  1139.59,99.8867 1132.92,101.186 1126.27,102.552 1119.64,103.985 1113.02,105.484 1106.41,107.049 1099.82,108.679 1093.25,110.376 1086.69,112.138 1080.15,113.966 \n  1073.64,115.859 1067.14,117.818 1060.65,119.841 1054.2,121.929 1047.76,124.081 1041.34,126.297 1034.95,128.578 1028.58,130.923 1022.23,133.331 1015.9,135.802 \n  1009.61,138.337 1003.34,140.934 997.089,143.594 990.87,146.316 984.679,149.101 978.516,151.947 972.381,154.854 966.276,157.823 960.201,160.853 954.156,163.943 \n  948.143,167.094 942.161,170.304 936.212,173.574 930.296,176.904 924.414,180.292 918.565,183.74 912.752,187.245 906.974,190.809 901.231,194.43 895.525,198.108 \n  889.857,201.843 884.226,205.635 878.633,209.483 873.079,213.386 867.564,217.345 862.089,221.359 856.654,225.427 851.261,229.55 845.908,233.726 840.598,237.955 \n  835.331,242.238 830.106,246.573 824.925,250.96 819.789,255.398 814.697,259.888 809.65,264.428 804.649,269.019 799.693,273.659 794.785,278.349 789.924,283.087 \n  785.11,287.874 780.344,292.709 775.627,297.591 770.96,302.521 766.341,307.496 761.773,312.518 757.255,317.585 752.788,322.697 748.372,327.853 744.008,333.053 \n  739.696,338.297 735.437,343.583 731.231,348.912 727.079,354.282 722.98,359.694 718.936,365.147 714.946,370.639 711.012,376.172 707.133,381.743 703.31,387.353 \n  699.543,393.001 695.833,398.686 692.18,404.408 688.584,410.166 685.047,415.96 681.567,421.789 678.146,427.653 674.783,433.55 671.48,439.481 668.236,445.445 \n  665.052,451.44 661.928,457.467 658.864,463.526 655.862,469.614 652.92,475.732 650.04,481.88 647.221,488.055 644.464,494.259 641.769,500.49 639.137,506.748 \n  636.567,513.031 634.061,519.34 631.617,525.674 629.237,532.032 626.921,538.413 624.669,544.817 622.481,551.244 620.357,557.691 618.298,564.16 616.303,570.649 \n  614.374,577.158 612.509,583.686 610.711,590.232 608.977,596.795 607.31,603.376 605.708,609.973 604.172,616.586 602.703,623.214 601.3,629.856 599.963,636.511 \n  598.693,643.18 597.49,649.862 596.353,656.554 595.284,663.258 594.282,669.973 593.347,676.697 592.479,683.43 591.678,690.171 590.945,696.92 590.28,703.676 \n  589.682,710.438 589.152,717.206 588.689,723.979 588.294,730.756 587.967,737.537 587.708,744.321 587.517,751.107 587.393,757.894 587.338,764.683 \n  \"/>\n</svg>\n",
      "text/html": [
       "<?xml version=\"1.0\" encoding=\"utf-8\"?>\n",
       "<svg xmlns=\"http://www.w3.org/2000/svg\" xmlns:xlink=\"http://www.w3.org/1999/xlink\" width=\"600\" height=\"400\" viewBox=\"0 0 2400 1600\">\n",
       "<defs>\n",
       "  <clipPath id=\"clip810\">\n",
       "    <rect x=\"0\" y=\"0\" width=\"2400\" height=\"1600\"/>\n",
       "  </clipPath>\n",
       "</defs>\n",
       "<path clip-path=\"url(#clip810)\" d=\"\n",
       "M0 1600 L2400 1600 L2400 0 L0 0  Z\n",
       "  \" fill=\"#ffffff\" fill-rule=\"evenodd\" fill-opacity=\"1\"/>\n",
       "<defs>\n",
       "  <clipPath id=\"clip811\">\n",
       "    <rect x=\"480\" y=\"0\" width=\"1681\" height=\"1600\"/>\n",
       "  </clipPath>\n",
       "</defs>\n",
       "<path clip-path=\"url(#clip810)\" d=\"\n",
       "M179.654 1486.45 L2352.76 1486.45 L2352.76 47.2441 L179.654 47.2441  Z\n",
       "  \" fill=\"#ffffff\" fill-rule=\"evenodd\" fill-opacity=\"1\"/>\n",
       "<defs>\n",
       "  <clipPath id=\"clip812\">\n",
       "    <rect x=\"179\" y=\"47\" width=\"2174\" height=\"1440\"/>\n",
       "  </clipPath>\n",
       "</defs>\n",
       "<polyline clip-path=\"url(#clip812)\" style=\"stroke:#000000; stroke-width:2; stroke-opacity:0.1; fill:none\" points=\"\n",
       "  247.899,1486.45 247.899,47.2441 \n",
       "  \"/>\n",
       "<polyline clip-path=\"url(#clip812)\" style=\"stroke:#000000; stroke-width:2; stroke-opacity:0.1; fill:none\" points=\"\n",
       "  587.334,1486.45 587.334,47.2441 \n",
       "  \"/>\n",
       "<polyline clip-path=\"url(#clip812)\" style=\"stroke:#000000; stroke-width:2; stroke-opacity:0.1; fill:none\" points=\"\n",
       "  926.77,1486.45 926.77,47.2441 \n",
       "  \"/>\n",
       "<polyline clip-path=\"url(#clip812)\" style=\"stroke:#000000; stroke-width:2; stroke-opacity:0.1; fill:none\" points=\"\n",
       "  1266.21,1486.45 1266.21,47.2441 \n",
       "  \"/>\n",
       "<polyline clip-path=\"url(#clip812)\" style=\"stroke:#000000; stroke-width:2; stroke-opacity:0.1; fill:none\" points=\"\n",
       "  1605.64,1486.45 1605.64,47.2441 \n",
       "  \"/>\n",
       "<polyline clip-path=\"url(#clip812)\" style=\"stroke:#000000; stroke-width:2; stroke-opacity:0.1; fill:none\" points=\"\n",
       "  1945.08,1486.45 1945.08,47.2441 \n",
       "  \"/>\n",
       "<polyline clip-path=\"url(#clip812)\" style=\"stroke:#000000; stroke-width:2; stroke-opacity:0.1; fill:none\" points=\"\n",
       "  2284.51,1486.45 2284.51,47.2441 \n",
       "  \"/>\n",
       "<polyline clip-path=\"url(#clip810)\" style=\"stroke:#000000; stroke-width:4; stroke-opacity:1; fill:none\" points=\"\n",
       "  179.654,1486.45 2352.76,1486.45 \n",
       "  \"/>\n",
       "<polyline clip-path=\"url(#clip810)\" style=\"stroke:#000000; stroke-width:4; stroke-opacity:1; fill:none\" points=\"\n",
       "  247.899,1486.45 247.899,1469.18 \n",
       "  \"/>\n",
       "<polyline clip-path=\"url(#clip810)\" style=\"stroke:#000000; stroke-width:4; stroke-opacity:1; fill:none\" points=\"\n",
       "  587.334,1486.45 587.334,1469.18 \n",
       "  \"/>\n",
       "<polyline clip-path=\"url(#clip810)\" style=\"stroke:#000000; stroke-width:4; stroke-opacity:1; fill:none\" points=\"\n",
       "  926.77,1486.45 926.77,1469.18 \n",
       "  \"/>\n",
       "<polyline clip-path=\"url(#clip810)\" style=\"stroke:#000000; stroke-width:4; stroke-opacity:1; fill:none\" points=\"\n",
       "  1266.21,1486.45 1266.21,1469.18 \n",
       "  \"/>\n",
       "<polyline clip-path=\"url(#clip810)\" style=\"stroke:#000000; stroke-width:4; stroke-opacity:1; fill:none\" points=\"\n",
       "  1605.64,1486.45 1605.64,1469.18 \n",
       "  \"/>\n",
       "<polyline clip-path=\"url(#clip810)\" style=\"stroke:#000000; stroke-width:4; stroke-opacity:1; fill:none\" points=\"\n",
       "  1945.08,1486.45 1945.08,1469.18 \n",
       "  \"/>\n",
       "<polyline clip-path=\"url(#clip810)\" style=\"stroke:#000000; stroke-width:4; stroke-opacity:1; fill:none\" points=\"\n",
       "  2284.51,1486.45 2284.51,1469.18 \n",
       "  \"/>\n",
       "<path clip-path=\"url(#clip810)\" d=\"M 0 0 M202.182 1530.29 L231.857 1530.29 L231.857 1534.23 L202.182 1534.23 L202.182 1530.29 Z\" fill=\"#000000\" fill-rule=\"evenodd\" fill-opacity=\"1\" /><path clip-path=\"url(#clip810)\" d=\"M 0 0 M237.737 1543.18 L245.376 1543.18 L245.376 1516.82 L237.066 1518.49 L237.066 1514.23 L245.33 1512.56 L250.006 1512.56 L250.006 1543.18 L257.644 1543.18 L257.644 1547.12 L237.737 1547.12 L237.737 1543.18 Z\" fill=\"#000000\" fill-rule=\"evenodd\" fill-opacity=\"1\" /><path clip-path=\"url(#clip810)\" d=\"M 0 0 M262.714 1541.24 L267.598 1541.24 L267.598 1547.12 L262.714 1547.12 L262.714 1541.24 Z\" fill=\"#000000\" fill-rule=\"evenodd\" fill-opacity=\"1\" /><path clip-path=\"url(#clip810)\" d=\"M 0 0 M272.714 1512.56 L291.07 1512.56 L291.07 1516.5 L276.996 1516.5 L276.996 1524.97 Q278.015 1524.62 279.033 1524.46 Q280.052 1524.27 281.07 1524.27 Q286.857 1524.27 290.237 1527.44 Q293.616 1530.62 293.616 1536.03 Q293.616 1541.61 290.144 1544.71 Q286.672 1547.79 280.353 1547.79 Q278.177 1547.79 275.908 1547.42 Q273.663 1547.05 271.255 1546.31 L271.255 1541.61 Q273.339 1542.74 275.561 1543.3 Q277.783 1543.86 280.26 1543.86 Q284.265 1543.86 286.603 1541.75 Q288.94 1539.64 288.94 1536.03 Q288.94 1532.42 286.603 1530.31 Q284.265 1528.21 280.26 1528.21 Q278.385 1528.21 276.51 1528.62 Q274.658 1529.04 272.714 1529.92 L272.714 1512.56 Z\" fill=\"#000000\" fill-rule=\"evenodd\" fill-opacity=\"1\" /><path clip-path=\"url(#clip810)\" d=\"M 0 0 M541.119 1530.29 L570.795 1530.29 L570.795 1534.23 L541.119 1534.23 L541.119 1530.29 Z\" fill=\"#000000\" fill-rule=\"evenodd\" fill-opacity=\"1\" /><path clip-path=\"url(#clip810)\" d=\"M 0 0 M576.675 1543.18 L584.314 1543.18 L584.314 1516.82 L576.003 1518.49 L576.003 1514.23 L584.267 1512.56 L588.943 1512.56 L588.943 1543.18 L596.582 1543.18 L596.582 1547.12 L576.675 1547.12 L576.675 1543.18 Z\" fill=\"#000000\" fill-rule=\"evenodd\" fill-opacity=\"1\" /><path clip-path=\"url(#clip810)\" d=\"M 0 0 M601.651 1541.24 L606.536 1541.24 L606.536 1547.12 L601.651 1547.12 L601.651 1541.24 Z\" fill=\"#000000\" fill-rule=\"evenodd\" fill-opacity=\"1\" /><path clip-path=\"url(#clip810)\" d=\"M 0 0 M621.605 1515.64 Q617.994 1515.64 616.165 1519.2 Q614.36 1522.75 614.36 1529.87 Q614.36 1536.98 616.165 1540.55 Q617.994 1544.09 621.605 1544.09 Q625.239 1544.09 627.045 1540.55 Q628.874 1536.98 628.874 1529.87 Q628.874 1522.75 627.045 1519.2 Q625.239 1515.64 621.605 1515.64 M621.605 1511.93 Q627.415 1511.93 630.471 1516.54 Q633.549 1521.12 633.549 1529.87 Q633.549 1538.6 630.471 1543.21 Q627.415 1547.79 621.605 1547.79 Q615.795 1547.79 612.716 1543.21 Q609.661 1538.6 609.661 1529.87 Q609.661 1521.12 612.716 1516.54 Q615.795 1511.93 621.605 1511.93 Z\" fill=\"#000000\" fill-rule=\"evenodd\" fill-opacity=\"1\" /><path clip-path=\"url(#clip810)\" d=\"M 0 0 M880.439 1530.29 L910.115 1530.29 L910.115 1534.23 L880.439 1534.23 L880.439 1530.29 Z\" fill=\"#000000\" fill-rule=\"evenodd\" fill-opacity=\"1\" /><path clip-path=\"url(#clip810)\" d=\"M 0 0 M925.184 1515.64 Q921.573 1515.64 919.744 1519.2 Q917.939 1522.75 917.939 1529.87 Q917.939 1536.98 919.744 1540.55 Q921.573 1544.09 925.184 1544.09 Q928.818 1544.09 930.624 1540.55 Q932.453 1536.98 932.453 1529.87 Q932.453 1522.75 930.624 1519.2 Q928.818 1515.64 925.184 1515.64 M925.184 1511.93 Q930.994 1511.93 934.05 1516.54 Q937.129 1521.12 937.129 1529.87 Q937.129 1538.6 934.05 1543.21 Q930.994 1547.79 925.184 1547.79 Q919.374 1547.79 916.295 1543.21 Q913.24 1538.6 913.24 1529.87 Q913.24 1521.12 916.295 1516.54 Q919.374 1511.93 925.184 1511.93 Z\" fill=\"#000000\" fill-rule=\"evenodd\" fill-opacity=\"1\" /><path clip-path=\"url(#clip810)\" d=\"M 0 0 M942.198 1541.24 L947.082 1541.24 L947.082 1547.12 L942.198 1547.12 L942.198 1541.24 Z\" fill=\"#000000\" fill-rule=\"evenodd\" fill-opacity=\"1\" /><path clip-path=\"url(#clip810)\" d=\"M 0 0 M952.198 1512.56 L970.554 1512.56 L970.554 1516.5 L956.48 1516.5 L956.48 1524.97 Q957.499 1524.62 958.517 1524.46 Q959.536 1524.27 960.554 1524.27 Q966.341 1524.27 969.721 1527.44 Q973.101 1530.62 973.101 1536.03 Q973.101 1541.61 969.628 1544.71 Q966.156 1547.79 959.837 1547.79 Q957.661 1547.79 955.392 1547.42 Q953.147 1547.05 950.74 1546.31 L950.74 1541.61 Q952.823 1542.74 955.045 1543.3 Q957.267 1543.86 959.744 1543.86 Q963.749 1543.86 966.087 1541.75 Q968.425 1539.64 968.425 1536.03 Q968.425 1532.42 966.087 1530.31 Q963.749 1528.21 959.744 1528.21 Q957.869 1528.21 955.994 1528.62 Q954.142 1529.04 952.198 1529.92 L952.198 1512.56 Z\" fill=\"#000000\" fill-rule=\"evenodd\" fill-opacity=\"1\" /><path clip-path=\"url(#clip810)\" d=\"M 0 0 M1247.72 1515.64 Q1244.11 1515.64 1242.28 1519.2 Q1240.48 1522.75 1240.48 1529.87 Q1240.48 1536.98 1242.28 1540.55 Q1244.11 1544.09 1247.72 1544.09 Q1251.36 1544.09 1253.16 1540.55 Q1254.99 1536.98 1254.99 1529.87 Q1254.99 1522.75 1253.16 1519.2 Q1251.36 1515.64 1247.72 1515.64 M1247.72 1511.93 Q1253.53 1511.93 1256.59 1516.54 Q1259.67 1521.12 1259.67 1529.87 Q1259.67 1538.6 1256.59 1543.21 Q1253.53 1547.79 1247.72 1547.79 Q1241.91 1547.79 1238.83 1543.21 Q1235.78 1538.6 1235.78 1529.87 Q1235.78 1521.12 1238.83 1516.54 Q1241.91 1511.93 1247.72 1511.93 Z\" fill=\"#000000\" fill-rule=\"evenodd\" fill-opacity=\"1\" /><path clip-path=\"url(#clip810)\" d=\"M 0 0 M1264.74 1541.24 L1269.62 1541.24 L1269.62 1547.12 L1264.74 1547.12 L1264.74 1541.24 Z\" fill=\"#000000\" fill-rule=\"evenodd\" fill-opacity=\"1\" /><path clip-path=\"url(#clip810)\" d=\"M 0 0 M1284.69 1515.64 Q1281.08 1515.64 1279.25 1519.2 Q1277.44 1522.75 1277.44 1529.87 Q1277.44 1536.98 1279.25 1540.55 Q1281.08 1544.09 1284.69 1544.09 Q1288.32 1544.09 1290.13 1540.55 Q1291.96 1536.98 1291.96 1529.87 Q1291.96 1522.75 1290.13 1519.2 Q1288.32 1515.64 1284.69 1515.64 M1284.69 1511.93 Q1290.5 1511.93 1293.55 1516.54 Q1296.63 1521.12 1296.63 1529.87 Q1296.63 1538.6 1293.55 1543.21 Q1290.5 1547.79 1284.69 1547.79 Q1278.88 1547.79 1275.8 1543.21 Q1272.74 1538.6 1272.74 1529.87 Q1272.74 1521.12 1275.8 1516.54 Q1278.88 1511.93 1284.69 1511.93 Z\" fill=\"#000000\" fill-rule=\"evenodd\" fill-opacity=\"1\" /><path clip-path=\"url(#clip810)\" d=\"M 0 0 M1587.65 1515.64 Q1584.04 1515.64 1582.21 1519.2 Q1580.41 1522.75 1580.41 1529.87 Q1580.41 1536.98 1582.21 1540.55 Q1584.04 1544.09 1587.65 1544.09 Q1591.29 1544.09 1593.09 1540.55 Q1594.92 1536.98 1594.92 1529.87 Q1594.92 1522.75 1593.09 1519.2 Q1591.29 1515.64 1587.65 1515.64 M1587.65 1511.93 Q1593.46 1511.93 1596.52 1516.54 Q1599.6 1521.12 1599.6 1529.87 Q1599.6 1538.6 1596.52 1543.21 Q1593.46 1547.79 1587.65 1547.79 Q1581.84 1547.79 1578.77 1543.21 Q1575.71 1538.6 1575.71 1529.87 Q1575.71 1521.12 1578.77 1516.54 Q1581.84 1511.93 1587.65 1511.93 Z\" fill=\"#000000\" fill-rule=\"evenodd\" fill-opacity=\"1\" /><path clip-path=\"url(#clip810)\" d=\"M 0 0 M1604.67 1541.24 L1609.55 1541.24 L1609.55 1547.12 L1604.67 1547.12 L1604.67 1541.24 Z\" fill=\"#000000\" fill-rule=\"evenodd\" fill-opacity=\"1\" /><path clip-path=\"url(#clip810)\" d=\"M 0 0 M1614.67 1512.56 L1633.02 1512.56 L1633.02 1516.5 L1618.95 1516.5 L1618.95 1524.97 Q1619.97 1524.62 1620.99 1524.46 Q1622.01 1524.27 1623.02 1524.27 Q1628.81 1524.27 1632.19 1527.44 Q1635.57 1530.62 1635.57 1536.03 Q1635.57 1541.61 1632.1 1544.71 Q1628.63 1547.79 1622.31 1547.79 Q1620.13 1547.79 1617.86 1547.42 Q1615.62 1547.05 1613.21 1546.31 L1613.21 1541.61 Q1615.29 1542.74 1617.52 1543.3 Q1619.74 1543.86 1622.21 1543.86 Q1626.22 1543.86 1628.56 1541.75 Q1630.9 1539.64 1630.9 1536.03 Q1630.9 1532.42 1628.56 1530.31 Q1626.22 1528.21 1622.21 1528.21 Q1620.34 1528.21 1618.46 1528.62 Q1616.61 1529.04 1614.67 1529.92 L1614.67 1512.56 Z\" fill=\"#000000\" fill-rule=\"evenodd\" fill-opacity=\"1\" /><path clip-path=\"url(#clip810)\" d=\"M 0 0 M1916.97 1543.18 L1924.61 1543.18 L1924.61 1516.82 L1916.3 1518.49 L1916.3 1514.23 L1924.57 1512.56 L1929.24 1512.56 L1929.24 1543.18 L1936.88 1543.18 L1936.88 1547.12 L1916.97 1547.12 L1916.97 1543.18 Z\" fill=\"#000000\" fill-rule=\"evenodd\" fill-opacity=\"1\" /><path clip-path=\"url(#clip810)\" d=\"M 0 0 M1941.95 1541.24 L1946.84 1541.24 L1946.84 1547.12 L1941.95 1547.12 L1941.95 1541.24 Z\" fill=\"#000000\" fill-rule=\"evenodd\" fill-opacity=\"1\" /><path clip-path=\"url(#clip810)\" d=\"M 0 0 M1961.9 1515.64 Q1958.29 1515.64 1956.46 1519.2 Q1954.66 1522.75 1954.66 1529.87 Q1954.66 1536.98 1956.46 1540.55 Q1958.29 1544.09 1961.9 1544.09 Q1965.54 1544.09 1967.34 1540.55 Q1969.17 1536.98 1969.17 1529.87 Q1969.17 1522.75 1967.34 1519.2 Q1965.54 1515.64 1961.9 1515.64 M1961.9 1511.93 Q1967.71 1511.93 1970.77 1516.54 Q1973.85 1521.12 1973.85 1529.87 Q1973.85 1538.6 1970.77 1543.21 Q1967.71 1547.79 1961.9 1547.79 Q1956.09 1547.79 1953.02 1543.21 Q1949.96 1538.6 1949.96 1529.87 Q1949.96 1521.12 1953.02 1516.54 Q1956.09 1511.93 1961.9 1511.93 Z\" fill=\"#000000\" fill-rule=\"evenodd\" fill-opacity=\"1\" /><path clip-path=\"url(#clip810)\" d=\"M 0 0 M2256.91 1543.18 L2264.55 1543.18 L2264.55 1516.82 L2256.24 1518.49 L2256.24 1514.23 L2264.5 1512.56 L2269.18 1512.56 L2269.18 1543.18 L2276.81 1543.18 L2276.81 1547.12 L2256.91 1547.12 L2256.91 1543.18 Z\" fill=\"#000000\" fill-rule=\"evenodd\" fill-opacity=\"1\" /><path clip-path=\"url(#clip810)\" d=\"M 0 0 M2281.88 1541.24 L2286.77 1541.24 L2286.77 1547.12 L2281.88 1547.12 L2281.88 1541.24 Z\" fill=\"#000000\" fill-rule=\"evenodd\" fill-opacity=\"1\" /><path clip-path=\"url(#clip810)\" d=\"M 0 0 M2291.88 1512.56 L2310.24 1512.56 L2310.24 1516.5 L2296.17 1516.5 L2296.17 1524.97 Q2297.18 1524.62 2298.2 1524.46 Q2299.22 1524.27 2300.24 1524.27 Q2306.03 1524.27 2309.41 1527.44 Q2312.79 1530.62 2312.79 1536.03 Q2312.79 1541.61 2309.31 1544.71 Q2305.84 1547.79 2299.52 1547.79 Q2297.35 1547.79 2295.08 1547.42 Q2292.83 1547.05 2290.43 1546.31 L2290.43 1541.61 Q2292.51 1542.74 2294.73 1543.3 Q2296.95 1543.86 2299.43 1543.86 Q2303.43 1543.86 2305.77 1541.75 Q2308.11 1539.64 2308.11 1536.03 Q2308.11 1532.42 2305.77 1530.31 Q2303.43 1528.21 2299.43 1528.21 Q2297.56 1528.21 2295.68 1528.62 Q2293.83 1529.04 2291.88 1529.92 L2291.88 1512.56 Z\" fill=\"#000000\" fill-rule=\"evenodd\" fill-opacity=\"1\" /><polyline clip-path=\"url(#clip812)\" style=\"stroke:#000000; stroke-width:2; stroke-opacity:0.1; fill:none\" points=\"\n",
       "  179.654,1445.72 2352.76,1445.72 \n",
       "  \"/>\n",
       "<polyline clip-path=\"url(#clip812)\" style=\"stroke:#000000; stroke-width:2; stroke-opacity:0.1; fill:none\" points=\"\n",
       "  179.654,1106.28 2352.76,1106.28 \n",
       "  \"/>\n",
       "<polyline clip-path=\"url(#clip812)\" style=\"stroke:#000000; stroke-width:2; stroke-opacity:0.1; fill:none\" points=\"\n",
       "  179.654,766.845 2352.76,766.845 \n",
       "  \"/>\n",
       "<polyline clip-path=\"url(#clip812)\" style=\"stroke:#000000; stroke-width:2; stroke-opacity:0.1; fill:none\" points=\"\n",
       "  179.654,427.41 2352.76,427.41 \n",
       "  \"/>\n",
       "<polyline clip-path=\"url(#clip812)\" style=\"stroke:#000000; stroke-width:2; stroke-opacity:0.1; fill:none\" points=\"\n",
       "  179.654,87.9743 2352.76,87.9743 \n",
       "  \"/>\n",
       "<polyline clip-path=\"url(#clip810)\" style=\"stroke:#000000; stroke-width:4; stroke-opacity:1; fill:none\" points=\"\n",
       "  179.654,1486.45 179.654,47.2441 \n",
       "  \"/>\n",
       "<polyline clip-path=\"url(#clip810)\" style=\"stroke:#000000; stroke-width:4; stroke-opacity:1; fill:none\" points=\"\n",
       "  179.654,1445.72 205.731,1445.72 \n",
       "  \"/>\n",
       "<polyline clip-path=\"url(#clip810)\" style=\"stroke:#000000; stroke-width:4; stroke-opacity:1; fill:none\" points=\"\n",
       "  179.654,1106.28 205.731,1106.28 \n",
       "  \"/>\n",
       "<polyline clip-path=\"url(#clip810)\" style=\"stroke:#000000; stroke-width:4; stroke-opacity:1; fill:none\" points=\"\n",
       "  179.654,766.845 205.731,766.845 \n",
       "  \"/>\n",
       "<polyline clip-path=\"url(#clip810)\" style=\"stroke:#000000; stroke-width:4; stroke-opacity:1; fill:none\" points=\"\n",
       "  179.654,427.41 205.731,427.41 \n",
       "  \"/>\n",
       "<polyline clip-path=\"url(#clip810)\" style=\"stroke:#000000; stroke-width:4; stroke-opacity:1; fill:none\" points=\"\n",
       "  179.654,87.9743 205.731,87.9743 \n",
       "  \"/>\n",
       "<path clip-path=\"url(#clip810)\" d=\"M 0 0 M51.2236 1446.17 L80.8994 1446.17 L80.8994 1450.1 L51.2236 1450.1 L51.2236 1446.17 Z\" fill=\"#000000\" fill-rule=\"evenodd\" fill-opacity=\"1\" /><path clip-path=\"url(#clip810)\" d=\"M 0 0 M86.779 1459.06 L94.4178 1459.06 L94.4178 1432.7 L86.1077 1434.36 L86.1077 1430.1 L94.3715 1428.44 L99.0474 1428.44 L99.0474 1459.06 L106.686 1459.06 L106.686 1463 L86.779 1463 L86.779 1459.06 Z\" fill=\"#000000\" fill-rule=\"evenodd\" fill-opacity=\"1\" /><path clip-path=\"url(#clip810)\" d=\"M 0 0 M111.756 1457.12 L116.64 1457.12 L116.64 1463 L111.756 1463 L111.756 1457.12 Z\" fill=\"#000000\" fill-rule=\"evenodd\" fill-opacity=\"1\" /><path clip-path=\"url(#clip810)\" d=\"M 0 0 M131.709 1431.51 Q128.098 1431.51 126.27 1435.08 Q124.464 1438.62 124.464 1445.75 Q124.464 1452.86 126.27 1456.42 Q128.098 1459.96 131.709 1459.96 Q135.344 1459.96 137.149 1456.42 Q138.978 1452.86 138.978 1445.75 Q138.978 1438.62 137.149 1435.08 Q135.344 1431.51 131.709 1431.51 M131.709 1427.81 Q137.519 1427.81 140.575 1432.42 Q143.654 1437 143.654 1445.75 Q143.654 1454.48 140.575 1459.08 Q137.519 1463.67 131.709 1463.67 Q125.899 1463.67 122.82 1459.08 Q119.765 1454.48 119.765 1445.75 Q119.765 1437 122.82 1432.42 Q125.899 1427.81 131.709 1427.81 Z\" fill=\"#000000\" fill-rule=\"evenodd\" fill-opacity=\"1\" /><path clip-path=\"url(#clip810)\" d=\"M 0 0 M50.9921 1106.73 L80.6679 1106.73 L80.6679 1110.67 L50.9921 1110.67 L50.9921 1106.73 Z\" fill=\"#000000\" fill-rule=\"evenodd\" fill-opacity=\"1\" /><path clip-path=\"url(#clip810)\" d=\"M 0 0 M95.7373 1092.08 Q92.1262 1092.08 90.2975 1095.64 Q88.4919 1099.19 88.4919 1106.32 Q88.4919 1113.42 90.2975 1116.99 Q92.1262 1120.53 95.7373 1120.53 Q99.3715 1120.53 101.177 1116.99 Q103.006 1113.42 103.006 1106.32 Q103.006 1099.19 101.177 1095.64 Q99.3715 1092.08 95.7373 1092.08 M95.7373 1088.38 Q101.547 1088.38 104.603 1092.98 Q107.682 1097.57 107.682 1106.32 Q107.682 1115.04 104.603 1119.65 Q101.547 1124.23 95.7373 1124.23 Q89.9271 1124.23 86.8484 1119.65 Q83.7929 1115.04 83.7929 1106.32 Q83.7929 1097.57 86.8484 1092.98 Q89.9271 1088.38 95.7373 1088.38 Z\" fill=\"#000000\" fill-rule=\"evenodd\" fill-opacity=\"1\" /><path clip-path=\"url(#clip810)\" d=\"M 0 0 M112.751 1117.68 L117.635 1117.68 L117.635 1123.56 L112.751 1123.56 L112.751 1117.68 Z\" fill=\"#000000\" fill-rule=\"evenodd\" fill-opacity=\"1\" /><path clip-path=\"url(#clip810)\" d=\"M 0 0 M122.751 1089 L141.107 1089 L141.107 1092.94 L127.033 1092.94 L127.033 1101.41 Q128.052 1101.06 129.07 1100.9 Q130.089 1100.71 131.107 1100.71 Q136.894 1100.71 140.274 1103.88 Q143.654 1107.06 143.654 1112.47 Q143.654 1118.05 140.181 1121.15 Q136.709 1124.23 130.39 1124.23 Q128.214 1124.23 125.945 1123.86 Q123.7 1123.49 121.293 1122.75 L121.293 1118.05 Q123.376 1119.19 125.598 1119.74 Q127.82 1120.3 130.297 1120.3 Q134.302 1120.3 136.64 1118.19 Q138.978 1116.08 138.978 1112.47 Q138.978 1108.86 136.64 1106.76 Q134.302 1104.65 130.297 1104.65 Q128.422 1104.65 126.547 1105.07 Q124.695 1105.48 122.751 1106.36 L122.751 1089 Z\" fill=\"#000000\" fill-rule=\"evenodd\" fill-opacity=\"1\" /><path clip-path=\"url(#clip810)\" d=\"M 0 0 M94.7419 752.644 Q91.1308 752.644 89.3021 756.209 Q87.4966 759.75 87.4966 766.88 Q87.4966 773.986 89.3021 777.551 Q91.1308 781.093 94.7419 781.093 Q98.3761 781.093 100.182 777.551 Q102.01 773.986 102.01 766.88 Q102.01 759.75 100.182 756.209 Q98.3761 752.644 94.7419 752.644 M94.7419 748.94 Q100.552 748.94 103.608 753.547 Q106.686 758.13 106.686 766.88 Q106.686 775.607 103.608 780.213 Q100.552 784.796 94.7419 784.796 Q88.9317 784.796 85.8531 780.213 Q82.7975 775.607 82.7975 766.88 Q82.7975 758.13 85.8531 753.547 Q88.9317 748.94 94.7419 748.94 Z\" fill=\"#000000\" fill-rule=\"evenodd\" fill-opacity=\"1\" /><path clip-path=\"url(#clip810)\" d=\"M 0 0 M111.756 778.246 L116.64 778.246 L116.64 784.125 L111.756 784.125 L111.756 778.246 Z\" fill=\"#000000\" fill-rule=\"evenodd\" fill-opacity=\"1\" /><path clip-path=\"url(#clip810)\" d=\"M 0 0 M131.709 752.644 Q128.098 752.644 126.27 756.209 Q124.464 759.75 124.464 766.88 Q124.464 773.986 126.27 777.551 Q128.098 781.093 131.709 781.093 Q135.344 781.093 137.149 777.551 Q138.978 773.986 138.978 766.88 Q138.978 759.75 137.149 756.209 Q135.344 752.644 131.709 752.644 M131.709 748.94 Q137.519 748.94 140.575 753.547 Q143.654 758.13 143.654 766.88 Q143.654 775.607 140.575 780.213 Q137.519 784.796 131.709 784.796 Q125.899 784.796 122.82 780.213 Q119.765 775.607 119.765 766.88 Q119.765 758.13 122.82 753.547 Q125.899 748.94 131.709 748.94 Z\" fill=\"#000000\" fill-rule=\"evenodd\" fill-opacity=\"1\" /><path clip-path=\"url(#clip810)\" d=\"M 0 0 M95.7373 413.208 Q92.1262 413.208 90.2975 416.773 Q88.4919 420.315 88.4919 427.444 Q88.4919 434.551 90.2975 438.116 Q92.1262 441.657 95.7373 441.657 Q99.3715 441.657 101.177 438.116 Q103.006 434.551 103.006 427.444 Q103.006 420.315 101.177 416.773 Q99.3715 413.208 95.7373 413.208 M95.7373 409.505 Q101.547 409.505 104.603 414.111 Q107.682 418.695 107.682 427.444 Q107.682 436.171 104.603 440.778 Q101.547 445.361 95.7373 445.361 Q89.9271 445.361 86.8484 440.778 Q83.7929 436.171 83.7929 427.444 Q83.7929 418.695 86.8484 414.111 Q89.9271 409.505 95.7373 409.505 Z\" fill=\"#000000\" fill-rule=\"evenodd\" fill-opacity=\"1\" /><path clip-path=\"url(#clip810)\" d=\"M 0 0 M112.751 438.81 L117.635 438.81 L117.635 444.69 L112.751 444.69 L112.751 438.81 Z\" fill=\"#000000\" fill-rule=\"evenodd\" fill-opacity=\"1\" /><path clip-path=\"url(#clip810)\" d=\"M 0 0 M122.751 410.13 L141.107 410.13 L141.107 414.065 L127.033 414.065 L127.033 422.537 Q128.052 422.19 129.07 422.028 Q130.089 421.843 131.107 421.843 Q136.894 421.843 140.274 425.014 Q143.654 428.185 143.654 433.602 Q143.654 439.181 140.181 442.282 Q136.709 445.361 130.39 445.361 Q128.214 445.361 125.945 444.991 Q123.7 444.62 121.293 443.88 L121.293 439.181 Q123.376 440.315 125.598 440.87 Q127.82 441.426 130.297 441.426 Q134.302 441.426 136.64 439.319 Q138.978 437.213 138.978 433.602 Q138.978 429.991 136.64 427.884 Q134.302 425.778 130.297 425.778 Q128.422 425.778 126.547 426.194 Q124.695 426.611 122.751 427.491 L122.751 410.13 Z\" fill=\"#000000\" fill-rule=\"evenodd\" fill-opacity=\"1\" /><path clip-path=\"url(#clip810)\" d=\"M 0 0 M86.779 101.319 L94.4178 101.319 L94.4178 74.9536 L86.1077 76.6202 L86.1077 72.361 L94.3715 70.6943 L99.0474 70.6943 L99.0474 101.319 L106.686 101.319 L106.686 105.254 L86.779 105.254 L86.779 101.319 Z\" fill=\"#000000\" fill-rule=\"evenodd\" fill-opacity=\"1\" /><path clip-path=\"url(#clip810)\" d=\"M 0 0 M111.756 99.3747 L116.64 99.3747 L116.64 105.254 L111.756 105.254 L111.756 99.3747 Z\" fill=\"#000000\" fill-rule=\"evenodd\" fill-opacity=\"1\" /><path clip-path=\"url(#clip810)\" d=\"M 0 0 M131.709 73.773 Q128.098 73.773 126.27 77.3378 Q124.464 80.8795 124.464 88.0091 Q124.464 95.1155 126.27 98.6803 Q128.098 102.222 131.709 102.222 Q135.344 102.222 137.149 98.6803 Q138.978 95.1155 138.978 88.0091 Q138.978 80.8795 137.149 77.3378 Q135.344 73.773 131.709 73.773 M131.709 70.0693 Q137.519 70.0693 140.575 74.6758 Q143.654 79.2591 143.654 88.0091 Q143.654 96.7359 140.575 101.342 Q137.519 105.926 131.709 105.926 Q125.899 105.926 122.82 101.342 Q119.765 96.7359 119.765 88.0091 Q119.765 79.2591 122.82 74.6758 Q125.899 70.0693 131.709 70.0693 Z\" fill=\"#000000\" fill-rule=\"evenodd\" fill-opacity=\"1\" /><polyline clip-path=\"url(#clip812)\" style=\"stroke:#009af9; stroke-width:4; stroke-opacity:1; fill:none\" points=\"\n",
       "  587.334,766.845 587.368,773.634 587.47,780.422 587.64,787.208 587.877,793.993 588.183,800.775 588.556,807.553 588.997,814.327 589.506,821.097 590.082,827.861 \n",
       "  590.726,834.619 591.437,841.37 592.216,848.114 593.063,854.85 593.977,861.577 594.957,868.294 596.005,875.002 597.121,881.698 598.302,888.383 599.551,895.056 \n",
       "  600.867,901.716 602.249,908.362 603.697,914.995 605.212,921.612 606.792,928.214 608.439,934.8 610.151,941.37 611.929,947.921 613.773,954.455 615.681,960.97 \n",
       "  617.655,967.465 619.694,973.941 621.797,980.395 623.965,986.828 626.197,993.24 628.493,999.628 630.852,1005.99 633.275,1012.34 635.762,1018.65 638.311,1024.94 \n",
       "  640.924,1031.21 643.599,1037.45 646.336,1043.66 649.135,1049.85 651.996,1056 654.918,1062.13 657.901,1068.23 660.946,1074.3 664.05,1080.33 667.215,1086.34 \n",
       "  670.44,1092.31 673.724,1098.25 677.068,1104.16 680.471,1110.04 683.932,1115.88 687.451,1121.68 691.028,1127.45 694.663,1133.19 698.355,1138.88 702.104,1144.54 \n",
       "  705.909,1150.16 709.77,1155.75 713.687,1161.29 717.659,1166.8 721.686,1172.26 725.767,1177.69 729.903,1183.07 734.092,1188.41 738.334,1193.71 742.629,1198.97 \n",
       "  746.976,1204.19 751.375,1209.36 755.826,1214.48 760.328,1219.56 764.88,1224.6 769.483,1229.59 774.135,1234.53 778.837,1239.43 783.587,1244.28 788.385,1249.08 \n",
       "  793.231,1253.84 798.125,1258.54 803.065,1263.2 808.052,1267.81 813.084,1272.36 818.162,1276.87 823.284,1281.32 828.451,1285.73 833.662,1290.08 838.916,1294.38 \n",
       "  844.212,1298.62 849.551,1302.82 854.932,1306.96 860.353,1311.04 865.815,1315.07 871.318,1319.05 876.859,1322.97 882.44,1326.84 888.059,1330.65 893.716,1334.4 \n",
       "  899.41,1338.1 905.141,1341.73 910.907,1345.32 916.71,1348.84 922.547,1352.31 928.419,1355.71 934.324,1359.06 940.263,1362.35 946.234,1365.58 952.237,1368.75 \n",
       "  958.272,1371.86 964.338,1374.91 970.433,1377.9 976.558,1380.82 982.713,1383.69 988.895,1386.49 995.105,1389.24 1001.34,1391.92 1007.61,1394.53 1013.9,1397.09 \n",
       "  1020.21,1399.58 1026.55,1402.01 1032.91,1404.37 1039.3,1406.67 1045.71,1408.91 1052.14,1411.08 1058.6,1413.19 1065.07,1415.24 1071.56,1417.21 1078.08,1419.13 \n",
       "  1084.61,1420.98 1091.16,1422.76 1097.73,1424.48 1104.31,1426.13 1110.91,1427.72 1117.53,1429.24 1124.16,1430.69 1130.8,1432.08 1137.46,1433.4 1144.14,1434.65 \n",
       "  1150.82,1435.84 1157.52,1436.96 1164.22,1438.01 1170.94,1439 1177.66,1439.92 1184.4,1440.77 1191.14,1441.55 1197.89,1442.27 1204.65,1442.92 1211.41,1443.5 \n",
       "  1218.18,1444.02 1224.96,1444.46 1231.74,1444.84 1238.52,1445.15 1245.3,1445.39 1252.09,1445.57 1258.88,1445.68 1265.66,1445.72 1272.45,1445.69 1279.24,1445.59 \n",
       "  1286.03,1445.43 1292.81,1445.19 1299.59,1444.89 1306.37,1444.53 1313.15,1444.09 1319.92,1443.59 1326.68,1443.02 1333.44,1442.38 1340.19,1441.67 1346.94,1440.9 \n",
       "  1353.67,1440.06 1360.4,1439.15 1367.12,1438.17 1373.83,1437.13 1380.53,1436.02 1387.21,1434.84 1393.89,1433.6 1400.55,1432.29 1407.19,1430.91 1413.83,1429.47 \n",
       "  1420.45,1427.96 1427.05,1426.39 1433.64,1424.74 1440.21,1423.04 1446.76,1421.27 1453.3,1419.43 1459.81,1417.52 1466.31,1415.55 1472.79,1413.52 1479.24,1411.42 \n",
       "  1485.68,1409.26 1492.09,1407.03 1498.48,1404.74 1504.85,1402.39 1511.19,1399.97 1517.51,1397.49 1523.8,1394.94 1530.07,1392.34 1536.31,1389.67 1542.53,1386.93 \n",
       "  1548.72,1384.14 1554.87,1381.28 1561,1378.37 1567.1,1375.39 1573.17,1372.35 1579.21,1369.25 1585.22,1366.09 1591.2,1362.87 1597.14,1359.59 1603.05,1356.25 \n",
       "  1608.93,1352.85 1614.77,1349.4 1620.58,1345.88 1626.35,1342.31 1632.09,1338.68 1637.79,1334.99 1643.45,1331.25 1649.08,1327.45 1654.66,1323.59 1660.21,1319.68 \n",
       "  1665.72,1315.71 1671.19,1311.69 1676.62,1307.61 1682.01,1303.48 1687.35,1299.29 1692.65,1295.06 1697.91,1290.77 1703.13,1286.42 1708.31,1282.03 1713.44,1277.58 \n",
       "  1718.52,1273.08 1723.56,1268.53 1728.55,1263.94 1733.5,1259.29 1738.4,1254.59 1743.26,1249.84 1748.06,1245.05 1752.82,1240.21 1757.53,1235.32 1762.19,1230.38 \n",
       "  1766.8,1225.4 1771.36,1220.37 1775.87,1215.29 1780.33,1210.18 1784.74,1205.01 1789.09,1199.8 1793.4,1194.55 1797.65,1189.26 1801.84,1183.93 1805.99,1178.55 \n",
       "  1810.08,1173.13 1814.11,1167.67 1818.09,1162.17 1822.02,1156.63 1825.89,1151.06 1829.7,1145.44 1833.46,1139.79 1837.16,1134.1 1840.81,1128.37 1844.39,1122.6 \n",
       "  1847.92,1116.8 1851.39,1110.97 1854.8,1105.1 1858.16,1099.2 1861.45,1093.26 1864.69,1087.29 1867.86,1081.29 1870.97,1075.26 1874.03,1069.2 1877.02,1063.1 \n",
       "  1879.95,1056.98 1882.82,1050.83 1885.63,1044.65 1888.38,1038.44 1891.06,1032.21 1893.69,1025.94 1896.25,1019.66 1898.74,1013.34 1901.18,1007.01 1903.55,1000.64 \n",
       "  1905.85,994.259 1908.09,987.851 1910.27,981.421 1912.39,974.97 1914.43,968.498 1916.42,962.006 1918.34,955.494 1920.19,948.963 1921.98,942.414 1923.7,935.848 \n",
       "  1925.36,929.265 1926.95,922.665 1928.48,916.05 1929.94,909.42 1931.33,902.775 1932.65,896.117 1933.91,889.447 1935.11,882.764 1936.23,876.069 1937.29,869.363 \n",
       "  1938.28,862.647 1939.21,855.922 1940.06,849.188 1940.85,842.445 1941.58,835.695 1942.23,828.938 1942.82,822.175 1943.34,815.406 1943.79,808.632 1944.17,801.854 \n",
       "  1944.49,795.073 1944.74,788.289 1944.92,781.503 1945.03,774.715 1945.08,767.926 1945.05,761.138 1944.96,754.35 1944.8,747.563 1944.58,740.778 1944.28,733.996 \n",
       "  1943.92,727.217 1943.49,720.442 1942.99,713.671 1942.42,706.906 1941.79,700.147 1941.09,693.395 1940.32,686.65 1939.49,679.912 1938.58,673.184 1937.61,666.465 \n",
       "  1936.58,659.756 1935.47,653.058 1934.3,646.371 1933.06,639.696 1931.76,633.034 1930.39,626.385 1928.95,619.751 1927.44,613.131 1925.87,606.526 1924.24,599.938 \n",
       "  1922.54,593.366 1920.77,586.811 1918.94,580.275 1917.04,573.757 1915.07,567.258 1913.05,560.78 1910.95,554.322 1908.8,547.885 1906.57,541.47 1904.29,535.078 \n",
       "  1901.94,528.709 1899.53,522.363 1897.05,516.042 1894.51,509.747 1891.91,503.477 1889.24,497.233 1886.51,491.016 1883.73,484.827 1880.87,478.666 1877.96,472.534 \n",
       "  1874.99,466.431 1871.95,460.358 1868.86,454.316 1865.7,448.305 1862.49,442.326 1859.21,436.38 1855.88,430.466 1852.49,424.587 1849.03,418.741 1845.52,412.93 \n",
       "  1841.96,407.155 1838.33,401.415 1834.65,395.713 1830.91,390.047 1827.11,384.419 1823.26,378.829 1819.35,373.278 1815.39,367.766 1811.37,362.294 1807.3,356.863 \n",
       "  1803.17,351.473 1798.99,346.124 1794.76,340.817 1790.47,335.553 1786.13,330.332 1781.74,325.155 1777.3,320.022 1772.8,314.933 1768.26,309.89 1763.66,304.892 \n",
       "  1759.02,299.941 1754.33,295.036 1749.58,290.179 1744.79,285.369 1739.95,280.607 1735.07,275.894 1730.14,271.23 1725.16,266.615 1720.13,262.051 1715.06,257.537 \n",
       "  1709.94,253.074 1704.78,248.662 1699.58,244.303 1694.33,239.995 1689.04,235.74 1683.71,231.538 1678.34,227.39 1672.92,223.296 1667.47,219.256 1661.97,215.271 \n",
       "  1656.44,211.341 1650.86,207.466 1645.25,203.648 1639.6,199.885 1633.91,196.18 1628.19,192.532 1622.42,188.94 1616.63,185.407 1610.8,181.932 1604.93,178.516 \n",
       "  1599.03,175.158 1593.1,171.859 1587.13,168.62 1581.13,165.441 1575.1,162.322 1569.04,159.263 1562.95,156.265 1556.83,153.328 1550.68,150.453 1544.5,147.639 \n",
       "  1538.3,144.887 1532.06,142.197 1525.8,139.57 1519.52,137.005 1513.21,134.504 1506.87,132.065 1500.51,129.69 1494.13,127.379 1487.72,125.132 1481.29,122.949 \n",
       "  1474.84,120.83 1468.37,118.776 1461.88,116.787 1455.37,114.863 1448.84,113.004 1442.3,111.21 1435.73,109.482 1429.15,107.82 1422.55,106.223 1415.94,104.693 \n",
       "  1409.31,103.228 1402.67,101.831 1396.01,100.499 1389.34,99.2346 1382.66,98.0367 1375.96,96.9057 1369.26,95.8416 1362.54,94.8446 1355.82,93.9149 1349.08,93.0524 \n",
       "  1342.34,92.2573 1335.59,91.5297 1328.84,90.8696 1322.07,90.2771 1315.31,89.7523 1308.53,89.2951 1301.75,88.9057 1294.97,88.5842 1288.19,88.3304 1281.4,88.1445 \n",
       "  1274.62,88.0264 1267.83,87.9763 1261.04,87.994 1254.25,88.0796 1247.46,88.2331 1240.68,88.4544 1233.9,88.7436 1227.12,89.1006 1220.34,89.5254 1213.57,90.0179 \n",
       "  1206.8,90.5781 1200.05,91.2059 1193.29,91.9013 1186.55,92.6641 1179.81,93.4944 1173.08,94.392 1166.36,95.3569 1159.65,96.3889 1152.95,97.4879 1146.26,98.6539 \n",
       "  1139.59,99.8867 1132.92,101.186 1126.27,102.552 1119.64,103.985 1113.02,105.484 1106.41,107.049 1099.82,108.679 1093.25,110.376 1086.69,112.138 1080.15,113.966 \n",
       "  1073.64,115.859 1067.14,117.818 1060.65,119.841 1054.2,121.929 1047.76,124.081 1041.34,126.297 1034.95,128.578 1028.58,130.923 1022.23,133.331 1015.9,135.802 \n",
       "  1009.61,138.337 1003.34,140.934 997.089,143.594 990.87,146.316 984.679,149.101 978.516,151.947 972.381,154.854 966.276,157.823 960.201,160.853 954.156,163.943 \n",
       "  948.143,167.094 942.161,170.304 936.212,173.574 930.296,176.904 924.414,180.292 918.565,183.74 912.752,187.245 906.974,190.809 901.231,194.43 895.525,198.108 \n",
       "  889.857,201.843 884.226,205.635 878.633,209.483 873.079,213.386 867.564,217.345 862.089,221.359 856.654,225.427 851.261,229.55 845.908,233.726 840.598,237.955 \n",
       "  835.331,242.238 830.106,246.573 824.925,250.96 819.789,255.398 814.697,259.888 809.65,264.428 804.649,269.019 799.693,273.659 794.785,278.349 789.924,283.087 \n",
       "  785.11,287.874 780.344,292.709 775.627,297.591 770.96,302.521 766.341,307.496 761.773,312.518 757.255,317.585 752.788,322.697 748.372,327.853 744.008,333.053 \n",
       "  739.696,338.297 735.437,343.583 731.231,348.912 727.079,354.282 722.98,359.694 718.936,365.147 714.946,370.639 711.012,376.172 707.133,381.743 703.31,387.353 \n",
       "  699.543,393.001 695.833,398.686 692.18,404.408 688.584,410.166 685.047,415.96 681.567,421.789 678.146,427.653 674.783,433.55 671.48,439.481 668.236,445.445 \n",
       "  665.052,451.44 661.928,457.467 658.864,463.526 655.862,469.614 652.92,475.732 650.04,481.88 647.221,488.055 644.464,494.259 641.769,500.49 639.137,506.748 \n",
       "  636.567,513.031 634.061,519.34 631.617,525.674 629.237,532.032 626.921,538.413 624.669,544.817 622.481,551.244 620.357,557.691 618.298,564.16 616.303,570.649 \n",
       "  614.374,577.158 612.509,583.686 610.711,590.232 608.977,596.795 607.31,603.376 605.708,609.973 604.172,616.586 602.703,623.214 601.3,629.856 599.963,636.511 \n",
       "  598.693,643.18 597.49,649.862 596.353,656.554 595.284,663.258 594.282,669.973 593.347,676.697 592.479,683.43 591.678,690.171 590.945,696.92 590.28,703.676 \n",
       "  589.682,710.438 589.152,717.206 588.689,723.979 588.294,730.756 587.967,737.537 587.708,744.321 587.517,751.107 587.393,757.894 587.338,764.683 \n",
       "  \"/>\n",
       "</svg>\n"
      ]
     },
     "metadata": {},
     "output_type": "display_data"
    }
   ],
   "source": [
    "# Plot a circle\n",
    "using LinearAlgebra\n",
    "using Plots\n",
    "th=[-pi:0.01:pi;]\n",
    "X=cos.(th)\n",
    "Y=sin.(th)\n",
    "plot(X, Y, legend=false, aspectratio=:equal)"
   ]
  },
  {
   "cell_type": "markdown",
   "id": "72e6c7e7-d341-4a2c-8302-693889e8243a",
   "metadata": {},
   "source": [
    "#### Area of a  unit circle should be $\\pi$. How close can we come?"
   ]
  },
  {
   "cell_type": "code",
   "execution_count": 4,
   "id": "45885713-167f-4392-810d-5a2cc79606be",
   "metadata": {},
   "outputs": [
    {
     "data": {
      "image/png": "[encoded data removed]",
      "image/svg+xml": "<?xml version=\"1.0\" encoding=\"utf-8\"?>\n<svg xmlns=\"http://www.w3.org/2000/svg\" xmlns:xlink=\"http://www.w3.org/1999/xlink\" width=\"600\" height=\"400\" viewBox=\"0 0 2400 1600\">\n<defs>\n  <clipPath id=\"clip850\">\n    <rect x=\"0\" y=\"0\" width=\"2400\" height=\"1600\"/>\n  </clipPath>\n</defs>\n<path clip-path=\"url(#clip850)\" d=\"\nM0 1600 L2400 1600 L2400 0 L0 0  Z\n  \" fill=\"#ffffff\" fill-rule=\"evenodd\" fill-opacity=\"1\"/>\n<defs>\n  <clipPath id=\"clip851\">\n    <rect x=\"480\" y=\"0\" width=\"1681\" height=\"1600\"/>\n  </clipPath>\n</defs>\n<path clip-path=\"url(#clip850)\" d=\"\nM179.654 1486.45 L2352.76 1486.45 L2352.76 47.2441 L179.654 47.2441  Z\n  \" fill=\"#ffffff\" fill-rule=\"evenodd\" fill-opacity=\"1\"/>\n<defs>\n  <clipPath id=\"clip852\">\n    <rect x=\"179\" y=\"47\" width=\"2174\" height=\"1440\"/>\n  </clipPath>\n</defs>\n<polyline clip-path=\"url(#clip852)\" style=\"stroke:#000000; stroke-width:2; stroke-opacity:0.1; fill:none\" points=\"\n  247.9,1486.45 247.9,47.2441 \n  \"/>\n<polyline clip-path=\"url(#clip852)\" style=\"stroke:#000000; stroke-width:2; stroke-opacity:0.1; fill:none\" points=\"\n  587.335,1486.45 587.335,47.2441 \n  \"/>\n<polyline clip-path=\"url(#clip852)\" style=\"stroke:#000000; stroke-width:2; stroke-opacity:0.1; fill:none\" points=\"\n  926.77,1486.45 926.77,47.2441 \n  \"/>\n<polyline clip-path=\"url(#clip852)\" style=\"stroke:#000000; stroke-width:2; stroke-opacity:0.1; fill:none\" points=\"\n  1266.2,1486.45 1266.2,47.2441 \n  \"/>\n<polyline clip-path=\"url(#clip852)\" style=\"stroke:#000000; stroke-width:2; stroke-opacity:0.1; fill:none\" points=\"\n  1605.64,1486.45 1605.64,47.2441 \n  \"/>\n<polyline clip-path=\"url(#clip852)\" style=\"stroke:#000000; stroke-width:2; stroke-opacity:0.1; fill:none\" points=\"\n  1945.07,1486.45 1945.07,47.2441 \n  \"/>\n<polyline clip-path=\"url(#clip852)\" style=\"stroke:#000000; stroke-width:2; stroke-opacity:0.1; fill:none\" points=\"\n  2284.51,1486.45 2284.51,47.2441 \n  \"/>\n<polyline clip-path=\"url(#clip850)\" style=\"stroke:#000000; stroke-width:4; stroke-opacity:1; fill:none\" points=\"\n  179.654,1486.45 2352.76,1486.45 \n  \"/>\n<polyline clip-path=\"url(#clip850)\" style=\"stroke:#000000; stroke-width:4; stroke-opacity:1; fill:none\" points=\"\n  247.9,1486.45 247.9,1469.18 \n  \"/>\n<polyline clip-path=\"url(#clip850)\" style=\"stroke:#000000; stroke-width:4; stroke-opacity:1; fill:none\" points=\"\n  587.335,1486.45 587.335,1469.18 \n  \"/>\n<polyline clip-path=\"url(#clip850)\" style=\"stroke:#000000; stroke-width:4; stroke-opacity:1; fill:none\" points=\"\n  926.77,1486.45 926.77,1469.18 \n  \"/>\n<polyline clip-path=\"url(#clip850)\" style=\"stroke:#000000; stroke-width:4; stroke-opacity:1; fill:none\" points=\"\n  1266.2,1486.45 1266.2,1469.18 \n  \"/>\n<polyline clip-path=\"url(#clip850)\" style=\"stroke:#000000; stroke-width:4; stroke-opacity:1; fill:none\" points=\"\n  1605.64,1486.45 1605.64,1469.18 \n  \"/>\n<polyline clip-path=\"url(#clip850)\" style=\"stroke:#000000; stroke-width:4; stroke-opacity:1; fill:none\" points=\"\n  1945.07,1486.45 1945.07,1469.18 \n  \"/>\n<polyline clip-path=\"url(#clip850)\" style=\"stroke:#000000; stroke-width:4; stroke-opacity:1; fill:none\" points=\"\n  2284.51,1486.45 2284.51,1469.18 \n  \"/>\n<path clip-path=\"url(#clip850)\" d=\"M 0 0 M202.183 1530.29 L231.859 1530.29 L231.859 1534.23 L202.183 1534.23 L202.183 1530.29 Z\" fill=\"#000000\" fill-rule=\"evenodd\" fill-opacity=\"1\" /><path clip-path=\"url(#clip850)\" d=\"M 0 0 M237.738 1543.18 L245.377 1543.18 L245.377 1516.82 L237.067 1518.49 L237.067 1514.23 L245.331 1512.56 L250.007 1512.56 L250.007 1543.18 L257.646 1543.18 L257.646 1547.12 L237.738 1547.12 L237.738 1543.18 Z\" fill=\"#000000\" fill-rule=\"evenodd\" fill-opacity=\"1\" /><path clip-path=\"url(#clip850)\" d=\"M 0 0 M262.715 1541.24 L267.599 1541.24 L267.599 1547.12 L262.715 1547.12 L262.715 1541.24 Z\" fill=\"#000000\" fill-rule=\"evenodd\" fill-opacity=\"1\" /><path clip-path=\"url(#clip850)\" d=\"M 0 0 M272.715 1512.56 L291.071 1512.56 L291.071 1516.5 L276.997 1516.5 L276.997 1524.97 Q278.016 1524.62 279.034 1524.46 Q280.053 1524.27 281.071 1524.27 Q286.858 1524.27 290.238 1527.44 Q293.618 1530.62 293.618 1536.03 Q293.618 1541.61 290.145 1544.71 Q286.673 1547.79 280.354 1547.79 Q278.178 1547.79 275.909 1547.42 Q273.664 1547.05 271.257 1546.31 L271.257 1541.61 Q273.34 1542.74 275.562 1543.3 Q277.784 1543.86 280.261 1543.86 Q284.266 1543.86 286.604 1541.75 Q288.942 1539.64 288.942 1536.03 Q288.942 1532.42 286.604 1530.31 Q284.266 1528.21 280.261 1528.21 Q278.386 1528.21 276.511 1528.62 Q274.659 1529.04 272.715 1529.92 L272.715 1512.56 Z\" fill=\"#000000\" fill-rule=\"evenodd\" fill-opacity=\"1\" /><path clip-path=\"url(#clip850)\" d=\"M 0 0 M541.12 1530.29 L570.796 1530.29 L570.796 1534.23 L541.12 1534.23 L541.12 1530.29 Z\" fill=\"#000000\" fill-rule=\"evenodd\" fill-opacity=\"1\" /><path clip-path=\"url(#clip850)\" d=\"M 0 0 M576.675 1543.18 L584.314 1543.18 L584.314 1516.82 L576.004 1518.49 L576.004 1514.23 L584.268 1512.56 L588.944 1512.56 L588.944 1543.18 L596.583 1543.18 L596.583 1547.12 L576.675 1547.12 L576.675 1543.18 Z\" fill=\"#000000\" fill-rule=\"evenodd\" fill-opacity=\"1\" /><path clip-path=\"url(#clip850)\" d=\"M 0 0 M601.652 1541.24 L606.536 1541.24 L606.536 1547.12 L601.652 1547.12 L601.652 1541.24 Z\" fill=\"#000000\" fill-rule=\"evenodd\" fill-opacity=\"1\" /><path clip-path=\"url(#clip850)\" d=\"M 0 0 M621.606 1515.64 Q617.995 1515.64 616.166 1519.2 Q614.36 1522.75 614.36 1529.87 Q614.36 1536.98 616.166 1540.55 Q617.995 1544.09 621.606 1544.09 Q625.24 1544.09 627.046 1540.55 Q628.874 1536.98 628.874 1529.87 Q628.874 1522.75 627.046 1519.2 Q625.24 1515.64 621.606 1515.64 M621.606 1511.93 Q627.416 1511.93 630.471 1516.54 Q633.55 1521.12 633.55 1529.87 Q633.55 1538.6 630.471 1543.21 Q627.416 1547.79 621.606 1547.79 Q615.796 1547.79 612.717 1543.21 Q609.661 1538.6 609.661 1529.87 Q609.661 1521.12 612.717 1516.54 Q615.796 1511.93 621.606 1511.93 Z\" fill=\"#000000\" fill-rule=\"evenodd\" fill-opacity=\"1\" /><path clip-path=\"url(#clip850)\" d=\"M 0 0 M880.439 1530.29 L910.115 1530.29 L910.115 1534.23 L880.439 1534.23 L880.439 1530.29 Z\" fill=\"#000000\" fill-rule=\"evenodd\" fill-opacity=\"1\" /><path clip-path=\"url(#clip850)\" d=\"M 0 0 M925.184 1515.64 Q921.573 1515.64 919.745 1519.2 Q917.939 1522.75 917.939 1529.87 Q917.939 1536.98 919.745 1540.55 Q921.573 1544.09 925.184 1544.09 Q928.819 1544.09 930.624 1540.55 Q932.453 1536.98 932.453 1529.87 Q932.453 1522.75 930.624 1519.2 Q928.819 1515.64 925.184 1515.64 M925.184 1511.93 Q930.994 1511.93 934.05 1516.54 Q937.129 1521.12 937.129 1529.87 Q937.129 1538.6 934.05 1543.21 Q930.994 1547.79 925.184 1547.79 Q919.374 1547.79 916.295 1543.21 Q913.24 1538.6 913.24 1529.87 Q913.24 1521.12 916.295 1516.54 Q919.374 1511.93 925.184 1511.93 Z\" fill=\"#000000\" fill-rule=\"evenodd\" fill-opacity=\"1\" /><path clip-path=\"url(#clip850)\" d=\"M 0 0 M942.198 1541.24 L947.082 1541.24 L947.082 1547.12 L942.198 1547.12 L942.198 1541.24 Z\" fill=\"#000000\" fill-rule=\"evenodd\" fill-opacity=\"1\" /><path clip-path=\"url(#clip850)\" d=\"M 0 0 M952.198 1512.56 L970.554 1512.56 L970.554 1516.5 L956.48 1516.5 L956.48 1524.97 Q957.499 1524.62 958.517 1524.46 Q959.536 1524.27 960.554 1524.27 Q966.341 1524.27 969.721 1527.44 Q973.101 1530.62 973.101 1536.03 Q973.101 1541.61 969.628 1544.71 Q966.156 1547.79 959.837 1547.79 Q957.661 1547.79 955.392 1547.42 Q953.147 1547.05 950.74 1546.31 L950.74 1541.61 Q952.823 1542.74 955.045 1543.3 Q957.267 1543.86 959.744 1543.86 Q963.749 1543.86 966.087 1541.75 Q968.425 1539.64 968.425 1536.03 Q968.425 1532.42 966.087 1530.31 Q963.749 1528.21 959.744 1528.21 Q957.869 1528.21 955.994 1528.62 Q954.142 1529.04 952.198 1529.92 L952.198 1512.56 Z\" fill=\"#000000\" fill-rule=\"evenodd\" fill-opacity=\"1\" /><path clip-path=\"url(#clip850)\" d=\"M 0 0 M1247.72 1515.64 Q1244.11 1515.64 1242.28 1519.2 Q1240.48 1522.75 1240.48 1529.87 Q1240.48 1536.98 1242.28 1540.55 Q1244.11 1544.09 1247.72 1544.09 Q1251.36 1544.09 1253.16 1540.55 Q1254.99 1536.98 1254.99 1529.87 Q1254.99 1522.75 1253.16 1519.2 Q1251.36 1515.64 1247.72 1515.64 M1247.72 1511.93 Q1253.53 1511.93 1256.59 1516.54 Q1259.67 1521.12 1259.67 1529.87 Q1259.67 1538.6 1256.59 1543.21 Q1253.53 1547.79 1247.72 1547.79 Q1241.91 1547.79 1238.83 1543.21 Q1235.78 1538.6 1235.78 1529.87 Q1235.78 1521.12 1238.83 1516.54 Q1241.91 1511.93 1247.72 1511.93 Z\" fill=\"#000000\" fill-rule=\"evenodd\" fill-opacity=\"1\" /><path clip-path=\"url(#clip850)\" d=\"M 0 0 M1264.73 1541.24 L1269.62 1541.24 L1269.62 1547.12 L1264.73 1547.12 L1264.73 1541.24 Z\" fill=\"#000000\" fill-rule=\"evenodd\" fill-opacity=\"1\" /><path clip-path=\"url(#clip850)\" d=\"M 0 0 M1284.69 1515.64 Q1281.08 1515.64 1279.25 1519.2 Q1277.44 1522.75 1277.44 1529.87 Q1277.44 1536.98 1279.25 1540.55 Q1281.08 1544.09 1284.69 1544.09 Q1288.32 1544.09 1290.13 1540.55 Q1291.96 1536.98 1291.96 1529.87 Q1291.96 1522.75 1290.13 1519.2 Q1288.32 1515.64 1284.69 1515.64 M1284.69 1511.93 Q1290.5 1511.93 1293.55 1516.54 Q1296.63 1521.12 1296.63 1529.87 Q1296.63 1538.6 1293.55 1543.21 Q1290.5 1547.79 1284.69 1547.79 Q1278.88 1547.79 1275.8 1543.21 Q1272.74 1538.6 1272.74 1529.87 Q1272.74 1521.12 1275.8 1516.54 Q1278.88 1511.93 1284.69 1511.93 Z\" fill=\"#000000\" fill-rule=\"evenodd\" fill-opacity=\"1\" /><path clip-path=\"url(#clip850)\" d=\"M 0 0 M1587.65 1515.64 Q1584.04 1515.64 1582.21 1519.2 Q1580.41 1522.75 1580.41 1529.87 Q1580.41 1536.98 1582.21 1540.55 Q1584.04 1544.09 1587.65 1544.09 Q1591.29 1544.09 1593.09 1540.55 Q1594.92 1536.98 1594.92 1529.87 Q1594.92 1522.75 1593.09 1519.2 Q1591.29 1515.64 1587.65 1515.64 M1587.65 1511.93 Q1593.46 1511.93 1596.52 1516.54 Q1599.6 1521.12 1599.6 1529.87 Q1599.6 1538.6 1596.52 1543.21 Q1593.46 1547.79 1587.65 1547.79 Q1581.84 1547.79 1578.76 1543.21 Q1575.71 1538.6 1575.71 1529.87 Q1575.71 1521.12 1578.76 1516.54 Q1581.84 1511.93 1587.65 1511.93 Z\" fill=\"#000000\" fill-rule=\"evenodd\" fill-opacity=\"1\" /><path clip-path=\"url(#clip850)\" d=\"M 0 0 M1604.67 1541.24 L1609.55 1541.24 L1609.55 1547.12 L1604.67 1547.12 L1604.67 1541.24 Z\" fill=\"#000000\" fill-rule=\"evenodd\" fill-opacity=\"1\" /><path clip-path=\"url(#clip850)\" d=\"M 0 0 M1614.67 1512.56 L1633.02 1512.56 L1633.02 1516.5 L1618.95 1516.5 L1618.95 1524.97 Q1619.97 1524.62 1620.99 1524.46 Q1622.01 1524.27 1623.02 1524.27 Q1628.81 1524.27 1632.19 1527.44 Q1635.57 1530.62 1635.57 1536.03 Q1635.57 1541.61 1632.1 1544.71 Q1628.63 1547.79 1622.31 1547.79 Q1620.13 1547.79 1617.86 1547.42 Q1615.62 1547.05 1613.21 1546.31 L1613.21 1541.61 Q1615.29 1542.74 1617.51 1543.3 Q1619.74 1543.86 1622.21 1543.86 Q1626.22 1543.86 1628.56 1541.75 Q1630.89 1539.64 1630.89 1536.03 Q1630.89 1532.42 1628.56 1530.31 Q1626.22 1528.21 1622.21 1528.21 Q1620.34 1528.21 1618.46 1528.62 Q1616.61 1529.04 1614.67 1529.92 L1614.67 1512.56 Z\" fill=\"#000000\" fill-rule=\"evenodd\" fill-opacity=\"1\" /><path clip-path=\"url(#clip850)\" d=\"M 0 0 M1916.97 1543.18 L1924.61 1543.18 L1924.61 1516.82 L1916.3 1518.49 L1916.3 1514.23 L1924.57 1512.56 L1929.24 1512.56 L1929.24 1543.18 L1936.88 1543.18 L1936.88 1547.12 L1916.97 1547.12 L1916.97 1543.18 Z\" fill=\"#000000\" fill-rule=\"evenodd\" fill-opacity=\"1\" /><path clip-path=\"url(#clip850)\" d=\"M 0 0 M1941.95 1541.24 L1946.83 1541.24 L1946.83 1547.12 L1941.95 1547.12 L1941.95 1541.24 Z\" fill=\"#000000\" fill-rule=\"evenodd\" fill-opacity=\"1\" /><path clip-path=\"url(#clip850)\" d=\"M 0 0 M1961.9 1515.64 Q1958.29 1515.64 1956.46 1519.2 Q1954.66 1522.75 1954.66 1529.87 Q1954.66 1536.98 1956.46 1540.55 Q1958.29 1544.09 1961.9 1544.09 Q1965.54 1544.09 1967.34 1540.55 Q1969.17 1536.98 1969.17 1529.87 Q1969.17 1522.75 1967.34 1519.2 Q1965.54 1515.64 1961.9 1515.64 M1961.9 1511.93 Q1967.71 1511.93 1970.77 1516.54 Q1973.85 1521.12 1973.85 1529.87 Q1973.85 1538.6 1970.77 1543.21 Q1967.71 1547.79 1961.9 1547.79 Q1956.09 1547.79 1953.01 1543.21 Q1949.96 1538.6 1949.96 1529.87 Q1949.96 1521.12 1953.01 1516.54 Q1956.09 1511.93 1961.9 1511.93 Z\" fill=\"#000000\" fill-rule=\"evenodd\" fill-opacity=\"1\" /><path clip-path=\"url(#clip850)\" d=\"M 0 0 M2256.91 1543.18 L2264.54 1543.18 L2264.54 1516.82 L2256.23 1518.49 L2256.23 1514.23 L2264.5 1512.56 L2269.17 1512.56 L2269.17 1543.18 L2276.81 1543.18 L2276.81 1547.12 L2256.91 1547.12 L2256.91 1543.18 Z\" fill=\"#000000\" fill-rule=\"evenodd\" fill-opacity=\"1\" /><path clip-path=\"url(#clip850)\" d=\"M 0 0 M2281.88 1541.24 L2286.77 1541.24 L2286.77 1547.12 L2281.88 1547.12 L2281.88 1541.24 Z\" fill=\"#000000\" fill-rule=\"evenodd\" fill-opacity=\"1\" /><path clip-path=\"url(#clip850)\" d=\"M 0 0 M2291.88 1512.56 L2310.24 1512.56 L2310.24 1516.5 L2296.16 1516.5 L2296.16 1524.97 Q2297.18 1524.62 2298.2 1524.46 Q2299.22 1524.27 2300.24 1524.27 Q2306.03 1524.27 2309.41 1527.44 Q2312.78 1530.62 2312.78 1536.03 Q2312.78 1541.61 2309.31 1544.71 Q2305.84 1547.79 2299.52 1547.79 Q2297.34 1547.79 2295.08 1547.42 Q2292.83 1547.05 2290.42 1546.31 L2290.42 1541.61 Q2292.51 1542.74 2294.73 1543.3 Q2296.95 1543.86 2299.43 1543.86 Q2303.43 1543.86 2305.77 1541.75 Q2308.11 1539.64 2308.11 1536.03 Q2308.11 1532.42 2305.77 1530.31 Q2303.43 1528.21 2299.43 1528.21 Q2297.55 1528.21 2295.68 1528.62 Q2293.83 1529.04 2291.88 1529.92 L2291.88 1512.56 Z\" fill=\"#000000\" fill-rule=\"evenodd\" fill-opacity=\"1\" /><polyline clip-path=\"url(#clip852)\" style=\"stroke:#000000; stroke-width:2; stroke-opacity:0.1; fill:none\" points=\"\n  179.654,1445.72 2352.76,1445.72 \n  \"/>\n<polyline clip-path=\"url(#clip852)\" style=\"stroke:#000000; stroke-width:2; stroke-opacity:0.1; fill:none\" points=\"\n  179.654,1106.28 2352.76,1106.28 \n  \"/>\n<polyline clip-path=\"url(#clip852)\" style=\"stroke:#000000; stroke-width:2; stroke-opacity:0.1; fill:none\" points=\"\n  179.654,766.846 2352.76,766.846 \n  \"/>\n<polyline clip-path=\"url(#clip852)\" style=\"stroke:#000000; stroke-width:2; stroke-opacity:0.1; fill:none\" points=\"\n  179.654,427.411 2352.76,427.411 \n  \"/>\n<polyline clip-path=\"url(#clip852)\" style=\"stroke:#000000; stroke-width:2; stroke-opacity:0.1; fill:none\" points=\"\n  179.654,87.9763 2352.76,87.9763 \n  \"/>\n<polyline clip-path=\"url(#clip850)\" style=\"stroke:#000000; stroke-width:4; stroke-opacity:1; fill:none\" points=\"\n  179.654,1486.45 179.654,47.2441 \n  \"/>\n<polyline clip-path=\"url(#clip850)\" style=\"stroke:#000000; stroke-width:4; stroke-opacity:1; fill:none\" points=\"\n  179.654,1445.72 205.731,1445.72 \n  \"/>\n<polyline clip-path=\"url(#clip850)\" style=\"stroke:#000000; stroke-width:4; stroke-opacity:1; fill:none\" points=\"\n  179.654,1106.28 205.731,1106.28 \n  \"/>\n<polyline clip-path=\"url(#clip850)\" style=\"stroke:#000000; stroke-width:4; stroke-opacity:1; fill:none\" points=\"\n  179.654,766.846 205.731,766.846 \n  \"/>\n<polyline clip-path=\"url(#clip850)\" style=\"stroke:#000000; stroke-width:4; stroke-opacity:1; fill:none\" points=\"\n  179.654,427.411 205.731,427.411 \n  \"/>\n<polyline clip-path=\"url(#clip850)\" style=\"stroke:#000000; stroke-width:4; stroke-opacity:1; fill:none\" points=\"\n  179.654,87.9763 205.731,87.9763 \n  \"/>\n<path clip-path=\"url(#clip850)\" d=\"M 0 0 M51.2236 1446.17 L80.8994 1446.17 L80.8994 1450.1 L51.2236 1450.1 L51.2236 1446.17 Z\" fill=\"#000000\" fill-rule=\"evenodd\" fill-opacity=\"1\" /><path clip-path=\"url(#clip850)\" d=\"M 0 0 M86.779 1459.06 L94.4178 1459.06 L94.4178 1432.69 L86.1077 1434.36 L86.1077 1430.1 L94.3715 1428.44 L99.0474 1428.44 L99.0474 1459.06 L106.686 1459.06 L106.686 1463 L86.779 1463 L86.779 1459.06 Z\" fill=\"#000000\" fill-rule=\"evenodd\" fill-opacity=\"1\" /><path clip-path=\"url(#clip850)\" d=\"M 0 0 M111.756 1457.12 L116.64 1457.12 L116.64 1463 L111.756 1463 L111.756 1457.12 Z\" fill=\"#000000\" fill-rule=\"evenodd\" fill-opacity=\"1\" /><path clip-path=\"url(#clip850)\" d=\"M 0 0 M131.709 1431.51 Q128.098 1431.51 126.27 1435.08 Q124.464 1438.62 124.464 1445.75 Q124.464 1452.86 126.27 1456.42 Q128.098 1459.96 131.709 1459.96 Q135.344 1459.96 137.149 1456.42 Q138.978 1452.86 138.978 1445.75 Q138.978 1438.62 137.149 1435.08 Q135.344 1431.51 131.709 1431.51 M131.709 1427.81 Q137.519 1427.81 140.575 1432.42 Q143.654 1437 143.654 1445.75 Q143.654 1454.48 140.575 1459.08 Q137.519 1463.67 131.709 1463.67 Q125.899 1463.67 122.82 1459.08 Q119.765 1454.48 119.765 1445.75 Q119.765 1437 122.82 1432.42 Q125.899 1427.81 131.709 1427.81 Z\" fill=\"#000000\" fill-rule=\"evenodd\" fill-opacity=\"1\" /><path clip-path=\"url(#clip850)\" d=\"M 0 0 M50.9921 1106.73 L80.6679 1106.73 L80.6679 1110.67 L50.9921 1110.67 L50.9921 1106.73 Z\" fill=\"#000000\" fill-rule=\"evenodd\" fill-opacity=\"1\" /><path clip-path=\"url(#clip850)\" d=\"M 0 0 M95.7373 1092.08 Q92.1262 1092.08 90.2975 1095.64 Q88.4919 1099.19 88.4919 1106.32 Q88.4919 1113.42 90.2975 1116.99 Q92.1262 1120.53 95.7373 1120.53 Q99.3715 1120.53 101.177 1116.99 Q103.006 1113.42 103.006 1106.32 Q103.006 1099.19 101.177 1095.64 Q99.3715 1092.08 95.7373 1092.08 M95.7373 1088.38 Q101.547 1088.38 104.603 1092.98 Q107.682 1097.57 107.682 1106.32 Q107.682 1115.04 104.603 1119.65 Q101.547 1124.23 95.7373 1124.23 Q89.9271 1124.23 86.8484 1119.65 Q83.7929 1115.04 83.7929 1106.32 Q83.7929 1097.57 86.8484 1092.98 Q89.9271 1088.38 95.7373 1088.38 Z\" fill=\"#000000\" fill-rule=\"evenodd\" fill-opacity=\"1\" /><path clip-path=\"url(#clip850)\" d=\"M 0 0 M112.751 1117.68 L117.635 1117.68 L117.635 1123.56 L112.751 1123.56 L112.751 1117.68 Z\" fill=\"#000000\" fill-rule=\"evenodd\" fill-opacity=\"1\" /><path clip-path=\"url(#clip850)\" d=\"M 0 0 M122.751 1089 L141.107 1089 L141.107 1092.94 L127.033 1092.94 L127.033 1101.41 Q128.052 1101.06 129.07 1100.9 Q130.089 1100.71 131.107 1100.71 Q136.894 1100.71 140.274 1103.89 Q143.654 1107.06 143.654 1112.47 Q143.654 1118.05 140.181 1121.15 Q136.709 1124.23 130.39 1124.23 Q128.214 1124.23 125.945 1123.86 Q123.7 1123.49 121.293 1122.75 L121.293 1118.05 Q123.376 1119.19 125.598 1119.74 Q127.82 1120.3 130.297 1120.3 Q134.302 1120.3 136.64 1118.19 Q138.978 1116.08 138.978 1112.47 Q138.978 1108.86 136.64 1106.76 Q134.302 1104.65 130.297 1104.65 Q128.422 1104.65 126.547 1105.07 Q124.695 1105.48 122.751 1106.36 L122.751 1089 Z\" fill=\"#000000\" fill-rule=\"evenodd\" fill-opacity=\"1\" /><path clip-path=\"url(#clip850)\" d=\"M 0 0 M94.7419 752.645 Q91.1308 752.645 89.3021 756.209 Q87.4966 759.751 87.4966 766.881 Q87.4966 773.987 89.3021 777.552 Q91.1308 781.094 94.7419 781.094 Q98.3761 781.094 100.182 777.552 Q102.01 773.987 102.01 766.881 Q102.01 759.751 100.182 756.209 Q98.3761 752.645 94.7419 752.645 M94.7419 748.941 Q100.552 748.941 103.608 753.547 Q106.686 758.131 106.686 766.881 Q106.686 775.608 103.608 780.214 Q100.552 784.797 94.7419 784.797 Q88.9317 784.797 85.8531 780.214 Q82.7975 775.608 82.7975 766.881 Q82.7975 758.131 85.8531 753.547 Q88.9317 748.941 94.7419 748.941 Z\" fill=\"#000000\" fill-rule=\"evenodd\" fill-opacity=\"1\" /><path clip-path=\"url(#clip850)\" d=\"M 0 0 M111.756 778.246 L116.64 778.246 L116.64 784.126 L111.756 784.126 L111.756 778.246 Z\" fill=\"#000000\" fill-rule=\"evenodd\" fill-opacity=\"1\" /><path clip-path=\"url(#clip850)\" d=\"M 0 0 M131.709 752.645 Q128.098 752.645 126.27 756.209 Q124.464 759.751 124.464 766.881 Q124.464 773.987 126.27 777.552 Q128.098 781.094 131.709 781.094 Q135.344 781.094 137.149 777.552 Q138.978 773.987 138.978 766.881 Q138.978 759.751 137.149 756.209 Q135.344 752.645 131.709 752.645 M131.709 748.941 Q137.519 748.941 140.575 753.547 Q143.654 758.131 143.654 766.881 Q143.654 775.608 140.575 780.214 Q137.519 784.797 131.709 784.797 Q125.899 784.797 122.82 780.214 Q119.765 775.608 119.765 766.881 Q119.765 758.131 122.82 753.547 Q125.899 748.941 131.709 748.941 Z\" fill=\"#000000\" fill-rule=\"evenodd\" fill-opacity=\"1\" /><path clip-path=\"url(#clip850)\" d=\"M 0 0 M95.7373 413.21 Q92.1262 413.21 90.2975 416.775 Q88.4919 420.316 88.4919 427.446 Q88.4919 434.552 90.2975 438.117 Q92.1262 441.659 95.7373 441.659 Q99.3715 441.659 101.177 438.117 Q103.006 434.552 103.006 427.446 Q103.006 420.316 101.177 416.775 Q99.3715 413.21 95.7373 413.21 M95.7373 409.506 Q101.547 409.506 104.603 414.113 Q107.682 418.696 107.682 427.446 Q107.682 436.173 104.603 440.779 Q101.547 445.362 95.7373 445.362 Q89.9271 445.362 86.8484 440.779 Q83.7929 436.173 83.7929 427.446 Q83.7929 418.696 86.8484 414.113 Q89.9271 409.506 95.7373 409.506 Z\" fill=\"#000000\" fill-rule=\"evenodd\" fill-opacity=\"1\" /><path clip-path=\"url(#clip850)\" d=\"M 0 0 M112.751 438.812 L117.635 438.812 L117.635 444.691 L112.751 444.691 L112.751 438.812 Z\" fill=\"#000000\" fill-rule=\"evenodd\" fill-opacity=\"1\" /><path clip-path=\"url(#clip850)\" d=\"M 0 0 M122.751 410.131 L141.107 410.131 L141.107 414.066 L127.033 414.066 L127.033 422.538 Q128.052 422.191 129.07 422.029 Q130.089 421.844 131.107 421.844 Q136.894 421.844 140.274 425.015 Q143.654 428.187 143.654 433.603 Q143.654 439.182 140.181 442.284 Q136.709 445.362 130.39 445.362 Q128.214 445.362 125.945 444.992 Q123.7 444.622 121.293 443.881 L121.293 439.182 Q123.376 440.316 125.598 440.872 Q127.82 441.427 130.297 441.427 Q134.302 441.427 136.64 439.321 Q138.978 437.214 138.978 433.603 Q138.978 429.992 136.64 427.886 Q134.302 425.779 130.297 425.779 Q128.422 425.779 126.547 426.196 Q124.695 426.613 122.751 427.492 L122.751 410.131 Z\" fill=\"#000000\" fill-rule=\"evenodd\" fill-opacity=\"1\" /><path clip-path=\"url(#clip850)\" d=\"M 0 0 M86.779 101.321 L94.4178 101.321 L94.4178 74.9555 L86.1077 76.6222 L86.1077 72.3629 L94.3715 70.6963 L99.0474 70.6963 L99.0474 101.321 L106.686 101.321 L106.686 105.256 L86.779 105.256 L86.779 101.321 Z\" fill=\"#000000\" fill-rule=\"evenodd\" fill-opacity=\"1\" /><path clip-path=\"url(#clip850)\" d=\"M 0 0 M111.756 99.3767 L116.64 99.3767 L116.64 105.256 L111.756 105.256 L111.756 99.3767 Z\" fill=\"#000000\" fill-rule=\"evenodd\" fill-opacity=\"1\" /><path clip-path=\"url(#clip850)\" d=\"M 0 0 M131.709 73.775 Q128.098 73.775 126.27 77.3398 Q124.464 80.8814 124.464 88.011 Q124.464 95.1174 126.27 98.6822 Q128.098 102.224 131.709 102.224 Q135.344 102.224 137.149 98.6822 Q138.978 95.1174 138.978 88.011 Q138.978 80.8814 137.149 77.3398 Q135.344 73.775 131.709 73.775 M131.709 70.0713 Q137.519 70.0713 140.575 74.6777 Q143.654 79.261 143.654 88.011 Q143.654 96.7378 140.575 101.344 Q137.519 105.928 131.709 105.928 Q125.899 105.928 122.82 101.344 Q119.765 96.7378 119.765 88.011 Q119.765 79.261 122.82 74.6777 Q125.899 70.0713 131.709 70.0713 Z\" fill=\"#000000\" fill-rule=\"evenodd\" fill-opacity=\"1\" /><polyline clip-path=\"url(#clip852)\" style=\"stroke:#ff0000; stroke-width:24; stroke-opacity:1; fill:none\" points=\"\n  587.335,766.846 587.369,773.635 587.471,780.422 587.641,787.209 587.878,793.994 588.183,800.775 588.557,807.554 588.998,814.328 589.506,821.098 590.083,827.862 \n  590.727,834.62 591.438,841.371 592.217,848.115 593.063,854.851 593.977,861.578 594.958,868.295 596.006,875.002 597.121,881.699 598.303,888.384 599.552,895.057 \n  600.867,901.717 602.249,908.363 603.698,914.995 605.212,921.613 606.793,928.215 608.439,934.801 610.152,941.37 611.93,947.922 613.773,954.455 615.682,960.97 \n  617.656,967.466 619.694,973.941 621.798,980.396 623.965,986.829 626.197,993.24 628.493,999.629 630.853,1005.99 633.276,1012.34 635.762,1018.65 638.312,1024.94 \n  640.924,1031.21 643.599,1037.45 646.336,1043.66 649.135,1049.85 651.996,1056 654.919,1062.13 657.902,1068.23 660.946,1074.3 664.051,1080.33 667.216,1086.34 \n  670.441,1092.31 673.725,1098.25 677.069,1104.16 680.471,1110.04 683.932,1115.88 687.452,1121.68 691.029,1127.45 694.664,1133.19 698.356,1138.88 702.104,1144.54 \n  705.909,1150.16 709.771,1155.75 713.687,1161.29 717.659,1166.8 721.686,1172.26 725.768,1177.69 729.903,1183.07 734.092,1188.41 738.334,1193.71 742.629,1198.97 \n  746.977,1204.19 751.376,1209.36 755.827,1214.48 760.328,1219.56 764.881,1224.6 769.483,1229.59 774.136,1234.53 778.837,1239.43 783.587,1244.28 788.386,1249.08 \n  793.232,1253.84 798.125,1258.54 803.065,1263.2 808.052,1267.81 813.084,1272.36 818.162,1276.87 823.285,1281.32 828.452,1285.73 833.662,1290.08 838.916,1294.38 \n  844.213,1298.62 849.551,1302.82 854.932,1306.96 860.353,1311.04 865.816,1315.07 871.318,1319.05 876.859,1322.97 882.44,1326.84 888.059,1330.65 893.716,1334.4 \n  899.41,1338.1 905.141,1341.73 910.907,1345.32 916.71,1348.84 922.547,1352.31 928.419,1355.71 934.324,1359.06 940.263,1362.35 946.234,1365.58 952.237,1368.75 \n  958.272,1371.86 964.338,1374.91 970.433,1377.9 976.558,1380.82 982.713,1383.69 988.895,1386.49 995.105,1389.24 1001.34,1391.92 1007.61,1394.53 1013.9,1397.09 \n  1020.21,1399.58 1026.55,1402.01 1032.91,1404.37 1039.3,1406.67 1045.71,1408.91 1052.14,1411.08 1058.59,1413.19 1065.07,1415.24 1071.56,1417.21 1078.08,1419.13 \n  1084.61,1420.98 1091.16,1422.76 1097.73,1424.48 1104.31,1426.13 1110.91,1427.72 1117.53,1429.24 1124.16,1430.69 1130.8,1432.08 1137.46,1433.4 1144.14,1434.65 \n  1150.82,1435.84 1157.51,1436.96 1164.22,1438.01 1170.94,1439 1177.66,1439.92 1184.4,1440.77 1191.14,1441.55 1197.89,1442.27 1204.65,1442.92 1211.41,1443.5 \n  1218.18,1444.02 1224.96,1444.46 1231.74,1444.84 1238.52,1445.15 1245.3,1445.39 1252.09,1445.57 1258.88,1445.68 1265.66,1445.72 1272.45,1445.69 1279.24,1445.59 \n  1286.03,1445.43 1292.81,1445.19 1299.59,1444.89 1306.37,1444.53 1313.15,1444.09 1319.92,1443.59 1326.68,1443.02 1333.44,1442.38 1340.19,1441.67 1346.94,1440.9 \n  1353.67,1440.06 1360.4,1439.15 1367.12,1438.17 1373.83,1437.13 1380.52,1436.02 1387.21,1434.84 1393.88,1433.6 1400.55,1432.29 1407.19,1430.91 1413.83,1429.47 \n  1420.45,1427.96 1427.05,1426.39 1433.64,1424.74 1440.21,1423.04 1446.76,1421.26 1453.29,1419.43 1459.81,1417.52 1466.31,1415.55 1472.78,1413.52 1479.24,1411.42 \n  1485.68,1409.26 1492.09,1407.03 1498.48,1404.74 1504.85,1402.39 1511.19,1399.97 1517.51,1397.49 1523.8,1394.94 1530.07,1392.34 1536.31,1389.67 1542.53,1386.93 \n  1548.71,1384.14 1554.87,1381.28 1561,1378.37 1567.1,1375.39 1573.17,1372.35 1579.21,1369.25 1585.22,1366.09 1591.2,1362.87 1597.14,1359.59 1603.05,1356.25 \n  1608.93,1352.85 1614.77,1349.4 1620.58,1345.88 1626.35,1342.31 1632.09,1338.68 1637.79,1334.99 1643.45,1331.25 1649.08,1327.45 1654.66,1323.59 1660.21,1319.68 \n  1665.72,1315.71 1671.19,1311.69 1676.62,1307.61 1682,1303.48 1687.35,1299.29 1692.65,1295.06 1697.91,1290.77 1703.13,1286.42 1708.3,1282.03 1713.43,1277.58 \n  1718.52,1273.08 1723.56,1268.53 1728.55,1263.94 1733.5,1259.29 1738.4,1254.59 1743.26,1249.84 1748.06,1245.05 1752.82,1240.21 1757.53,1235.32 1762.19,1230.38 \n  1766.8,1225.4 1771.36,1220.37 1775.87,1215.29 1780.33,1210.18 1784.74,1205.01 1789.09,1199.81 1793.39,1194.55 1797.65,1189.26 1801.84,1183.93 1805.99,1178.55 \n  1810.08,1173.13 1814.11,1167.67 1818.09,1162.17 1822.02,1156.63 1825.89,1151.06 1829.7,1145.44 1833.46,1139.79 1837.16,1134.1 1840.81,1128.37 1844.39,1122.6 \n  1847.92,1116.8 1851.39,1110.97 1854.8,1105.1 1858.16,1099.2 1861.45,1093.26 1864.68,1087.29 1867.86,1081.29 1870.97,1075.26 1874.03,1069.2 1877.02,1063.1 \n  1879.95,1056.98 1882.82,1050.83 1885.63,1044.65 1888.38,1038.44 1891.06,1032.21 1893.69,1025.94 1896.25,1019.66 1898.74,1013.34 1901.18,1007.01 1903.54,1000.64 \n  1905.85,994.259 1908.09,987.852 1910.27,981.422 1912.38,974.97 1914.43,968.498 1916.42,962.006 1918.34,955.494 1920.19,948.964 1921.98,942.415 1923.7,935.848 \n  1925.36,929.265 1926.95,922.666 1928.48,916.05 1929.93,909.42 1931.33,902.776 1932.65,896.118 1933.91,889.447 1935.1,882.764 1936.23,876.07 1937.29,869.364 \n  1938.28,862.648 1939.21,855.923 1940.06,849.188 1940.85,842.446 1941.57,835.696 1942.23,828.939 1942.82,822.175 1943.34,815.407 1943.79,808.633 1944.17,801.855 \n  1944.49,795.074 1944.74,788.29 1944.92,781.503 1945.03,774.716 1945.07,767.927 1945.05,761.139 1944.96,754.351 1944.8,747.564 1944.57,740.779 1944.28,733.997 \n  1943.92,727.218 1943.49,720.443 1942.99,713.672 1942.42,706.907 1941.79,700.148 1941.09,693.396 1940.32,686.651 1939.49,679.913 1938.58,673.185 1937.61,666.466 \n  1936.57,659.757 1935.47,653.059 1934.3,646.372 1933.06,639.697 1931.76,633.035 1930.38,626.387 1928.95,619.752 1927.44,613.132 1925.87,606.527 1924.24,599.939 \n  1922.53,593.367 1920.77,586.812 1918.93,580.276 1917.04,573.758 1915.07,567.259 1913.04,560.781 1910.95,554.323 1908.79,547.886 1906.57,541.471 1904.29,535.079 \n  1901.94,528.71 1899.52,522.365 1897.05,516.044 1894.51,509.748 1891.91,503.478 1889.24,497.234 1886.51,491.017 1883.72,484.828 1880.87,478.667 1877.96,472.535 \n  1874.99,466.432 1871.95,460.36 1868.86,454.318 1865.7,448.307 1862.49,442.328 1859.21,436.381 1855.88,430.468 1852.48,424.588 1849.03,418.742 1845.52,412.932 \n  1841.95,407.156 1838.33,401.417 1834.65,395.714 1830.91,390.048 1827.11,384.42 1823.26,378.83 1819.35,373.279 1815.39,367.768 1811.37,362.296 1807.3,356.865 \n  1803.17,351.474 1798.99,346.125 1794.75,340.819 1790.47,335.555 1786.13,330.334 1781.74,325.156 1777.3,320.023 1772.8,314.935 1768.26,309.891 1763.66,304.894 \n  1759.02,299.942 1754.32,295.038 1749.58,290.18 1744.79,285.37 1739.95,280.609 1735.07,275.895 1730.13,271.231 1725.15,266.617 1720.13,262.053 1715.06,257.539 \n  1709.94,253.076 1704.78,248.664 1699.58,244.304 1694.33,239.997 1689.04,235.742 1683.71,231.54 1678.34,227.392 1672.92,223.298 1667.47,219.258 1661.97,215.272 \n  1656.44,211.342 1650.86,207.468 1645.25,203.649 1639.6,199.887 1633.91,196.182 1628.18,192.533 1622.42,188.942 1616.63,185.409 1610.79,181.934 1604.93,178.517 \n  1599.03,175.16 1593.09,171.861 1587.13,168.622 1581.13,165.443 1575.1,162.324 1569.04,159.265 1562.95,156.267 1556.83,153.33 1550.68,150.455 1544.5,147.641 \n  1538.3,144.889 1532.06,142.199 1525.8,139.572 1519.52,137.007 1513.21,134.505 1506.87,132.067 1500.51,129.692 1494.13,127.381 1487.72,125.134 1481.29,122.951 \n  1474.84,120.832 1468.37,118.778 1461.88,116.789 1455.37,114.865 1448.84,113.006 1442.3,111.212 1435.73,109.484 1429.15,107.821 1422.55,106.225 1415.94,104.695 \n  1409.31,103.23 1402.66,101.833 1396.01,100.501 1389.34,99.2366 1382.66,98.0386 1375.96,96.9076 1369.26,95.8435 1362.54,94.8466 1355.82,93.9168 1349.08,93.0543 \n  1342.34,92.2593 1335.59,91.5316 1328.84,90.8715 1322.07,90.279 1315.3,89.7542 1308.53,89.2971 1301.75,88.9077 1294.97,88.5861 1288.19,88.3323 1281.4,88.1464 \n  1274.62,88.0284 1267.83,87.9782 1261.04,87.9959 1254.25,88.0815 1247.46,88.235 1240.68,88.4564 1233.9,88.7456 1227.12,89.1026 1220.34,89.5273 1213.57,90.0198 \n  1206.8,90.58 1200.04,91.2078 1193.29,91.9032 1186.55,92.666 1179.81,93.4963 1173.08,94.3939 1166.36,95.3588 1159.65,96.3908 1152.95,97.4899 1146.26,98.6559 \n  1139.59,99.8887 1132.92,101.188 1126.27,102.554 1119.64,103.987 1113.02,105.486 1106.41,107.05 1099.82,108.681 1093.25,110.378 1086.69,112.14 1080.15,113.968 \n  1073.64,115.861 1067.14,117.82 1060.65,119.843 1054.2,121.93 1047.76,124.083 1041.34,126.299 1034.95,128.58 1028.58,130.924 1022.23,133.333 1015.9,135.804 \n  1009.61,138.338 1003.34,140.936 997.089,143.596 990.87,146.318 984.679,149.102 978.516,151.948 972.381,154.856 966.276,157.825 960.201,160.855 954.156,163.945 \n  948.143,167.095 942.162,170.306 936.212,173.576 930.296,176.906 924.414,180.294 918.565,183.741 912.752,187.247 906.974,190.81 901.231,194.431 895.526,198.11 \n  889.857,201.845 884.226,205.636 878.633,209.484 873.079,213.388 867.564,217.347 862.089,221.36 856.654,225.429 851.261,229.551 845.909,233.728 840.599,237.957 \n  835.331,242.24 830.107,246.574 824.926,250.961 819.789,255.4 814.697,259.89 809.65,264.43 804.649,269.021 799.694,273.661 794.785,278.351 789.924,283.089 \n  785.11,287.876 780.345,292.711 775.628,297.593 770.96,302.522 766.341,307.498 761.773,312.519 757.255,317.586 752.788,322.698 748.372,327.854 744.008,333.055 \n  739.697,338.298 735.438,343.585 731.232,348.913 727.079,354.284 722.98,359.696 718.936,365.148 714.947,370.641 711.012,376.173 707.133,381.745 703.31,387.354 \n  699.544,393.002 695.834,398.687 692.181,404.409 688.585,410.168 685.047,415.962 681.567,421.791 678.146,427.654 674.784,433.552 671.48,439.482 668.236,445.446 \n  665.052,451.442 661.928,457.469 658.865,463.527 655.862,469.615 652.92,475.734 650.04,481.881 647.221,488.057 644.464,494.26 641.77,500.491 639.137,506.749 \n  636.568,513.032 634.061,519.341 631.618,525.675 629.238,532.033 626.922,538.414 624.669,544.818 622.481,551.245 620.357,557.693 618.298,564.161 616.304,570.651 \n  614.374,577.159 612.51,583.687 610.711,590.233 608.978,596.797 607.31,603.377 605.708,609.974 604.173,616.587 602.703,623.215 601.3,629.857 599.964,636.513 \n  598.694,643.181 597.49,649.863 596.354,656.555 595.285,663.259 594.282,669.974 593.347,676.698 592.479,683.431 591.679,690.172 590.946,696.921 590.28,703.677 \n  589.683,710.439 589.152,717.207 588.69,723.98 588.295,730.757 587.968,737.538 587.709,744.322 587.518,751.108 587.394,757.895 587.339,764.684 \n  \"/>\n<polyline clip-path=\"url(#clip852)\" style=\"stroke:#000000; stroke-width:16; stroke-opacity:1; fill:none\" points=\"\n  587.335,766.846 587.67,788.17 588.675,809.473 590.348,830.733 592.688,851.931 595.693,873.045 599.36,894.053 603.684,914.937 608.663,935.674 614.29,956.245 \n  620.561,976.628 627.469,996.805 635.008,1016.75 643.169,1036.46 651.945,1055.89 661.327,1075.05 671.307,1093.89 681.873,1112.42 693.016,1130.6 704.725,1148.43 \n  716.988,1165.88 729.792,1182.93 743.127,1199.57 756.977,1215.79 771.33,1231.56 786.171,1246.88 801.486,1261.72 817.26,1276.07 833.477,1289.92 850.121,1303.26 \n  867.175,1316.06 884.623,1328.33 902.448,1340.03 920.632,1351.18 939.157,1361.74 958.004,1371.72 977.156,1381.11 996.593,1389.88 1016.3,1398.04 1036.25,1405.58 \n  1056.42,1412.49 1076.81,1418.76 1097.38,1424.39 1118.11,1429.37 1139,1433.69 1160.01,1437.36 1181.12,1440.36 1202.32,1442.7 1223.58,1444.38 1244.88,1445.38 \n  1266.2,1445.72 1287.53,1445.38 1308.83,1444.38 1330.09,1442.7 1351.29,1440.36 1372.4,1437.36 1393.41,1433.69 1414.3,1429.37 1435.03,1424.39 1455.6,1418.76 \n  1475.99,1412.49 1496.16,1405.58 1516.11,1398.04 1535.82,1389.88 1555.25,1381.11 1574.41,1371.72 1593.25,1361.74 1611.78,1351.18 1629.96,1340.03 1647.79,1328.33 \n  1665.23,1316.06 1682.29,1303.26 1698.93,1289.92 1715.15,1276.07 1730.92,1261.72 1746.24,1246.88 1761.08,1231.56 1775.43,1215.79 1789.28,1199.57 1802.62,1182.93 \n  1815.42,1165.88 1827.68,1148.43 1839.39,1130.6 1850.54,1112.42 1861.1,1093.89 1871.08,1075.05 1880.46,1055.89 1889.24,1036.46 1897.4,1016.75 1904.94,996.805 \n  1911.85,976.628 1918.12,956.245 1923.75,935.674 1928.73,914.937 1933.05,894.053 1936.72,873.045 1939.72,851.931 1942.06,830.733 1943.73,809.473 1944.74,788.17 \n  1945.07,766.846 1944.74,745.522 1943.73,724.219 1942.06,702.959 1939.72,681.761 1936.72,660.647 1933.05,639.638 1928.73,618.755 1923.75,598.018 1918.12,577.447 \n  1911.85,557.064 1904.94,536.887 1897.4,516.937 1889.24,497.234 1880.46,477.797 1871.08,458.646 1861.1,439.798 1850.54,421.273 1839.39,403.089 1827.68,385.265 \n  1815.42,367.816 1802.62,350.762 1789.28,334.118 1775.43,317.901 1761.08,302.128 1746.24,286.813 1730.92,271.971 1715.15,257.618 1698.93,243.768 1682.29,230.434 \n  1665.23,217.629 1647.79,205.366 1629.96,193.657 1611.78,182.514 1593.25,171.948 1574.41,161.969 1555.25,152.586 1535.82,143.81 1516.11,135.649 1496.16,128.111 \n  1475.99,121.203 1455.6,114.932 1435.03,109.304 1414.3,104.326 1393.41,100.001 1372.4,96.3343 1351.29,93.3294 1330.09,90.9891 1308.83,89.3159 1287.53,88.3113 \n  1266.2,87.9763 1244.88,88.3113 1223.58,89.3159 1202.32,90.9891 1181.12,93.3294 1160.01,96.3343 1139,100.001 1118.11,104.326 1097.38,109.304 1076.81,114.932 \n  1056.42,121.203 1036.25,128.111 1016.3,135.649 996.593,143.81 977.156,152.586 958.004,161.969 939.157,171.948 920.632,182.514 902.448,193.657 884.623,205.366 \n  867.175,217.629 850.121,230.434 833.477,243.768 817.26,257.618 801.486,271.971 786.171,286.813 771.33,302.128 756.977,317.901 743.127,334.118 729.792,350.762 \n  716.988,367.816 704.725,385.265 693.016,403.089 681.873,421.273 671.307,439.798 661.327,458.646 651.945,477.797 643.169,497.234 635.008,516.937 627.469,536.887 \n  620.561,557.064 614.29,577.447 608.663,598.018 603.684,618.755 599.36,639.638 595.693,660.647 592.688,681.761 590.348,702.959 588.675,724.219 587.67,745.522 \n  \n  \"/>\n<polyline clip-path=\"url(#clip852)\" style=\"stroke:#3da44d; stroke-width:4; stroke-opacity:1; fill:none\" points=\"\n  1266.2,766.846 587.335,766.846 \n  \"/>\n<polyline clip-path=\"url(#clip852)\" style=\"stroke:#c271d2; stroke-width:4; stroke-opacity:1; fill:none\" points=\"\n  1266.2,766.846 587.67,788.17 \n  \"/>\n<polyline clip-path=\"url(#clip852)\" style=\"stroke:#ac8d18; stroke-width:4; stroke-opacity:1; fill:none\" points=\"\n  1266.2,766.846 588.675,809.473 \n  \"/>\n<polyline clip-path=\"url(#clip852)\" style=\"stroke:#00a9ad; stroke-width:4; stroke-opacity:1; fill:none\" points=\"\n  1266.2,766.846 590.348,830.733 \n  \"/>\n<polyline clip-path=\"url(#clip852)\" style=\"stroke:#ed5d92; stroke-width:4; stroke-opacity:1; fill:none\" points=\"\n  1266.2,766.846 592.688,851.931 \n  \"/>\n<polyline clip-path=\"url(#clip852)\" style=\"stroke:#c68125; stroke-width:4; stroke-opacity:1; fill:none\" points=\"\n  1266.2,766.846 595.693,873.045 \n  \"/>\n<polyline clip-path=\"url(#clip852)\" style=\"stroke:#00a98d; stroke-width:4; stroke-opacity:1; fill:none\" points=\"\n  1266.2,766.846 599.36,894.053 \n  \"/>\n<polyline clip-path=\"url(#clip852)\" style=\"stroke:#8e971d; stroke-width:4; stroke-opacity:1; fill:none\" points=\"\n  1266.2,766.846 603.684,914.937 \n  \"/>\n<polyline clip-path=\"url(#clip852)\" style=\"stroke:#00a8cb; stroke-width:4; stroke-opacity:1; fill:none\" points=\"\n  1266.2,766.846 608.663,935.674 \n  \"/>\n<polyline clip-path=\"url(#clip852)\" style=\"stroke:#9b7fe8; stroke-width:4; stroke-opacity:1; fill:none\" points=\"\n  1266.2,766.846 614.29,956.245 \n  \"/>\n<polyline clip-path=\"url(#clip852)\" style=\"stroke:#608cf6; stroke-width:4; stroke-opacity:1; fill:none\" points=\"\n  1266.2,766.846 620.561,976.628 \n  \"/>\n<polyline clip-path=\"url(#clip852)\" style=\"stroke:#f05f73; stroke-width:4; stroke-opacity:1; fill:none\" points=\"\n  1266.2,766.846 627.469,996.805 \n  \"/>\n<polyline clip-path=\"url(#clip852)\" style=\"stroke:#dd64b5; stroke-width:4; stroke-opacity:1; fill:none\" points=\"\n  1266.2,766.846 635.008,1016.75 \n  \"/>\n<polyline clip-path=\"url(#clip852)\" style=\"stroke:#6b9e32; stroke-width:4; stroke-opacity:1; fill:none\" points=\"\n  1266.2,766.846 643.169,1036.46 \n  \"/>\n<polyline clip-path=\"url(#clip852)\" style=\"stroke:#009af9; stroke-width:4; stroke-opacity:1; fill:none\" points=\"\n  1266.2,766.846 651.945,1055.89 \n  \"/>\n<polyline clip-path=\"url(#clip852)\" style=\"stroke:#e26f46; stroke-width:4; stroke-opacity:1; fill:none\" points=\"\n  1266.2,766.846 661.327,1075.05 \n  \"/>\n<polyline clip-path=\"url(#clip852)\" style=\"stroke:#3da44d; stroke-width:4; stroke-opacity:1; fill:none\" points=\"\n  1266.2,766.846 671.307,1093.89 \n  \"/>\n<polyline clip-path=\"url(#clip852)\" style=\"stroke:#c271d2; stroke-width:4; stroke-opacity:1; fill:none\" points=\"\n  1266.2,766.846 681.873,1112.42 \n  \"/>\n<polyline clip-path=\"url(#clip852)\" style=\"stroke:#ac8d18; stroke-width:4; stroke-opacity:1; fill:none\" points=\"\n  1266.2,766.846 693.016,1130.6 \n  \"/>\n<polyline clip-path=\"url(#clip852)\" style=\"stroke:#00a9ad; stroke-width:4; stroke-opacity:1; fill:none\" points=\"\n  1266.2,766.846 704.725,1148.43 \n  \"/>\n<polyline clip-path=\"url(#clip852)\" style=\"stroke:#ed5d92; stroke-width:4; stroke-opacity:1; fill:none\" points=\"\n  1266.2,766.846 716.988,1165.88 \n  \"/>\n<polyline clip-path=\"url(#clip852)\" style=\"stroke:#c68125; stroke-width:4; stroke-opacity:1; fill:none\" points=\"\n  1266.2,766.846 729.792,1182.93 \n  \"/>\n<polyline clip-path=\"url(#clip852)\" style=\"stroke:#00a98d; stroke-width:4; stroke-opacity:1; fill:none\" points=\"\n  1266.2,766.846 743.127,1199.57 \n  \"/>\n<polyline clip-path=\"url(#clip852)\" style=\"stroke:#8e971d; stroke-width:4; stroke-opacity:1; fill:none\" points=\"\n  1266.2,766.846 756.977,1215.79 \n  \"/>\n<polyline clip-path=\"url(#clip852)\" style=\"stroke:#00a8cb; stroke-width:4; stroke-opacity:1; fill:none\" points=\"\n  1266.2,766.846 771.33,1231.56 \n  \"/>\n<polyline clip-path=\"url(#clip852)\" style=\"stroke:#9b7fe8; stroke-width:4; stroke-opacity:1; fill:none\" points=\"\n  1266.2,766.846 786.171,1246.88 \n  \"/>\n<polyline clip-path=\"url(#clip852)\" style=\"stroke:#608cf6; stroke-width:4; stroke-opacity:1; fill:none\" points=\"\n  1266.2,766.846 801.486,1261.72 \n  \"/>\n<polyline clip-path=\"url(#clip852)\" style=\"stroke:#f05f73; stroke-width:4; stroke-opacity:1; fill:none\" points=\"\n  1266.2,766.846 817.26,1276.07 \n  \"/>\n<polyline clip-path=\"url(#clip852)\" style=\"stroke:#dd64b5; stroke-width:4; stroke-opacity:1; fill:none\" points=\"\n  1266.2,766.846 833.477,1289.92 \n  \"/>\n<polyline clip-path=\"url(#clip852)\" style=\"stroke:#6b9e32; stroke-width:4; stroke-opacity:1; fill:none\" points=\"\n  1266.2,766.846 850.121,1303.26 \n  \"/>\n<polyline clip-path=\"url(#clip852)\" style=\"stroke:#009af9; stroke-width:4; stroke-opacity:1; fill:none\" points=\"\n  1266.2,766.846 867.175,1316.06 \n  \"/>\n<polyline clip-path=\"url(#clip852)\" style=\"stroke:#e26f46; stroke-width:4; stroke-opacity:1; fill:none\" points=\"\n  1266.2,766.846 884.623,1328.33 \n  \"/>\n<polyline clip-path=\"url(#clip852)\" style=\"stroke:#3da44d; stroke-width:4; stroke-opacity:1; fill:none\" points=\"\n  1266.2,766.846 902.448,1340.03 \n  \"/>\n<polyline clip-path=\"url(#clip852)\" style=\"stroke:#c271d2; stroke-width:4; stroke-opacity:1; fill:none\" points=\"\n  1266.2,766.846 920.632,1351.18 \n  \"/>\n<polyline clip-path=\"url(#clip852)\" style=\"stroke:#ac8d18; stroke-width:4; stroke-opacity:1; fill:none\" points=\"\n  1266.2,766.846 939.157,1361.74 \n  \"/>\n<polyline clip-path=\"url(#clip852)\" style=\"stroke:#00a9ad; stroke-width:4; stroke-opacity:1; fill:none\" points=\"\n  1266.2,766.846 958.004,1371.72 \n  \"/>\n<polyline clip-path=\"url(#clip852)\" style=\"stroke:#ed5d92; stroke-width:4; stroke-opacity:1; fill:none\" points=\"\n  1266.2,766.846 977.156,1381.11 \n  \"/>\n<polyline clip-path=\"url(#clip852)\" style=\"stroke:#c68125; stroke-width:4; stroke-opacity:1; fill:none\" points=\"\n  1266.2,766.846 996.593,1389.88 \n  \"/>\n<polyline clip-path=\"url(#clip852)\" style=\"stroke:#00a98d; stroke-width:4; stroke-opacity:1; fill:none\" points=\"\n  1266.2,766.846 1016.3,1398.04 \n  \"/>\n<polyline clip-path=\"url(#clip852)\" style=\"stroke:#8e971d; stroke-width:4; stroke-opacity:1; fill:none\" points=\"\n  1266.2,766.846 1036.25,1405.58 \n  \"/>\n<polyline clip-path=\"url(#clip852)\" style=\"stroke:#00a8cb; stroke-width:4; stroke-opacity:1; fill:none\" points=\"\n  1266.2,766.846 1056.42,1412.49 \n  \"/>\n<polyline clip-path=\"url(#clip852)\" style=\"stroke:#9b7fe8; stroke-width:4; stroke-opacity:1; fill:none\" points=\"\n  1266.2,766.846 1076.81,1418.76 \n  \"/>\n<polyline clip-path=\"url(#clip852)\" style=\"stroke:#608cf6; stroke-width:4; stroke-opacity:1; fill:none\" points=\"\n  1266.2,766.846 1097.38,1424.39 \n  \"/>\n<polyline clip-path=\"url(#clip852)\" style=\"stroke:#f05f73; stroke-width:4; stroke-opacity:1; fill:none\" points=\"\n  1266.2,766.846 1118.11,1429.37 \n  \"/>\n<polyline clip-path=\"url(#clip852)\" style=\"stroke:#dd64b5; stroke-width:4; stroke-opacity:1; fill:none\" points=\"\n  1266.2,766.846 1139,1433.69 \n  \"/>\n<polyline clip-path=\"url(#clip852)\" style=\"stroke:#6b9e32; stroke-width:4; stroke-opacity:1; fill:none\" points=\"\n  1266.2,766.846 1160.01,1437.36 \n  \"/>\n<polyline clip-path=\"url(#clip852)\" style=\"stroke:#009af9; stroke-width:4; stroke-opacity:1; fill:none\" points=\"\n  1266.2,766.846 1181.12,1440.36 \n  \"/>\n<polyline clip-path=\"url(#clip852)\" style=\"stroke:#e26f46; stroke-width:4; stroke-opacity:1; fill:none\" points=\"\n  1266.2,766.846 1202.32,1442.7 \n  \"/>\n<polyline clip-path=\"url(#clip852)\" style=\"stroke:#3da44d; stroke-width:4; stroke-opacity:1; fill:none\" points=\"\n  1266.2,766.846 1223.58,1444.38 \n  \"/>\n<polyline clip-path=\"url(#clip852)\" style=\"stroke:#c271d2; stroke-width:4; stroke-opacity:1; fill:none\" points=\"\n  1266.2,766.846 1244.88,1445.38 \n  \"/>\n<polyline clip-path=\"url(#clip852)\" style=\"stroke:#ac8d18; stroke-width:4; stroke-opacity:1; fill:none\" points=\"\n  1266.2,766.846 1266.2,1445.72 \n  \"/>\n<polyline clip-path=\"url(#clip852)\" style=\"stroke:#00a9ad; stroke-width:4; stroke-opacity:1; fill:none\" points=\"\n  1266.2,766.846 1287.53,1445.38 \n  \"/>\n<polyline clip-path=\"url(#clip852)\" style=\"stroke:#ed5d92; stroke-width:4; stroke-opacity:1; fill:none\" points=\"\n  1266.2,766.846 1308.83,1444.38 \n  \"/>\n<polyline clip-path=\"url(#clip852)\" style=\"stroke:#c68125; stroke-width:4; stroke-opacity:1; fill:none\" points=\"\n  1266.2,766.846 1330.09,1442.7 \n  \"/>\n<polyline clip-path=\"url(#clip852)\" style=\"stroke:#00a98d; stroke-width:4; stroke-opacity:1; fill:none\" points=\"\n  1266.2,766.846 1351.29,1440.36 \n  \"/>\n<polyline clip-path=\"url(#clip852)\" style=\"stroke:#8e971d; stroke-width:4; stroke-opacity:1; fill:none\" points=\"\n  1266.2,766.846 1372.4,1437.36 \n  \"/>\n<polyline clip-path=\"url(#clip852)\" style=\"stroke:#00a8cb; stroke-width:4; stroke-opacity:1; fill:none\" points=\"\n  1266.2,766.846 1393.41,1433.69 \n  \"/>\n<polyline clip-path=\"url(#clip852)\" style=\"stroke:#9b7fe8; stroke-width:4; stroke-opacity:1; fill:none\" points=\"\n  1266.2,766.846 1414.3,1429.37 \n  \"/>\n<polyline clip-path=\"url(#clip852)\" style=\"stroke:#608cf6; stroke-width:4; stroke-opacity:1; fill:none\" points=\"\n  1266.2,766.846 1435.03,1424.39 \n  \"/>\n<polyline clip-path=\"url(#clip852)\" style=\"stroke:#f05f73; stroke-width:4; stroke-opacity:1; fill:none\" points=\"\n  1266.2,766.846 1455.6,1418.76 \n  \"/>\n<polyline clip-path=\"url(#clip852)\" style=\"stroke:#dd64b5; stroke-width:4; stroke-opacity:1; fill:none\" points=\"\n  1266.2,766.846 1475.99,1412.49 \n  \"/>\n<polyline clip-path=\"url(#clip852)\" style=\"stroke:#6b9e32; stroke-width:4; stroke-opacity:1; fill:none\" points=\"\n  1266.2,766.846 1496.16,1405.58 \n  \"/>\n<polyline clip-path=\"url(#clip852)\" style=\"stroke:#009af9; stroke-width:4; stroke-opacity:1; fill:none\" points=\"\n  1266.2,766.846 1516.11,1398.04 \n  \"/>\n<polyline clip-path=\"url(#clip852)\" style=\"stroke:#e26f46; stroke-width:4; stroke-opacity:1; fill:none\" points=\"\n  1266.2,766.846 1535.82,1389.88 \n  \"/>\n<polyline clip-path=\"url(#clip852)\" style=\"stroke:#3da44d; stroke-width:4; stroke-opacity:1; fill:none\" points=\"\n  1266.2,766.846 1555.25,1381.11 \n  \"/>\n<polyline clip-path=\"url(#clip852)\" style=\"stroke:#c271d2; stroke-width:4; stroke-opacity:1; fill:none\" points=\"\n  1266.2,766.846 1574.41,1371.72 \n  \"/>\n<polyline clip-path=\"url(#clip852)\" style=\"stroke:#ac8d18; stroke-width:4; stroke-opacity:1; fill:none\" points=\"\n  1266.2,766.846 1593.25,1361.74 \n  \"/>\n<polyline clip-path=\"url(#clip852)\" style=\"stroke:#00a9ad; stroke-width:4; stroke-opacity:1; fill:none\" points=\"\n  1266.2,766.846 1611.78,1351.18 \n  \"/>\n<polyline clip-path=\"url(#clip852)\" style=\"stroke:#ed5d92; stroke-width:4; stroke-opacity:1; fill:none\" points=\"\n  1266.2,766.846 1629.96,1340.03 \n  \"/>\n<polyline clip-path=\"url(#clip852)\" style=\"stroke:#c68125; stroke-width:4; stroke-opacity:1; fill:none\" points=\"\n  1266.2,766.846 1647.79,1328.33 \n  \"/>\n<polyline clip-path=\"url(#clip852)\" style=\"stroke:#00a98d; stroke-width:4; stroke-opacity:1; fill:none\" points=\"\n  1266.2,766.846 1665.23,1316.06 \n  \"/>\n<polyline clip-path=\"url(#clip852)\" style=\"stroke:#8e971d; stroke-width:4; stroke-opacity:1; fill:none\" points=\"\n  1266.2,766.846 1682.29,1303.26 \n  \"/>\n<polyline clip-path=\"url(#clip852)\" style=\"stroke:#00a8cb; stroke-width:4; stroke-opacity:1; fill:none\" points=\"\n  1266.2,766.846 1698.93,1289.92 \n  \"/>\n<polyline clip-path=\"url(#clip852)\" style=\"stroke:#9b7fe8; stroke-width:4; stroke-opacity:1; fill:none\" points=\"\n  1266.2,766.846 1715.15,1276.07 \n  \"/>\n<polyline clip-path=\"url(#clip852)\" style=\"stroke:#608cf6; stroke-width:4; stroke-opacity:1; fill:none\" points=\"\n  1266.2,766.846 1730.92,1261.72 \n  \"/>\n<polyline clip-path=\"url(#clip852)\" style=\"stroke:#f05f73; stroke-width:4; stroke-opacity:1; fill:none\" points=\"\n  1266.2,766.846 1746.24,1246.88 \n  \"/>\n<polyline clip-path=\"url(#clip852)\" style=\"stroke:#dd64b5; stroke-width:4; stroke-opacity:1; fill:none\" points=\"\n  1266.2,766.846 1761.08,1231.56 \n  \"/>\n<polyline clip-path=\"url(#clip852)\" style=\"stroke:#6b9e32; stroke-width:4; stroke-opacity:1; fill:none\" points=\"\n  1266.2,766.846 1775.43,1215.79 \n  \"/>\n<polyline clip-path=\"url(#clip852)\" style=\"stroke:#009af9; stroke-width:4; stroke-opacity:1; fill:none\" points=\"\n  1266.2,766.846 1789.28,1199.57 \n  \"/>\n<polyline clip-path=\"url(#clip852)\" style=\"stroke:#e26f46; stroke-width:4; stroke-opacity:1; fill:none\" points=\"\n  1266.2,766.846 1802.62,1182.93 \n  \"/>\n<polyline clip-path=\"url(#clip852)\" style=\"stroke:#3da44d; stroke-width:4; stroke-opacity:1; fill:none\" points=\"\n  1266.2,766.846 1815.42,1165.88 \n  \"/>\n<polyline clip-path=\"url(#clip852)\" style=\"stroke:#c271d2; stroke-width:4; stroke-opacity:1; fill:none\" points=\"\n  1266.2,766.846 1827.68,1148.43 \n  \"/>\n<polyline clip-path=\"url(#clip852)\" style=\"stroke:#ac8d18; stroke-width:4; stroke-opacity:1; fill:none\" points=\"\n  1266.2,766.846 1839.39,1130.6 \n  \"/>\n<polyline clip-path=\"url(#clip852)\" style=\"stroke:#00a9ad; stroke-width:4; stroke-opacity:1; fill:none\" points=\"\n  1266.2,766.846 1850.54,1112.42 \n  \"/>\n<polyline clip-path=\"url(#clip852)\" style=\"stroke:#ed5d92; stroke-width:4; stroke-opacity:1; fill:none\" points=\"\n  1266.2,766.846 1861.1,1093.89 \n  \"/>\n<polyline clip-path=\"url(#clip852)\" style=\"stroke:#c68125; stroke-width:4; stroke-opacity:1; fill:none\" points=\"\n  1266.2,766.846 1871.08,1075.05 \n  \"/>\n<polyline clip-path=\"url(#clip852)\" style=\"stroke:#00a98d; stroke-width:4; stroke-opacity:1; fill:none\" points=\"\n  1266.2,766.846 1880.46,1055.89 \n  \"/>\n<polyline clip-path=\"url(#clip852)\" style=\"stroke:#8e971d; stroke-width:4; stroke-opacity:1; fill:none\" points=\"\n  1266.2,766.846 1889.24,1036.46 \n  \"/>\n<polyline clip-path=\"url(#clip852)\" style=\"stroke:#00a8cb; stroke-width:4; stroke-opacity:1; fill:none\" points=\"\n  1266.2,766.846 1897.4,1016.75 \n  \"/>\n<polyline clip-path=\"url(#clip852)\" style=\"stroke:#9b7fe8; stroke-width:4; stroke-opacity:1; fill:none\" points=\"\n  1266.2,766.846 1904.94,996.805 \n  \"/>\n<polyline clip-path=\"url(#clip852)\" style=\"stroke:#608cf6; stroke-width:4; stroke-opacity:1; fill:none\" points=\"\n  1266.2,766.846 1911.85,976.628 \n  \"/>\n<polyline clip-path=\"url(#clip852)\" style=\"stroke:#f05f73; stroke-width:4; stroke-opacity:1; fill:none\" points=\"\n  1266.2,766.846 1918.12,956.245 \n  \"/>\n<polyline clip-path=\"url(#clip852)\" style=\"stroke:#dd64b5; stroke-width:4; stroke-opacity:1; fill:none\" points=\"\n  1266.2,766.846 1923.75,935.674 \n  \"/>\n<polyline clip-path=\"url(#clip852)\" style=\"stroke:#6b9e32; stroke-width:4; stroke-opacity:1; fill:none\" points=\"\n  1266.2,766.846 1928.73,914.937 \n  \"/>\n<polyline clip-path=\"url(#clip852)\" style=\"stroke:#009af9; stroke-width:4; stroke-opacity:1; fill:none\" points=\"\n  1266.2,766.846 1933.05,894.053 \n  \"/>\n<polyline clip-path=\"url(#clip852)\" style=\"stroke:#e26f46; stroke-width:4; stroke-opacity:1; fill:none\" points=\"\n  1266.2,766.846 1936.72,873.045 \n  \"/>\n<polyline clip-path=\"url(#clip852)\" style=\"stroke:#3da44d; stroke-width:4; stroke-opacity:1; fill:none\" points=\"\n  1266.2,766.846 1939.72,851.931 \n  \"/>\n<polyline clip-path=\"url(#clip852)\" style=\"stroke:#c271d2; stroke-width:4; stroke-opacity:1; fill:none\" points=\"\n  1266.2,766.846 1942.06,830.733 \n  \"/>\n<polyline clip-path=\"url(#clip852)\" style=\"stroke:#ac8d18; stroke-width:4; stroke-opacity:1; fill:none\" points=\"\n  1266.2,766.846 1943.73,809.473 \n  \"/>\n<polyline clip-path=\"url(#clip852)\" style=\"stroke:#00a9ad; stroke-width:4; stroke-opacity:1; fill:none\" points=\"\n  1266.2,766.846 1944.74,788.17 \n  \"/>\n<polyline clip-path=\"url(#clip852)\" style=\"stroke:#ed5d92; stroke-width:4; stroke-opacity:1; fill:none\" points=\"\n  1266.2,766.846 1945.07,766.846 \n  \"/>\n<polyline clip-path=\"url(#clip852)\" style=\"stroke:#c68125; stroke-width:4; stroke-opacity:1; fill:none\" points=\"\n  1266.2,766.846 1944.74,745.522 \n  \"/>\n<polyline clip-path=\"url(#clip852)\" style=\"stroke:#00a98d; stroke-width:4; stroke-opacity:1; fill:none\" points=\"\n  1266.2,766.846 1943.73,724.219 \n  \"/>\n<polyline clip-path=\"url(#clip852)\" style=\"stroke:#8e971d; stroke-width:4; stroke-opacity:1; fill:none\" points=\"\n  1266.2,766.846 1942.06,702.959 \n  \"/>\n<polyline clip-path=\"url(#clip852)\" style=\"stroke:#00a8cb; stroke-width:4; stroke-opacity:1; fill:none\" points=\"\n  1266.2,766.846 1939.72,681.761 \n  \"/>\n<polyline clip-path=\"url(#clip852)\" style=\"stroke:#9b7fe8; stroke-width:4; stroke-opacity:1; fill:none\" points=\"\n  1266.2,766.846 1936.72,660.647 \n  \"/>\n<polyline clip-path=\"url(#clip852)\" style=\"stroke:#608cf6; stroke-width:4; stroke-opacity:1; fill:none\" points=\"\n  1266.2,766.846 1933.05,639.638 \n  \"/>\n<polyline clip-path=\"url(#clip852)\" style=\"stroke:#f05f73; stroke-width:4; stroke-opacity:1; fill:none\" points=\"\n  1266.2,766.846 1928.73,618.755 \n  \"/>\n<polyline clip-path=\"url(#clip852)\" style=\"stroke:#dd64b5; stroke-width:4; stroke-opacity:1; fill:none\" points=\"\n  1266.2,766.846 1923.75,598.018 \n  \"/>\n<polyline clip-path=\"url(#clip852)\" style=\"stroke:#6b9e32; stroke-width:4; stroke-opacity:1; fill:none\" points=\"\n  1266.2,766.846 1918.12,577.447 \n  \"/>\n<polyline clip-path=\"url(#clip852)\" style=\"stroke:#009af9; stroke-width:4; stroke-opacity:1; fill:none\" points=\"\n  1266.2,766.846 1911.85,557.064 \n  \"/>\n<polyline clip-path=\"url(#clip852)\" style=\"stroke:#e26f46; stroke-width:4; stroke-opacity:1; fill:none\" points=\"\n  1266.2,766.846 1904.94,536.887 \n  \"/>\n<polyline clip-path=\"url(#clip852)\" style=\"stroke:#3da44d; stroke-width:4; stroke-opacity:1; fill:none\" points=\"\n  1266.2,766.846 1897.4,516.937 \n  \"/>\n<polyline clip-path=\"url(#clip852)\" style=\"stroke:#c271d2; stroke-width:4; stroke-opacity:1; fill:none\" points=\"\n  1266.2,766.846 1889.24,497.234 \n  \"/>\n<polyline clip-path=\"url(#clip852)\" style=\"stroke:#ac8d18; stroke-width:4; stroke-opacity:1; fill:none\" points=\"\n  1266.2,766.846 1880.46,477.797 \n  \"/>\n<polyline clip-path=\"url(#clip852)\" style=\"stroke:#00a9ad; stroke-width:4; stroke-opacity:1; fill:none\" points=\"\n  1266.2,766.846 1871.08,458.646 \n  \"/>\n<polyline clip-path=\"url(#clip852)\" style=\"stroke:#ed5d92; stroke-width:4; stroke-opacity:1; fill:none\" points=\"\n  1266.2,766.846 1861.1,439.798 \n  \"/>\n<polyline clip-path=\"url(#clip852)\" style=\"stroke:#c68125; stroke-width:4; stroke-opacity:1; fill:none\" points=\"\n  1266.2,766.846 1850.54,421.273 \n  \"/>\n<polyline clip-path=\"url(#clip852)\" style=\"stroke:#00a98d; stroke-width:4; stroke-opacity:1; fill:none\" points=\"\n  1266.2,766.846 1839.39,403.089 \n  \"/>\n<polyline clip-path=\"url(#clip852)\" style=\"stroke:#8e971d; stroke-width:4; stroke-opacity:1; fill:none\" points=\"\n  1266.2,766.846 1827.68,385.265 \n  \"/>\n<polyline clip-path=\"url(#clip852)\" style=\"stroke:#00a8cb; stroke-width:4; stroke-opacity:1; fill:none\" points=\"\n  1266.2,766.846 1815.42,367.816 \n  \"/>\n<polyline clip-path=\"url(#clip852)\" style=\"stroke:#9b7fe8; stroke-width:4; stroke-opacity:1; fill:none\" points=\"\n  1266.2,766.846 1802.62,350.762 \n  \"/>\n<polyline clip-path=\"url(#clip852)\" style=\"stroke:#608cf6; stroke-width:4; stroke-opacity:1; fill:none\" points=\"\n  1266.2,766.846 1789.28,334.118 \n  \"/>\n<polyline clip-path=\"url(#clip852)\" style=\"stroke:#f05f73; stroke-width:4; stroke-opacity:1; fill:none\" points=\"\n  1266.2,766.846 1775.43,317.901 \n  \"/>\n<polyline clip-path=\"url(#clip852)\" style=\"stroke:#dd64b5; stroke-width:4; stroke-opacity:1; fill:none\" points=\"\n  1266.2,766.846 1761.08,302.128 \n  \"/>\n<polyline clip-path=\"url(#clip852)\" style=\"stroke:#6b9e32; stroke-width:4; stroke-opacity:1; fill:none\" points=\"\n  1266.2,766.846 1746.24,286.813 \n  \"/>\n<polyline clip-path=\"url(#clip852)\" style=\"stroke:#009af9; stroke-width:4; stroke-opacity:1; fill:none\" points=\"\n  1266.2,766.846 1730.92,271.971 \n  \"/>\n<polyline clip-path=\"url(#clip852)\" style=\"stroke:#e26f46; stroke-width:4; stroke-opacity:1; fill:none\" points=\"\n  1266.2,766.846 1715.15,257.618 \n  \"/>\n<polyline clip-path=\"url(#clip852)\" style=\"stroke:#3da44d; stroke-width:4; stroke-opacity:1; fill:none\" points=\"\n  1266.2,766.846 1698.93,243.768 \n  \"/>\n<polyline clip-path=\"url(#clip852)\" style=\"stroke:#c271d2; stroke-width:4; stroke-opacity:1; fill:none\" points=\"\n  1266.2,766.846 1682.29,230.434 \n  \"/>\n<polyline clip-path=\"url(#clip852)\" style=\"stroke:#ac8d18; stroke-width:4; stroke-opacity:1; fill:none\" points=\"\n  1266.2,766.846 1665.23,217.629 \n  \"/>\n<polyline clip-path=\"url(#clip852)\" style=\"stroke:#00a9ad; stroke-width:4; stroke-opacity:1; fill:none\" points=\"\n  1266.2,766.846 1647.79,205.366 \n  \"/>\n<polyline clip-path=\"url(#clip852)\" style=\"stroke:#ed5d92; stroke-width:4; stroke-opacity:1; fill:none\" points=\"\n  1266.2,766.846 1629.96,193.657 \n  \"/>\n<polyline clip-path=\"url(#clip852)\" style=\"stroke:#c68125; stroke-width:4; stroke-opacity:1; fill:none\" points=\"\n  1266.2,766.846 1611.78,182.514 \n  \"/>\n<polyline clip-path=\"url(#clip852)\" style=\"stroke:#00a98d; stroke-width:4; stroke-opacity:1; fill:none\" points=\"\n  1266.2,766.846 1593.25,171.948 \n  \"/>\n<polyline clip-path=\"url(#clip852)\" style=\"stroke:#8e971d; stroke-width:4; stroke-opacity:1; fill:none\" points=\"\n  1266.2,766.846 1574.41,161.969 \n  \"/>\n<polyline clip-path=\"url(#clip852)\" style=\"stroke:#00a8cb; stroke-width:4; stroke-opacity:1; fill:none\" points=\"\n  1266.2,766.846 1555.25,152.586 \n  \"/>\n<polyline clip-path=\"url(#clip852)\" style=\"stroke:#9b7fe8; stroke-width:4; stroke-opacity:1; fill:none\" points=\"\n  1266.2,766.846 1535.82,143.81 \n  \"/>\n<polyline clip-path=\"url(#clip852)\" style=\"stroke:#608cf6; stroke-width:4; stroke-opacity:1; fill:none\" points=\"\n  1266.2,766.846 1516.11,135.649 \n  \"/>\n<polyline clip-path=\"url(#clip852)\" style=\"stroke:#f05f73; stroke-width:4; stroke-opacity:1; fill:none\" points=\"\n  1266.2,766.846 1496.16,128.111 \n  \"/>\n<polyline clip-path=\"url(#clip852)\" style=\"stroke:#dd64b5; stroke-width:4; stroke-opacity:1; fill:none\" points=\"\n  1266.2,766.846 1475.99,121.203 \n  \"/>\n<polyline clip-path=\"url(#clip852)\" style=\"stroke:#6b9e32; stroke-width:4; stroke-opacity:1; fill:none\" points=\"\n  1266.2,766.846 1455.6,114.932 \n  \"/>\n<polyline clip-path=\"url(#clip852)\" style=\"stroke:#009af9; stroke-width:4; stroke-opacity:1; fill:none\" points=\"\n  1266.2,766.846 1435.03,109.304 \n  \"/>\n<polyline clip-path=\"url(#clip852)\" style=\"stroke:#e26f46; stroke-width:4; stroke-opacity:1; fill:none\" points=\"\n  1266.2,766.846 1414.3,104.326 \n  \"/>\n<polyline clip-path=\"url(#clip852)\" style=\"stroke:#3da44d; stroke-width:4; stroke-opacity:1; fill:none\" points=\"\n  1266.2,766.846 1393.41,100.001 \n  \"/>\n<polyline clip-path=\"url(#clip852)\" style=\"stroke:#c271d2; stroke-width:4; stroke-opacity:1; fill:none\" points=\"\n  1266.2,766.846 1372.4,96.3343 \n  \"/>\n<polyline clip-path=\"url(#clip852)\" style=\"stroke:#ac8d18; stroke-width:4; stroke-opacity:1; fill:none\" points=\"\n  1266.2,766.846 1351.29,93.3294 \n  \"/>\n<polyline clip-path=\"url(#clip852)\" style=\"stroke:#00a9ad; stroke-width:4; stroke-opacity:1; fill:none\" points=\"\n  1266.2,766.846 1330.09,90.9891 \n  \"/>\n<polyline clip-path=\"url(#clip852)\" style=\"stroke:#ed5d92; stroke-width:4; stroke-opacity:1; fill:none\" points=\"\n  1266.2,766.846 1308.83,89.3159 \n  \"/>\n<polyline clip-path=\"url(#clip852)\" style=\"stroke:#c68125; stroke-width:4; stroke-opacity:1; fill:none\" points=\"\n  1266.2,766.846 1287.53,88.3113 \n  \"/>\n<polyline clip-path=\"url(#clip852)\" style=\"stroke:#00a98d; stroke-width:4; stroke-opacity:1; fill:none\" points=\"\n  1266.2,766.846 1266.2,87.9763 \n  \"/>\n<polyline clip-path=\"url(#clip852)\" style=\"stroke:#8e971d; stroke-width:4; stroke-opacity:1; fill:none\" points=\"\n  1266.2,766.846 1244.88,88.3113 \n  \"/>\n<polyline clip-path=\"url(#clip852)\" style=\"stroke:#00a8cb; stroke-width:4; stroke-opacity:1; fill:none\" points=\"\n  1266.2,766.846 1223.58,89.3159 \n  \"/>\n<polyline clip-path=\"url(#clip852)\" style=\"stroke:#9b7fe8; stroke-width:4; stroke-opacity:1; fill:none\" points=\"\n  1266.2,766.846 1202.32,90.9891 \n  \"/>\n<polyline clip-path=\"url(#clip852)\" style=\"stroke:#608cf6; stroke-width:4; stroke-opacity:1; fill:none\" points=\"\n  1266.2,766.846 1181.12,93.3294 \n  \"/>\n<polyline clip-path=\"url(#clip852)\" style=\"stroke:#f05f73; stroke-width:4; stroke-opacity:1; fill:none\" points=\"\n  1266.2,766.846 1160.01,96.3343 \n  \"/>\n<polyline clip-path=\"url(#clip852)\" style=\"stroke:#dd64b5; stroke-width:4; stroke-opacity:1; fill:none\" points=\"\n  1266.2,766.846 1139,100.001 \n  \"/>\n<polyline clip-path=\"url(#clip852)\" style=\"stroke:#6b9e32; stroke-width:4; stroke-opacity:1; fill:none\" points=\"\n  1266.2,766.846 1118.11,104.326 \n  \"/>\n<polyline clip-path=\"url(#clip852)\" style=\"stroke:#009af9; stroke-width:4; stroke-opacity:1; fill:none\" points=\"\n  1266.2,766.846 1097.38,109.304 \n  \"/>\n<polyline clip-path=\"url(#clip852)\" style=\"stroke:#e26f46; stroke-width:4; stroke-opacity:1; fill:none\" points=\"\n  1266.2,766.846 1076.81,114.932 \n  \"/>\n<polyline clip-path=\"url(#clip852)\" style=\"stroke:#3da44d; stroke-width:4; stroke-opacity:1; fill:none\" points=\"\n  1266.2,766.846 1056.42,121.203 \n  \"/>\n<polyline clip-path=\"url(#clip852)\" style=\"stroke:#c271d2; stroke-width:4; stroke-opacity:1; fill:none\" points=\"\n  1266.2,766.846 1036.25,128.111 \n  \"/>\n<polyline clip-path=\"url(#clip852)\" style=\"stroke:#ac8d18; stroke-width:4; stroke-opacity:1; fill:none\" points=\"\n  1266.2,766.846 1016.3,135.649 \n  \"/>\n<polyline clip-path=\"url(#clip852)\" style=\"stroke:#00a9ad; stroke-width:4; stroke-opacity:1; fill:none\" points=\"\n  1266.2,766.846 996.593,143.81 \n  \"/>\n<polyline clip-path=\"url(#clip852)\" style=\"stroke:#ed5d92; stroke-width:4; stroke-opacity:1; fill:none\" points=\"\n  1266.2,766.846 977.156,152.586 \n  \"/>\n<polyline clip-path=\"url(#clip852)\" style=\"stroke:#c68125; stroke-width:4; stroke-opacity:1; fill:none\" points=\"\n  1266.2,766.846 958.004,161.969 \n  \"/>\n<polyline clip-path=\"url(#clip852)\" style=\"stroke:#00a98d; stroke-width:4; stroke-opacity:1; fill:none\" points=\"\n  1266.2,766.846 939.157,171.948 \n  \"/>\n<polyline clip-path=\"url(#clip852)\" style=\"stroke:#8e971d; stroke-width:4; stroke-opacity:1; fill:none\" points=\"\n  1266.2,766.846 920.632,182.514 \n  \"/>\n<polyline clip-path=\"url(#clip852)\" style=\"stroke:#00a8cb; stroke-width:4; stroke-opacity:1; fill:none\" points=\"\n  1266.2,766.846 902.448,193.657 \n  \"/>\n<polyline clip-path=\"url(#clip852)\" style=\"stroke:#9b7fe8; stroke-width:4; stroke-opacity:1; fill:none\" points=\"\n  1266.2,766.846 884.623,205.366 \n  \"/>\n<polyline clip-path=\"url(#clip852)\" style=\"stroke:#608cf6; stroke-width:4; stroke-opacity:1; fill:none\" points=\"\n  1266.2,766.846 867.175,217.629 \n  \"/>\n<polyline clip-path=\"url(#clip852)\" style=\"stroke:#f05f73; stroke-width:4; stroke-opacity:1; fill:none\" points=\"\n  1266.2,766.846 850.121,230.434 \n  \"/>\n<polyline clip-path=\"url(#clip852)\" style=\"stroke:#dd64b5; stroke-width:4; stroke-opacity:1; fill:none\" points=\"\n  1266.2,766.846 833.477,243.768 \n  \"/>\n<polyline clip-path=\"url(#clip852)\" style=\"stroke:#6b9e32; stroke-width:4; stroke-opacity:1; fill:none\" points=\"\n  1266.2,766.846 817.26,257.618 \n  \"/>\n<polyline clip-path=\"url(#clip852)\" style=\"stroke:#009af9; stroke-width:4; stroke-opacity:1; fill:none\" points=\"\n  1266.2,766.846 801.486,271.971 \n  \"/>\n<polyline clip-path=\"url(#clip852)\" style=\"stroke:#e26f46; stroke-width:4; stroke-opacity:1; fill:none\" points=\"\n  1266.2,766.846 786.171,286.813 \n  \"/>\n<polyline clip-path=\"url(#clip852)\" style=\"stroke:#3da44d; stroke-width:4; stroke-opacity:1; fill:none\" points=\"\n  1266.2,766.846 771.33,302.128 \n  \"/>\n<polyline clip-path=\"url(#clip852)\" style=\"stroke:#c271d2; stroke-width:4; stroke-opacity:1; fill:none\" points=\"\n  1266.2,766.846 756.977,317.901 \n  \"/>\n<polyline clip-path=\"url(#clip852)\" style=\"stroke:#ac8d18; stroke-width:4; stroke-opacity:1; fill:none\" points=\"\n  1266.2,766.846 743.127,334.118 \n  \"/>\n<polyline clip-path=\"url(#clip852)\" style=\"stroke:#00a9ad; stroke-width:4; stroke-opacity:1; fill:none\" points=\"\n  1266.2,766.846 729.792,350.762 \n  \"/>\n<polyline clip-path=\"url(#clip852)\" style=\"stroke:#ed5d92; stroke-width:4; stroke-opacity:1; fill:none\" points=\"\n  1266.2,766.846 716.988,367.816 \n  \"/>\n<polyline clip-path=\"url(#clip852)\" style=\"stroke:#c68125; stroke-width:4; stroke-opacity:1; fill:none\" points=\"\n  1266.2,766.846 704.725,385.265 \n  \"/>\n<polyline clip-path=\"url(#clip852)\" style=\"stroke:#00a98d; stroke-width:4; stroke-opacity:1; fill:none\" points=\"\n  1266.2,766.846 693.016,403.089 \n  \"/>\n<polyline clip-path=\"url(#clip852)\" style=\"stroke:#8e971d; stroke-width:4; stroke-opacity:1; fill:none\" points=\"\n  1266.2,766.846 681.873,421.273 \n  \"/>\n<polyline clip-path=\"url(#clip852)\" style=\"stroke:#00a8cb; stroke-width:4; stroke-opacity:1; fill:none\" points=\"\n  1266.2,766.846 671.307,439.798 \n  \"/>\n<polyline clip-path=\"url(#clip852)\" style=\"stroke:#9b7fe8; stroke-width:4; stroke-opacity:1; fill:none\" points=\"\n  1266.2,766.846 661.327,458.646 \n  \"/>\n<polyline clip-path=\"url(#clip852)\" style=\"stroke:#608cf6; stroke-width:4; stroke-opacity:1; fill:none\" points=\"\n  1266.2,766.846 651.945,477.797 \n  \"/>\n<polyline clip-path=\"url(#clip852)\" style=\"stroke:#f05f73; stroke-width:4; stroke-opacity:1; fill:none\" points=\"\n  1266.2,766.846 643.169,497.234 \n  \"/>\n<polyline clip-path=\"url(#clip852)\" style=\"stroke:#dd64b5; stroke-width:4; stroke-opacity:1; fill:none\" points=\"\n  1266.2,766.846 635.008,516.937 \n  \"/>\n<polyline clip-path=\"url(#clip852)\" style=\"stroke:#6b9e32; stroke-width:4; stroke-opacity:1; fill:none\" points=\"\n  1266.2,766.846 627.469,536.887 \n  \"/>\n<polyline clip-path=\"url(#clip852)\" style=\"stroke:#009af9; stroke-width:4; stroke-opacity:1; fill:none\" points=\"\n  1266.2,766.846 620.561,557.064 \n  \"/>\n<polyline clip-path=\"url(#clip852)\" style=\"stroke:#e26f46; stroke-width:4; stroke-opacity:1; fill:none\" points=\"\n  1266.2,766.846 614.29,577.447 \n  \"/>\n<polyline clip-path=\"url(#clip852)\" style=\"stroke:#3da44d; stroke-width:4; stroke-opacity:1; fill:none\" points=\"\n  1266.2,766.846 608.663,598.018 \n  \"/>\n<polyline clip-path=\"url(#clip852)\" style=\"stroke:#c271d2; stroke-width:4; stroke-opacity:1; fill:none\" points=\"\n  1266.2,766.846 603.684,618.755 \n  \"/>\n<polyline clip-path=\"url(#clip852)\" style=\"stroke:#ac8d18; stroke-width:4; stroke-opacity:1; fill:none\" points=\"\n  1266.2,766.846 599.36,639.638 \n  \"/>\n<polyline clip-path=\"url(#clip852)\" style=\"stroke:#00a9ad; stroke-width:4; stroke-opacity:1; fill:none\" points=\"\n  1266.2,766.846 595.693,660.647 \n  \"/>\n<polyline clip-path=\"url(#clip852)\" style=\"stroke:#ed5d92; stroke-width:4; stroke-opacity:1; fill:none\" points=\"\n  1266.2,766.846 592.688,681.761 \n  \"/>\n<polyline clip-path=\"url(#clip852)\" style=\"stroke:#c68125; stroke-width:4; stroke-opacity:1; fill:none\" points=\"\n  1266.2,766.846 590.348,702.959 \n  \"/>\n<polyline clip-path=\"url(#clip852)\" style=\"stroke:#00a98d; stroke-width:4; stroke-opacity:1; fill:none\" points=\"\n  1266.2,766.846 588.675,724.219 \n  \"/>\n<polyline clip-path=\"url(#clip852)\" style=\"stroke:#8e971d; stroke-width:4; stroke-opacity:1; fill:none\" points=\"\n  1266.2,766.846 587.67,745.522 \n  \"/>\n</svg>\n",
      "text/html": [
       "<?xml version=\"1.0\" encoding=\"utf-8\"?>\n",
       "<svg xmlns=\"http://www.w3.org/2000/svg\" xmlns:xlink=\"http://www.w3.org/1999/xlink\" width=\"600\" height=\"400\" viewBox=\"0 0 2400 1600\">\n",
       "<defs>\n",
       "  <clipPath id=\"clip900\">\n",
       "    <rect x=\"0\" y=\"0\" width=\"2400\" height=\"1600\"/>\n",
       "  </clipPath>\n",
       "</defs>\n",
       "<path clip-path=\"url(#clip900)\" d=\"\n",
       "M0 1600 L2400 1600 L2400 0 L0 0  Z\n",
       "  \" fill=\"#ffffff\" fill-rule=\"evenodd\" fill-opacity=\"1\"/>\n",
       "<defs>\n",
       "  <clipPath id=\"clip901\">\n",
       "    <rect x=\"480\" y=\"0\" width=\"1681\" height=\"1600\"/>\n",
       "  </clipPath>\n",
       "</defs>\n",
       "<path clip-path=\"url(#clip900)\" d=\"\n",
       "M179.654 1486.45 L2352.76 1486.45 L2352.76 47.2441 L179.654 47.2441  Z\n",
       "  \" fill=\"#ffffff\" fill-rule=\"evenodd\" fill-opacity=\"1\"/>\n",
       "<defs>\n",
       "  <clipPath id=\"clip902\">\n",
       "    <rect x=\"179\" y=\"47\" width=\"2174\" height=\"1440\"/>\n",
       "  </clipPath>\n",
       "</defs>\n",
       "<polyline clip-path=\"url(#clip902)\" style=\"stroke:#000000; stroke-width:2; stroke-opacity:0.1; fill:none\" points=\"\n",
       "  247.9,1486.45 247.9,47.2441 \n",
       "  \"/>\n",
       "<polyline clip-path=\"url(#clip902)\" style=\"stroke:#000000; stroke-width:2; stroke-opacity:0.1; fill:none\" points=\"\n",
       "  587.335,1486.45 587.335,47.2441 \n",
       "  \"/>\n",
       "<polyline clip-path=\"url(#clip902)\" style=\"stroke:#000000; stroke-width:2; stroke-opacity:0.1; fill:none\" points=\"\n",
       "  926.77,1486.45 926.77,47.2441 \n",
       "  \"/>\n",
       "<polyline clip-path=\"url(#clip902)\" style=\"stroke:#000000; stroke-width:2; stroke-opacity:0.1; fill:none\" points=\"\n",
       "  1266.2,1486.45 1266.2,47.2441 \n",
       "  \"/>\n",
       "<polyline clip-path=\"url(#clip902)\" style=\"stroke:#000000; stroke-width:2; stroke-opacity:0.1; fill:none\" points=\"\n",
       "  1605.64,1486.45 1605.64,47.2441 \n",
       "  \"/>\n",
       "<polyline clip-path=\"url(#clip902)\" style=\"stroke:#000000; stroke-width:2; stroke-opacity:0.1; fill:none\" points=\"\n",
       "  1945.07,1486.45 1945.07,47.2441 \n",
       "  \"/>\n",
       "<polyline clip-path=\"url(#clip902)\" style=\"stroke:#000000; stroke-width:2; stroke-opacity:0.1; fill:none\" points=\"\n",
       "  2284.51,1486.45 2284.51,47.2441 \n",
       "  \"/>\n",
       "<polyline clip-path=\"url(#clip900)\" style=\"stroke:#000000; stroke-width:4; stroke-opacity:1; fill:none\" points=\"\n",
       "  179.654,1486.45 2352.76,1486.45 \n",
       "  \"/>\n",
       "<polyline clip-path=\"url(#clip900)\" style=\"stroke:#000000; stroke-width:4; stroke-opacity:1; fill:none\" points=\"\n",
       "  247.9,1486.45 247.9,1469.18 \n",
       "  \"/>\n",
       "<polyline clip-path=\"url(#clip900)\" style=\"stroke:#000000; stroke-width:4; stroke-opacity:1; fill:none\" points=\"\n",
       "  587.335,1486.45 587.335,1469.18 \n",
       "  \"/>\n",
       "<polyline clip-path=\"url(#clip900)\" style=\"stroke:#000000; stroke-width:4; stroke-opacity:1; fill:none\" points=\"\n",
       "  926.77,1486.45 926.77,1469.18 \n",
       "  \"/>\n",
       "<polyline clip-path=\"url(#clip900)\" style=\"stroke:#000000; stroke-width:4; stroke-opacity:1; fill:none\" points=\"\n",
       "  1266.2,1486.45 1266.2,1469.18 \n",
       "  \"/>\n",
       "<polyline clip-path=\"url(#clip900)\" style=\"stroke:#000000; stroke-width:4; stroke-opacity:1; fill:none\" points=\"\n",
       "  1605.64,1486.45 1605.64,1469.18 \n",
       "  \"/>\n",
       "<polyline clip-path=\"url(#clip900)\" style=\"stroke:#000000; stroke-width:4; stroke-opacity:1; fill:none\" points=\"\n",
       "  1945.07,1486.45 1945.07,1469.18 \n",
       "  \"/>\n",
       "<polyline clip-path=\"url(#clip900)\" style=\"stroke:#000000; stroke-width:4; stroke-opacity:1; fill:none\" points=\"\n",
       "  2284.51,1486.45 2284.51,1469.18 \n",
       "  \"/>\n",
       "<path clip-path=\"url(#clip900)\" d=\"M 0 0 M202.183 1530.29 L231.859 1530.29 L231.859 1534.23 L202.183 1534.23 L202.183 1530.29 Z\" fill=\"#000000\" fill-rule=\"evenodd\" fill-opacity=\"1\" /><path clip-path=\"url(#clip900)\" d=\"M 0 0 M237.738 1543.18 L245.377 1543.18 L245.377 1516.82 L237.067 1518.49 L237.067 1514.23 L245.331 1512.56 L250.007 1512.56 L250.007 1543.18 L257.646 1543.18 L257.646 1547.12 L237.738 1547.12 L237.738 1543.18 Z\" fill=\"#000000\" fill-rule=\"evenodd\" fill-opacity=\"1\" /><path clip-path=\"url(#clip900)\" d=\"M 0 0 M262.715 1541.24 L267.599 1541.24 L267.599 1547.12 L262.715 1547.12 L262.715 1541.24 Z\" fill=\"#000000\" fill-rule=\"evenodd\" fill-opacity=\"1\" /><path clip-path=\"url(#clip900)\" d=\"M 0 0 M272.715 1512.56 L291.071 1512.56 L291.071 1516.5 L276.997 1516.5 L276.997 1524.97 Q278.016 1524.62 279.034 1524.46 Q280.053 1524.27 281.071 1524.27 Q286.858 1524.27 290.238 1527.44 Q293.618 1530.62 293.618 1536.03 Q293.618 1541.61 290.145 1544.71 Q286.673 1547.79 280.354 1547.79 Q278.178 1547.79 275.909 1547.42 Q273.664 1547.05 271.257 1546.31 L271.257 1541.61 Q273.34 1542.74 275.562 1543.3 Q277.784 1543.86 280.261 1543.86 Q284.266 1543.86 286.604 1541.75 Q288.942 1539.64 288.942 1536.03 Q288.942 1532.42 286.604 1530.31 Q284.266 1528.21 280.261 1528.21 Q278.386 1528.21 276.511 1528.62 Q274.659 1529.04 272.715 1529.92 L272.715 1512.56 Z\" fill=\"#000000\" fill-rule=\"evenodd\" fill-opacity=\"1\" /><path clip-path=\"url(#clip900)\" d=\"M 0 0 M541.12 1530.29 L570.796 1530.29 L570.796 1534.23 L541.12 1534.23 L541.12 1530.29 Z\" fill=\"#000000\" fill-rule=\"evenodd\" fill-opacity=\"1\" /><path clip-path=\"url(#clip900)\" d=\"M 0 0 M576.675 1543.18 L584.314 1543.18 L584.314 1516.82 L576.004 1518.49 L576.004 1514.23 L584.268 1512.56 L588.944 1512.56 L588.944 1543.18 L596.583 1543.18 L596.583 1547.12 L576.675 1547.12 L576.675 1543.18 Z\" fill=\"#000000\" fill-rule=\"evenodd\" fill-opacity=\"1\" /><path clip-path=\"url(#clip900)\" d=\"M 0 0 M601.652 1541.24 L606.536 1541.24 L606.536 1547.12 L601.652 1547.12 L601.652 1541.24 Z\" fill=\"#000000\" fill-rule=\"evenodd\" fill-opacity=\"1\" /><path clip-path=\"url(#clip900)\" d=\"M 0 0 M621.606 1515.64 Q617.995 1515.64 616.166 1519.2 Q614.36 1522.75 614.36 1529.87 Q614.36 1536.98 616.166 1540.55 Q617.995 1544.09 621.606 1544.09 Q625.24 1544.09 627.046 1540.55 Q628.874 1536.98 628.874 1529.87 Q628.874 1522.75 627.046 1519.2 Q625.24 1515.64 621.606 1515.64 M621.606 1511.93 Q627.416 1511.93 630.471 1516.54 Q633.55 1521.12 633.55 1529.87 Q633.55 1538.6 630.471 1543.21 Q627.416 1547.79 621.606 1547.79 Q615.796 1547.79 612.717 1543.21 Q609.661 1538.6 609.661 1529.87 Q609.661 1521.12 612.717 1516.54 Q615.796 1511.93 621.606 1511.93 Z\" fill=\"#000000\" fill-rule=\"evenodd\" fill-opacity=\"1\" /><path clip-path=\"url(#clip900)\" d=\"M 0 0 M880.439 1530.29 L910.115 1530.29 L910.115 1534.23 L880.439 1534.23 L880.439 1530.29 Z\" fill=\"#000000\" fill-rule=\"evenodd\" fill-opacity=\"1\" /><path clip-path=\"url(#clip900)\" d=\"M 0 0 M925.184 1515.64 Q921.573 1515.64 919.745 1519.2 Q917.939 1522.75 917.939 1529.87 Q917.939 1536.98 919.745 1540.55 Q921.573 1544.09 925.184 1544.09 Q928.819 1544.09 930.624 1540.55 Q932.453 1536.98 932.453 1529.87 Q932.453 1522.75 930.624 1519.2 Q928.819 1515.64 925.184 1515.64 M925.184 1511.93 Q930.994 1511.93 934.05 1516.54 Q937.129 1521.12 937.129 1529.87 Q937.129 1538.6 934.05 1543.21 Q930.994 1547.79 925.184 1547.79 Q919.374 1547.79 916.295 1543.21 Q913.24 1538.6 913.24 1529.87 Q913.24 1521.12 916.295 1516.54 Q919.374 1511.93 925.184 1511.93 Z\" fill=\"#000000\" fill-rule=\"evenodd\" fill-opacity=\"1\" /><path clip-path=\"url(#clip900)\" d=\"M 0 0 M942.198 1541.24 L947.082 1541.24 L947.082 1547.12 L942.198 1547.12 L942.198 1541.24 Z\" fill=\"#000000\" fill-rule=\"evenodd\" fill-opacity=\"1\" /><path clip-path=\"url(#clip900)\" d=\"M 0 0 M952.198 1512.56 L970.554 1512.56 L970.554 1516.5 L956.48 1516.5 L956.48 1524.97 Q957.499 1524.62 958.517 1524.46 Q959.536 1524.27 960.554 1524.27 Q966.341 1524.27 969.721 1527.44 Q973.101 1530.62 973.101 1536.03 Q973.101 1541.61 969.628 1544.71 Q966.156 1547.79 959.837 1547.79 Q957.661 1547.79 955.392 1547.42 Q953.147 1547.05 950.74 1546.31 L950.74 1541.61 Q952.823 1542.74 955.045 1543.3 Q957.267 1543.86 959.744 1543.86 Q963.749 1543.86 966.087 1541.75 Q968.425 1539.64 968.425 1536.03 Q968.425 1532.42 966.087 1530.31 Q963.749 1528.21 959.744 1528.21 Q957.869 1528.21 955.994 1528.62 Q954.142 1529.04 952.198 1529.92 L952.198 1512.56 Z\" fill=\"#000000\" fill-rule=\"evenodd\" fill-opacity=\"1\" /><path clip-path=\"url(#clip900)\" d=\"M 0 0 M1247.72 1515.64 Q1244.11 1515.64 1242.28 1519.2 Q1240.48 1522.75 1240.48 1529.87 Q1240.48 1536.98 1242.28 1540.55 Q1244.11 1544.09 1247.72 1544.09 Q1251.36 1544.09 1253.16 1540.55 Q1254.99 1536.98 1254.99 1529.87 Q1254.99 1522.75 1253.16 1519.2 Q1251.36 1515.64 1247.72 1515.64 M1247.72 1511.93 Q1253.53 1511.93 1256.59 1516.54 Q1259.67 1521.12 1259.67 1529.87 Q1259.67 1538.6 1256.59 1543.21 Q1253.53 1547.79 1247.72 1547.79 Q1241.91 1547.79 1238.83 1543.21 Q1235.78 1538.6 1235.78 1529.87 Q1235.78 1521.12 1238.83 1516.54 Q1241.91 1511.93 1247.72 1511.93 Z\" fill=\"#000000\" fill-rule=\"evenodd\" fill-opacity=\"1\" /><path clip-path=\"url(#clip900)\" d=\"M 0 0 M1264.73 1541.24 L1269.62 1541.24 L1269.62 1547.12 L1264.73 1547.12 L1264.73 1541.24 Z\" fill=\"#000000\" fill-rule=\"evenodd\" fill-opacity=\"1\" /><path clip-path=\"url(#clip900)\" d=\"M 0 0 M1284.69 1515.64 Q1281.08 1515.64 1279.25 1519.2 Q1277.44 1522.75 1277.44 1529.87 Q1277.44 1536.98 1279.25 1540.55 Q1281.08 1544.09 1284.69 1544.09 Q1288.32 1544.09 1290.13 1540.55 Q1291.96 1536.98 1291.96 1529.87 Q1291.96 1522.75 1290.13 1519.2 Q1288.32 1515.64 1284.69 1515.64 M1284.69 1511.93 Q1290.5 1511.93 1293.55 1516.54 Q1296.63 1521.12 1296.63 1529.87 Q1296.63 1538.6 1293.55 1543.21 Q1290.5 1547.79 1284.69 1547.79 Q1278.88 1547.79 1275.8 1543.21 Q1272.74 1538.6 1272.74 1529.87 Q1272.74 1521.12 1275.8 1516.54 Q1278.88 1511.93 1284.69 1511.93 Z\" fill=\"#000000\" fill-rule=\"evenodd\" fill-opacity=\"1\" /><path clip-path=\"url(#clip900)\" d=\"M 0 0 M1587.65 1515.64 Q1584.04 1515.64 1582.21 1519.2 Q1580.41 1522.75 1580.41 1529.87 Q1580.41 1536.98 1582.21 1540.55 Q1584.04 1544.09 1587.65 1544.09 Q1591.29 1544.09 1593.09 1540.55 Q1594.92 1536.98 1594.92 1529.87 Q1594.92 1522.75 1593.09 1519.2 Q1591.29 1515.64 1587.65 1515.64 M1587.65 1511.93 Q1593.46 1511.93 1596.52 1516.54 Q1599.6 1521.12 1599.6 1529.87 Q1599.6 1538.6 1596.52 1543.21 Q1593.46 1547.79 1587.65 1547.79 Q1581.84 1547.79 1578.76 1543.21 Q1575.71 1538.6 1575.71 1529.87 Q1575.71 1521.12 1578.76 1516.54 Q1581.84 1511.93 1587.65 1511.93 Z\" fill=\"#000000\" fill-rule=\"evenodd\" fill-opacity=\"1\" /><path clip-path=\"url(#clip900)\" d=\"M 0 0 M1604.67 1541.24 L1609.55 1541.24 L1609.55 1547.12 L1604.67 1547.12 L1604.67 1541.24 Z\" fill=\"#000000\" fill-rule=\"evenodd\" fill-opacity=\"1\" /><path clip-path=\"url(#clip900)\" d=\"M 0 0 M1614.67 1512.56 L1633.02 1512.56 L1633.02 1516.5 L1618.95 1516.5 L1618.95 1524.97 Q1619.97 1524.62 1620.99 1524.46 Q1622.01 1524.27 1623.02 1524.27 Q1628.81 1524.27 1632.19 1527.44 Q1635.57 1530.62 1635.57 1536.03 Q1635.57 1541.61 1632.1 1544.71 Q1628.63 1547.79 1622.31 1547.79 Q1620.13 1547.79 1617.86 1547.42 Q1615.62 1547.05 1613.21 1546.31 L1613.21 1541.61 Q1615.29 1542.74 1617.51 1543.3 Q1619.74 1543.86 1622.21 1543.86 Q1626.22 1543.86 1628.56 1541.75 Q1630.89 1539.64 1630.89 1536.03 Q1630.89 1532.42 1628.56 1530.31 Q1626.22 1528.21 1622.21 1528.21 Q1620.34 1528.21 1618.46 1528.62 Q1616.61 1529.04 1614.67 1529.92 L1614.67 1512.56 Z\" fill=\"#000000\" fill-rule=\"evenodd\" fill-opacity=\"1\" /><path clip-path=\"url(#clip900)\" d=\"M 0 0 M1916.97 1543.18 L1924.61 1543.18 L1924.61 1516.82 L1916.3 1518.49 L1916.3 1514.23 L1924.57 1512.56 L1929.24 1512.56 L1929.24 1543.18 L1936.88 1543.18 L1936.88 1547.12 L1916.97 1547.12 L1916.97 1543.18 Z\" fill=\"#000000\" fill-rule=\"evenodd\" fill-opacity=\"1\" /><path clip-path=\"url(#clip900)\" d=\"M 0 0 M1941.95 1541.24 L1946.83 1541.24 L1946.83 1547.12 L1941.95 1547.12 L1941.95 1541.24 Z\" fill=\"#000000\" fill-rule=\"evenodd\" fill-opacity=\"1\" /><path clip-path=\"url(#clip900)\" d=\"M 0 0 M1961.9 1515.64 Q1958.29 1515.64 1956.46 1519.2 Q1954.66 1522.75 1954.66 1529.87 Q1954.66 1536.98 1956.46 1540.55 Q1958.29 1544.09 1961.9 1544.09 Q1965.54 1544.09 1967.34 1540.55 Q1969.17 1536.98 1969.17 1529.87 Q1969.17 1522.75 1967.34 1519.2 Q1965.54 1515.64 1961.9 1515.64 M1961.9 1511.93 Q1967.71 1511.93 1970.77 1516.54 Q1973.85 1521.12 1973.85 1529.87 Q1973.85 1538.6 1970.77 1543.21 Q1967.71 1547.79 1961.9 1547.79 Q1956.09 1547.79 1953.01 1543.21 Q1949.96 1538.6 1949.96 1529.87 Q1949.96 1521.12 1953.01 1516.54 Q1956.09 1511.93 1961.9 1511.93 Z\" fill=\"#000000\" fill-rule=\"evenodd\" fill-opacity=\"1\" /><path clip-path=\"url(#clip900)\" d=\"M 0 0 M2256.91 1543.18 L2264.54 1543.18 L2264.54 1516.82 L2256.23 1518.49 L2256.23 1514.23 L2264.5 1512.56 L2269.17 1512.56 L2269.17 1543.18 L2276.81 1543.18 L2276.81 1547.12 L2256.91 1547.12 L2256.91 1543.18 Z\" fill=\"#000000\" fill-rule=\"evenodd\" fill-opacity=\"1\" /><path clip-path=\"url(#clip900)\" d=\"M 0 0 M2281.88 1541.24 L2286.77 1541.24 L2286.77 1547.12 L2281.88 1547.12 L2281.88 1541.24 Z\" fill=\"#000000\" fill-rule=\"evenodd\" fill-opacity=\"1\" /><path clip-path=\"url(#clip900)\" d=\"M 0 0 M2291.88 1512.56 L2310.24 1512.56 L2310.24 1516.5 L2296.16 1516.5 L2296.16 1524.97 Q2297.18 1524.62 2298.2 1524.46 Q2299.22 1524.27 2300.24 1524.27 Q2306.03 1524.27 2309.41 1527.44 Q2312.78 1530.62 2312.78 1536.03 Q2312.78 1541.61 2309.31 1544.71 Q2305.84 1547.79 2299.52 1547.79 Q2297.34 1547.79 2295.08 1547.42 Q2292.83 1547.05 2290.42 1546.31 L2290.42 1541.61 Q2292.51 1542.74 2294.73 1543.3 Q2296.95 1543.86 2299.43 1543.86 Q2303.43 1543.86 2305.77 1541.75 Q2308.11 1539.64 2308.11 1536.03 Q2308.11 1532.42 2305.77 1530.31 Q2303.43 1528.21 2299.43 1528.21 Q2297.55 1528.21 2295.68 1528.62 Q2293.83 1529.04 2291.88 1529.92 L2291.88 1512.56 Z\" fill=\"#000000\" fill-rule=\"evenodd\" fill-opacity=\"1\" /><polyline clip-path=\"url(#clip902)\" style=\"stroke:#000000; stroke-width:2; stroke-opacity:0.1; fill:none\" points=\"\n",
       "  179.654,1445.72 2352.76,1445.72 \n",
       "  \"/>\n",
       "<polyline clip-path=\"url(#clip902)\" style=\"stroke:#000000; stroke-width:2; stroke-opacity:0.1; fill:none\" points=\"\n",
       "  179.654,1106.28 2352.76,1106.28 \n",
       "  \"/>\n",
       "<polyline clip-path=\"url(#clip902)\" style=\"stroke:#000000; stroke-width:2; stroke-opacity:0.1; fill:none\" points=\"\n",
       "  179.654,766.846 2352.76,766.846 \n",
       "  \"/>\n",
       "<polyline clip-path=\"url(#clip902)\" style=\"stroke:#000000; stroke-width:2; stroke-opacity:0.1; fill:none\" points=\"\n",
       "  179.654,427.411 2352.76,427.411 \n",
       "  \"/>\n",
       "<polyline clip-path=\"url(#clip902)\" style=\"stroke:#000000; stroke-width:2; stroke-opacity:0.1; fill:none\" points=\"\n",
       "  179.654,87.9763 2352.76,87.9763 \n",
       "  \"/>\n",
       "<polyline clip-path=\"url(#clip900)\" style=\"stroke:#000000; stroke-width:4; stroke-opacity:1; fill:none\" points=\"\n",
       "  179.654,1486.45 179.654,47.2441 \n",
       "  \"/>\n",
       "<polyline clip-path=\"url(#clip900)\" style=\"stroke:#000000; stroke-width:4; stroke-opacity:1; fill:none\" points=\"\n",
       "  179.654,1445.72 205.731,1445.72 \n",
       "  \"/>\n",
       "<polyline clip-path=\"url(#clip900)\" style=\"stroke:#000000; stroke-width:4; stroke-opacity:1; fill:none\" points=\"\n",
       "  179.654,1106.28 205.731,1106.28 \n",
       "  \"/>\n",
       "<polyline clip-path=\"url(#clip900)\" style=\"stroke:#000000; stroke-width:4; stroke-opacity:1; fill:none\" points=\"\n",
       "  179.654,766.846 205.731,766.846 \n",
       "  \"/>\n",
       "<polyline clip-path=\"url(#clip900)\" style=\"stroke:#000000; stroke-width:4; stroke-opacity:1; fill:none\" points=\"\n",
       "  179.654,427.411 205.731,427.411 \n",
       "  \"/>\n",
       "<polyline clip-path=\"url(#clip900)\" style=\"stroke:#000000; stroke-width:4; stroke-opacity:1; fill:none\" points=\"\n",
       "  179.654,87.9763 205.731,87.9763 \n",
       "  \"/>\n",
       "<path clip-path=\"url(#clip900)\" d=\"M 0 0 M51.2236 1446.17 L80.8994 1446.17 L80.8994 1450.1 L51.2236 1450.1 L51.2236 1446.17 Z\" fill=\"#000000\" fill-rule=\"evenodd\" fill-opacity=\"1\" /><path clip-path=\"url(#clip900)\" d=\"M 0 0 M86.779 1459.06 L94.4178 1459.06 L94.4178 1432.69 L86.1077 1434.36 L86.1077 1430.1 L94.3715 1428.44 L99.0474 1428.44 L99.0474 1459.06 L106.686 1459.06 L106.686 1463 L86.779 1463 L86.779 1459.06 Z\" fill=\"#000000\" fill-rule=\"evenodd\" fill-opacity=\"1\" /><path clip-path=\"url(#clip900)\" d=\"M 0 0 M111.756 1457.12 L116.64 1457.12 L116.64 1463 L111.756 1463 L111.756 1457.12 Z\" fill=\"#000000\" fill-rule=\"evenodd\" fill-opacity=\"1\" /><path clip-path=\"url(#clip900)\" d=\"M 0 0 M131.709 1431.51 Q128.098 1431.51 126.27 1435.08 Q124.464 1438.62 124.464 1445.75 Q124.464 1452.86 126.27 1456.42 Q128.098 1459.96 131.709 1459.96 Q135.344 1459.96 137.149 1456.42 Q138.978 1452.86 138.978 1445.75 Q138.978 1438.62 137.149 1435.08 Q135.344 1431.51 131.709 1431.51 M131.709 1427.81 Q137.519 1427.81 140.575 1432.42 Q143.654 1437 143.654 1445.75 Q143.654 1454.48 140.575 1459.08 Q137.519 1463.67 131.709 1463.67 Q125.899 1463.67 122.82 1459.08 Q119.765 1454.48 119.765 1445.75 Q119.765 1437 122.82 1432.42 Q125.899 1427.81 131.709 1427.81 Z\" fill=\"#000000\" fill-rule=\"evenodd\" fill-opacity=\"1\" /><path clip-path=\"url(#clip900)\" d=\"M 0 0 M50.9921 1106.73 L80.6679 1106.73 L80.6679 1110.67 L50.9921 1110.67 L50.9921 1106.73 Z\" fill=\"#000000\" fill-rule=\"evenodd\" fill-opacity=\"1\" /><path clip-path=\"url(#clip900)\" d=\"M 0 0 M95.7373 1092.08 Q92.1262 1092.08 90.2975 1095.64 Q88.4919 1099.19 88.4919 1106.32 Q88.4919 1113.42 90.2975 1116.99 Q92.1262 1120.53 95.7373 1120.53 Q99.3715 1120.53 101.177 1116.99 Q103.006 1113.42 103.006 1106.32 Q103.006 1099.19 101.177 1095.64 Q99.3715 1092.08 95.7373 1092.08 M95.7373 1088.38 Q101.547 1088.38 104.603 1092.98 Q107.682 1097.57 107.682 1106.32 Q107.682 1115.04 104.603 1119.65 Q101.547 1124.23 95.7373 1124.23 Q89.9271 1124.23 86.8484 1119.65 Q83.7929 1115.04 83.7929 1106.32 Q83.7929 1097.57 86.8484 1092.98 Q89.9271 1088.38 95.7373 1088.38 Z\" fill=\"#000000\" fill-rule=\"evenodd\" fill-opacity=\"1\" /><path clip-path=\"url(#clip900)\" d=\"M 0 0 M112.751 1117.68 L117.635 1117.68 L117.635 1123.56 L112.751 1123.56 L112.751 1117.68 Z\" fill=\"#000000\" fill-rule=\"evenodd\" fill-opacity=\"1\" /><path clip-path=\"url(#clip900)\" d=\"M 0 0 M122.751 1089 L141.107 1089 L141.107 1092.94 L127.033 1092.94 L127.033 1101.41 Q128.052 1101.06 129.07 1100.9 Q130.089 1100.71 131.107 1100.71 Q136.894 1100.71 140.274 1103.89 Q143.654 1107.06 143.654 1112.47 Q143.654 1118.05 140.181 1121.15 Q136.709 1124.23 130.39 1124.23 Q128.214 1124.23 125.945 1123.86 Q123.7 1123.49 121.293 1122.75 L121.293 1118.05 Q123.376 1119.19 125.598 1119.74 Q127.82 1120.3 130.297 1120.3 Q134.302 1120.3 136.64 1118.19 Q138.978 1116.08 138.978 1112.47 Q138.978 1108.86 136.64 1106.76 Q134.302 1104.65 130.297 1104.65 Q128.422 1104.65 126.547 1105.07 Q124.695 1105.48 122.751 1106.36 L122.751 1089 Z\" fill=\"#000000\" fill-rule=\"evenodd\" fill-opacity=\"1\" /><path clip-path=\"url(#clip900)\" d=\"M 0 0 M94.7419 752.645 Q91.1308 752.645 89.3021 756.209 Q87.4966 759.751 87.4966 766.881 Q87.4966 773.987 89.3021 777.552 Q91.1308 781.094 94.7419 781.094 Q98.3761 781.094 100.182 777.552 Q102.01 773.987 102.01 766.881 Q102.01 759.751 100.182 756.209 Q98.3761 752.645 94.7419 752.645 M94.7419 748.941 Q100.552 748.941 103.608 753.547 Q106.686 758.131 106.686 766.881 Q106.686 775.608 103.608 780.214 Q100.552 784.797 94.7419 784.797 Q88.9317 784.797 85.8531 780.214 Q82.7975 775.608 82.7975 766.881 Q82.7975 758.131 85.8531 753.547 Q88.9317 748.941 94.7419 748.941 Z\" fill=\"#000000\" fill-rule=\"evenodd\" fill-opacity=\"1\" /><path clip-path=\"url(#clip900)\" d=\"M 0 0 M111.756 778.246 L116.64 778.246 L116.64 784.126 L111.756 784.126 L111.756 778.246 Z\" fill=\"#000000\" fill-rule=\"evenodd\" fill-opacity=\"1\" /><path clip-path=\"url(#clip900)\" d=\"M 0 0 M131.709 752.645 Q128.098 752.645 126.27 756.209 Q124.464 759.751 124.464 766.881 Q124.464 773.987 126.27 777.552 Q128.098 781.094 131.709 781.094 Q135.344 781.094 137.149 777.552 Q138.978 773.987 138.978 766.881 Q138.978 759.751 137.149 756.209 Q135.344 752.645 131.709 752.645 M131.709 748.941 Q137.519 748.941 140.575 753.547 Q143.654 758.131 143.654 766.881 Q143.654 775.608 140.575 780.214 Q137.519 784.797 131.709 784.797 Q125.899 784.797 122.82 780.214 Q119.765 775.608 119.765 766.881 Q119.765 758.131 122.82 753.547 Q125.899 748.941 131.709 748.941 Z\" fill=\"#000000\" fill-rule=\"evenodd\" fill-opacity=\"1\" /><path clip-path=\"url(#clip900)\" d=\"M 0 0 M95.7373 413.21 Q92.1262 413.21 90.2975 416.775 Q88.4919 420.316 88.4919 427.446 Q88.4919 434.552 90.2975 438.117 Q92.1262 441.659 95.7373 441.659 Q99.3715 441.659 101.177 438.117 Q103.006 434.552 103.006 427.446 Q103.006 420.316 101.177 416.775 Q99.3715 413.21 95.7373 413.21 M95.7373 409.506 Q101.547 409.506 104.603 414.113 Q107.682 418.696 107.682 427.446 Q107.682 436.173 104.603 440.779 Q101.547 445.362 95.7373 445.362 Q89.9271 445.362 86.8484 440.779 Q83.7929 436.173 83.7929 427.446 Q83.7929 418.696 86.8484 414.113 Q89.9271 409.506 95.7373 409.506 Z\" fill=\"#000000\" fill-rule=\"evenodd\" fill-opacity=\"1\" /><path clip-path=\"url(#clip900)\" d=\"M 0 0 M112.751 438.812 L117.635 438.812 L117.635 444.691 L112.751 444.691 L112.751 438.812 Z\" fill=\"#000000\" fill-rule=\"evenodd\" fill-opacity=\"1\" /><path clip-path=\"url(#clip900)\" d=\"M 0 0 M122.751 410.131 L141.107 410.131 L141.107 414.066 L127.033 414.066 L127.033 422.538 Q128.052 422.191 129.07 422.029 Q130.089 421.844 131.107 421.844 Q136.894 421.844 140.274 425.015 Q143.654 428.187 143.654 433.603 Q143.654 439.182 140.181 442.284 Q136.709 445.362 130.39 445.362 Q128.214 445.362 125.945 444.992 Q123.7 444.622 121.293 443.881 L121.293 439.182 Q123.376 440.316 125.598 440.872 Q127.82 441.427 130.297 441.427 Q134.302 441.427 136.64 439.321 Q138.978 437.214 138.978 433.603 Q138.978 429.992 136.64 427.886 Q134.302 425.779 130.297 425.779 Q128.422 425.779 126.547 426.196 Q124.695 426.613 122.751 427.492 L122.751 410.131 Z\" fill=\"#000000\" fill-rule=\"evenodd\" fill-opacity=\"1\" /><path clip-path=\"url(#clip900)\" d=\"M 0 0 M86.779 101.321 L94.4178 101.321 L94.4178 74.9555 L86.1077 76.6222 L86.1077 72.3629 L94.3715 70.6963 L99.0474 70.6963 L99.0474 101.321 L106.686 101.321 L106.686 105.256 L86.779 105.256 L86.779 101.321 Z\" fill=\"#000000\" fill-rule=\"evenodd\" fill-opacity=\"1\" /><path clip-path=\"url(#clip900)\" d=\"M 0 0 M111.756 99.3767 L116.64 99.3767 L116.64 105.256 L111.756 105.256 L111.756 99.3767 Z\" fill=\"#000000\" fill-rule=\"evenodd\" fill-opacity=\"1\" /><path clip-path=\"url(#clip900)\" d=\"M 0 0 M131.709 73.775 Q128.098 73.775 126.27 77.3398 Q124.464 80.8814 124.464 88.011 Q124.464 95.1174 126.27 98.6822 Q128.098 102.224 131.709 102.224 Q135.344 102.224 137.149 98.6822 Q138.978 95.1174 138.978 88.011 Q138.978 80.8814 137.149 77.3398 Q135.344 73.775 131.709 73.775 M131.709 70.0713 Q137.519 70.0713 140.575 74.6777 Q143.654 79.261 143.654 88.011 Q143.654 96.7378 140.575 101.344 Q137.519 105.928 131.709 105.928 Q125.899 105.928 122.82 101.344 Q119.765 96.7378 119.765 88.011 Q119.765 79.261 122.82 74.6777 Q125.899 70.0713 131.709 70.0713 Z\" fill=\"#000000\" fill-rule=\"evenodd\" fill-opacity=\"1\" /><polyline clip-path=\"url(#clip902)\" style=\"stroke:#ff0000; stroke-width:24; stroke-opacity:1; fill:none\" points=\"\n",
       "  587.335,766.846 587.369,773.635 587.471,780.422 587.641,787.209 587.878,793.994 588.183,800.775 588.557,807.554 588.998,814.328 589.506,821.098 590.083,827.862 \n",
       "  590.727,834.62 591.438,841.371 592.217,848.115 593.063,854.851 593.977,861.578 594.958,868.295 596.006,875.002 597.121,881.699 598.303,888.384 599.552,895.057 \n",
       "  600.867,901.717 602.249,908.363 603.698,914.995 605.212,921.613 606.793,928.215 608.439,934.801 610.152,941.37 611.93,947.922 613.773,954.455 615.682,960.97 \n",
       "  617.656,967.466 619.694,973.941 621.798,980.396 623.965,986.829 626.197,993.24 628.493,999.629 630.853,1005.99 633.276,1012.34 635.762,1018.65 638.312,1024.94 \n",
       "  640.924,1031.21 643.599,1037.45 646.336,1043.66 649.135,1049.85 651.996,1056 654.919,1062.13 657.902,1068.23 660.946,1074.3 664.051,1080.33 667.216,1086.34 \n",
       "  670.441,1092.31 673.725,1098.25 677.069,1104.16 680.471,1110.04 683.932,1115.88 687.452,1121.68 691.029,1127.45 694.664,1133.19 698.356,1138.88 702.104,1144.54 \n",
       "  705.909,1150.16 709.771,1155.75 713.687,1161.29 717.659,1166.8 721.686,1172.26 725.768,1177.69 729.903,1183.07 734.092,1188.41 738.334,1193.71 742.629,1198.97 \n",
       "  746.977,1204.19 751.376,1209.36 755.827,1214.48 760.328,1219.56 764.881,1224.6 769.483,1229.59 774.136,1234.53 778.837,1239.43 783.587,1244.28 788.386,1249.08 \n",
       "  793.232,1253.84 798.125,1258.54 803.065,1263.2 808.052,1267.81 813.084,1272.36 818.162,1276.87 823.285,1281.32 828.452,1285.73 833.662,1290.08 838.916,1294.38 \n",
       "  844.213,1298.62 849.551,1302.82 854.932,1306.96 860.353,1311.04 865.816,1315.07 871.318,1319.05 876.859,1322.97 882.44,1326.84 888.059,1330.65 893.716,1334.4 \n",
       "  899.41,1338.1 905.141,1341.73 910.907,1345.32 916.71,1348.84 922.547,1352.31 928.419,1355.71 934.324,1359.06 940.263,1362.35 946.234,1365.58 952.237,1368.75 \n",
       "  958.272,1371.86 964.338,1374.91 970.433,1377.9 976.558,1380.82 982.713,1383.69 988.895,1386.49 995.105,1389.24 1001.34,1391.92 1007.61,1394.53 1013.9,1397.09 \n",
       "  1020.21,1399.58 1026.55,1402.01 1032.91,1404.37 1039.3,1406.67 1045.71,1408.91 1052.14,1411.08 1058.59,1413.19 1065.07,1415.24 1071.56,1417.21 1078.08,1419.13 \n",
       "  1084.61,1420.98 1091.16,1422.76 1097.73,1424.48 1104.31,1426.13 1110.91,1427.72 1117.53,1429.24 1124.16,1430.69 1130.8,1432.08 1137.46,1433.4 1144.14,1434.65 \n",
       "  1150.82,1435.84 1157.51,1436.96 1164.22,1438.01 1170.94,1439 1177.66,1439.92 1184.4,1440.77 1191.14,1441.55 1197.89,1442.27 1204.65,1442.92 1211.41,1443.5 \n",
       "  1218.18,1444.02 1224.96,1444.46 1231.74,1444.84 1238.52,1445.15 1245.3,1445.39 1252.09,1445.57 1258.88,1445.68 1265.66,1445.72 1272.45,1445.69 1279.24,1445.59 \n",
       "  1286.03,1445.43 1292.81,1445.19 1299.59,1444.89 1306.37,1444.53 1313.15,1444.09 1319.92,1443.59 1326.68,1443.02 1333.44,1442.38 1340.19,1441.67 1346.94,1440.9 \n",
       "  1353.67,1440.06 1360.4,1439.15 1367.12,1438.17 1373.83,1437.13 1380.52,1436.02 1387.21,1434.84 1393.88,1433.6 1400.55,1432.29 1407.19,1430.91 1413.83,1429.47 \n",
       "  1420.45,1427.96 1427.05,1426.39 1433.64,1424.74 1440.21,1423.04 1446.76,1421.26 1453.29,1419.43 1459.81,1417.52 1466.31,1415.55 1472.78,1413.52 1479.24,1411.42 \n",
       "  1485.68,1409.26 1492.09,1407.03 1498.48,1404.74 1504.85,1402.39 1511.19,1399.97 1517.51,1397.49 1523.8,1394.94 1530.07,1392.34 1536.31,1389.67 1542.53,1386.93 \n",
       "  1548.71,1384.14 1554.87,1381.28 1561,1378.37 1567.1,1375.39 1573.17,1372.35 1579.21,1369.25 1585.22,1366.09 1591.2,1362.87 1597.14,1359.59 1603.05,1356.25 \n",
       "  1608.93,1352.85 1614.77,1349.4 1620.58,1345.88 1626.35,1342.31 1632.09,1338.68 1637.79,1334.99 1643.45,1331.25 1649.08,1327.45 1654.66,1323.59 1660.21,1319.68 \n",
       "  1665.72,1315.71 1671.19,1311.69 1676.62,1307.61 1682,1303.48 1687.35,1299.29 1692.65,1295.06 1697.91,1290.77 1703.13,1286.42 1708.3,1282.03 1713.43,1277.58 \n",
       "  1718.52,1273.08 1723.56,1268.53 1728.55,1263.94 1733.5,1259.29 1738.4,1254.59 1743.26,1249.84 1748.06,1245.05 1752.82,1240.21 1757.53,1235.32 1762.19,1230.38 \n",
       "  1766.8,1225.4 1771.36,1220.37 1775.87,1215.29 1780.33,1210.18 1784.74,1205.01 1789.09,1199.81 1793.39,1194.55 1797.65,1189.26 1801.84,1183.93 1805.99,1178.55 \n",
       "  1810.08,1173.13 1814.11,1167.67 1818.09,1162.17 1822.02,1156.63 1825.89,1151.06 1829.7,1145.44 1833.46,1139.79 1837.16,1134.1 1840.81,1128.37 1844.39,1122.6 \n",
       "  1847.92,1116.8 1851.39,1110.97 1854.8,1105.1 1858.16,1099.2 1861.45,1093.26 1864.68,1087.29 1867.86,1081.29 1870.97,1075.26 1874.03,1069.2 1877.02,1063.1 \n",
       "  1879.95,1056.98 1882.82,1050.83 1885.63,1044.65 1888.38,1038.44 1891.06,1032.21 1893.69,1025.94 1896.25,1019.66 1898.74,1013.34 1901.18,1007.01 1903.54,1000.64 \n",
       "  1905.85,994.259 1908.09,987.852 1910.27,981.422 1912.38,974.97 1914.43,968.498 1916.42,962.006 1918.34,955.494 1920.19,948.964 1921.98,942.415 1923.7,935.848 \n",
       "  1925.36,929.265 1926.95,922.666 1928.48,916.05 1929.93,909.42 1931.33,902.776 1932.65,896.118 1933.91,889.447 1935.1,882.764 1936.23,876.07 1937.29,869.364 \n",
       "  1938.28,862.648 1939.21,855.923 1940.06,849.188 1940.85,842.446 1941.57,835.696 1942.23,828.939 1942.82,822.175 1943.34,815.407 1943.79,808.633 1944.17,801.855 \n",
       "  1944.49,795.074 1944.74,788.29 1944.92,781.503 1945.03,774.716 1945.07,767.927 1945.05,761.139 1944.96,754.351 1944.8,747.564 1944.57,740.779 1944.28,733.997 \n",
       "  1943.92,727.218 1943.49,720.443 1942.99,713.672 1942.42,706.907 1941.79,700.148 1941.09,693.396 1940.32,686.651 1939.49,679.913 1938.58,673.185 1937.61,666.466 \n",
       "  1936.57,659.757 1935.47,653.059 1934.3,646.372 1933.06,639.697 1931.76,633.035 1930.38,626.387 1928.95,619.752 1927.44,613.132 1925.87,606.527 1924.24,599.939 \n",
       "  1922.53,593.367 1920.77,586.812 1918.93,580.276 1917.04,573.758 1915.07,567.259 1913.04,560.781 1910.95,554.323 1908.79,547.886 1906.57,541.471 1904.29,535.079 \n",
       "  1901.94,528.71 1899.52,522.365 1897.05,516.044 1894.51,509.748 1891.91,503.478 1889.24,497.234 1886.51,491.017 1883.72,484.828 1880.87,478.667 1877.96,472.535 \n",
       "  1874.99,466.432 1871.95,460.36 1868.86,454.318 1865.7,448.307 1862.49,442.328 1859.21,436.381 1855.88,430.468 1852.48,424.588 1849.03,418.742 1845.52,412.932 \n",
       "  1841.95,407.156 1838.33,401.417 1834.65,395.714 1830.91,390.048 1827.11,384.42 1823.26,378.83 1819.35,373.279 1815.39,367.768 1811.37,362.296 1807.3,356.865 \n",
       "  1803.17,351.474 1798.99,346.125 1794.75,340.819 1790.47,335.555 1786.13,330.334 1781.74,325.156 1777.3,320.023 1772.8,314.935 1768.26,309.891 1763.66,304.894 \n",
       "  1759.02,299.942 1754.32,295.038 1749.58,290.18 1744.79,285.37 1739.95,280.609 1735.07,275.895 1730.13,271.231 1725.15,266.617 1720.13,262.053 1715.06,257.539 \n",
       "  1709.94,253.076 1704.78,248.664 1699.58,244.304 1694.33,239.997 1689.04,235.742 1683.71,231.54 1678.34,227.392 1672.92,223.298 1667.47,219.258 1661.97,215.272 \n",
       "  1656.44,211.342 1650.86,207.468 1645.25,203.649 1639.6,199.887 1633.91,196.182 1628.18,192.533 1622.42,188.942 1616.63,185.409 1610.79,181.934 1604.93,178.517 \n",
       "  1599.03,175.16 1593.09,171.861 1587.13,168.622 1581.13,165.443 1575.1,162.324 1569.04,159.265 1562.95,156.267 1556.83,153.33 1550.68,150.455 1544.5,147.641 \n",
       "  1538.3,144.889 1532.06,142.199 1525.8,139.572 1519.52,137.007 1513.21,134.505 1506.87,132.067 1500.51,129.692 1494.13,127.381 1487.72,125.134 1481.29,122.951 \n",
       "  1474.84,120.832 1468.37,118.778 1461.88,116.789 1455.37,114.865 1448.84,113.006 1442.3,111.212 1435.73,109.484 1429.15,107.821 1422.55,106.225 1415.94,104.695 \n",
       "  1409.31,103.23 1402.66,101.833 1396.01,100.501 1389.34,99.2366 1382.66,98.0386 1375.96,96.9076 1369.26,95.8435 1362.54,94.8466 1355.82,93.9168 1349.08,93.0543 \n",
       "  1342.34,92.2593 1335.59,91.5316 1328.84,90.8715 1322.07,90.279 1315.3,89.7542 1308.53,89.2971 1301.75,88.9077 1294.97,88.5861 1288.19,88.3323 1281.4,88.1464 \n",
       "  1274.62,88.0284 1267.83,87.9782 1261.04,87.9959 1254.25,88.0815 1247.46,88.235 1240.68,88.4564 1233.9,88.7456 1227.12,89.1026 1220.34,89.5273 1213.57,90.0198 \n",
       "  1206.8,90.58 1200.04,91.2078 1193.29,91.9032 1186.55,92.666 1179.81,93.4963 1173.08,94.3939 1166.36,95.3588 1159.65,96.3908 1152.95,97.4899 1146.26,98.6559 \n",
       "  1139.59,99.8887 1132.92,101.188 1126.27,102.554 1119.64,103.987 1113.02,105.486 1106.41,107.05 1099.82,108.681 1093.25,110.378 1086.69,112.14 1080.15,113.968 \n",
       "  1073.64,115.861 1067.14,117.82 1060.65,119.843 1054.2,121.93 1047.76,124.083 1041.34,126.299 1034.95,128.58 1028.58,130.924 1022.23,133.333 1015.9,135.804 \n",
       "  1009.61,138.338 1003.34,140.936 997.089,143.596 990.87,146.318 984.679,149.102 978.516,151.948 972.381,154.856 966.276,157.825 960.201,160.855 954.156,163.945 \n",
       "  948.143,167.095 942.162,170.306 936.212,173.576 930.296,176.906 924.414,180.294 918.565,183.741 912.752,187.247 906.974,190.81 901.231,194.431 895.526,198.11 \n",
       "  889.857,201.845 884.226,205.636 878.633,209.484 873.079,213.388 867.564,217.347 862.089,221.36 856.654,225.429 851.261,229.551 845.909,233.728 840.599,237.957 \n",
       "  835.331,242.24 830.107,246.574 824.926,250.961 819.789,255.4 814.697,259.89 809.65,264.43 804.649,269.021 799.694,273.661 794.785,278.351 789.924,283.089 \n",
       "  785.11,287.876 780.345,292.711 775.628,297.593 770.96,302.522 766.341,307.498 761.773,312.519 757.255,317.586 752.788,322.698 748.372,327.854 744.008,333.055 \n",
       "  739.697,338.298 735.438,343.585 731.232,348.913 727.079,354.284 722.98,359.696 718.936,365.148 714.947,370.641 711.012,376.173 707.133,381.745 703.31,387.354 \n",
       "  699.544,393.002 695.834,398.687 692.181,404.409 688.585,410.168 685.047,415.962 681.567,421.791 678.146,427.654 674.784,433.552 671.48,439.482 668.236,445.446 \n",
       "  665.052,451.442 661.928,457.469 658.865,463.527 655.862,469.615 652.92,475.734 650.04,481.881 647.221,488.057 644.464,494.26 641.77,500.491 639.137,506.749 \n",
       "  636.568,513.032 634.061,519.341 631.618,525.675 629.238,532.033 626.922,538.414 624.669,544.818 622.481,551.245 620.357,557.693 618.298,564.161 616.304,570.651 \n",
       "  614.374,577.159 612.51,583.687 610.711,590.233 608.978,596.797 607.31,603.377 605.708,609.974 604.173,616.587 602.703,623.215 601.3,629.857 599.964,636.513 \n",
       "  598.694,643.181 597.49,649.863 596.354,656.555 595.285,663.259 594.282,669.974 593.347,676.698 592.479,683.431 591.679,690.172 590.946,696.921 590.28,703.677 \n",
       "  589.683,710.439 589.152,717.207 588.69,723.98 588.295,730.757 587.968,737.538 587.709,744.322 587.518,751.108 587.394,757.895 587.339,764.684 \n",
       "  \"/>\n",
       "<polyline clip-path=\"url(#clip902)\" style=\"stroke:#000000; stroke-width:16; stroke-opacity:1; fill:none\" points=\"\n",
       "  587.335,766.846 587.67,788.17 588.675,809.473 590.348,830.733 592.688,851.931 595.693,873.045 599.36,894.053 603.684,914.937 608.663,935.674 614.29,956.245 \n",
       "  620.561,976.628 627.469,996.805 635.008,1016.75 643.169,1036.46 651.945,1055.89 661.327,1075.05 671.307,1093.89 681.873,1112.42 693.016,1130.6 704.725,1148.43 \n",
       "  716.988,1165.88 729.792,1182.93 743.127,1199.57 756.977,1215.79 771.33,1231.56 786.171,1246.88 801.486,1261.72 817.26,1276.07 833.477,1289.92 850.121,1303.26 \n",
       "  867.175,1316.06 884.623,1328.33 902.448,1340.03 920.632,1351.18 939.157,1361.74 958.004,1371.72 977.156,1381.11 996.593,1389.88 1016.3,1398.04 1036.25,1405.58 \n",
       "  1056.42,1412.49 1076.81,1418.76 1097.38,1424.39 1118.11,1429.37 1139,1433.69 1160.01,1437.36 1181.12,1440.36 1202.32,1442.7 1223.58,1444.38 1244.88,1445.38 \n",
       "  1266.2,1445.72 1287.53,1445.38 1308.83,1444.38 1330.09,1442.7 1351.29,1440.36 1372.4,1437.36 1393.41,1433.69 1414.3,1429.37 1435.03,1424.39 1455.6,1418.76 \n",
       "  1475.99,1412.49 1496.16,1405.58 1516.11,1398.04 1535.82,1389.88 1555.25,1381.11 1574.41,1371.72 1593.25,1361.74 1611.78,1351.18 1629.96,1340.03 1647.79,1328.33 \n",
       "  1665.23,1316.06 1682.29,1303.26 1698.93,1289.92 1715.15,1276.07 1730.92,1261.72 1746.24,1246.88 1761.08,1231.56 1775.43,1215.79 1789.28,1199.57 1802.62,1182.93 \n",
       "  1815.42,1165.88 1827.68,1148.43 1839.39,1130.6 1850.54,1112.42 1861.1,1093.89 1871.08,1075.05 1880.46,1055.89 1889.24,1036.46 1897.4,1016.75 1904.94,996.805 \n",
       "  1911.85,976.628 1918.12,956.245 1923.75,935.674 1928.73,914.937 1933.05,894.053 1936.72,873.045 1939.72,851.931 1942.06,830.733 1943.73,809.473 1944.74,788.17 \n",
       "  1945.07,766.846 1944.74,745.522 1943.73,724.219 1942.06,702.959 1939.72,681.761 1936.72,660.647 1933.05,639.638 1928.73,618.755 1923.75,598.018 1918.12,577.447 \n",
       "  1911.85,557.064 1904.94,536.887 1897.4,516.937 1889.24,497.234 1880.46,477.797 1871.08,458.646 1861.1,439.798 1850.54,421.273 1839.39,403.089 1827.68,385.265 \n",
       "  1815.42,367.816 1802.62,350.762 1789.28,334.118 1775.43,317.901 1761.08,302.128 1746.24,286.813 1730.92,271.971 1715.15,257.618 1698.93,243.768 1682.29,230.434 \n",
       "  1665.23,217.629 1647.79,205.366 1629.96,193.657 1611.78,182.514 1593.25,171.948 1574.41,161.969 1555.25,152.586 1535.82,143.81 1516.11,135.649 1496.16,128.111 \n",
       "  1475.99,121.203 1455.6,114.932 1435.03,109.304 1414.3,104.326 1393.41,100.001 1372.4,96.3343 1351.29,93.3294 1330.09,90.9891 1308.83,89.3159 1287.53,88.3113 \n",
       "  1266.2,87.9763 1244.88,88.3113 1223.58,89.3159 1202.32,90.9891 1181.12,93.3294 1160.01,96.3343 1139,100.001 1118.11,104.326 1097.38,109.304 1076.81,114.932 \n",
       "  1056.42,121.203 1036.25,128.111 1016.3,135.649 996.593,143.81 977.156,152.586 958.004,161.969 939.157,171.948 920.632,182.514 902.448,193.657 884.623,205.366 \n",
       "  867.175,217.629 850.121,230.434 833.477,243.768 817.26,257.618 801.486,271.971 786.171,286.813 771.33,302.128 756.977,317.901 743.127,334.118 729.792,350.762 \n",
       "  716.988,367.816 704.725,385.265 693.016,403.089 681.873,421.273 671.307,439.798 661.327,458.646 651.945,477.797 643.169,497.234 635.008,516.937 627.469,536.887 \n",
       "  620.561,557.064 614.29,577.447 608.663,598.018 603.684,618.755 599.36,639.638 595.693,660.647 592.688,681.761 590.348,702.959 588.675,724.219 587.67,745.522 \n",
       "  \n",
       "  \"/>\n",
       "<polyline clip-path=\"url(#clip902)\" style=\"stroke:#3da44d; stroke-width:4; stroke-opacity:1; fill:none\" points=\"\n",
       "  1266.2,766.846 587.335,766.846 \n",
       "  \"/>\n",
       "<polyline clip-path=\"url(#clip902)\" style=\"stroke:#c271d2; stroke-width:4; stroke-opacity:1; fill:none\" points=\"\n",
       "  1266.2,766.846 587.67,788.17 \n",
       "  \"/>\n",
       "<polyline clip-path=\"url(#clip902)\" style=\"stroke:#ac8d18; stroke-width:4; stroke-opacity:1; fill:none\" points=\"\n",
       "  1266.2,766.846 588.675,809.473 \n",
       "  \"/>\n",
       "<polyline clip-path=\"url(#clip902)\" style=\"stroke:#00a9ad; stroke-width:4; stroke-opacity:1; fill:none\" points=\"\n",
       "  1266.2,766.846 590.348,830.733 \n",
       "  \"/>\n",
       "<polyline clip-path=\"url(#clip902)\" style=\"stroke:#ed5d92; stroke-width:4; stroke-opacity:1; fill:none\" points=\"\n",
       "  1266.2,766.846 592.688,851.931 \n",
       "  \"/>\n",
       "<polyline clip-path=\"url(#clip902)\" style=\"stroke:#c68125; stroke-width:4; stroke-opacity:1; fill:none\" points=\"\n",
       "  1266.2,766.846 595.693,873.045 \n",
       "  \"/>\n",
       "<polyline clip-path=\"url(#clip902)\" style=\"stroke:#00a98d; stroke-width:4; stroke-opacity:1; fill:none\" points=\"\n",
       "  1266.2,766.846 599.36,894.053 \n",
       "  \"/>\n",
       "<polyline clip-path=\"url(#clip902)\" style=\"stroke:#8e971d; stroke-width:4; stroke-opacity:1; fill:none\" points=\"\n",
       "  1266.2,766.846 603.684,914.937 \n",
       "  \"/>\n",
       "<polyline clip-path=\"url(#clip902)\" style=\"stroke:#00a8cb; stroke-width:4; stroke-opacity:1; fill:none\" points=\"\n",
       "  1266.2,766.846 608.663,935.674 \n",
       "  \"/>\n",
       "<polyline clip-path=\"url(#clip902)\" style=\"stroke:#9b7fe8; stroke-width:4; stroke-opacity:1; fill:none\" points=\"\n",
       "  1266.2,766.846 614.29,956.245 \n",
       "  \"/>\n",
       "<polyline clip-path=\"url(#clip902)\" style=\"stroke:#608cf6; stroke-width:4; stroke-opacity:1; fill:none\" points=\"\n",
       "  1266.2,766.846 620.561,976.628 \n",
       "  \"/>\n",
       "<polyline clip-path=\"url(#clip902)\" style=\"stroke:#f05f73; stroke-width:4; stroke-opacity:1; fill:none\" points=\"\n",
       "  1266.2,766.846 627.469,996.805 \n",
       "  \"/>\n",
       "<polyline clip-path=\"url(#clip902)\" style=\"stroke:#dd64b5; stroke-width:4; stroke-opacity:1; fill:none\" points=\"\n",
       "  1266.2,766.846 635.008,1016.75 \n",
       "  \"/>\n",
       "<polyline clip-path=\"url(#clip902)\" style=\"stroke:#6b9e32; stroke-width:4; stroke-opacity:1; fill:none\" points=\"\n",
       "  1266.2,766.846 643.169,1036.46 \n",
       "  \"/>\n",
       "<polyline clip-path=\"url(#clip902)\" style=\"stroke:#009af9; stroke-width:4; stroke-opacity:1; fill:none\" points=\"\n",
       "  1266.2,766.846 651.945,1055.89 \n",
       "  \"/>\n",
       "<polyline clip-path=\"url(#clip902)\" style=\"stroke:#e26f46; stroke-width:4; stroke-opacity:1; fill:none\" points=\"\n",
       "  1266.2,766.846 661.327,1075.05 \n",
       "  \"/>\n",
       "<polyline clip-path=\"url(#clip902)\" style=\"stroke:#3da44d; stroke-width:4; stroke-opacity:1; fill:none\" points=\"\n",
       "  1266.2,766.846 671.307,1093.89 \n",
       "  \"/>\n",
       "<polyline clip-path=\"url(#clip902)\" style=\"stroke:#c271d2; stroke-width:4; stroke-opacity:1; fill:none\" points=\"\n",
       "  1266.2,766.846 681.873,1112.42 \n",
       "  \"/>\n",
       "<polyline clip-path=\"url(#clip902)\" style=\"stroke:#ac8d18; stroke-width:4; stroke-opacity:1; fill:none\" points=\"\n",
       "  1266.2,766.846 693.016,1130.6 \n",
       "  \"/>\n",
       "<polyline clip-path=\"url(#clip902)\" style=\"stroke:#00a9ad; stroke-width:4; stroke-opacity:1; fill:none\" points=\"\n",
       "  1266.2,766.846 704.725,1148.43 \n",
       "  \"/>\n",
       "<polyline clip-path=\"url(#clip902)\" style=\"stroke:#ed5d92; stroke-width:4; stroke-opacity:1; fill:none\" points=\"\n",
       "  1266.2,766.846 716.988,1165.88 \n",
       "  \"/>\n",
       "<polyline clip-path=\"url(#clip902)\" style=\"stroke:#c68125; stroke-width:4; stroke-opacity:1; fill:none\" points=\"\n",
       "  1266.2,766.846 729.792,1182.93 \n",
       "  \"/>\n",
       "<polyline clip-path=\"url(#clip902)\" style=\"stroke:#00a98d; stroke-width:4; stroke-opacity:1; fill:none\" points=\"\n",
       "  1266.2,766.846 743.127,1199.57 \n",
       "  \"/>\n",
       "<polyline clip-path=\"url(#clip902)\" style=\"stroke:#8e971d; stroke-width:4; stroke-opacity:1; fill:none\" points=\"\n",
       "  1266.2,766.846 756.977,1215.79 \n",
       "  \"/>\n",
       "<polyline clip-path=\"url(#clip902)\" style=\"stroke:#00a8cb; stroke-width:4; stroke-opacity:1; fill:none\" points=\"\n",
       "  1266.2,766.846 771.33,1231.56 \n",
       "  \"/>\n",
       "<polyline clip-path=\"url(#clip902)\" style=\"stroke:#9b7fe8; stroke-width:4; stroke-opacity:1; fill:none\" points=\"\n",
       "  1266.2,766.846 786.171,1246.88 \n",
       "  \"/>\n",
       "<polyline clip-path=\"url(#clip902)\" style=\"stroke:#608cf6; stroke-width:4; stroke-opacity:1; fill:none\" points=\"\n",
       "  1266.2,766.846 801.486,1261.72 \n",
       "  \"/>\n",
       "<polyline clip-path=\"url(#clip902)\" style=\"stroke:#f05f73; stroke-width:4; stroke-opacity:1; fill:none\" points=\"\n",
       "  1266.2,766.846 817.26,1276.07 \n",
       "  \"/>\n",
       "<polyline clip-path=\"url(#clip902)\" style=\"stroke:#dd64b5; stroke-width:4; stroke-opacity:1; fill:none\" points=\"\n",
       "  1266.2,766.846 833.477,1289.92 \n",
       "  \"/>\n",
       "<polyline clip-path=\"url(#clip902)\" style=\"stroke:#6b9e32; stroke-width:4; stroke-opacity:1; fill:none\" points=\"\n",
       "  1266.2,766.846 850.121,1303.26 \n",
       "  \"/>\n",
       "<polyline clip-path=\"url(#clip902)\" style=\"stroke:#009af9; stroke-width:4; stroke-opacity:1; fill:none\" points=\"\n",
       "  1266.2,766.846 867.175,1316.06 \n",
       "  \"/>\n",
       "<polyline clip-path=\"url(#clip902)\" style=\"stroke:#e26f46; stroke-width:4; stroke-opacity:1; fill:none\" points=\"\n",
       "  1266.2,766.846 884.623,1328.33 \n",
       "  \"/>\n",
       "<polyline clip-path=\"url(#clip902)\" style=\"stroke:#3da44d; stroke-width:4; stroke-opacity:1; fill:none\" points=\"\n",
       "  1266.2,766.846 902.448,1340.03 \n",
       "  \"/>\n",
       "<polyline clip-path=\"url(#clip902)\" style=\"stroke:#c271d2; stroke-width:4; stroke-opacity:1; fill:none\" points=\"\n",
       "  1266.2,766.846 920.632,1351.18 \n",
       "  \"/>\n",
       "<polyline clip-path=\"url(#clip902)\" style=\"stroke:#ac8d18; stroke-width:4; stroke-opacity:1; fill:none\" points=\"\n",
       "  1266.2,766.846 939.157,1361.74 \n",
       "  \"/>\n",
       "<polyline clip-path=\"url(#clip902)\" style=\"stroke:#00a9ad; stroke-width:4; stroke-opacity:1; fill:none\" points=\"\n",
       "  1266.2,766.846 958.004,1371.72 \n",
       "  \"/>\n",
       "<polyline clip-path=\"url(#clip902)\" style=\"stroke:#ed5d92; stroke-width:4; stroke-opacity:1; fill:none\" points=\"\n",
       "  1266.2,766.846 977.156,1381.11 \n",
       "  \"/>\n",
       "<polyline clip-path=\"url(#clip902)\" style=\"stroke:#c68125; stroke-width:4; stroke-opacity:1; fill:none\" points=\"\n",
       "  1266.2,766.846 996.593,1389.88 \n",
       "  \"/>\n",
       "<polyline clip-path=\"url(#clip902)\" style=\"stroke:#00a98d; stroke-width:4; stroke-opacity:1; fill:none\" points=\"\n",
       "  1266.2,766.846 1016.3,1398.04 \n",
       "  \"/>\n",
       "<polyline clip-path=\"url(#clip902)\" style=\"stroke:#8e971d; stroke-width:4; stroke-opacity:1; fill:none\" points=\"\n",
       "  1266.2,766.846 1036.25,1405.58 \n",
       "  \"/>\n",
       "<polyline clip-path=\"url(#clip902)\" style=\"stroke:#00a8cb; stroke-width:4; stroke-opacity:1; fill:none\" points=\"\n",
       "  1266.2,766.846 1056.42,1412.49 \n",
       "  \"/>\n",
       "<polyline clip-path=\"url(#clip902)\" style=\"stroke:#9b7fe8; stroke-width:4; stroke-opacity:1; fill:none\" points=\"\n",
       "  1266.2,766.846 1076.81,1418.76 \n",
       "  \"/>\n",
       "<polyline clip-path=\"url(#clip902)\" style=\"stroke:#608cf6; stroke-width:4; stroke-opacity:1; fill:none\" points=\"\n",
       "  1266.2,766.846 1097.38,1424.39 \n",
       "  \"/>\n",
       "<polyline clip-path=\"url(#clip902)\" style=\"stroke:#f05f73; stroke-width:4; stroke-opacity:1; fill:none\" points=\"\n",
       "  1266.2,766.846 1118.11,1429.37 \n",
       "  \"/>\n",
       "<polyline clip-path=\"url(#clip902)\" style=\"stroke:#dd64b5; stroke-width:4; stroke-opacity:1; fill:none\" points=\"\n",
       "  1266.2,766.846 1139,1433.69 \n",
       "  \"/>\n",
       "<polyline clip-path=\"url(#clip902)\" style=\"stroke:#6b9e32; stroke-width:4; stroke-opacity:1; fill:none\" points=\"\n",
       "  1266.2,766.846 1160.01,1437.36 \n",
       "  \"/>\n",
       "<polyline clip-path=\"url(#clip902)\" style=\"stroke:#009af9; stroke-width:4; stroke-opacity:1; fill:none\" points=\"\n",
       "  1266.2,766.846 1181.12,1440.36 \n",
       "  \"/>\n",
       "<polyline clip-path=\"url(#clip902)\" style=\"stroke:#e26f46; stroke-width:4; stroke-opacity:1; fill:none\" points=\"\n",
       "  1266.2,766.846 1202.32,1442.7 \n",
       "  \"/>\n",
       "<polyline clip-path=\"url(#clip902)\" style=\"stroke:#3da44d; stroke-width:4; stroke-opacity:1; fill:none\" points=\"\n",
       "  1266.2,766.846 1223.58,1444.38 \n",
       "  \"/>\n",
       "<polyline clip-path=\"url(#clip902)\" style=\"stroke:#c271d2; stroke-width:4; stroke-opacity:1; fill:none\" points=\"\n",
       "  1266.2,766.846 1244.88,1445.38 \n",
       "  \"/>\n",
       "<polyline clip-path=\"url(#clip902)\" style=\"stroke:#ac8d18; stroke-width:4; stroke-opacity:1; fill:none\" points=\"\n",
       "  1266.2,766.846 1266.2,1445.72 \n",
       "  \"/>\n",
       "<polyline clip-path=\"url(#clip902)\" style=\"stroke:#00a9ad; stroke-width:4; stroke-opacity:1; fill:none\" points=\"\n",
       "  1266.2,766.846 1287.53,1445.38 \n",
       "  \"/>\n",
       "<polyline clip-path=\"url(#clip902)\" style=\"stroke:#ed5d92; stroke-width:4; stroke-opacity:1; fill:none\" points=\"\n",
       "  1266.2,766.846 1308.83,1444.38 \n",
       "  \"/>\n",
       "<polyline clip-path=\"url(#clip902)\" style=\"stroke:#c68125; stroke-width:4; stroke-opacity:1; fill:none\" points=\"\n",
       "  1266.2,766.846 1330.09,1442.7 \n",
       "  \"/>\n",
       "<polyline clip-path=\"url(#clip902)\" style=\"stroke:#00a98d; stroke-width:4; stroke-opacity:1; fill:none\" points=\"\n",
       "  1266.2,766.846 1351.29,1440.36 \n",
       "  \"/>\n",
       "<polyline clip-path=\"url(#clip902)\" style=\"stroke:#8e971d; stroke-width:4; stroke-opacity:1; fill:none\" points=\"\n",
       "  1266.2,766.846 1372.4,1437.36 \n",
       "  \"/>\n",
       "<polyline clip-path=\"url(#clip902)\" style=\"stroke:#00a8cb; stroke-width:4; stroke-opacity:1; fill:none\" points=\"\n",
       "  1266.2,766.846 1393.41,1433.69 \n",
       "  \"/>\n",
       "<polyline clip-path=\"url(#clip902)\" style=\"stroke:#9b7fe8; stroke-width:4; stroke-opacity:1; fill:none\" points=\"\n",
       "  1266.2,766.846 1414.3,1429.37 \n",
       "  \"/>\n",
       "<polyline clip-path=\"url(#clip902)\" style=\"stroke:#608cf6; stroke-width:4; stroke-opacity:1; fill:none\" points=\"\n",
       "  1266.2,766.846 1435.03,1424.39 \n",
       "  \"/>\n",
       "<polyline clip-path=\"url(#clip902)\" style=\"stroke:#f05f73; stroke-width:4; stroke-opacity:1; fill:none\" points=\"\n",
       "  1266.2,766.846 1455.6,1418.76 \n",
       "  \"/>\n",
       "<polyline clip-path=\"url(#clip902)\" style=\"stroke:#dd64b5; stroke-width:4; stroke-opacity:1; fill:none\" points=\"\n",
       "  1266.2,766.846 1475.99,1412.49 \n",
       "  \"/>\n",
       "<polyline clip-path=\"url(#clip902)\" style=\"stroke:#6b9e32; stroke-width:4; stroke-opacity:1; fill:none\" points=\"\n",
       "  1266.2,766.846 1496.16,1405.58 \n",
       "  \"/>\n",
       "<polyline clip-path=\"url(#clip902)\" style=\"stroke:#009af9; stroke-width:4; stroke-opacity:1; fill:none\" points=\"\n",
       "  1266.2,766.846 1516.11,1398.04 \n",
       "  \"/>\n",
       "<polyline clip-path=\"url(#clip902)\" style=\"stroke:#e26f46; stroke-width:4; stroke-opacity:1; fill:none\" points=\"\n",
       "  1266.2,766.846 1535.82,1389.88 \n",
       "  \"/>\n",
       "<polyline clip-path=\"url(#clip902)\" style=\"stroke:#3da44d; stroke-width:4; stroke-opacity:1; fill:none\" points=\"\n",
       "  1266.2,766.846 1555.25,1381.11 \n",
       "  \"/>\n",
       "<polyline clip-path=\"url(#clip902)\" style=\"stroke:#c271d2; stroke-width:4; stroke-opacity:1; fill:none\" points=\"\n",
       "  1266.2,766.846 1574.41,1371.72 \n",
       "  \"/>\n",
       "<polyline clip-path=\"url(#clip902)\" style=\"stroke:#ac8d18; stroke-width:4; stroke-opacity:1; fill:none\" points=\"\n",
       "  1266.2,766.846 1593.25,1361.74 \n",
       "  \"/>\n",
       "<polyline clip-path=\"url(#clip902)\" style=\"stroke:#00a9ad; stroke-width:4; stroke-opacity:1; fill:none\" points=\"\n",
       "  1266.2,766.846 1611.78,1351.18 \n",
       "  \"/>\n",
       "<polyline clip-path=\"url(#clip902)\" style=\"stroke:#ed5d92; stroke-width:4; stroke-opacity:1; fill:none\" points=\"\n",
       "  1266.2,766.846 1629.96,1340.03 \n",
       "  \"/>\n",
       "<polyline clip-path=\"url(#clip902)\" style=\"stroke:#c68125; stroke-width:4; stroke-opacity:1; fill:none\" points=\"\n",
       "  1266.2,766.846 1647.79,1328.33 \n",
       "  \"/>\n",
       "<polyline clip-path=\"url(#clip902)\" style=\"stroke:#00a98d; stroke-width:4; stroke-opacity:1; fill:none\" points=\"\n",
       "  1266.2,766.846 1665.23,1316.06 \n",
       "  \"/>\n",
       "<polyline clip-path=\"url(#clip902)\" style=\"stroke:#8e971d; stroke-width:4; stroke-opacity:1; fill:none\" points=\"\n",
       "  1266.2,766.846 1682.29,1303.26 \n",
       "  \"/>\n",
       "<polyline clip-path=\"url(#clip902)\" style=\"stroke:#00a8cb; stroke-width:4; stroke-opacity:1; fill:none\" points=\"\n",
       "  1266.2,766.846 1698.93,1289.92 \n",
       "  \"/>\n",
       "<polyline clip-path=\"url(#clip902)\" style=\"stroke:#9b7fe8; stroke-width:4; stroke-opacity:1; fill:none\" points=\"\n",
       "  1266.2,766.846 1715.15,1276.07 \n",
       "  \"/>\n",
       "<polyline clip-path=\"url(#clip902)\" style=\"stroke:#608cf6; stroke-width:4; stroke-opacity:1; fill:none\" points=\"\n",
       "  1266.2,766.846 1730.92,1261.72 \n",
       "  \"/>\n",
       "<polyline clip-path=\"url(#clip902)\" style=\"stroke:#f05f73; stroke-width:4; stroke-opacity:1; fill:none\" points=\"\n",
       "  1266.2,766.846 1746.24,1246.88 \n",
       "  \"/>\n",
       "<polyline clip-path=\"url(#clip902)\" style=\"stroke:#dd64b5; stroke-width:4; stroke-opacity:1; fill:none\" points=\"\n",
       "  1266.2,766.846 1761.08,1231.56 \n",
       "  \"/>\n",
       "<polyline clip-path=\"url(#clip902)\" style=\"stroke:#6b9e32; stroke-width:4; stroke-opacity:1; fill:none\" points=\"\n",
       "  1266.2,766.846 1775.43,1215.79 \n",
       "  \"/>\n",
       "<polyline clip-path=\"url(#clip902)\" style=\"stroke:#009af9; stroke-width:4; stroke-opacity:1; fill:none\" points=\"\n",
       "  1266.2,766.846 1789.28,1199.57 \n",
       "  \"/>\n",
       "<polyline clip-path=\"url(#clip902)\" style=\"stroke:#e26f46; stroke-width:4; stroke-opacity:1; fill:none\" points=\"\n",
       "  1266.2,766.846 1802.62,1182.93 \n",
       "  \"/>\n",
       "<polyline clip-path=\"url(#clip902)\" style=\"stroke:#3da44d; stroke-width:4; stroke-opacity:1; fill:none\" points=\"\n",
       "  1266.2,766.846 1815.42,1165.88 \n",
       "  \"/>\n",
       "<polyline clip-path=\"url(#clip902)\" style=\"stroke:#c271d2; stroke-width:4; stroke-opacity:1; fill:none\" points=\"\n",
       "  1266.2,766.846 1827.68,1148.43 \n",
       "  \"/>\n",
       "<polyline clip-path=\"url(#clip902)\" style=\"stroke:#ac8d18; stroke-width:4; stroke-opacity:1; fill:none\" points=\"\n",
       "  1266.2,766.846 1839.39,1130.6 \n",
       "  \"/>\n",
       "<polyline clip-path=\"url(#clip902)\" style=\"stroke:#00a9ad; stroke-width:4; stroke-opacity:1; fill:none\" points=\"\n",
       "  1266.2,766.846 1850.54,1112.42 \n",
       "  \"/>\n",
       "<polyline clip-path=\"url(#clip902)\" style=\"stroke:#ed5d92; stroke-width:4; stroke-opacity:1; fill:none\" points=\"\n",
       "  1266.2,766.846 1861.1,1093.89 \n",
       "  \"/>\n",
       "<polyline clip-path=\"url(#clip902)\" style=\"stroke:#c68125; stroke-width:4; stroke-opacity:1; fill:none\" points=\"\n",
       "  1266.2,766.846 1871.08,1075.05 \n",
       "  \"/>\n",
       "<polyline clip-path=\"url(#clip902)\" style=\"stroke:#00a98d; stroke-width:4; stroke-opacity:1; fill:none\" points=\"\n",
       "  1266.2,766.846 1880.46,1055.89 \n",
       "  \"/>\n",
       "<polyline clip-path=\"url(#clip902)\" style=\"stroke:#8e971d; stroke-width:4; stroke-opacity:1; fill:none\" points=\"\n",
       "  1266.2,766.846 1889.24,1036.46 \n",
       "  \"/>\n",
       "<polyline clip-path=\"url(#clip902)\" style=\"stroke:#00a8cb; stroke-width:4; stroke-opacity:1; fill:none\" points=\"\n",
       "  1266.2,766.846 1897.4,1016.75 \n",
       "  \"/>\n",
       "<polyline clip-path=\"url(#clip902)\" style=\"stroke:#9b7fe8; stroke-width:4; stroke-opacity:1; fill:none\" points=\"\n",
       "  1266.2,766.846 1904.94,996.805 \n",
       "  \"/>\n",
       "<polyline clip-path=\"url(#clip902)\" style=\"stroke:#608cf6; stroke-width:4; stroke-opacity:1; fill:none\" points=\"\n",
       "  1266.2,766.846 1911.85,976.628 \n",
       "  \"/>\n",
       "<polyline clip-path=\"url(#clip902)\" style=\"stroke:#f05f73; stroke-width:4; stroke-opacity:1; fill:none\" points=\"\n",
       "  1266.2,766.846 1918.12,956.245 \n",
       "  \"/>\n",
       "<polyline clip-path=\"url(#clip902)\" style=\"stroke:#dd64b5; stroke-width:4; stroke-opacity:1; fill:none\" points=\"\n",
       "  1266.2,766.846 1923.75,935.674 \n",
       "  \"/>\n",
       "<polyline clip-path=\"url(#clip902)\" style=\"stroke:#6b9e32; stroke-width:4; stroke-opacity:1; fill:none\" points=\"\n",
       "  1266.2,766.846 1928.73,914.937 \n",
       "  \"/>\n",
       "<polyline clip-path=\"url(#clip902)\" style=\"stroke:#009af9; stroke-width:4; stroke-opacity:1; fill:none\" points=\"\n",
       "  1266.2,766.846 1933.05,894.053 \n",
       "  \"/>\n",
       "<polyline clip-path=\"url(#clip902)\" style=\"stroke:#e26f46; stroke-width:4; stroke-opacity:1; fill:none\" points=\"\n",
       "  1266.2,766.846 1936.72,873.045 \n",
       "  \"/>\n",
       "<polyline clip-path=\"url(#clip902)\" style=\"stroke:#3da44d; stroke-width:4; stroke-opacity:1; fill:none\" points=\"\n",
       "  1266.2,766.846 1939.72,851.931 \n",
       "  \"/>\n",
       "<polyline clip-path=\"url(#clip902)\" style=\"stroke:#c271d2; stroke-width:4; stroke-opacity:1; fill:none\" points=\"\n",
       "  1266.2,766.846 1942.06,830.733 \n",
       "  \"/>\n",
       "<polyline clip-path=\"url(#clip902)\" style=\"stroke:#ac8d18; stroke-width:4; stroke-opacity:1; fill:none\" points=\"\n",
       "  1266.2,766.846 1943.73,809.473 \n",
       "  \"/>\n",
       "<polyline clip-path=\"url(#clip902)\" style=\"stroke:#00a9ad; stroke-width:4; stroke-opacity:1; fill:none\" points=\"\n",
       "  1266.2,766.846 1944.74,788.17 \n",
       "  \"/>\n",
       "<polyline clip-path=\"url(#clip902)\" style=\"stroke:#ed5d92; stroke-width:4; stroke-opacity:1; fill:none\" points=\"\n",
       "  1266.2,766.846 1945.07,766.846 \n",
       "  \"/>\n",
       "<polyline clip-path=\"url(#clip902)\" style=\"stroke:#c68125; stroke-width:4; stroke-opacity:1; fill:none\" points=\"\n",
       "  1266.2,766.846 1944.74,745.522 \n",
       "  \"/>\n",
       "<polyline clip-path=\"url(#clip902)\" style=\"stroke:#00a98d; stroke-width:4; stroke-opacity:1; fill:none\" points=\"\n",
       "  1266.2,766.846 1943.73,724.219 \n",
       "  \"/>\n",
       "<polyline clip-path=\"url(#clip902)\" style=\"stroke:#8e971d; stroke-width:4; stroke-opacity:1; fill:none\" points=\"\n",
       "  1266.2,766.846 1942.06,702.959 \n",
       "  \"/>\n",
       "<polyline clip-path=\"url(#clip902)\" style=\"stroke:#00a8cb; stroke-width:4; stroke-opacity:1; fill:none\" points=\"\n",
       "  1266.2,766.846 1939.72,681.761 \n",
       "  \"/>\n",
       "<polyline clip-path=\"url(#clip902)\" style=\"stroke:#9b7fe8; stroke-width:4; stroke-opacity:1; fill:none\" points=\"\n",
       "  1266.2,766.846 1936.72,660.647 \n",
       "  \"/>\n",
       "<polyline clip-path=\"url(#clip902)\" style=\"stroke:#608cf6; stroke-width:4; stroke-opacity:1; fill:none\" points=\"\n",
       "  1266.2,766.846 1933.05,639.638 \n",
       "  \"/>\n",
       "<polyline clip-path=\"url(#clip902)\" style=\"stroke:#f05f73; stroke-width:4; stroke-opacity:1; fill:none\" points=\"\n",
       "  1266.2,766.846 1928.73,618.755 \n",
       "  \"/>\n",
       "<polyline clip-path=\"url(#clip902)\" style=\"stroke:#dd64b5; stroke-width:4; stroke-opacity:1; fill:none\" points=\"\n",
       "  1266.2,766.846 1923.75,598.018 \n",
       "  \"/>\n",
       "<polyline clip-path=\"url(#clip902)\" style=\"stroke:#6b9e32; stroke-width:4; stroke-opacity:1; fill:none\" points=\"\n",
       "  1266.2,766.846 1918.12,577.447 \n",
       "  \"/>\n",
       "<polyline clip-path=\"url(#clip902)\" style=\"stroke:#009af9; stroke-width:4; stroke-opacity:1; fill:none\" points=\"\n",
       "  1266.2,766.846 1911.85,557.064 \n",
       "  \"/>\n",
       "<polyline clip-path=\"url(#clip902)\" style=\"stroke:#e26f46; stroke-width:4; stroke-opacity:1; fill:none\" points=\"\n",
       "  1266.2,766.846 1904.94,536.887 \n",
       "  \"/>\n",
       "<polyline clip-path=\"url(#clip902)\" style=\"stroke:#3da44d; stroke-width:4; stroke-opacity:1; fill:none\" points=\"\n",
       "  1266.2,766.846 1897.4,516.937 \n",
       "  \"/>\n",
       "<polyline clip-path=\"url(#clip902)\" style=\"stroke:#c271d2; stroke-width:4; stroke-opacity:1; fill:none\" points=\"\n",
       "  1266.2,766.846 1889.24,497.234 \n",
       "  \"/>\n",
       "<polyline clip-path=\"url(#clip902)\" style=\"stroke:#ac8d18; stroke-width:4; stroke-opacity:1; fill:none\" points=\"\n",
       "  1266.2,766.846 1880.46,477.797 \n",
       "  \"/>\n",
       "<polyline clip-path=\"url(#clip902)\" style=\"stroke:#00a9ad; stroke-width:4; stroke-opacity:1; fill:none\" points=\"\n",
       "  1266.2,766.846 1871.08,458.646 \n",
       "  \"/>\n",
       "<polyline clip-path=\"url(#clip902)\" style=\"stroke:#ed5d92; stroke-width:4; stroke-opacity:1; fill:none\" points=\"\n",
       "  1266.2,766.846 1861.1,439.798 \n",
       "  \"/>\n",
       "<polyline clip-path=\"url(#clip902)\" style=\"stroke:#c68125; stroke-width:4; stroke-opacity:1; fill:none\" points=\"\n",
       "  1266.2,766.846 1850.54,421.273 \n",
       "  \"/>\n",
       "<polyline clip-path=\"url(#clip902)\" style=\"stroke:#00a98d; stroke-width:4; stroke-opacity:1; fill:none\" points=\"\n",
       "  1266.2,766.846 1839.39,403.089 \n",
       "  \"/>\n",
       "<polyline clip-path=\"url(#clip902)\" style=\"stroke:#8e971d; stroke-width:4; stroke-opacity:1; fill:none\" points=\"\n",
       "  1266.2,766.846 1827.68,385.265 \n",
       "  \"/>\n",
       "<polyline clip-path=\"url(#clip902)\" style=\"stroke:#00a8cb; stroke-width:4; stroke-opacity:1; fill:none\" points=\"\n",
       "  1266.2,766.846 1815.42,367.816 \n",
       "  \"/>\n",
       "<polyline clip-path=\"url(#clip902)\" style=\"stroke:#9b7fe8; stroke-width:4; stroke-opacity:1; fill:none\" points=\"\n",
       "  1266.2,766.846 1802.62,350.762 \n",
       "  \"/>\n",
       "<polyline clip-path=\"url(#clip902)\" style=\"stroke:#608cf6; stroke-width:4; stroke-opacity:1; fill:none\" points=\"\n",
       "  1266.2,766.846 1789.28,334.118 \n",
       "  \"/>\n",
       "<polyline clip-path=\"url(#clip902)\" style=\"stroke:#f05f73; stroke-width:4; stroke-opacity:1; fill:none\" points=\"\n",
       "  1266.2,766.846 1775.43,317.901 \n",
       "  \"/>\n",
       "<polyline clip-path=\"url(#clip902)\" style=\"stroke:#dd64b5; stroke-width:4; stroke-opacity:1; fill:none\" points=\"\n",
       "  1266.2,766.846 1761.08,302.128 \n",
       "  \"/>\n",
       "<polyline clip-path=\"url(#clip902)\" style=\"stroke:#6b9e32; stroke-width:4; stroke-opacity:1; fill:none\" points=\"\n",
       "  1266.2,766.846 1746.24,286.813 \n",
       "  \"/>\n",
       "<polyline clip-path=\"url(#clip902)\" style=\"stroke:#009af9; stroke-width:4; stroke-opacity:1; fill:none\" points=\"\n",
       "  1266.2,766.846 1730.92,271.971 \n",
       "  \"/>\n",
       "<polyline clip-path=\"url(#clip902)\" style=\"stroke:#e26f46; stroke-width:4; stroke-opacity:1; fill:none\" points=\"\n",
       "  1266.2,766.846 1715.15,257.618 \n",
       "  \"/>\n",
       "<polyline clip-path=\"url(#clip902)\" style=\"stroke:#3da44d; stroke-width:4; stroke-opacity:1; fill:none\" points=\"\n",
       "  1266.2,766.846 1698.93,243.768 \n",
       "  \"/>\n",
       "<polyline clip-path=\"url(#clip902)\" style=\"stroke:#c271d2; stroke-width:4; stroke-opacity:1; fill:none\" points=\"\n",
       "  1266.2,766.846 1682.29,230.434 \n",
       "  \"/>\n",
       "<polyline clip-path=\"url(#clip902)\" style=\"stroke:#ac8d18; stroke-width:4; stroke-opacity:1; fill:none\" points=\"\n",
       "  1266.2,766.846 1665.23,217.629 \n",
       "  \"/>\n",
       "<polyline clip-path=\"url(#clip902)\" style=\"stroke:#00a9ad; stroke-width:4; stroke-opacity:1; fill:none\" points=\"\n",
       "  1266.2,766.846 1647.79,205.366 \n",
       "  \"/>\n",
       "<polyline clip-path=\"url(#clip902)\" style=\"stroke:#ed5d92; stroke-width:4; stroke-opacity:1; fill:none\" points=\"\n",
       "  1266.2,766.846 1629.96,193.657 \n",
       "  \"/>\n",
       "<polyline clip-path=\"url(#clip902)\" style=\"stroke:#c68125; stroke-width:4; stroke-opacity:1; fill:none\" points=\"\n",
       "  1266.2,766.846 1611.78,182.514 \n",
       "  \"/>\n",
       "<polyline clip-path=\"url(#clip902)\" style=\"stroke:#00a98d; stroke-width:4; stroke-opacity:1; fill:none\" points=\"\n",
       "  1266.2,766.846 1593.25,171.948 \n",
       "  \"/>\n",
       "<polyline clip-path=\"url(#clip902)\" style=\"stroke:#8e971d; stroke-width:4; stroke-opacity:1; fill:none\" points=\"\n",
       "  1266.2,766.846 1574.41,161.969 \n",
       "  \"/>\n",
       "<polyline clip-path=\"url(#clip902)\" style=\"stroke:#00a8cb; stroke-width:4; stroke-opacity:1; fill:none\" points=\"\n",
       "  1266.2,766.846 1555.25,152.586 \n",
       "  \"/>\n",
       "<polyline clip-path=\"url(#clip902)\" style=\"stroke:#9b7fe8; stroke-width:4; stroke-opacity:1; fill:none\" points=\"\n",
       "  1266.2,766.846 1535.82,143.81 \n",
       "  \"/>\n",
       "<polyline clip-path=\"url(#clip902)\" style=\"stroke:#608cf6; stroke-width:4; stroke-opacity:1; fill:none\" points=\"\n",
       "  1266.2,766.846 1516.11,135.649 \n",
       "  \"/>\n",
       "<polyline clip-path=\"url(#clip902)\" style=\"stroke:#f05f73; stroke-width:4; stroke-opacity:1; fill:none\" points=\"\n",
       "  1266.2,766.846 1496.16,128.111 \n",
       "  \"/>\n",
       "<polyline clip-path=\"url(#clip902)\" style=\"stroke:#dd64b5; stroke-width:4; stroke-opacity:1; fill:none\" points=\"\n",
       "  1266.2,766.846 1475.99,121.203 \n",
       "  \"/>\n",
       "<polyline clip-path=\"url(#clip902)\" style=\"stroke:#6b9e32; stroke-width:4; stroke-opacity:1; fill:none\" points=\"\n",
       "  1266.2,766.846 1455.6,114.932 \n",
       "  \"/>\n",
       "<polyline clip-path=\"url(#clip902)\" style=\"stroke:#009af9; stroke-width:4; stroke-opacity:1; fill:none\" points=\"\n",
       "  1266.2,766.846 1435.03,109.304 \n",
       "  \"/>\n",
       "<polyline clip-path=\"url(#clip902)\" style=\"stroke:#e26f46; stroke-width:4; stroke-opacity:1; fill:none\" points=\"\n",
       "  1266.2,766.846 1414.3,104.326 \n",
       "  \"/>\n",
       "<polyline clip-path=\"url(#clip902)\" style=\"stroke:#3da44d; stroke-width:4; stroke-opacity:1; fill:none\" points=\"\n",
       "  1266.2,766.846 1393.41,100.001 \n",
       "  \"/>\n",
       "<polyline clip-path=\"url(#clip902)\" style=\"stroke:#c271d2; stroke-width:4; stroke-opacity:1; fill:none\" points=\"\n",
       "  1266.2,766.846 1372.4,96.3343 \n",
       "  \"/>\n",
       "<polyline clip-path=\"url(#clip902)\" style=\"stroke:#ac8d18; stroke-width:4; stroke-opacity:1; fill:none\" points=\"\n",
       "  1266.2,766.846 1351.29,93.3294 \n",
       "  \"/>\n",
       "<polyline clip-path=\"url(#clip902)\" style=\"stroke:#00a9ad; stroke-width:4; stroke-opacity:1; fill:none\" points=\"\n",
       "  1266.2,766.846 1330.09,90.9891 \n",
       "  \"/>\n",
       "<polyline clip-path=\"url(#clip902)\" style=\"stroke:#ed5d92; stroke-width:4; stroke-opacity:1; fill:none\" points=\"\n",
       "  1266.2,766.846 1308.83,89.3159 \n",
       "  \"/>\n",
       "<polyline clip-path=\"url(#clip902)\" style=\"stroke:#c68125; stroke-width:4; stroke-opacity:1; fill:none\" points=\"\n",
       "  1266.2,766.846 1287.53,88.3113 \n",
       "  \"/>\n",
       "<polyline clip-path=\"url(#clip902)\" style=\"stroke:#00a98d; stroke-width:4; stroke-opacity:1; fill:none\" points=\"\n",
       "  1266.2,766.846 1266.2,87.9763 \n",
       "  \"/>\n",
       "<polyline clip-path=\"url(#clip902)\" style=\"stroke:#8e971d; stroke-width:4; stroke-opacity:1; fill:none\" points=\"\n",
       "  1266.2,766.846 1244.88,88.3113 \n",
       "  \"/>\n",
       "<polyline clip-path=\"url(#clip902)\" style=\"stroke:#00a8cb; stroke-width:4; stroke-opacity:1; fill:none\" points=\"\n",
       "  1266.2,766.846 1223.58,89.3159 \n",
       "  \"/>\n",
       "<polyline clip-path=\"url(#clip902)\" style=\"stroke:#9b7fe8; stroke-width:4; stroke-opacity:1; fill:none\" points=\"\n",
       "  1266.2,766.846 1202.32,90.9891 \n",
       "  \"/>\n",
       "<polyline clip-path=\"url(#clip902)\" style=\"stroke:#608cf6; stroke-width:4; stroke-opacity:1; fill:none\" points=\"\n",
       "  1266.2,766.846 1181.12,93.3294 \n",
       "  \"/>\n",
       "<polyline clip-path=\"url(#clip902)\" style=\"stroke:#f05f73; stroke-width:4; stroke-opacity:1; fill:none\" points=\"\n",
       "  1266.2,766.846 1160.01,96.3343 \n",
       "  \"/>\n",
       "<polyline clip-path=\"url(#clip902)\" style=\"stroke:#dd64b5; stroke-width:4; stroke-opacity:1; fill:none\" points=\"\n",
       "  1266.2,766.846 1139,100.001 \n",
       "  \"/>\n",
       "<polyline clip-path=\"url(#clip902)\" style=\"stroke:#6b9e32; stroke-width:4; stroke-opacity:1; fill:none\" points=\"\n",
       "  1266.2,766.846 1118.11,104.326 \n",
       "  \"/>\n",
       "<polyline clip-path=\"url(#clip902)\" style=\"stroke:#009af9; stroke-width:4; stroke-opacity:1; fill:none\" points=\"\n",
       "  1266.2,766.846 1097.38,109.304 \n",
       "  \"/>\n",
       "<polyline clip-path=\"url(#clip902)\" style=\"stroke:#e26f46; stroke-width:4; stroke-opacity:1; fill:none\" points=\"\n",
       "  1266.2,766.846 1076.81,114.932 \n",
       "  \"/>\n",
       "<polyline clip-path=\"url(#clip902)\" style=\"stroke:#3da44d; stroke-width:4; stroke-opacity:1; fill:none\" points=\"\n",
       "  1266.2,766.846 1056.42,121.203 \n",
       "  \"/>\n",
       "<polyline clip-path=\"url(#clip902)\" style=\"stroke:#c271d2; stroke-width:4; stroke-opacity:1; fill:none\" points=\"\n",
       "  1266.2,766.846 1036.25,128.111 \n",
       "  \"/>\n",
       "<polyline clip-path=\"url(#clip902)\" style=\"stroke:#ac8d18; stroke-width:4; stroke-opacity:1; fill:none\" points=\"\n",
       "  1266.2,766.846 1016.3,135.649 \n",
       "  \"/>\n",
       "<polyline clip-path=\"url(#clip902)\" style=\"stroke:#00a9ad; stroke-width:4; stroke-opacity:1; fill:none\" points=\"\n",
       "  1266.2,766.846 996.593,143.81 \n",
       "  \"/>\n",
       "<polyline clip-path=\"url(#clip902)\" style=\"stroke:#ed5d92; stroke-width:4; stroke-opacity:1; fill:none\" points=\"\n",
       "  1266.2,766.846 977.156,152.586 \n",
       "  \"/>\n",
       "<polyline clip-path=\"url(#clip902)\" style=\"stroke:#c68125; stroke-width:4; stroke-opacity:1; fill:none\" points=\"\n",
       "  1266.2,766.846 958.004,161.969 \n",
       "  \"/>\n",
       "<polyline clip-path=\"url(#clip902)\" style=\"stroke:#00a98d; stroke-width:4; stroke-opacity:1; fill:none\" points=\"\n",
       "  1266.2,766.846 939.157,171.948 \n",
       "  \"/>\n",
       "<polyline clip-path=\"url(#clip902)\" style=\"stroke:#8e971d; stroke-width:4; stroke-opacity:1; fill:none\" points=\"\n",
       "  1266.2,766.846 920.632,182.514 \n",
       "  \"/>\n",
       "<polyline clip-path=\"url(#clip902)\" style=\"stroke:#00a8cb; stroke-width:4; stroke-opacity:1; fill:none\" points=\"\n",
       "  1266.2,766.846 902.448,193.657 \n",
       "  \"/>\n",
       "<polyline clip-path=\"url(#clip902)\" style=\"stroke:#9b7fe8; stroke-width:4; stroke-opacity:1; fill:none\" points=\"\n",
       "  1266.2,766.846 884.623,205.366 \n",
       "  \"/>\n",
       "<polyline clip-path=\"url(#clip902)\" style=\"stroke:#608cf6; stroke-width:4; stroke-opacity:1; fill:none\" points=\"\n",
       "  1266.2,766.846 867.175,217.629 \n",
       "  \"/>\n",
       "<polyline clip-path=\"url(#clip902)\" style=\"stroke:#f05f73; stroke-width:4; stroke-opacity:1; fill:none\" points=\"\n",
       "  1266.2,766.846 850.121,230.434 \n",
       "  \"/>\n",
       "<polyline clip-path=\"url(#clip902)\" style=\"stroke:#dd64b5; stroke-width:4; stroke-opacity:1; fill:none\" points=\"\n",
       "  1266.2,766.846 833.477,243.768 \n",
       "  \"/>\n",
       "<polyline clip-path=\"url(#clip902)\" style=\"stroke:#6b9e32; stroke-width:4; stroke-opacity:1; fill:none\" points=\"\n",
       "  1266.2,766.846 817.26,257.618 \n",
       "  \"/>\n",
       "<polyline clip-path=\"url(#clip902)\" style=\"stroke:#009af9; stroke-width:4; stroke-opacity:1; fill:none\" points=\"\n",
       "  1266.2,766.846 801.486,271.971 \n",
       "  \"/>\n",
       "<polyline clip-path=\"url(#clip902)\" style=\"stroke:#e26f46; stroke-width:4; stroke-opacity:1; fill:none\" points=\"\n",
       "  1266.2,766.846 786.171,286.813 \n",
       "  \"/>\n",
       "<polyline clip-path=\"url(#clip902)\" style=\"stroke:#3da44d; stroke-width:4; stroke-opacity:1; fill:none\" points=\"\n",
       "  1266.2,766.846 771.33,302.128 \n",
       "  \"/>\n",
       "<polyline clip-path=\"url(#clip902)\" style=\"stroke:#c271d2; stroke-width:4; stroke-opacity:1; fill:none\" points=\"\n",
       "  1266.2,766.846 756.977,317.901 \n",
       "  \"/>\n",
       "<polyline clip-path=\"url(#clip902)\" style=\"stroke:#ac8d18; stroke-width:4; stroke-opacity:1; fill:none\" points=\"\n",
       "  1266.2,766.846 743.127,334.118 \n",
       "  \"/>\n",
       "<polyline clip-path=\"url(#clip902)\" style=\"stroke:#00a9ad; stroke-width:4; stroke-opacity:1; fill:none\" points=\"\n",
       "  1266.2,766.846 729.792,350.762 \n",
       "  \"/>\n",
       "<polyline clip-path=\"url(#clip902)\" style=\"stroke:#ed5d92; stroke-width:4; stroke-opacity:1; fill:none\" points=\"\n",
       "  1266.2,766.846 716.988,367.816 \n",
       "  \"/>\n",
       "<polyline clip-path=\"url(#clip902)\" style=\"stroke:#c68125; stroke-width:4; stroke-opacity:1; fill:none\" points=\"\n",
       "  1266.2,766.846 704.725,385.265 \n",
       "  \"/>\n",
       "<polyline clip-path=\"url(#clip902)\" style=\"stroke:#00a98d; stroke-width:4; stroke-opacity:1; fill:none\" points=\"\n",
       "  1266.2,766.846 693.016,403.089 \n",
       "  \"/>\n",
       "<polyline clip-path=\"url(#clip902)\" style=\"stroke:#8e971d; stroke-width:4; stroke-opacity:1; fill:none\" points=\"\n",
       "  1266.2,766.846 681.873,421.273 \n",
       "  \"/>\n",
       "<polyline clip-path=\"url(#clip902)\" style=\"stroke:#00a8cb; stroke-width:4; stroke-opacity:1; fill:none\" points=\"\n",
       "  1266.2,766.846 671.307,439.798 \n",
       "  \"/>\n",
       "<polyline clip-path=\"url(#clip902)\" style=\"stroke:#9b7fe8; stroke-width:4; stroke-opacity:1; fill:none\" points=\"\n",
       "  1266.2,766.846 661.327,458.646 \n",
       "  \"/>\n",
       "<polyline clip-path=\"url(#clip902)\" style=\"stroke:#608cf6; stroke-width:4; stroke-opacity:1; fill:none\" points=\"\n",
       "  1266.2,766.846 651.945,477.797 \n",
       "  \"/>\n",
       "<polyline clip-path=\"url(#clip902)\" style=\"stroke:#f05f73; stroke-width:4; stroke-opacity:1; fill:none\" points=\"\n",
       "  1266.2,766.846 643.169,497.234 \n",
       "  \"/>\n",
       "<polyline clip-path=\"url(#clip902)\" style=\"stroke:#dd64b5; stroke-width:4; stroke-opacity:1; fill:none\" points=\"\n",
       "  1266.2,766.846 635.008,516.937 \n",
       "  \"/>\n",
       "<polyline clip-path=\"url(#clip902)\" style=\"stroke:#6b9e32; stroke-width:4; stroke-opacity:1; fill:none\" points=\"\n",
       "  1266.2,766.846 627.469,536.887 \n",
       "  \"/>\n",
       "<polyline clip-path=\"url(#clip902)\" style=\"stroke:#009af9; stroke-width:4; stroke-opacity:1; fill:none\" points=\"\n",
       "  1266.2,766.846 620.561,557.064 \n",
       "  \"/>\n",
       "<polyline clip-path=\"url(#clip902)\" style=\"stroke:#e26f46; stroke-width:4; stroke-opacity:1; fill:none\" points=\"\n",
       "  1266.2,766.846 614.29,577.447 \n",
       "  \"/>\n",
       "<polyline clip-path=\"url(#clip902)\" style=\"stroke:#3da44d; stroke-width:4; stroke-opacity:1; fill:none\" points=\"\n",
       "  1266.2,766.846 608.663,598.018 \n",
       "  \"/>\n",
       "<polyline clip-path=\"url(#clip902)\" style=\"stroke:#c271d2; stroke-width:4; stroke-opacity:1; fill:none\" points=\"\n",
       "  1266.2,766.846 603.684,618.755 \n",
       "  \"/>\n",
       "<polyline clip-path=\"url(#clip902)\" style=\"stroke:#ac8d18; stroke-width:4; stroke-opacity:1; fill:none\" points=\"\n",
       "  1266.2,766.846 599.36,639.638 \n",
       "  \"/>\n",
       "<polyline clip-path=\"url(#clip902)\" style=\"stroke:#00a9ad; stroke-width:4; stroke-opacity:1; fill:none\" points=\"\n",
       "  1266.2,766.846 595.693,660.647 \n",
       "  \"/>\n",
       "<polyline clip-path=\"url(#clip902)\" style=\"stroke:#ed5d92; stroke-width:4; stroke-opacity:1; fill:none\" points=\"\n",
       "  1266.2,766.846 592.688,681.761 \n",
       "  \"/>\n",
       "<polyline clip-path=\"url(#clip902)\" style=\"stroke:#c68125; stroke-width:4; stroke-opacity:1; fill:none\" points=\"\n",
       "  1266.2,766.846 590.348,702.959 \n",
       "  \"/>\n",
       "<polyline clip-path=\"url(#clip902)\" style=\"stroke:#00a98d; stroke-width:4; stroke-opacity:1; fill:none\" points=\"\n",
       "  1266.2,766.846 588.675,724.219 \n",
       "  \"/>\n",
       "<polyline clip-path=\"url(#clip902)\" style=\"stroke:#8e971d; stroke-width:4; stroke-opacity:1; fill:none\" points=\"\n",
       "  1266.2,766.846 587.67,745.522 \n",
       "  \"/>\n",
       "</svg>\n"
      ]
     },
     "metadata": {},
     "output_type": "display_data"
    },
    {
     "data": {
      "text/plain": [
       "-0.000516745776955041"
      ]
     },
     "metadata": {},
     "output_type": "display_data"
    }
   ],
   "source": [
    "# Approximate the area of a unit circle via triangles\n",
    "N = 200 # Number of triangles\n",
    "ths = [-pi:(2*pi/N):pi;]\n",
    "n = length(ths)\n",
    "Xs = cos.(ths)\n",
    "Ys = sin.(ths)\n",
    "p1 = plot(X,Y,linewidth=6, color=:red)\n",
    "p1 = plot!(Xs, Ys, legend=false, aspectratio=:equal,linewidth=4, color=:black)\n",
    "for k = 1:n\n",
    "    plot!([0;Xs[k]],[0;Ys[k]])\n",
    "end\n",
    "display(p1)\n",
    "Area = 0.0\n",
    "n = length(ths)\n",
    "Xs = [Xs;Xs[1]]\n",
    "Ys = [Ys;Ys[1]]\n",
    "for k = 1:n\n",
    "    u = [Xs[k];Ys[k];0.0]\n",
    "    v = [Xs[k+1];Ys[k+1];0.0]\n",
    "    AreaTriangle=0.5*norm(cross(u,v))\n",
    "    global Area = Area+AreaTriangle\n",
    "end\n",
    "Area-pi"
   ]
  },
  {
   "cell_type": "code",
   "execution_count": 1,
   "id": "666f5ecf",
   "metadata": {},
   "outputs": [
    {
     "data": {
      "text/plain": [
       "true"
      ]
     },
     "metadata": {},
     "output_type": "display_data"
    }
   ],
   "source": [
    "1==1"
   ]
  },
  {
   "cell_type": "markdown",
   "id": "0ef1f726-2c14-4b01-9a55-102c84439432",
   "metadata": {},
   "source": [
    "### Problem. Area of a Heart!"
   ]
  },
  {
   "cell_type": "code",
   "execution_count": null,
   "id": "120f6b59-fd3b-4133-843e-ec39e68f8f50",
   "metadata": {},
   "outputs": [],
   "source": [
    "# Plot a heart shape\n",
    "using LinearAlgebra\n",
    "using Plots\n",
    "th=[-pi:0.01:pi;]\n",
    "X=16*(sin.(th)).^3\n",
    "Y=13.0*cos.(th)-5.0*cos.(2.0*th)-2.0*cos.(3.0*th)-1.0cos.(4.0*th)\n",
    "plot(X, Y, legend = false)"
   ]
  },
  {
   "cell_type": "code",
   "execution_count": null,
   "id": "767a1302-21c5-4677-834b-97d1d83c74fd",
   "metadata": {},
   "outputs": [],
   "source": [
    "# Compute the actual area of the heart shape\n",
    "Area=0.0\n",
    "n=length(th)\n",
    "X=[X;X[1]]\n",
    "Y=[Y;Y[1]]\n",
    "for k=1:n\n",
    "    u=[X[k];Y[k];0.0]\n",
    "    v=[X[k+1];Y[k+1];0.0]\n",
    "    AreaTriangle=0.5*norm(cross(u,v))\n",
    "    Area = Area+AreaTriangle\n",
    "end\n",
    "Area"
   ]
  },
  {
   "cell_type": "code",
   "execution_count": null,
   "id": "71a24829-9102-499d-a637-a5d0d2093d53",
   "metadata": {},
   "outputs": [],
   "source": [
    "# Divide the heart shape into triangles\n",
    "N=20 # Number of triangles\n",
    "ths=[-pi:(2*pi/N):pi;]\n",
    "n=length(ths)\n",
    "Xs=16*(sin.(ths)).^3\n",
    "Ys=13.0*cos.(ths)-5.0*cos.(2.0*ths)-2.0*cos.(3.0*ths)-1.0cos.(4.0*ths)\n",
    "p1=plot(Xs, Ys, legend=false)\n",
    "for k=1:n\n",
    "    plot!([0;Xs[k]],[0;Ys[k]])\n",
    "end\n",
    "plot!(X,Y,linewidth=4, color=:red)\n",
    "p1"
   ]
  },
  {
   "cell_type": "code",
   "execution_count": null,
   "id": "e3a713f2-7c3f-4a33-a8f8-e6b7aa3a449a",
   "metadata": {
    "deletable": false,
    "nbgrader": {
     "cell_type": "code",
     "checksum": "665c986928f8ec78683e6b5bf8e0ae7b",
     "grade": false,
     "grade_id": "cell-f6783aa8fb9f0fe5",
     "locked": false,
     "schema_version": 3,
     "solution": true,
     "task": false
    }
   },
   "outputs": [],
   "source": [
    "# Approximate the area of the heart shape via triangles\n",
    "Area=0.0\n",
    "n=length(ths)\n",
    "Xs=[Xs;Xs[1]]\n",
    "Ys=[Ys;Ys[1]]\n",
    "# your code here\n",
    "throw(ErrorException())\n",
    "Area"
   ]
  },
  {
   "cell_type": "code",
   "execution_count": null,
   "id": "b1a2c0c5-4444-4b0c-b9de-7c6d5a75107e",
   "metadata": {},
   "outputs": [],
   "source": [
    "# Autograder cell\n",
    "@assert abs(Area-565.4672003218795) < 19"
   ]
  },
  {
   "cell_type": "code",
   "execution_count": null,
   "id": "54efbd61",
   "metadata": {
    "deletable": false,
    "editable": false,
    "nbgrader": {
     "cell_type": "code",
     "checksum": "a3c90d1b80e56dbfbf7e77ace94b20a6",
     "grade": true,
     "grade_id": "cell-2a02b5cbf3bb668b",
     "locked": true,
     "points": 4,
     "schema_version": 3,
     "solution": false,
     "task": false
    }
   },
   "outputs": [],
   "source": [
    "# Autograder cell"
   ]
  },
  {
   "cell_type": "markdown",
   "id": "7a18006a",
   "metadata": {},
   "source": [
    "Reference: https://www.stumblingrobot.com/2016/05/09/give-vector-based-proof-herons-formula-computing-area-triangle/"
   ]
  }
 ],
 "metadata": {
  "kernelspec": {
   "display_name": "Julia 1.4.2",
   "language": "julia",
   "name": "julia-1.4"
  },
  "language_info": {
   "file_extension": ".jl",
   "mimetype": "application/julia",
   "name": "julia",
   "version": "1.4.2"
  }
 },
 "nbformat": 4,
 "nbformat_minor": 5
}
