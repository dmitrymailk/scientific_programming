{
 "cells": [
  {
   "cell_type": "markdown",
   "metadata": {
    "deletable": false,
    "editable": false,
    "nbgrader": {
     "cell_type": "markdown",
     "checksum": "8fe6641ee483e00e84ef7257970e26f0",
     "grade": false,
     "grade_id": "cell-c39f28fa9bdc794e",
     "locked": true,
     "schema_version": 3,
     "solution": false,
     "task": false
    }
   },
   "source": [
    "University of Michigan - ROB 101 Computational Linear Algebra"
   ]
  },
  {
   "cell_type": "markdown",
   "metadata": {
    "deletable": false,
    "editable": false,
    "nbgrader": {
     "cell_type": "markdown",
     "checksum": "1dd93ab07d0148470826f4093c4022e3",
     "grade": false,
     "grade_id": "cell-447f7c0cf0e86c7",
     "locked": true,
     "schema_version": 3,
     "solution": false,
     "task": false
    }
   },
   "source": [
    "# Lab 3: Vector and Matrix Multiplication\n",
    "\n",
    "#### Purpose:  Learn ways to compute a matrix multiplication with programming\n",
    "- Skills: \n",
    "    - Indexing for multiplication\n",
    "    - Converting algorithm to code\n",
    "    - Intro to creating your own functions\n",
    "- Knowledge:\n",
    "    - Learn how to use built in functions\n",
    "    - Understand how those functions work behind the scenes\n",
    "\n",
    "#### Task:  Complete the cells below as directed.\n",
    "Welcome to the third lab! We will be exploring vector and matrix multiplication in Julia more in-depth here. "
   ]
  },
  {
   "cell_type": "markdown",
   "metadata": {
    "deletable": false,
    "editable": false,
    "nbgrader": {
     "cell_type": "markdown",
     "checksum": "38337af3b1db4cb970aaf0ad9cabfd05",
     "grade": false,
     "grade_id": "cell-447f7c0cf0e86c77",
     "locked": true,
     "schema_version": 3,
     "solution": false,
     "task": false
    }
   },
   "source": [
    "### Matrix Multiplication Reminder\n",
    "$$[n\\times k~~\\text{matrix}] \\cdot [k \\times m~~\\text{matrix}] = [n \\times m~~\\text{matrix}].$$\n",
    "\n",
    "In other words:  In order for the matrix multiplication A times B to be possible, the number of columns in A must equal the number of rows in B."
   ]
  },
  {
   "cell_type": "markdown",
   "metadata": {
    "deletable": false,
    "editable": false,
    "nbgrader": {
     "cell_type": "markdown",
     "checksum": "bc54a5a60d17f3c05dfabd40fec3028e",
     "grade": false,
     "grade_id": "cell-db80a8ed2f700a69",
     "locked": true,
     "schema_version": 3,
     "solution": false,
     "task": false
    }
   },
   "source": [
    "\\begin{equation}\n",
    "   A \\cdot B:= \n",
    "\\left[\\begin{array}{cccc}  a_1^{\\rm row} \\cdot b_1^{\\rm col} & a_1^{\\rm row} \\cdot b_2^{\\rm col} & \\cdots & a_1^{\\rm row} \\cdot b_m^{\\rm col} \\\\\n",
    "a_2^{\\rm row} \\cdot b_1^{\\rm col} & a_2^{\\rm row} \\cdot b_2^{\\rm col} & \\cdots & a_2^{\\rm row} \\cdot b_m^{\\rm col} \\\\\n",
    "\\vdots & \\vdots & \\ddots & \\vdots \\\\\n",
    "a_n^{\\rm row} \\cdot b_1^{\\rm col} & a_n^{\\rm row} \\cdot b_2^{\\rm col} & \\cdots & a_n^{\\rm row} \\cdot b_m^{\\rm col}\n",
    "\\end{array}\\right].\n",
    "\\end{equation}"
   ]
  },
  {
   "cell_type": "markdown",
   "metadata": {},
   "source": [
    "#### Example 1. Resultant Size\n",
    "There are two rules to consider when multiplying matrices.\n",
    "1. The number of columns in the first matrix, and rows in the second matrix, must be equal\n",
    "2. The resultant matrix will have the same number of rows as the first matrix, and the same number of columns as the second matrix.\n",
    "Take a look:"
   ]
  },
  {
   "cell_type": "code",
   "execution_count": null,
   "metadata": {},
   "outputs": [],
   "source": [
    "ex1a = [1 2 3; 4 5 6; 7 8 9]\n",
    "ex1b = [1 2 3 4 5; 6 7 8 9 10; 11 12 13 14 15]\n",
    "size(ex1a*ex1b)"
   ]
  },
  {
   "cell_type": "code",
   "execution_count": null,
   "metadata": {},
   "outputs": [],
   "source": [
    "ex2a = [1 2; 3 4]\n",
    "ex2b = [1 2; 3 4; 5 6]\n",
    "size(ex2a*ex2b)"
   ]
  },
  {
   "cell_type": "markdown",
   "metadata": {
    "deletable": false,
    "editable": false,
    "nbgrader": {
     "cell_type": "markdown",
     "checksum": "a80059ae5d9bd836d76147c9a97c772c",
     "grade": false,
     "grade_id": "cell-db80a8ed2f700a70",
     "locked": true,
     "schema_version": 3,
     "solution": false,
     "task": false
    }
   },
   "source": [
    "### Problem 1.  Resultant size\n",
    "Using your newly-acquired matrix-making skills, create two matrices that multiply together to form a matrix of the specified size.\n",
    "\n",
    "### a) Create matrix1 and matrix2 that multiply together to form matProduct1a, a 3x4 matrix (3 rows, 4 columns)"
   ]
  },
  {
   "cell_type": "code",
   "execution_count": null,
   "metadata": {
    "tags": [
     "problem_1a"
    ]
   },
   "outputs": [],
   "source": [
    "#Use julia matrix multiplication command to compute the resultant matrix from the component matrices\n",
    "#your answer should be a 3 x 4 matrix. Return that in a variable called matProduct1a\n",
    "\n",
    "matrix1 = \n",
    "matrix2 = \n",
    "matProduct1a = matrix1 * matrix2\n",
    "\n"
   ]
  },
  {
   "cell_type": "code",
   "execution_count": null,
   "metadata": {
    "tags": [
     "problem_1a_answer",
     "hide"
    ]
   },
   "outputs": [],
   "source": [
    "# Autograder cell\n",
    "using LinearAlgebra\n",
    "println(\"all nothings means likely correct\")\n",
    "TF2 = @assert size(matProduct1a,1) == 3\n",
    "TF3 = @assert size(matProduct1a,2) == 4\n",
    "[TF2 TF3]\n"
   ]
  },
  {
   "cell_type": "markdown",
   "metadata": {
    "deletable": false,
    "editable": false,
    "nbgrader": {
     "cell_type": "markdown",
     "checksum": "4559875f0c70b1ee3b19d8e5458ee6b2",
     "grade": false,
     "grade_id": "cell-6befc60823bbbb04",
     "locked": true,
     "schema_version": 3,
     "solution": false,
     "task": false
    }
   },
   "source": [
    "### b) [On your own] Create matrix3 and matrix4 that multiply together to form matProduct1b, a 5x2 matrix (5 rows, 2 columns)"
   ]
  },
  {
   "cell_type": "code",
   "execution_count": null,
   "metadata": {
    "tags": [
     "problem_1b"
    ]
   },
   "outputs": [],
   "source": [
    "#implement code below that computes answer1b by multiplying together two matrices\n",
    "#your answer should be a 5 x 2 matrix. Return that in a variable called matProduct1b\n",
    "\n",
    "matrix3 = \n",
    "matrix4 = \n",
    "matProduct1b =\n"
   ]
  },
  {
   "cell_type": "code",
   "execution_count": null,
   "metadata": {
    "tags": [
     "problem_1b_answer",
     "hide"
    ]
   },
   "outputs": [],
   "source": [
    "# Autograder cell\n",
    "println(\"all nothings means likely correct\")\n",
    "TF2 = @assert size(matProduct1b,1) == 5\n",
    "TF3 = @assert size(matProduct1b,2) == 2\n",
    "[TF2 TF3]\n"
   ]
  },
  {
   "cell_type": "markdown",
   "metadata": {},
   "source": [
    "### c) Clever indexing + resultant size\n",
    "\n",
    "You have learned that the ':' operator will pull whole rows/columns from a matrix - a useful tool! If we multiply 2 matrices A and B to create\n",
    "$C=A*B$ where $A = \\begin{bmatrix} 1&2&3\\\\4&5&6\\end{bmatrix}$ and $B = \\begin{bmatrix}0&1&1&2\\\\3&5&8&13\\\\21&34&55&89\\end{bmatrix}$ Extract the first and last rows of C, and the first and last columns of C."
   ]
  },
  {
   "cell_type": "code",
   "execution_count": null,
   "metadata": {},
   "outputs": [],
   "source": [
    "#multiply A and B\n",
    "A = [1 2 3; 4 5 6]\n",
    "B = [0 1 1 2; 3 5 8 13; 21 34 55 89]\n",
    "C=A*B\n",
    "#put the indicated columns and rows of C below\n",
    "topRow = \n",
    "botRow = \n",
    "leftCol = \n",
    "rightCol = \n"
   ]
  },
  {
   "cell_type": "code",
   "execution_count": null,
   "metadata": {},
   "outputs": [],
   "source": [
    "# Autograder cell\n",
    "println(\"all nothings means likely correct\")\n",
    "TF1 = @assert sum(topRow == 659)\n",
    "TF2 = @assert sum(botRow == 1355)\n",
    "TF3 = @assert sum(leftCol == 210)\n",
    "TF4 = @assert sum(rightCol == 902)\n",
    "[TF1 TF2 TF3 TF4]\n"
   ]
  },
  {
   "cell_type": "markdown",
   "metadata": {},
   "source": [
    "### Problem 2. Rows x Columns Matrix Multiplication\n",
    "\\begin{equation}\n",
    "   A \\cdot B:=  \\left[\\begin{array}{c}\\boxed{a_{11}~~ a_{12}~~ \\cdots~~ a_{1k}}  \\\\\n",
    "\\boxed{a_{21}~~ a_{22}~~ \\cdots~~ a_{2k}} \\\\\n",
    "\\vdots \\\\\n",
    "\\boxed{a_{n1}~~ a_{n2}~~ \\cdots~~ a_{nk}}\\end{array}\\right] \\cdot \n",
    "\\left[ \\boxed{\\begin{array}{c} b_{11} \\\\ b_{21}\\\\ \\vdots \\\\ b_{k1}\\end{array} }~~~\n",
    "\\boxed{\\begin{array}{c} b_{12} \\\\ b_{22}\\\\ \\vdots \\\\ b_{k2}\\end{array} }~~~\\cdots~~~\n",
    "\\boxed{\\begin{array}{c} b_{1m} \\\\ b_{2m}\\\\ \\vdots \\\\ b_{km}\\end{array} }\\right] =\n",
    "%\n",
    "\\left[\\begin{array}{cccc}  \\sum\\limits_{i=1}^k a_{1i}b_{i1} & \\sum\\limits_{i=1}^k a_{1i}b_{i2} & \\cdots & \\sum\\limits_{i=1}^k a_{1i}b_{im} \\\\\n",
    " \\sum\\limits_{i=1}^k a_{2i}b_{i1} & \\sum\\limits_{i=1}^k a_{2i}b_{i2} & \\cdots & \\sum\\limits_{i=1}^k a_{2i}b_{im} \\\\\n",
    "\\vdots & \\vdots & \\ddots & \\vdots \\\\\n",
    " \\sum\\limits_{i=1}^k a_{ni}b_{i1} & \\sum\\limits_{i=1}^k a_{ni}b_{i2} & \\cdots & \\sum\\limits_{i=1}^k a_{ni}b_{im} \\\\\n",
    "\\end{array}\\right].\n",
    "\\end{equation}\n",
    "\n",
    "#### a) Manually calculate $F*G$ where $F = \\begin{bmatrix}4&3\\\\7&9\\end{bmatrix}$ and $G = \\begin{bmatrix}5\\\\6\\end{bmatrix}$"
   ]
  },
  {
   "cell_type": "code",
   "execution_count": null,
   "metadata": {},
   "outputs": [],
   "source": [
    "#partion F into rows\n",
    "\n",
    "\n",
    "#partition G into columns (Hint: it is already a column vector)\n",
    "\n",
    "# compute the product F*G using row x column matrix multiplication for each entry of the matrix and call the answer product2a\n",
    "product2a = \n"
   ]
  },
  {
   "cell_type": "code",
   "execution_count": null,
   "metadata": {},
   "outputs": [],
   "source": [
    "# Autograder cell\n",
    "test1 = sum(product2a)\n",
    "println(\"all nothings means likely correct\")\n",
    "TF1 = @assert test1 == 127\n",
    "TF2 = @assert size(product2a,1) == 2\n",
    "TF3 = @assert size(product2a,2) == 1\n",
    "[TF1 TF2 TF3]\n"
   ]
  },
  {
   "cell_type": "markdown",
   "metadata": {},
   "source": [
    "#### b) Calculate $C*D$ where $C = \\begin{bmatrix}2&4&6\\\\3&5&7\\end{bmatrix}$ and $D = \\begin{bmatrix}9&10\\\\13&14\\\\18&19\\end{bmatrix}$ using a nested for loop"
   ]
  },
  {
   "cell_type": "code",
   "execution_count": null,
   "metadata": {},
   "outputs": [],
   "source": [
    "C = [2 4 6; 3 5 7]\n",
    "D = [9 10; 13 14; 18 19]\n",
    "# Because C is 2 x 3 and D is 3 x 2, their product will be 2 x 2\n",
    "product2b = zeros(2,2)\n",
    "\n",
    "#fix the for loop indices\n",
    "for i in ??:??\n",
    "    for j in ??:??\n",
    "        #YOUR CODE HERE\n",
    "\n",
    "    end\n",
    "end\n",
    "@show product2b"
   ]
  },
  {
   "cell_type": "code",
   "execution_count": null,
   "metadata": {
    "tags": []
   },
   "outputs": [],
   "source": [
    "# Autograder cell\n",
    "using LinearAlgebra\n",
    "test2 = sum(product2b)\n",
    "println(\"all nothings means likely correct\")\n",
    "TF1 = @assert test2 == 819\n",
    "TF2 = @assert size(product2b,1) == 2\n",
    "TF3 = @assert size(product2b,2) == 2\n",
    "[TF1 TF2 TF3]\n"
   ]
  },
  {
   "cell_type": "markdown",
   "metadata": {},
   "source": [
    "#### c) Your first function!\n",
    "You just made a nice script for matrix multiplication! But, can we can generalize the script to work for any input by turning it into a *function*. Slot your code from the previous part into the nested for loop below, and you will have made your very first function!"
   ]
  },
  {
   "cell_type": "code",
   "execution_count": null,
   "metadata": {},
   "outputs": [],
   "source": [
    "function matrix_multiply(A,B)\n",
    "    # We assume for now that the user (you) provides matrices of \n",
    "    # the appropriate sizes. We'll see latger how to check for that\n",
    "    # and throw errors when the user messes up\n",
    "    rows = size(A,1)\n",
    "    cols = size(B,2)\n",
    "    temp = zeros(rows,cols)\n",
    "    \n",
    "    #fix the for loop indices based on the last section\n",
    "    for i = ??:??\n",
    "        for j = ??:??\n",
    "            #YOUR CODE HERE\n",
    "        end\n",
    "    end\n",
    "    return temp\n",
    "end"
   ]
  },
  {
   "cell_type": "code",
   "execution_count": null,
   "metadata": {},
   "outputs": [],
   "source": [
    "using Random\n",
    "C=rand(3,40)\n",
    "D=randn(40,5)\n",
    "func_ans = matrix_multiply(C,D)\n",
    "@assert func_ans == C*D"
   ]
  },
  {
   "cell_type": "markdown",
   "metadata": {},
   "source": [
    "### Problem 3.  Matrix Row Reversal\n",
    "To practice using FOR loops, we will create a function that reverses the order of the rows of a matrix. In other words, the last row becomes the top row, the next to last row becomes the second row, etc.\n",
    "\n",
    "\n",
    "A function in programming is the same in spirit, if not always in implementation, as its mathematical namesake. A function (generally) takes something in and then (generally) spits something out. \n",
    "\n",
    "### Complete the function matrix_reverse that takes in a matrix and then reverses its order, such that the bottom right (last) element becomes the top left (first) element, and the top right element becomes the bottom left element."
   ]
  },
  {
   "cell_type": "code",
   "execution_count": null,
   "metadata": {},
   "outputs": [],
   "source": [
    "#A function, named matrix_reverse, that takes in a matrix A\n",
    "function matrix_rowReversal(A)\n",
    "    n,m = size(A)\n",
    "    temp_mat = zeros(n,m)\n",
    "    # Fix the indices on the form loop\n",
    "    for i in ??:??\n",
    "\n",
    "    end\n",
    "    return temp_mat\n",
    "end"
   ]
  },
  {
   "cell_type": "code",
   "execution_count": null,
   "metadata": {},
   "outputs": [],
   "source": [
    "#autograder cell\n",
    "println(\"all nothings means likely correct\")\n",
    "A = [1 2 3; 4 5 6; 7 8 9]\n",
    "rA = matrix_rowReversal(A)\n",
    "@show rA\n",
    "TF1 = @assert rA[2,2] == 5\n",
    "TF2 = @assert rA[1,3] == 9\n",
    "TF3 = @assert rA[1,2] == 8\n",
    "[TF1 TF2 TF3]\n"
   ]
  },
  {
   "cell_type": "markdown",
   "metadata": {
    "deletable": false,
    "editable": false,
    "nbgrader": {
     "cell_type": "markdown",
     "checksum": "04ed9c4d4099c9345c44578e6d4f3f81",
     "grade": false,
     "grade_id": "cell-11b9a0e4128b893d",
     "locked": true,
     "schema_version": 3,
     "solution": false,
     "task": false
    }
   },
   "source": [
    "### Problem 4. [On Your Own]  Matrix Row and Column Reversal\n",
    "To practice using FOR loops, we will create a function that reverses the order of the rows and columns of a matrix. \n",
    "\n",
    "\n",
    "A function in programming is the same in spirit, if not always in implementation, as its mathematical namesake. A function (generally) takes something in and then (generally) spits something out. \n",
    "\n",
    "### Complete the function matrix_reverse that takes in a matrix and then reverses its order, such that the bottom right (last) element becomes the top left (first) element, and the top right element becomes the bottom left element."
   ]
  },
  {
   "cell_type": "code",
   "execution_count": null,
   "metadata": {
    "tags": [
     "problem_2a"
    ]
   },
   "outputs": [],
   "source": [
    "#A function, named matrix_reverse, that takes in a matrix A\n",
    "function matrix_reverse(A)\n",
    "    #Your code below: remember, a FOR loop can be inside another FOR loop\n",
    "    #In that case, for each iteration of the outer FOR loop, the inner\n",
    "    #   FOR loop will iterate fully\n",
    "    n,m = size(A)\n",
    "    temp_mat = zeros(n,m)\n",
    "    #fix the for loop indices\n",
    "    for i in ??:??\n",
    "        #some code?\n",
    "        for j in ??:??\n",
    "            #some code?\n",
    "\n",
    "        end\n",
    "    end\n",
    "    return temp_mat\n",
    "end"
   ]
  },
  {
   "cell_type": "code",
   "execution_count": null,
   "metadata": {
    "tags": [
     "problem_2a_answer",
     "hide"
    ]
   },
   "outputs": [],
   "source": [
    "#autograder cell\n",
    "A = [1 2 3; 4 5 6; 7 8 9]\n",
    "rA = matrix_reverse(A)\n",
    "TF1 = @assert rA[1,1] == 9\n",
    "TF2 = @assert rA[3,3] == 1\n",
    "TF3 = @assert rA[1,3] == 7\n",
    "TF4 = @assert rA[3,1] == 3\n",
    "[TF1 TF2 TF3 TF4]\n"
   ]
  },
  {
   "cell_type": "markdown",
   "metadata": {},
   "source": [
    "<img align=\"left\" src=\"https://c.tenor.com/TSfv9OumbmsAAAAC/boueibu-yumoto-hakone.gif\"/>"
   ]
  },
  {
   "cell_type": "markdown",
   "metadata": {},
   "source": [
    "# Lorenz Attractor"
   ]
  },
  {
   "cell_type": "code",
   "execution_count": null,
   "metadata": {},
   "outputs": [],
   "source": [
    "using Plots\n",
    "gr()\n",
    "# define the Lorenz attractor\n",
    "Base.@kwdef mutable struct Lorenz\n",
    "    dt::Float64 = 0.02\n",
    "    σ::Float64 = 10\n",
    "    ρ::Float64 = 28\n",
    "    β::Float64 = 8/3\n",
    "    x::Float64 = 1\n",
    "    y::Float64 = 1\n",
    "    z::Float64 = 1\n",
    "end\n",
    "\n",
    "function step!(l::Lorenz)\n",
    "    dx = l.σ * (l.y - l.x);         l.x += l.dt * dx\n",
    "    dy = l.x * (l.ρ - l.z) - l.y;   l.y += l.dt * dy\n",
    "    dz = l.x * l.y - l.β * l.z;     l.z += l.dt * dz\n",
    "end\n",
    "\n",
    "attractor = Lorenz()\n",
    "\n",
    "\n",
    "# initialize a 3D plot with 1 empty series\n",
    "plt = plot3d(\n",
    "    1,\n",
    "    xlim = (-30, 30),\n",
    "    ylim = (-30, 30),\n",
    "    zlim = (0, 60),\n",
    "    title = \"Lorenz Attractor\",\n",
    "    marker = 2,\n",
    ")\n",
    "\n",
    "# build an animated gif by pushing new points to the plot, saving every 10th frame\n",
    "@gif for i=1:3000\n",
    "    step!(attractor)\n",
    "    push!(plt, attractor.x, attractor.y, attractor.z)\n",
    "end every 10\n"
   ]
  },
  {
   "cell_type": "code",
   "execution_count": null,
   "metadata": {},
   "outputs": [],
   "source": []
  }
 ],
 "metadata": {
  "kernelspec": {
   "display_name": "Julia 1.6.1",
   "language": "julia",
   "name": "julia-1.6"
  },
  "language_info": {
   "file_extension": ".jl",
   "mimetype": "application/julia",
   "name": "julia",
   "version": "1.6.1"
  }
 },
 "nbformat": 4,
 "nbformat_minor": 4
}
