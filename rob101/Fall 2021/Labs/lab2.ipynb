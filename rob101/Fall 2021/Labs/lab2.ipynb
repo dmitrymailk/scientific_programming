{
 "cells": [
  {
   "cell_type": "markdown",
   "id": "ff771ab6-d664-4278-a9ef-8dc5a1913848",
   "metadata": {},
   "source": [
    "University of Michigan - ROB 101 Computational Linear Algebra"
   ]
  },
  {
   "cell_type": "markdown",
   "id": "b607b60b-8b7a-4303-8b91-7dc80f12c591",
   "metadata": {},
   "source": [
    "# Lab 2: Vectors, Matrices and Systems of Linear Equations\n",
    "\n",
    "### Welcome to the world of Julia!"
   ]
  },
  {
   "cell_type": "markdown",
   "id": "bc44fd14-b2c8-4b36-a5eb-4268d945f3e4",
   "metadata": {},
   "source": [
    "### Vectors and Matrices\n",
    "\n",
    "Vectors and matrices are extensively used in this course. In Julia, vectors are a specific kind of matrix. For instance, a column vector is a matrix that only has one collumn. Let's first learn how to create a vector in Julia."
   ]
  },
  {
   "cell_type": "markdown",
   "id": "ecaf50e7-07ae-423e-8220-91017b6356af",
   "metadata": {},
   "source": [
    "### Example 1. (Review on your own) Create Vectors and Matrices"
   ]
  },
  {
   "cell_type": "code",
   "execution_count": null,
   "id": "0494b906-1002-47bf-a582-9a320e1e5cf8",
   "metadata": {},
   "outputs": [],
   "source": [
    "# Create a row vector of all odd numbers from 0 to 9 \n",
    "row_vec = [1 3 5 7 9]\n",
    "# Note: the numbers in a row vector should be included in '[]' and seperated by spaces"
   ]
  },
  {
   "cell_type": "code",
   "execution_count": null,
   "id": "1f4aba5c-54bf-4507-9d3c-2d80b76e5279",
   "metadata": {},
   "outputs": [],
   "source": [
    "# Create a column vector of all even numbers from 0 to 9\n",
    "col_vec = [0; 2; 4; 6; 8]\n",
    "# Note: the numbers in a column vector should be seperated by ';'"
   ]
  },
  {
   "cell_type": "markdown",
   "id": "9de2f0a7-aa43-4b7b-b61d-851b4a73e107",
   "metadata": {},
   "source": [
    "We created row and column vectors of integers. Let's create vector of real numbers."
   ]
  },
  {
   "cell_type": "code",
   "execution_count": null,
   "id": "d7701fb4-ed02-453d-9e3c-8d85f9c6e725",
   "metadata": {},
   "outputs": [],
   "source": [
    "# Create a column vector which has 1.2, 2.4, and 4.8\n",
    "real_vec = [1.2; 2.4; 4.8]\n",
    "# Note: Float64 is a primitive data type in Julia for real numbers (floating-point values).\n",
    "# Int64 shown in previous cells is the type for integers. You don't need to worry about other types for now."
   ]
  },
  {
   "cell_type": "markdown",
   "id": "af599d28-d630-4bf3-8283-1fb6ca40eed1",
   "metadata": {},
   "source": [
    "We learned the syntax for creating vectors. Creating a matrix is as easy as creating multiple row vectors and using `;` to seperate each row. Make sure the number of entries in each row is the same, otherwise you will get an error."
   ]
  },
  {
   "cell_type": "code",
   "execution_count": null,
   "id": "1f16a22c-bb1e-4a6c-a44c-5be8ea6f262e",
   "metadata": {},
   "outputs": [],
   "source": [
    "# Create a 2-by-5 matrix where the 1st row are odd numbers and the 2nd row are even numbers from 0 to 9\n",
    "A = [1 3 5 7 9; 0 2 4 6 8]"
   ]
  },
  {
   "cell_type": "markdown",
   "id": "bd54986f-3f2e-4e4a-a3dc-c35de4359601",
   "metadata": {},
   "source": [
    "### Practice 1."
   ]
  },
  {
   "cell_type": "code",
   "execution_count": null,
   "id": "1d3e192e-687d-4ecc-8be5-8b26f7d94a83",
   "metadata": {
    "deletable": false,
    "nbgrader": {
     "cell_type": "code",
     "checksum": "e2e903f2239152dcf30b55e1b1aa34b5",
     "grade": false,
     "grade_id": "cell-637e6ccb9572e1c4",
     "locked": false,
     "schema_version": 3,
     "solution": true,
     "task": false
    }
   },
   "outputs": [],
   "source": [
    "# Create a column vector (called almost_zero_vec) of 5 entries: the 3rd entry is -1.5, and others are zeros\n",
    "almost_zero_vec =\n",
    "# your code here\n",
    "throw(ErrorException())"
   ]
  },
  {
   "cell_type": "code",
   "execution_count": null,
   "id": "b63b138e-fa5e-426f-8ee7-d7a4879f6df2",
   "metadata": {},
   "outputs": [],
   "source": [
    "# Autograder cell\n",
    "using LinearAlgebra\n",
    "test1 = norm(almost_zero_vec)\n",
    "test2 = sum(abs.(almost_zero_vec[1:2]))\n",
    "test3 = size(almost_zero_vec)[1]\n",
    "println(\"all nothings means likely correct\")\n",
    "TF1 = @assert test1 == 1.5\n",
    "TF2 = @assert test2 == 0.0\n",
    "TF3 = @assert test3 == 5\n",
    "[TF1 TF2 TF3]"
   ]
  },
  {
   "cell_type": "code",
   "execution_count": null,
   "id": "46bd8f89",
   "metadata": {
    "deletable": false,
    "editable": false,
    "nbgrader": {
     "cell_type": "code",
     "checksum": "f9a37c51fb8c313f23d92118645882ae",
     "grade": true,
     "grade_id": "cell-9c75a04cfb908a37",
     "locked": true,
     "points": 2,
     "schema_version": 3,
     "solution": false,
     "task": false
    }
   },
   "outputs": [],
   "source": [
    "# Autograder cell"
   ]
  },
  {
   "cell_type": "code",
   "execution_count": null,
   "id": "2b340732-e878-4d44-9908-c46c891462b6",
   "metadata": {
    "deletable": false,
    "nbgrader": {
     "cell_type": "code",
     "checksum": "29455d1a944bdf4971b9d16eaace588d",
     "grade": false,
     "grade_id": "cell-bba15ab7f8fc341b",
     "locked": false,
     "schema_version": 3,
     "solution": true,
     "task": false
    }
   },
   "outputs": [],
   "source": [
    "# Create a 3-by-4 matrix called zero_matrix with all zeros\n",
    "zero_matrix = \n",
    "# your code here\n",
    "throw(ErrorException())"
   ]
  },
  {
   "cell_type": "code",
   "execution_count": null,
   "id": "bfa25c48-7876-4895-add2-79f7dbace90e",
   "metadata": {},
   "outputs": [],
   "source": [
    "# Autograder cell\n",
    "using LinearAlgebra\n",
    "test1 = sum(zero_matrix)\n",
    "test2 = size(zero_matrix)[1]\n",
    "test3 = size(zero_matrix)[2]\n",
    "println(\"all nothings means likely correct\")\n",
    "TF1 = @assert test1 == 0\n",
    "TF2 = @assert test2 == 3\n",
    "TF3 = @assert test3 == 4\n",
    "[TF1 TF2 TF3]"
   ]
  },
  {
   "cell_type": "code",
   "execution_count": null,
   "id": "4480caf9",
   "metadata": {
    "deletable": false,
    "editable": false,
    "nbgrader": {
     "cell_type": "code",
     "checksum": "2266e86eeca11666241ac2a8709ff5f6",
     "grade": true,
     "grade_id": "cell-68930aa21b7d4919",
     "locked": true,
     "points": 2,
     "schema_version": 3,
     "solution": false,
     "task": false
    }
   },
   "outputs": [],
   "source": [
    "# Autograder cell"
   ]
  },
  {
   "cell_type": "markdown",
   "id": "f84df465-1f99-4564-b244-afbe1eb9b46f",
   "metadata": {},
   "source": [
    "There are other convenient ways to create a vector/matrix with all zeros or the same numbers by using built-in functions (We will discuss more about functions in Lab4)."
   ]
  },
  {
   "cell_type": "code",
   "execution_count": null,
   "id": "2528ce44-be87-4803-86f3-bbb11c7ed86f",
   "metadata": {},
   "outputs": [],
   "source": [
    "# Create a 3-by-4 matrix called two_matrix with all twos\n",
    "two_matrix = ones(3, 4) .+ 1\n",
    "# Note: ones() is a function returning a vector/matrix with all one, 3 and 4 specify the size, specifically, \n",
    "# 3 is the number of rows and 4 is the number of columns"
   ]
  },
  {
   "cell_type": "markdown",
   "id": "03c126d7-b2f2-4af7-b0a4-4e03de7f5687",
   "metadata": {},
   "source": [
    "We can also create a random vector/matrix by using functions in the Random pacakge."
   ]
  },
  {
   "cell_type": "code",
   "execution_count": null,
   "id": "5fb4e29a-0f30-4098-800f-2a1157d9f2ef",
   "metadata": {},
   "outputs": [],
   "source": [
    "# Create a 3-by-4 matrix called rand_matrix with random numbers\n",
    "using Random # Using an external pacakge called Random which provides functions\n",
    "Random.seed!(1234) # Set the seed so that each of you get the same results. \n",
    "rand_matrix = rand(3, 4)"
   ]
  },
  {
   "cell_type": "markdown",
   "id": "8516b8de-403f-4678-8aa1-235979be21c3",
   "metadata": {},
   "source": [
    "### Example 2. (We will start here) Vector and Matrix Indexing\n",
    "\n",
    "Indexing is used to select entries in vectors and matrices. Julia uses **1-based indexing** which means that the index starts at 1. Be aware that there is also 0-based indexing in some other programming languages, such as C++."
   ]
  },
  {
   "cell_type": "code",
   "execution_count": 3,
   "id": "e67f5af7",
   "metadata": {},
   "outputs": [
    {
     "data": {
      "text/plain": [
       "3×4 Matrix{Float64}:\n",
       " 0.590845  0.460085  0.200586  0.579672\n",
       " 0.766797  0.794026  0.298614  0.648882\n",
       " 0.566237  0.854147  0.246837  0.0109059"
      ]
     },
     "execution_count": 3,
     "metadata": {},
     "output_type": "execute_result"
    }
   ],
   "source": [
    "# We define some vectors and matrices\n",
    "row_vec = [1 3 5 7 9]\n",
    "almost_zero_vec=[0; 0; -pi; 0; 0; 0; 0]\n",
    "using Random # Using an external pacakge called Random which provides functions\n",
    "Random.seed!(1234) # Set the seed so that each of you get the same results. \n",
    "rand_matrix = rand(3, 4)"
   ]
  },
  {
   "cell_type": "code",
   "execution_count": 4,
   "id": "f87cb597-1469-4526-8d04-5dea2eabfc63",
   "metadata": {},
   "outputs": [
    {
     "data": {
      "text/plain": [
       "1"
      ]
     },
     "execution_count": 4,
     "metadata": {},
     "output_type": "execute_result"
    }
   ],
   "source": [
    "# Select the 1st number from a row_vector\n",
    "num = row_vec[1]"
   ]
  },
  {
   "cell_type": "code",
   "execution_count": 5,
   "id": "5a574c5c-d9f2-4bc8-a6b3-7aa2b9cb3987",
   "metadata": {},
   "outputs": [
    {
     "data": {
      "text/plain": [
       "-3.141592653589793"
      ]
     },
     "execution_count": 5,
     "metadata": {},
     "output_type": "execute_result"
    }
   ],
   "source": [
    "# Select the non-zero number from our previous almost_zero_vec\n",
    "num = almost_zero_vec[3]\n",
    "# Note: because a vector has only one dimension, only one index is needed and it corresponds to \n",
    "# the location where the number is stored"
   ]
  },
  {
   "cell_type": "code",
   "execution_count": 6,
   "id": "b5a3ba84-fb03-48b1-8854-c35225731b09",
   "metadata": {},
   "outputs": [
    {
     "data": {
      "text/plain": [
       "0.4600853424625171"
      ]
     },
     "execution_count": 6,
     "metadata": {},
     "output_type": "execute_result"
    }
   ],
   "source": [
    "# Select the entry in the 1st row and 2nd column of rand_matrix\n",
    "num = rand_matrix[1, 2]\n",
    "# Note: 1 is the index for the row, and 2 is the index for the column"
   ]
  },
  {
   "cell_type": "markdown",
   "id": "eb29793a-c160-4dc5-b16d-6a6cee1b408f",
   "metadata": {},
   "source": [
    "We learned how to select one entry from vectors and matrices. We can also select the whole row or column from a matrix, which will be a vector."
   ]
  },
  {
   "cell_type": "code",
   "execution_count": 7,
   "id": "8c7fe81e-95dd-44af-9323-0d45b388bf70",
   "metadata": {},
   "outputs": [
    {
     "data": {
      "text/plain": [
       "3-element Vector{Float64}:\n",
       " 0.5796722333690416\n",
       " 0.6488819502093455\n",
       " 0.010905889635595356"
      ]
     },
     "execution_count": 7,
     "metadata": {},
     "output_type": "execute_result"
    }
   ],
   "source": [
    "# Select the 4th column of rand_matrix\n",
    "vect = rand_matrix[:, 4]\n",
    "# Note: when we want to select the whole column, we use `:` as the index for row, and vice versa."
   ]
  },
  {
   "cell_type": "code",
   "execution_count": null,
   "id": "93e4f874-6528-4557-b4b3-db7a00f85d81",
   "metadata": {},
   "outputs": [],
   "source": [
    "# Select the 1st row of rand_matrix\n",
    "vect = rand_matrix[1, :]"
   ]
  },
  {
   "cell_type": "markdown",
   "id": "d77a1ff8-b69d-4e2f-9655-296b5b0d125a",
   "metadata": {},
   "source": [
    "As you might notice, we did select the 1st row of the matrix. **However, Julia returned to us a column vector.** What if we want a row vector?"
   ]
  },
  {
   "cell_type": "code",
   "execution_count": null,
   "id": "bb5ed287-bf86-46a1-a141-a673a7d9b2ee",
   "metadata": {},
   "outputs": [],
   "source": [
    "# Select the 1st row of rand_matrix as a row vector\n",
    "row_vec = rand_matrix[1:1, 1:end]"
   ]
  },
  {
   "cell_type": "code",
   "execution_count": null,
   "id": "7045fe84",
   "metadata": {},
   "outputs": [],
   "source": [
    "# Select the 1st row of rand_matrix as a row vector\n",
    "# This will give the same result as the previous cell\n",
    "row_vec = rand_matrix[1:1, :]"
   ]
  },
  {
   "cell_type": "markdown",
   "id": "1991fe6d-86a4-4864-b6d9-63c4893661bd",
   "metadata": {},
   "source": [
    "### The indexing looks strange, doesn't it? Actually, this is what's going on: we are selecting a block of a matrix. The `1:1` means that from the 1st row to the 1st row, and `:` is short for `1:end`, where `1` and `end` are omitted for convenience."
   ]
  },
  {
   "cell_type": "code",
   "execution_count": null,
   "id": "7c9557e4-7ba6-430a-93a8-8eb0cf3d52d9",
   "metadata": {},
   "outputs": [],
   "source": [
    "# Declare a matrix\n",
    "A = [1 2 3 0; 4 5 6 0; 7 8 9 0; 0 0 0 0]"
   ]
  },
  {
   "cell_type": "code",
   "execution_count": null,
   "id": "8a1546f7-dcae-412d-a223-8b75bfa9ed1b",
   "metadata": {},
   "outputs": [],
   "source": [
    "# Select the block of non-zero entries of the matrix\n",
    "block = A[1:3, 1:3]"
   ]
  },
  {
   "cell_type": "code",
   "execution_count": null,
   "id": "26dce1db-0777-4d17-b25d-ad0beea6d726",
   "metadata": {},
   "outputs": [],
   "source": [
    "# Select another small block of the matrix block with only entries in the middle\n",
    "small_block = block[2:2, 2:2]"
   ]
  },
  {
   "cell_type": "markdown",
   "id": "9d6e5e74-13b1-446e-8e7f-3edf8a03c54a",
   "metadata": {},
   "source": [
    "As you observe, selecting a block of a matrix will return a matrix, even though this block only has a single number! **The 1-by-1 matrix is different than a scalar.** But, we can extract the number from the 1-by-1 matrix by indexing."
   ]
  },
  {
   "cell_type": "code",
   "execution_count": null,
   "id": "a999dbe0-6400-41b7-84d5-639d9617665a",
   "metadata": {},
   "outputs": [],
   "source": [
    "# Extract the number in small_block\n",
    "num = small_block[1]"
   ]
  },
  {
   "cell_type": "code",
   "execution_count": null,
   "id": "f19777f2",
   "metadata": {},
   "outputs": [],
   "source": [
    "# Let's compare\n",
    "pi/small_block"
   ]
  },
  {
   "cell_type": "code",
   "execution_count": null,
   "id": "1712b281",
   "metadata": {},
   "outputs": [],
   "source": [
    "# Versus\n",
    "pi/small_block[1]"
   ]
  },
  {
   "cell_type": "markdown",
   "id": "e7a88651-ac5b-41cf-83d6-55b494ccd20f",
   "metadata": {},
   "source": [
    "When we index as 'rand_matrix[n:m,p:q]' we will get a block matrix. Going back to our previous example, `row_vec = rand_matrix[1:1, 1:end]`, the returned block was a matrix with all selected numbers in order. That's why `row_vec = rand_matrix[1:1, 1:end]` returns a 1-by-4 matrix, i.e., a row vector!\n",
    "\n",
    "In addition, we can also use **matrix transpose operator** `'` to get a row vector when we select a row of a matrix."
   ]
  },
  {
   "cell_type": "code",
   "execution_count": null,
   "id": "cca48f19-684d-45c2-bd30-f0549e3b67ed",
   "metadata": {},
   "outputs": [],
   "source": [
    "# Transpose the col_vec to get a row vector\n",
    "col_vec_trans = col_vec'"
   ]
  },
  {
   "cell_type": "code",
   "execution_count": null,
   "id": "ada166e7-61fe-48d4-bb67-cdf0b1bb4859",
   "metadata": {},
   "outputs": [],
   "source": [
    "# Select the 1st row of rand_matrix as a row vector\n",
    "row_vec = rand_matrix[1, 1:end]'"
   ]
  },
  {
   "cell_type": "markdown",
   "id": "3468746c-fe12-42e2-955f-408f39e24ae0",
   "metadata": {},
   "source": [
    "### Practice 2."
   ]
  },
  {
   "cell_type": "code",
   "execution_count": 8,
   "id": "64d01222",
   "metadata": {},
   "outputs": [
    {
     "data": {
      "text/plain": [
       "3×4 Matrix{Float64}:\n",
       " 0.590845  0.460085  0.200586  0.579672\n",
       " 0.766797  0.794026  0.298614  0.648882\n",
       " 0.566237  0.854147  0.246837  0.0109059"
      ]
     },
     "execution_count": 8,
     "metadata": {},
     "output_type": "execute_result"
    }
   ],
   "source": [
    "# Let's recall what we placed into rand_matrix\n",
    "rand_matrix"
   ]
  },
  {
   "cell_type": "code",
   "execution_count": 10,
   "id": "0d588d1e-224a-4813-b644-8077fec6811a",
   "metadata": {
    "deletable": false,
    "nbgrader": {
     "cell_type": "code",
     "checksum": "e3737d0804ffc20d485549035481e2c3",
     "grade": false,
     "grade_id": "cell-1fbe846131f0aead",
     "locked": false,
     "schema_version": 3,
     "solution": true,
     "task": false
    }
   },
   "outputs": [
    {
     "data": {
      "text/plain": [
       "0.010905889635595356"
      ]
     },
     "execution_count": 10,
     "metadata": {},
     "output_type": "execute_result"
    }
   ],
   "source": [
    "# Select the smallest number of rand_matrix and call it small_num\n",
    "small_num = rand_matrix[3, 4]\n",
    "# your code here"
   ]
  },
  {
   "cell_type": "code",
   "execution_count": 11,
   "id": "66a0f5a3-332f-4cc3-9c3e-f6726a447d65",
   "metadata": {},
   "outputs": [
    {
     "name": "stdout",
     "output_type": "stream",
     "text": [
      "all nothings means likely correct\n"
     ]
    },
    {
     "data": {
      "text/plain": [
       "1×2 Matrix{Nothing}:\n",
       " nothing  nothing"
      ]
     },
     "execution_count": 11,
     "metadata": {},
     "output_type": "execute_result"
    }
   ],
   "source": [
    "# Autograder cell\n",
    "println(\"all nothings means likely correct\")\n",
    "TF1 = @assert small_num < 0.02\n",
    "TF2 = @assert small_num > 0.01\n",
    "[TF1 TF2]"
   ]
  },
  {
   "cell_type": "code",
   "execution_count": null,
   "id": "020e5dae",
   "metadata": {
    "deletable": false,
    "editable": false,
    "nbgrader": {
     "cell_type": "code",
     "checksum": "429c2d598986bd35209cc3b55789f178",
     "grade": true,
     "grade_id": "cell-18f9fdafc5981df7",
     "locked": true,
     "points": 2,
     "schema_version": 3,
     "solution": false,
     "task": false
    }
   },
   "outputs": [],
   "source": [
    "# Autograder cell"
   ]
  },
  {
   "cell_type": "code",
   "execution_count": 13,
   "id": "747ef637-c82b-497e-8670-a5ed1f4e9ebf",
   "metadata": {
    "deletable": false,
    "nbgrader": {
     "cell_type": "code",
     "checksum": "e0f0b5719e7d38831247d73f469ade20",
     "grade": false,
     "grade_id": "cell-f0f9508d66749faa",
     "locked": false,
     "schema_version": 3,
     "solution": true,
     "task": false
    }
   },
   "outputs": [
    {
     "data": {
      "text/plain": [
       "1×3 adjoint(::Vector{Float64}) with eltype Float64:\n",
       " 0.579672  0.648882  0.0109059"
      ]
     },
     "execution_count": 13,
     "metadata": {},
     "output_type": "execute_result"
    }
   ],
   "source": [
    "# Select the column containing the smallest number of rand_matrix and return it as a row vector called row_vec\n",
    "row_vec = rand_matrix[:,4]'\n",
    "# your code here"
   ]
  },
  {
   "cell_type": "code",
   "execution_count": 14,
   "id": "c6b0b94e-ac8f-4099-86a4-6e417a2af2fe",
   "metadata": {},
   "outputs": [
    {
     "name": "stdout",
     "output_type": "stream",
     "text": [
      "all nothings means likely correct\n"
     ]
    },
    {
     "data": {
      "text/plain": [
       "1×3 Matrix{Nothing}:\n",
       " nothing  nothing  nothing"
      ]
     },
     "execution_count": 14,
     "metadata": {},
     "output_type": "execute_result"
    }
   ],
   "source": [
    "# Autograder cell\n",
    "using LinearAlgebra\n",
    "test1 = norm(row_vec)\n",
    "println(\"all nothings means likely correct\")\n",
    "TF1 = @assert test1 == 0.8701647096241493\n",
    "TF2 = @assert size(row_vec)[1] == 1\n",
    "TF3 = @assert size(row_vec)[2] == 3\n",
    "[TF1 TF2 TF3]"
   ]
  },
  {
   "cell_type": "code",
   "execution_count": null,
   "id": "b824866b",
   "metadata": {
    "deletable": false,
    "editable": false,
    "nbgrader": {
     "cell_type": "code",
     "checksum": "f9110a073239199d08cc5ade0ce57822",
     "grade": true,
     "grade_id": "cell-6f4d4229eadf2d99",
     "locked": true,
     "points": 2,
     "schema_version": 3,
     "solution": false,
     "task": false
    }
   },
   "outputs": [],
   "source": [
    "# Autograder cell"
   ]
  },
  {
   "cell_type": "markdown",
   "id": "c05c7b1b-db33-42b3-bd40-8d63470b1d4c",
   "metadata": {},
   "source": [
    "### Example 3. For Loops"
   ]
  },
  {
   "cell_type": "code",
   "execution_count": 15,
   "id": "4b7c724d-9dab-43ad-b70a-082fe37141a3",
   "metadata": {},
   "outputs": [
    {
     "data": {
      "text/plain": [
       "3×3 Matrix{Int64}:\n",
       " 1  8  2\n",
       " 0  3  7\n",
       " 6  2  9"
      ]
     },
     "execution_count": 15,
     "metadata": {},
     "output_type": "execute_result"
    }
   ],
   "source": [
    "# Declare a 3-by-3 matrix\n",
    "A = [1 8 2; 0 3 7; 6 2 9]"
   ]
  },
  {
   "cell_type": "markdown",
   "id": "936d011b",
   "metadata": {},
   "source": [
    "### The terms A[k,k] of a matrix A, where the row number and column number are the same,  are called the  ***primary diagonal of the matrix*** "
   ]
  },
  {
   "cell_type": "code",
   "execution_count": 16,
   "id": "bee9a70b-10ec-454e-bf7d-0d5d5638e4d8",
   "metadata": {},
   "outputs": [
    {
     "data": {
      "text/plain": [
       "13"
      ]
     },
     "execution_count": 16,
     "metadata": {},
     "output_type": "execute_result"
    }
   ],
   "source": [
    "# Compute the sum of the entries on the primary diagonal of A\n",
    "sums = A[1, 1] + A[2, 2] + A[3, 3]"
   ]
  },
  {
   "cell_type": "code",
   "execution_count": 17,
   "id": "20df22c2-b3fb-4328-a580-0c709fdb2e2c",
   "metadata": {},
   "outputs": [
    {
     "data": {
      "text/plain": [
       "5×5 Matrix{Int64}:\n",
       " 2  7  3  4  1\n",
       " 9  1  0  3  2\n",
       " 7  4  9  2  0\n",
       " 1  7  6  4  2\n",
       " 7  4  9  5  8"
      ]
     },
     "execution_count": 17,
     "metadata": {},
     "output_type": "execute_result"
    }
   ],
   "source": [
    "# Declare a 5-by-5 matrix\n",
    "A = [2 7 3 4 1; 9 1 0 3 2; 7 4 9 2 0; 1 7 6 4 2; 7 4 9 5 8]"
   ]
  },
  {
   "cell_type": "code",
   "execution_count": 18,
   "id": "c35bf27e-e763-4dfa-a900-187d9653a96d",
   "metadata": {},
   "outputs": [
    {
     "data": {
      "text/plain": [
       "24"
      ]
     },
     "execution_count": 18,
     "metadata": {},
     "output_type": "execute_result"
    }
   ],
   "source": [
    "#  Compute the sum of the entries on the primary diagonal of A\n",
    "sums = A[1, 1] + A[2, 2] + A[3, 3] + A[4, 4] + A[5, 5]"
   ]
  },
  {
   "cell_type": "markdown",
   "id": "2cbb9723-bd18-435b-aecd-77a71f8702cd",
   "metadata": {},
   "source": [
    "You may have noticed that the way we compute the sum of matrix diagonals can work for a small matrix. But what about a large matrix, say 100-by-100? It will be exhausting to index them manually. We program for a reason: to automate the computations! So what we can do?\n",
    "\n",
    "To compute the sum of the entries on the primary diagonal, we need to index each element one by one. I am sure that you also noticed that there is a pattern in the indices: For a 3-by-3 matrix, the index starts from 1 and goes to 3; For a 5-by-5 matrix, the index is from 1 to 5, which is the size of the matrix.\n",
    "\n",
    "**We can use a for loop to automate this process.**"
   ]
  },
  {
   "cell_type": "markdown",
   "id": "970c74e5",
   "metadata": {},
   "source": [
    "For loops are used to iterate over a set of values and perform a set of operations that are given in the body of the loop. The syntax of foor loop in Julia is as follows:\n",
    "\n",
    "```\n",
    "for iterator in range\n",
    "    statements to do stuff\n",
    "end\n",
    "```\n",
    "\n",
    "Here, ```for``` is the keyword starting the for loop, the keyword ```in```  is used to define a range in which to iterate, the keyword ```end``` is used to denote the end of the for loop.\n",
    "\n",
    "Let's see a few examples."
   ]
  },
  {
   "cell_type": "code",
   "execution_count": 21,
   "id": "b2f09a6c-2111-4fba-b6ef-82f8525a8786",
   "metadata": {},
   "outputs": [
    {
     "name": "stdout",
     "output_type": "stream",
     "text": [
      "1\n",
      "2\n",
      "3\n",
      "4\n",
      "5\n",
      "6\n",
      "7\n",
      "8\n",
      "9\n",
      "10\n"
     ]
    }
   ],
   "source": [
    "# Print the numbers from 1 to 10\n",
    "for k in 1:10\n",
    "    println(k)\n",
    "end"
   ]
  },
  {
   "cell_type": "markdown",
   "id": "cf0c3ca1-b6ab-43de-83e2-d075b7e89b4d",
   "metadata": {},
   "source": [
    "If the range is defined as a set of numbers, the following syntax is also valid:\n",
    "\n",
    "```\n",
    "for iterator = start:step:stop\n",
    "    statements to do stuff\n",
    "end\n",
    "```\n",
    "\n",
    "Here, ```start:step:stop``` will return a list of numbers from ```start``` to ```stop``` with a step size of ```step```. Note the ```start``` and ```stop``` are inclusively considered....which simply that the iterator is always between or equal to the upper and lower bounds."
   ]
  },
  {
   "cell_type": "code",
   "execution_count": 22,
   "id": "3e7ae599",
   "metadata": {},
   "outputs": [
    {
     "name": "stdout",
     "output_type": "stream",
     "text": [
      "2\n",
      "4\n",
      "6\n",
      "8\n",
      "10\n",
      "12\n",
      "14\n",
      "16\n",
      "18\n",
      "20\n"
     ]
    }
   ],
   "source": [
    "# Print the even numbers from 2 to 20\n",
    "for k = 2:2:20\n",
    "    println(k)\n",
    "end"
   ]
  },
  {
   "cell_type": "markdown",
   "id": "7ceb3050-9ac8-400a-aea1-6ec06cbcaf87",
   "metadata": {},
   "source": [
    "**Another thing worth noting is that the ```step``` can be negative.** It just means that the iterator is decreasing."
   ]
  },
  {
   "cell_type": "code",
   "execution_count": 23,
   "id": "6a921c88-d7b2-4a3a-a135-0b34b88c9c25",
   "metadata": {},
   "outputs": [
    {
     "name": "stdout",
     "output_type": "stream",
     "text": [
      "5\n",
      "4\n",
      "3\n",
      "2\n",
      "1\n"
     ]
    }
   ],
   "source": [
    "# Print the numbers from 5 to 1\n",
    "for k = 5:-1:1\n",
    "    println(k)\n",
    "end"
   ]
  },
  {
   "cell_type": "markdown",
   "id": "6a9f2910-a568-4f33-b7b2-dd4bb29f952d",
   "metadata": {},
   "source": [
    "Okay, let's re-think of the previous problem of matrix diagonals summation."
   ]
  },
  {
   "cell_type": "code",
   "execution_count": 24,
   "id": "f0248549-e5c1-45cc-a291-534ecde2ef30",
   "metadata": {},
   "outputs": [
    {
     "data": {
      "text/plain": [
       "30×30 Matrix{Float64}:\n",
       " 0.590845   0.931115   0.643704   …  0.803733   0.448902   0.0680414\n",
       " 0.766797   0.438939   0.401421      0.862569   0.486367   0.769052\n",
       " 0.566237   0.246862   0.525057      0.804227   0.0313024  0.560455\n",
       " 0.460085   0.0118196  0.61201       0.288292   0.511082   0.938612\n",
       " 0.794026   0.0460428  0.432577      0.874007   0.195983   0.391174\n",
       " 0.854147   0.496169   0.082207   …  0.523851   0.213959   0.882074\n",
       " 0.200586   0.732      0.199058      0.686352   0.68774    0.604118\n",
       " 0.298614   0.299058   0.576082      0.36917    0.131091   0.544912\n",
       " 0.246837   0.449182   0.218177      0.734216   0.717274   0.674782\n",
       " 0.579672   0.875096   0.362036      0.205708   0.435805   0.00980157\n",
       " 0.648882   0.0462887  0.204728   …  0.735212   0.766894   0.746446\n",
       " 0.0109059  0.698356   0.932984      0.775155   0.0490647  0.546764\n",
       " 0.066423   0.365109   0.827263      0.921577   0.195476   0.522933\n",
       " ⋮                                ⋱                        \n",
       " 0.0566425  0.404953   0.0396356     0.668064   0.727971   0.927562\n",
       " 0.842714   0.499531   0.79041       0.859493   0.0749607  0.0698102\n",
       " 0.950498   0.658815   0.431188   …  0.0690935  0.954453   0.485565\n",
       " 0.96467    0.515627   0.137658      0.82539    0.661208   0.0436079\n",
       " 0.945775   0.260715   0.60808       0.45109    0.705807   0.577329\n",
       " 0.789904   0.59552    0.255054      0.458747   0.540058   0.98292\n",
       " 0.82116    0.292462   0.498734      0.644398   0.634899   0.603884\n",
       " 0.0341601  0.28858    0.0940369  …  0.865761   0.580564   0.417393\n",
       " 0.0945445  0.61816    0.52509       0.730436   0.407076   0.787155\n",
       " 0.314926   0.66426    0.265511      0.967919   0.737871   0.970879\n",
       " 0.12781    0.753508   0.110096      0.863701   0.50369    0.715789\n",
       " 0.374187   0.0368842  0.834362      0.60349    0.803947   0.21762"
      ]
     },
     "execution_count": 24,
     "metadata": {},
     "output_type": "execute_result"
    }
   ],
   "source": [
    "# Declare a 30-by-30 random matrix\n",
    "using Random # Using an external pacakge called Random which provides functions\n",
    "Random.seed!(1234) # Set the seed to make sure each time you run the cell you get the same results \n",
    "# so that we can grade them\n",
    "A = rand(30, 30)"
   ]
  },
  {
   "cell_type": "code",
   "execution_count": 27,
   "id": "2ab2cbe2-1fa6-424d-bbfe-2cafa60c8d86",
   "metadata": {},
   "outputs": [
    {
     "name": "stdout",
     "output_type": "stream",
     "text": [
      "16.340857877256173\n"
     ]
    }
   ],
   "source": [
    "# Compute the sum of the entries on the primary diagonal\n",
    "sums = 0 # Initialize sum as 0\n",
    "for k = 1:30\n",
    "    sums = sums + A[k, k]\n",
    "end\n",
    "println(sums)"
   ]
  },
  {
   "cell_type": "markdown",
   "id": "86c47404-9919-450e-96dd-f03f63dcc76d",
   "metadata": {},
   "source": [
    "For loops can be nested when more than one for loop is needed."
   ]
  },
  {
   "cell_type": "code",
   "execution_count": 28,
   "id": "5c11b693-9968-4afe-81ff-10549c3660f3",
   "metadata": {},
   "outputs": [
    {
     "data": {
      "text/plain": [
       "3×3 Matrix{Int64}:\n",
       " 1  2  3\n",
       " 4  5  6\n",
       " 7  8  9"
      ]
     },
     "execution_count": 28,
     "metadata": {},
     "output_type": "execute_result"
    }
   ],
   "source": [
    "# Declare a 3-by-3 matrix\n",
    "A = [1 2 3; 4 5 6; 7 8 9]"
   ]
  },
  {
   "cell_type": "code",
   "execution_count": 29,
   "id": "d455413e-35a9-45fc-9b9e-8f21cd297b32",
   "metadata": {},
   "outputs": [
    {
     "name": "stdout",
     "output_type": "stream",
     "text": [
      "1\n",
      "4\n",
      "5\n",
      "7\n",
      "8\n",
      "9\n"
     ]
    }
   ],
   "source": [
    "# Print all the numbers on and below the matrix primary diagonal\n",
    "for i = 1:3\n",
    "    for j = 1:i\n",
    "        println(A[i,j])\n",
    "    end\n",
    "end"
   ]
  },
  {
   "cell_type": "markdown",
   "id": "a4c8a09a-037a-4fb6-ae33-f47ac4f88d36",
   "metadata": {},
   "source": [
    "### Practice 3."
   ]
  },
  {
   "cell_type": "code",
   "execution_count": 30,
   "id": "9ff2a58d",
   "metadata": {},
   "outputs": [
    {
     "data": {
      "text/plain": [
       "10×10 Matrix{Float64}:\n",
       " 0.590845  0.648882   0.950498   …  0.204728   0.431188   0.633427\n",
       " 0.766797  0.0109059  0.96467       0.932984   0.137658   0.337865\n",
       " 0.566237  0.066423   0.945775      0.827263   0.60808    0.112987\n",
       " 0.460085  0.956753   0.789904      0.0992992  0.255054   0.78299\n",
       " 0.794026  0.646691   0.82116       0.6343     0.498734   0.838042\n",
       " 0.854147  0.112486   0.0341601  …  0.132715   0.0940369  0.0878598\n",
       " 0.200586  0.276021   0.0945445     0.775194   0.52509    0.386568\n",
       " 0.298614  0.651664   0.314926      0.869237   0.265511   0.330579\n",
       " 0.246837  0.0566425  0.12781       0.0396356  0.110096   0.748041\n",
       " 0.579672  0.842714   0.374187      0.79041    0.834362   0.265595"
      ]
     },
     "execution_count": 30,
     "metadata": {},
     "output_type": "execute_result"
    }
   ],
   "source": [
    "# Declare a 10-by-10 random matrix\n",
    "using Random # Using an external pacakge called Random which provides functions\n",
    "Random.seed!(1234) # Set the seed to make sure each time you get the same results\n",
    "A = rand(10, 10)"
   ]
  },
  {
   "cell_type": "code",
   "execution_count": 32,
   "id": "a8b2b904",
   "metadata": {
    "deletable": false,
    "nbgrader": {
     "cell_type": "code",
     "checksum": "a766f61f9913b9304656dd7cf0575f8c",
     "grade": false,
     "grade_id": "cell-fa7895b2bfbf59fd",
     "locked": false,
     "schema_version": 3,
     "solution": true,
     "task": false
    }
   },
   "outputs": [
    {
     "data": {
      "text/plain": [
       "3.6644870641636995"
      ]
     },
     "execution_count": 32,
     "metadata": {},
     "output_type": "execute_result"
    }
   ],
   "source": [
    "# Compute the sum of the numbers on the matrix primary diagonal\n",
    "sums = 0\n",
    "# your code here\n",
    "for i = 1:10\n",
    "    sums += A[i,i]\n",
    "end\n",
    "sums"
   ]
  },
  {
   "cell_type": "code",
   "execution_count": 33,
   "id": "6734a409",
   "metadata": {},
   "outputs": [
    {
     "name": "stdout",
     "output_type": "stream",
     "text": [
      "all nothings means likely correct\n"
     ]
    },
    {
     "data": {
      "text/plain": [
       "1×2 Matrix{Nothing}:\n",
       " nothing  nothing"
      ]
     },
     "execution_count": 33,
     "metadata": {},
     "output_type": "execute_result"
    }
   ],
   "source": [
    "# Autograder cell\n",
    "println(\"all nothings means likely correct\")\n",
    "TF1 = @assert sums < 3.7\n",
    "TF2 = @assert sums > 3.6\n",
    "[TF1 TF2]"
   ]
  },
  {
   "cell_type": "code",
   "execution_count": null,
   "id": "31475127",
   "metadata": {
    "deletable": false,
    "editable": false,
    "nbgrader": {
     "cell_type": "code",
     "checksum": "d2e2a0440288299c405061ff426e15e4",
     "grade": true,
     "grade_id": "cell-3d610786bede312d",
     "locked": true,
     "points": 3,
     "schema_version": 3,
     "solution": false,
     "task": false
    }
   },
   "outputs": [],
   "source": [
    "# Autograder cell"
   ]
  },
  {
   "cell_type": "code",
   "execution_count": 34,
   "id": "5e0581e6-b4a1-40b1-976f-008e37bb9fb5",
   "metadata": {
    "deletable": false,
    "nbgrader": {
     "cell_type": "code",
     "checksum": "b45b28b7e478a5d8789dc1ac4556f8df",
     "grade": false,
     "grade_id": "cell-e6d95090b1803e50",
     "locked": false,
     "schema_version": 3,
     "solution": true,
     "task": false
    }
   },
   "outputs": [
    {
     "data": {
      "text/plain": [
       "24.957994773622094"
      ]
     },
     "execution_count": 34,
     "metadata": {},
     "output_type": "execute_result"
    }
   ],
   "source": [
    "# Compute the sum of the numbers on and above the matrix primary diagonal\n",
    "sums = 0\n",
    "# your code here\n",
    "for i in 1:10\n",
    "    for j in i:10\n",
    "        sums += A[i,j]\n",
    "    end\n",
    "end\n",
    "sums"
   ]
  },
  {
   "cell_type": "code",
   "execution_count": 35,
   "id": "7ad91d5e-613d-4e1c-94f4-8137c3e9d4e6",
   "metadata": {},
   "outputs": [
    {
     "name": "stdout",
     "output_type": "stream",
     "text": [
      "all nothings means likely correct\n"
     ]
    },
    {
     "data": {
      "text/plain": [
       "1×2 Matrix{Nothing}:\n",
       " nothing  nothing"
      ]
     },
     "execution_count": 35,
     "metadata": {},
     "output_type": "execute_result"
    }
   ],
   "source": [
    "# Autograder cell\n",
    "println(\"all nothings means likely correct\")\n",
    "TF1 = @assert sums < 25\n",
    "TF2 = @assert sums > 24\n",
    "[TF1 TF2]"
   ]
  },
  {
   "cell_type": "code",
   "execution_count": 36,
   "id": "b29e8bdb",
   "metadata": {
    "deletable": false,
    "editable": false,
    "nbgrader": {
     "cell_type": "code",
     "checksum": "9fcc668d05a204763d10706451849760",
     "grade": true,
     "grade_id": "cell-3e23bbbd1623f529",
     "locked": true,
     "points": 3,
     "schema_version": 3,
     "solution": false,
     "task": false
    }
   },
   "outputs": [],
   "source": [
    "# Autograder cell"
   ]
  },
  {
   "cell_type": "markdown",
   "id": "713439ac-9bb7-48fe-8551-ff29de48f01a",
   "metadata": {},
   "source": [
    "### Example 4. How to solve a system of linear equations when it's not too big\n",
    "\n",
    "** We will study the matrix inverse in Chapter 6...that's a long ways off. To give you a head start and to show you \n",
    "how to check answers to systems of linear equations, we introduce the matrix inverse function, ```inv()```, a function in the Linear Algebra pacakge. It is only defined for square matrices and even then, not for all square matrices. We'll get the details in Chapter 6.** "
   ]
  },
  {
   "cell_type": "code",
   "execution_count": null,
   "id": "38233ac9-4dec-49b1-b668-97278e4355ed",
   "metadata": {},
   "outputs": [],
   "source": [
    "# Declare a 3-by-3 matrix\n",
    "A = [1 3 6; 0 6 1; 7 8 2]\n",
    "# Declare a 3-by-1 vector\n",
    "b=[-2; 11; 6.4]\n",
    "# Compute the solution of Ax = b\n",
    "using LinearAlgebra\n",
    "x = inv(A)*b"
   ]
  },
  {
   "cell_type": "markdown",
   "id": "f76b5371-9177-4d44-92ea-9074bc95330d",
   "metadata": {},
   "source": [
    "**For debugging your code, you can use ```assert``` operator to check if two values are equal.**"
   ]
  },
  {
   "cell_type": "code",
   "execution_count": null,
   "id": "edfb2eeb-6b8f-4319-8f63-3f180336d481",
   "metadata": {},
   "outputs": [],
   "source": [
    "# Check if inv_A is the correct inversion\n",
    "@assert isapprox(vec(A*x-b), vec([0; 0; 0]))\n",
    "# Note: Ax=b if, and only if, Ax-b = 0."
   ]
  },
  {
   "cell_type": "markdown",
   "id": "9f508f3f-99b7-47ab-927c-a1c0fb81ade5",
   "metadata": {},
   "source": [
    "## What can we do using for loops?\n",
    "\n",
    "<img align=\"left\" src=\"https://c.tenor.com/TSfv9OumbmsAAAAC/boueibu-yumoto-hakone.gif\"/>"
   ]
  },
  {
   "cell_type": "markdown",
   "id": "23faba80-2aa6-4a6c-966e-48c9eb115c6d",
   "metadata": {},
   "source": [
    "## Area of a Shape via Triangles\n",
    "\n",
    "#### The method is to divide the shape into triangles and add up the area of each triangle.\n",
    "#### Warning: We are using a fast way to compute the area of triangle that is NOT taught in High School.\n",
    "\n",
    "### Example. Area of a Circle"
   ]
  },
  {
   "cell_type": "code",
   "execution_count": null,
   "id": "45e7d7f1-fb62-4f65-86bc-1868a203ea84",
   "metadata": {},
   "outputs": [],
   "source": [
    "# Plot a circle\n",
    "using LinearAlgebra\n",
    "using Plots\n",
    "th=[-pi:0.01:pi;]\n",
    "X=cos.(th)\n",
    "Y=sin.(th)\n",
    "plot(X, Y, legend=false, aspectratio=:equal)"
   ]
  },
  {
   "cell_type": "markdown",
   "id": "72e6c7e7-d341-4a2c-8302-693889e8243a",
   "metadata": {},
   "source": [
    "#### Area of a  unit circle should be $\\pi$. How close can we come?"
   ]
  },
  {
   "cell_type": "code",
   "execution_count": null,
   "id": "45885713-167f-4392-810d-5a2cc79606be",
   "metadata": {},
   "outputs": [],
   "source": [
    "# Approximate the area of a unit circle via triangles\n",
    "N=20 # Number of triangles\n",
    "ths=[-pi:(2*pi/N):pi;]\n",
    "n=length(ths)\n",
    "Xs=cos.(ths)\n",
    "Ys=sin.(ths)\n",
    "p1=plot(X,Y,linewidth=6, color=:red)\n",
    "p1=plot!(Xs, Ys, legend=false, aspectratio=:equal,linewidth=4, color=:black)\n",
    "for k=1:n\n",
    "    plot!([0;Xs[k]],[0;Ys[k]])\n",
    "end\n",
    "display(p1)\n",
    "Area=0.0\n",
    "n=length(ths)\n",
    "Xs=[Xs;Xs[1]]\n",
    "Ys=[Ys;Ys[1]]\n",
    "for k=1:n\n",
    "    u=[Xs[k];Ys[k];0.0]\n",
    "    v=[Xs[k+1];Ys[k+1];0.0]\n",
    "    AreaTriangle=0.5*norm(cross(u,v))\n",
    "    Area = Area+AreaTriangle\n",
    "end\n",
    "Area-pi"
   ]
  },
  {
   "cell_type": "markdown",
   "id": "0ef1f726-2c14-4b01-9a55-102c84439432",
   "metadata": {},
   "source": [
    "### Problem. Area of a Heart!"
   ]
  },
  {
   "cell_type": "code",
   "execution_count": null,
   "id": "120f6b59-fd3b-4133-843e-ec39e68f8f50",
   "metadata": {},
   "outputs": [],
   "source": [
    "# Plot a heart shape\n",
    "using LinearAlgebra\n",
    "using Plots\n",
    "th=[-pi:0.01:pi;]\n",
    "X=16*(sin.(th)).^3\n",
    "Y=13.0*cos.(th)-5.0*cos.(2.0*th)-2.0*cos.(3.0*th)-1.0cos.(4.0*th)\n",
    "plot(X, Y, legend = false)"
   ]
  },
  {
   "cell_type": "code",
   "execution_count": null,
   "id": "767a1302-21c5-4677-834b-97d1d83c74fd",
   "metadata": {},
   "outputs": [],
   "source": [
    "# Compute the actual area of the heart shape\n",
    "Area=0.0\n",
    "n=length(th)\n",
    "X=[X;X[1]]\n",
    "Y=[Y;Y[1]]\n",
    "for k=1:n\n",
    "    u=[X[k];Y[k];0.0]\n",
    "    v=[X[k+1];Y[k+1];0.0]\n",
    "    AreaTriangle=0.5*norm(cross(u,v))\n",
    "    Area = Area+AreaTriangle\n",
    "end\n",
    "Area"
   ]
  },
  {
   "cell_type": "code",
   "execution_count": null,
   "id": "71a24829-9102-499d-a637-a5d0d2093d53",
   "metadata": {},
   "outputs": [],
   "source": [
    "# Divide the heart shape into triangles\n",
    "N=20 # Number of triangles\n",
    "ths=[-pi:(2*pi/N):pi;]\n",
    "n=length(ths)\n",
    "Xs=16*(sin.(ths)).^3\n",
    "Ys=13.0*cos.(ths)-5.0*cos.(2.0*ths)-2.0*cos.(3.0*ths)-1.0cos.(4.0*ths)\n",
    "p1=plot(Xs, Ys, legend=false)\n",
    "for k=1:n\n",
    "    plot!([0;Xs[k]],[0;Ys[k]])\n",
    "end\n",
    "plot!(X,Y,linewidth=4, color=:red)\n",
    "p1"
   ]
  },
  {
   "cell_type": "code",
   "execution_count": null,
   "id": "e3a713f2-7c3f-4a33-a8f8-e6b7aa3a449a",
   "metadata": {
    "deletable": false,
    "nbgrader": {
     "cell_type": "code",
     "checksum": "665c986928f8ec78683e6b5bf8e0ae7b",
     "grade": false,
     "grade_id": "cell-f6783aa8fb9f0fe5",
     "locked": false,
     "schema_version": 3,
     "solution": true,
     "task": false
    }
   },
   "outputs": [],
   "source": [
    "# Approximate the area of the heart shape via triangles\n",
    "Area=0.0\n",
    "n=length(ths)\n",
    "Xs=[Xs;Xs[1]]\n",
    "Ys=[Ys;Ys[1]]\n",
    "# your code here\n",
    "throw(ErrorException())\n",
    "Area"
   ]
  },
  {
   "cell_type": "code",
   "execution_count": null,
   "id": "b1a2c0c5-4444-4b0c-b9de-7c6d5a75107e",
   "metadata": {},
   "outputs": [],
   "source": [
    "# Autograder cell\n",
    "@assert abs(Area-565.4672003218795) < 19"
   ]
  },
  {
   "cell_type": "code",
   "execution_count": null,
   "id": "54efbd61",
   "metadata": {
    "deletable": false,
    "editable": false,
    "nbgrader": {
     "cell_type": "code",
     "checksum": "a3c90d1b80e56dbfbf7e77ace94b20a6",
     "grade": true,
     "grade_id": "cell-2a02b5cbf3bb668b",
     "locked": true,
     "points": 4,
     "schema_version": 3,
     "solution": false,
     "task": false
    }
   },
   "outputs": [],
   "source": [
    "# Autograder cell"
   ]
  },
  {
   "cell_type": "markdown",
   "id": "7a18006a",
   "metadata": {},
   "source": [
    "Reference: https://www.stumblingrobot.com/2016/05/09/give-vector-based-proof-herons-formula-computing-area-triangle/"
   ]
  }
 ],
 "metadata": {
  "kernelspec": {
   "display_name": "Julia 1.6.1",
   "language": "julia",
   "name": "julia-1.6"
  },
  "language_info": {
   "file_extension": ".jl",
   "mimetype": "application/julia",
   "name": "julia",
   "version": "1.6.1"
  }
 },
 "nbformat": 4,
 "nbformat_minor": 5
}
