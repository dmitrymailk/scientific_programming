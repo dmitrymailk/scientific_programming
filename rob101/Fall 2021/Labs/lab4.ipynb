{
 "cells": [
  {
   "cell_type": "markdown",
   "id": "9bee5385",
   "metadata": {},
   "source": [
    "University of Michigan - ROB 101 Computational Linear Algebra"
   ]
  },
  {
   "cell_type": "markdown",
   "id": "a1df4a51",
   "metadata": {},
   "source": [
    "# Lab 4: Introduction to Functions\n",
    "\n",
    "### Purpose: Learn ways to define and call functions\n",
    "- Skills:\n",
    "    - Using if statements to regulate code execution\n",
    "    - Grouping operations into functions for repetitive usage\n",
    "- Knowledge:\n",
    "    - Introduction to LU factorization"
   ]
  },
  {
   "cell_type": "markdown",
   "id": "52b2106d",
   "metadata": {},
   "source": [
    "### Example 1. If Statements\n",
    "\n",
    "Julia provides a variety of control flow constructs. Control flow regulates the order of statements to be executed. `if-else` is a common control flow in Julia and other programming languages, and is widely used in functions. The syntax is as follows:\n",
    "<code>\n",
    "if **condition**\n",
    "    **statement1**\n",
    "else\n",
    "    **statement2**\n",
    "end\n",
    "</code>"
   ]
  },
  {
   "cell_type": "code",
   "execution_count": null,
   "id": "580b397c",
   "metadata": {},
   "outputs": [],
   "source": [
    "# If the condition is evaluated to be true, execute statement1, otherwise, execute statement2\n",
    "x = 1\n",
    "y = 1\n",
    "if x < y\n",
    "    println(\"x is less than y\")\n",
    "else\n",
    "    println(\"x is no less than y\")\n",
    "end"
   ]
  },
  {
   "cell_type": "markdown",
   "id": "46a0e3e8",
   "metadata": {},
   "source": [
    "More conditions can be evaluated using `if-elseif-else` control flow with multiple `elseif` keywords. The syntax is as follows:\n",
    "<code>\n",
    "if **condition1**\n",
    "    **statement1**\n",
    "elseif **condition2**\n",
    "    **statement2**\n",
    "elseif **condition3**\n",
    "    **statement3**\n",
    "...\n",
    "else **conditionN**\n",
    "    **statementN**\n",
    "end\n",
    "</code>"
   ]
  },
  {
   "cell_type": "code",
   "execution_count": null,
   "id": "f7167c6f",
   "metadata": {},
   "outputs": [],
   "source": [
    "# More conditions can be evaluated using elseif\n",
    "x = 1\n",
    "y = 1\n",
    "if x < y\n",
    "    println(\"x is less than y\")\n",
    "elseif x > y\n",
    "    println(\"x is greater than y\")\n",
    "else\n",
    "    println(\"x is equal to y\")\n",
    "end"
   ]
  },
  {
   "cell_type": "markdown",
   "id": "1825af8b",
   "metadata": {},
   "source": [
    "### [To read on your own]\n",
    "A simple `if-else` control flow can also be replaced by an inline `?:` ternary operator for convenience. The syntax is as follows:\n",
    "\n",
    "<code>**condition** ? **statement1** : **statement2**</code>"
   ]
  },
  {
   "cell_type": "code",
   "execution_count": null,
   "id": "a5972c3d",
   "metadata": {},
   "outputs": [],
   "source": [
    "# If the condition is evaluated to be true, execute statement1, otherwise, execute statement2\n",
    "x = 1\n",
    "y = 1\n",
    "x < y ? println(\"x is less than y\") : println(\"x is no less than y\")"
   ]
  },
  {
   "cell_type": "markdown",
   "id": "301d20b6",
   "metadata": {},
   "source": [
    "### [Back to the lecture]\n",
    "For more complex conditions, a nested-`if` statement can be used to split the conditions, e.g.:"
   ]
  },
  {
   "cell_type": "code",
   "execution_count": null,
   "id": "d44fcc02",
   "metadata": {},
   "outputs": [],
   "source": [
    "# Nested-if control flow\n",
    "x = 1\n",
    "y = 1\n",
    "if x < y\n",
    "    println(\"We know x is less than y.\")\n",
    "else\n",
    "    println(\"We only know x is not less than y.\")\n",
    "    if x > y\n",
    "        println(\"Now we know x is greater than y.\")\n",
    "    else\n",
    "        println(\"Now we know x is equal to y.\")\n",
    "    end\n",
    "end"
   ]
  },
  {
   "cell_type": "markdown",
   "id": "c297b8a9",
   "metadata": {},
   "source": [
    "### Practice 1. "
   ]
  },
  {
   "cell_type": "code",
   "execution_count": null,
   "id": "14946ec1",
   "metadata": {},
   "outputs": [],
   "source": [
    "# Implement a function f(x) which adds one to x if x is an odd and positive number, \n",
    "# divides x by 2 if x is odd and negative, negates x if x is even\n",
    "# x is even can be evaluated by x % 2 == 0\n",
    "function f(x)\n",
    "    # BEGIN YOUR IMPLEMENTATION\n",
    "    # END YOUR IMPLEMENTATION\n",
    "    return x\n",
    "end"
   ]
  },
  {
   "cell_type": "code",
   "execution_count": null,
   "id": "7bf12440",
   "metadata": {},
   "outputs": [],
   "source": [
    "# Self-check\n",
    "println(\"all nothings means likely correct\")\n",
    "TF1 = @assert (f(-3) == -1.5)\n",
    "TF2 = @assert (f(2) == -2)\n",
    "TF3 = @assert (f(0) == 0)\n",
    "TF4 = @assert (f(3) == 4)\n",
    "[TF1 TF2 TF3 TF4]"
   ]
  },
  {
   "cell_type": "markdown",
   "id": "0d7c2e17",
   "metadata": {},
   "source": [
    "### Example 2. Introduction to Functions\n",
    "\n",
    "In Julia, functions can be defined using the `function` keyword and the `return` keyword. The default value returned by a function is the last expression executed in the body of the function definition.\n",
    "\n",
    "However, it is a GOOD PROGRAMMING PRACTICE to use `return` to specify what is being returned by the function. The function will be terminated immediately after the `return` statement is executed."
   ]
  },
  {
   "cell_type": "code",
   "execution_count": null,
   "id": "668574d4",
   "metadata": {},
   "outputs": [],
   "source": [
    "# Specify a returned value using the return keyword\n",
    "function f(x)\n",
    "    return x + 1\n",
    "end\n",
    "# Call a function using parentheses and argument\n",
    "f(1)"
   ]
  },
  {
   "cell_type": "markdown",
   "id": "3bfa7aa6",
   "metadata": {},
   "source": [
    "The `return` keyword can be used more than once in a function definition in conjunction with other control flow constructs, e.g.:"
   ]
  },
  {
   "cell_type": "code",
   "execution_count": null,
   "id": "e94122ee",
   "metadata": {},
   "outputs": [],
   "source": [
    "# Define a function returning different value on different conditions\n",
    "function abs(a)\n",
    "    if a >= 0\n",
    "        return a\n",
    "    else\n",
    "        return -a\n",
    "    end\n",
    "end\n",
    "# You can assign the returned value to a variable\n",
    "b = abs(-2)"
   ]
  },
  {
   "cell_type": "markdown",
   "id": "9e395202",
   "metadata": {},
   "source": [
    "Functions can be defined to take multiple **arguments** (inputs)."
   ]
  },
  {
   "cell_type": "code",
   "execution_count": null,
   "id": "e16da0a3",
   "metadata": {},
   "outputs": [],
   "source": [
    "# Define a function with multiple arguments\n",
    "function sum(a, b)\n",
    "    return a + b\n",
    "end\n",
    "sum(1, 1)"
   ]
  },
  {
   "cell_type": "markdown",
   "id": "3cb1ac2c",
   "metadata": {},
   "source": [
    "### [To read on your own]\n",
    "Some arguments of a function can be defined as optional by providing a defult value., e.g.:"
   ]
  },
  {
   "cell_type": "code",
   "execution_count": null,
   "id": "4c5b44e0",
   "metadata": {},
   "outputs": [],
   "source": [
    "# Define a function with optional argument. Here a default value for z is given.\n",
    "# If you just call this function with two arguments, it will assume z=0.\n",
    "# You can also call it with three arguments by providing your own z value.\n",
    "function xyzpos(x, y, z=0)\n",
    "    println(\"The robot is at position ($x, $y, $z).\")\n",
    "end\n",
    "xyzpos(1, 2)"
   ]
  },
  {
   "cell_type": "markdown",
   "id": "f767f296",
   "metadata": {},
   "source": [
    "### [Back to the lecture]\n",
    "Functions can be defined to return multiple values."
   ]
  },
  {
   "cell_type": "code",
   "execution_count": null,
   "id": "f8e08477",
   "metadata": {},
   "outputs": [],
   "source": [
    "# Define a function with multiple returned values\n",
    "# This function takes a vector as input, and returns the maximum value and the corresponding index\n",
    "function max(input_vector)\n",
    "    # Initialize max to the first element of the vector\n",
    "    # Then update when we find a greater element\n",
    "    maximum_value = input_vector[1]\n",
    "    maximum_index = 1\n",
    "    for i in 1:length(input_vector)\n",
    "        if input_vector[i] > maximum_value\n",
    "            maximum_value = input_vector[i]\n",
    "            maximum_index = i\n",
    "        end\n",
    "    end\n",
    "    return maximum_value, maximum_index\n",
    "end\n",
    "\n",
    "a = [0, 1, 5, 3]\n",
    "maximum_value, maximum_index = max(a)"
   ]
  },
  {
   "cell_type": "markdown",
   "id": "317a9337",
   "metadata": {},
   "source": [
    "### Practice 2.\n",
    "\n",
    "<img align=left src=\"https://miro.medium.com/max/1280/1*C7KdIsgmKq2EHFBHG1irtw.png\" width=\"500\"/>"
   ]
  },
  {
   "cell_type": "code",
   "execution_count": null,
   "id": "4d555ca3",
   "metadata": {},
   "outputs": [],
   "source": [
    "# Implement a function f() as shown in the above figure\n",
    "function f(x)\n",
    "    ### START YOUR IMPLEMENTATION\n",
    "    ### END YOUR IMPLEMENTATION\n",
    "end"
   ]
  },
  {
   "cell_type": "code",
   "execution_count": null,
   "id": "e8b66f59",
   "metadata": {},
   "outputs": [],
   "source": [
    "# Self-check\n",
    "println(\"all nothings means likely correct\")\n",
    "TF1 = @assert(f(1.3) == 1.3)\n",
    "TF2 = @assert(f(6) == 6)\n",
    "TF3 = @assert(f(-10) == 0)\n",
    "TF4 = @assert(f(100) == 6)\n",
    "[TF1 TF2 TF3 TF4]"
   ]
  },
  {
   "cell_type": "markdown",
   "id": "232ec2cd",
   "metadata": {},
   "source": [
    "### [To read on your own] Below is a function that you will want to have. It is based on JuliaHW4.\n",
    "### Suggestion: build on your own function called backwardsub(U, b)"
   ]
  },
  {
   "cell_type": "code",
   "execution_count": null,
   "id": "a0fa6d0f",
   "metadata": {},
   "outputs": [],
   "source": [
    "using LinearAlgebra\n",
    "function forwardsub(L, b)\n",
    "    # Assert no entries in the diagonal of U\n",
    "    # are 0 (or very close to 0)\n",
    "    @assert minimum(abs.(diag(L))) > 1e-6\n",
    "    # START of our computations\n",
    "    n = length(b)\n",
    "    x = Vector{Float64}(undef, n); #initialize an x vector of the correct size\n",
    "    x[1] = b[1]/L[1,1] #find the first entry of x\n",
    "    for i = 2:n #find every entry from the 2nd to the end\n",
    "        x[i]=(b[i]- (L[i,1:i-1])' *x[1:i-1] )./L[i,i] \n",
    "        #notice that we used a transpose operator to get the row of L\n",
    "    end\n",
    "    # END of our computations. \n",
    "    return x\n",
    "end"
   ]
  },
  {
   "cell_type": "code",
   "execution_count": null,
   "id": "62c24d4f",
   "metadata": {},
   "outputs": [],
   "source": [
    "# Let's use our code function \n",
    "using Random\n",
    "Random.seed!(09182021)\n",
    "N=10\n",
    "# Try N = 100 or 1000\n",
    "L=randn(N,N)\n",
    "# Make entries above the diagonal zero\n",
    "for i=1:N\n",
    "    for j=i+1:N\n",
    "        L[i,j]=0.0\n",
    "    end\n",
    "end\n",
    "b=randn(N,1)\n",
    "\n",
    "## Solve Lx = b\n",
    "x = forwardsub(L, b)"
   ]
  },
  {
   "cell_type": "markdown",
   "id": "07d2bc0c",
   "metadata": {},
   "source": [
    "### Example 3. Peeling the Onion\n",
    "\n",
    "Given a generic square matrix, can we factor it as the product of a lower-triangular matrix and an upper-triangular matrix?\n",
    "\n",
    "As introduced in the textbook, we can do this by <span style=\"color:red\">**peeling the onion**</span>: **working from the top left corner and working down the diagonal, it successively eliminates columns and rows from a matrix!**\n",
    "\n",
    "This example will teach you how to use a function to solve the problem more easily.\n",
    "\n",
    "<img align=\"left\" src=\"https://content.presentermedia.com/content/animsp/00021000/21530/onion_layers_300_wht.gif\"/>"
   ]
  },
  {
   "cell_type": "code",
   "execution_count": null,
   "id": "b14f175b",
   "metadata": {},
   "outputs": [],
   "source": [
    "using Random\n",
    "using LinearAlgebra\n",
    "Random.seed!(09182021)\n",
    "A = randn(5, 5)"
   ]
  },
  {
   "cell_type": "code",
   "execution_count": null,
   "id": "0fcd8fbe",
   "metadata": {},
   "outputs": [],
   "source": [
    "function peel_one_layer(Temp, k)\n",
    "    # We boldly assume pivot is never zero\n",
    "    # A good programmer would use an if statement to \n",
    "    # test for pivot being almost zero\n",
    "    pivot = Temp[k, k]\n",
    "    C = Temp[:, k] / pivot\n",
    "    R = Temp[k:k, :]\n",
    "    Temp = Temp - C*R\n",
    "    return C, R, Temp\n",
    "end"
   ]
  },
  {
   "cell_type": "code",
   "execution_count": null,
   "id": "1867294a",
   "metadata": {},
   "outputs": [],
   "source": [
    "# Exercise 1\n",
    "# Remove 1st row and column of A\n",
    "(C, R, PeeledMatrix) = peel_one_layer(A, 1)\n",
    "PeeledMatrix"
   ]
  },
  {
   "cell_type": "code",
   "execution_count": null,
   "id": "1b5bae9c",
   "metadata": {},
   "outputs": [],
   "source": [
    "# Exercise 2\n",
    "# Just for fun, remove thrid row and column of the orignal A matrix\n",
    "# This is not super useful, but it shows that you can remove any column-row pair.\n",
    "# To make LU work, you have to remove the column-row pairs in the correct order\n",
    "(C, R, PeeledMatrix) = peel_one_layer(A, 3)\n",
    "PeeledMatrix"
   ]
  },
  {
   "cell_type": "code",
   "execution_count": null,
   "id": "b56c948b",
   "metadata": {},
   "outputs": [],
   "source": [
    "Temp = copy(A) # Initialize Temp matrix by copying the original matrix A\n",
    "nRows, nCols = size(Temp) # Get the size of the input matrix\n",
    "\n",
    "# Initialize the lower and upper triangular matrices L and U to zero\n",
    "# We show two different ways to accomplish this\n",
    "L = zeros(Float64, (nRows, nCols)) # Using zeros function by specifying the type and size\n",
    "U = zero(Temp) # Or using the zero function by providing a 'similar' matrix (means same size)\n",
    "\n",
    "# Successively peel away columns and rows from Temp\n",
    "for k = 1 : nRows\n",
    "    C, R, Temp = peel_one_layer(Temp, k)\n",
    "    L[:, k] = C\n",
    "    U[k:k, :] = R\n",
    "end"
   ]
  },
  {
   "cell_type": "code",
   "execution_count": null,
   "id": "edd54c4d",
   "metadata": {},
   "outputs": [],
   "source": [
    "L"
   ]
  },
  {
   "cell_type": "code",
   "execution_count": null,
   "id": "5dcba509",
   "metadata": {},
   "outputs": [],
   "source": [
    "U"
   ]
  },
  {
   "cell_type": "code",
   "execution_count": null,
   "id": "589b0d82",
   "metadata": {},
   "outputs": [],
   "source": [
    "A - L*U"
   ]
  },
  {
   "cell_type": "markdown",
   "id": "23970310",
   "metadata": {},
   "source": [
    "### Practice 3."
   ]
  },
  {
   "cell_type": "code",
   "execution_count": null,
   "id": "4e83eee1",
   "metadata": {},
   "outputs": [],
   "source": [
    "# Using Julia built-in function lu() for LU decomposition and solve Ax=b\n",
    "using Random\n",
    "using LinearAlgebra\n",
    "Random.seed!(123456)\n",
    "b = randn(5, 1)\n",
    "\n",
    "### START YOUR IMPLEMENTATION\n",
    "### END YOUR IMPLEMENTATION\n",
    "y = forwardsub(L, b)\n",
    "x = backwardsub(U, y)"
   ]
  },
  {
   "cell_type": "code",
   "execution_count": null,
   "id": "d16cffdf",
   "metadata": {},
   "outputs": [],
   "source": [
    "# Self-check\n",
    "invSol = inv(A) * b\n",
    "print(@assert isapprox(invSol, x))"
   ]
  },
  {
   "cell_type": "markdown",
   "id": "33e506ac",
   "metadata": {},
   "source": [
    "### Something for Fun: Plot a Clock!\n",
    "\n",
    "<img align=left src=\"https://c.tenor.com/mFAI-RYiVAQAAAAC/anime-wow.gif\" width=\"300\" />"
   ]
  },
  {
   "cell_type": "code",
   "execution_count": null,
   "id": "3b390c01",
   "metadata": {},
   "outputs": [],
   "source": [
    "using Dates\n",
    "using Plots\n",
    "function plot_current_time()\n",
    "    th = 0:0.1:2*pi\n",
    "    X = cos.(th)\n",
    "    Y = sin.(th)\n",
    "    plt = plot(X, Y, aspect_ratio=1, axis=([], false), legend=false)\n",
    "    add_numbers(plt)\n",
    "    t = Dates.now()\n",
    "    th_h = -((Dates.hour(t) - 4) % 12 / 12 * 2*pi - pi/2)\n",
    "    plot!(plt, [0, 0.6*cos(th_h)], [0, 0.6*sin(th_h)], arrow=true)\n",
    "    th_m = -(Dates.minute(t) / 60 * 2*pi - pi/2)\n",
    "    plot!(plt, [0, 0.8*cos(th_m)], [0, 0.8*sin(th_m)], arrow=true)\n",
    "    th_s = -(Dates.second(t) / 60 * 2*pi - pi/2)\n",
    "    plot!(plt, [0, cos(th_s)], [0, sin(th_s)], arrow=true)\n",
    "end"
   ]
  },
  {
   "cell_type": "code",
   "execution_count": null,
   "id": "7fc2aef7",
   "metadata": {},
   "outputs": [],
   "source": [
    "function add_numbers(plt)\n",
    "    for n = 1:12\n",
    "        theta = -(n / 12 * 2*pi - pi/2)\n",
    "        annotate!(cos(theta), sin(theta), n)\n",
    "    end\n",
    "end"
   ]
  },
  {
   "cell_type": "code",
   "execution_count": null,
   "id": "4b612f0e",
   "metadata": {},
   "outputs": [],
   "source": [
    "anim = @animate for i in 1:1000\n",
    "    plot_current_time()\n",
    "end\n",
    "gif(anim, \"clock.gif\", fps=30)"
   ]
  }
 ],
 "metadata": {
  "kernelspec": {
   "display_name": "Julia 1.6.1",
   "language": "julia",
   "name": "julia-1.6"
  },
  "language_info": {
   "file_extension": ".jl",
   "mimetype": "application/julia",
   "name": "julia",
   "version": "1.6.1"
  }
 },
 "nbformat": 4,
 "nbformat_minor": 5
}
